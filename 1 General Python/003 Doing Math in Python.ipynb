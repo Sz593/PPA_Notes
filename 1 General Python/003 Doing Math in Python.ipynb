{
 "cells": [
  {
   "cell_type": "markdown",
   "metadata": {},
   "source": [
    "# Doing Math in Python\n",
    "\n",
    "As we learn more about the base classes and data types in python, you'll find that there's more and more you're able to do. However, many of the things you can think of doing with python have already been done. This exemplifies the *batteries included* philosophy of the python developers, i.e. python comes with a ton of modules (the *Standard Library*) that already do most things. You can use modules in the Standard Library to read/send emails, parse csv files, interact with the native OS, work with dates/times, set up virtual environments, and more. Today, we're going to take a look at five math-related modules that you might find useful. \n",
    "\n",
    "### Table of Contents\n",
    "1. [fractions Module](#The-fractions-Module)\n",
    "2. [decimal Module](#The-decimal-Module)\n",
    "3. [random Module](#The-random-Module)\n",
    "4. [math Module](#The-math-Module)\n",
    "5. [statistics Module](#The-statistics-Module)\n",
    "6. [A Statistical Note](#A-Note-on-Statistics)\n",
    "\n",
    "### The `fractions` Module\n",
    "[[back to top]](#Table-of-Contents)\n",
    "[[documentation]](https://docs.python.org/3/library/fractions.html)\n",
    "\n",
    "The frations module provides support for rational number arithmetic. There are several ways we can construct fractions, starting with using two integers. "
   ]
  },
  {
   "cell_type": "code",
   "execution_count": 1,
   "metadata": {
    "collapsed": true
   },
   "outputs": [],
   "source": [
    "import fractions"
   ]
  },
  {
   "cell_type": "code",
   "execution_count": 2,
   "metadata": {
    "collapsed": false
   },
   "outputs": [
    {
     "data": {
      "text/plain": [
       "Fraction(2, 3)"
      ]
     },
     "execution_count": 2,
     "metadata": {},
     "output_type": "execute_result"
    }
   ],
   "source": [
    "# construct a fraction from two integers\n",
    "fractions.Fraction(2, 3)"
   ]
  },
  {
   "cell_type": "markdown",
   "metadata": {},
   "source": [
    "This generates a fraction with a numerator of $2$ and a denominator of $3$. We can also create a fraction using a string."
   ]
  },
  {
   "cell_type": "code",
   "execution_count": 3,
   "metadata": {
    "collapsed": false
   },
   "outputs": [
    {
     "data": {
      "text/plain": [
       "Fraction(3, 5)"
      ]
     },
     "execution_count": 3,
     "metadata": {},
     "output_type": "execute_result"
    }
   ],
   "source": [
    "# construct a fraction using a string\n",
    "fractions.Fraction('3/5')"
   ]
  },
  {
   "cell_type": "code",
   "execution_count": 4,
   "metadata": {
    "collapsed": false
   },
   "outputs": [
    {
     "data": {
      "text/plain": [
       "Fraction(1, 2)"
      ]
     },
     "execution_count": 4,
     "metadata": {},
     "output_type": "execute_result"
    }
   ],
   "source": [
    "# create a fraction from a floating-point number\n",
    "fractions.Fraction(0.5)"
   ]
  },
  {
   "cell_type": "markdown",
   "metadata": {},
   "source": [
    "Review the `fractions` module documentation for more methods that we can use. We can also now to fractional arithmetic."
   ]
  },
  {
   "cell_type": "code",
   "execution_count": 5,
   "metadata": {
    "collapsed": false
   },
   "outputs": [
    {
     "data": {
      "text/plain": [
       "Fraction(13, 15)"
      ]
     },
     "execution_count": 5,
     "metadata": {},
     "output_type": "execute_result"
    }
   ],
   "source": [
    "x = fractions.Fraction(2, 3)\n",
    "y = fractions.Fraction(1, 5)\n",
    "\n",
    "x + y"
   ]
  },
  {
   "cell_type": "code",
   "execution_count": 6,
   "metadata": {
    "collapsed": false
   },
   "outputs": [
    {
     "data": {
      "text/plain": [
       "Fraction(2, 15)"
      ]
     },
     "execution_count": 6,
     "metadata": {},
     "output_type": "execute_result"
    }
   ],
   "source": [
    "x * y"
   ]
  },
  {
   "cell_type": "markdown",
   "metadata": {},
   "source": [
    "### The `decimal` Module\n",
    "[[back to top]](#Table-of-Contents)\n",
    "[[documentation]](https://docs.python.org/3/library/decimal.html)\n",
    "\n",
    "\n",
    "The `decimal` module provides support for fast correctly-rounded decimal floating point arithmetic. It offers several advantages over the float datatype:\n",
    "\n",
    "- Decimal “is based on a floating-point model which was designed with people in mind, and necessarily has a paramount guiding principle – computers must provide an arithmetic that works in the same way as the arithmetic that people learn at school.” – excerpt from the decimal arithmetic specification.\n",
    "- Decimal numbers can be represented exactly. In contrast, numbers like $1.1$ and $2.2$ do not have exact representations in binary floating point. End users typically would not expect $1.1 + 2.2$ to display as $3.3000000000000003$ as it does with binary floating point.\n",
    "- The exactness carries over into arithmetic. In decimal floating point, $0.1 + 0.1 + 0.1 - 0.3$ is exactly equal to zero. In binary floating point, the result is $5.5511151231257827e^{-17}$. While near to zero, the differences prevent reliable equality testing and differences can accumulate. For this reason, decimal is preferred in accounting applications which have strict equality invariants.\n",
    "- The decimal module incorporates a notion of significant places so that $1.30 + 1.20$ is $2.50$. The trailing zero is kept to indicate significance. This is the customary presentation for monetary applications. For multiplication, the “schoolbook” approach uses all the figures in the multiplicands. For instance, $1.3 * 1.2$ gives $1.56$ while $1.30 * 1.20$ gives $1.5600$.\n",
    "- Unlike hardware based binary floating point, the decimal module has a user alterable precision (defaulting to 28 places) which can be as large as needed for a given problem.\n",
    "- Both binary and decimal floating point are implemented in terms of published standards. While the built-in float type exposes only a modest portion of its capabilities, the decimal module exposes all required parts of the standard. When needed, the programmer has full control over rounding and signal handling. This includes an option to enforce exact arithmetic by using exceptions to block any inexact operations.\n",
    "- The decimal module was designed to support “without prejudice, both exact unrounded decimal arithmetic (sometimes called fixed-point arithmetic) and rounded floating-point arithmetic.” – excerpt from the decimal arithmetic specification.\n",
    "\n",
    "A decimal number is immutable. It has a sign, coefficient digits, and an exponent. To preserve significance, the coefficient digits do not truncate trailing zeros. Decimals also include special values such as `Infinity`, `-Infinity`, and `NaN`. The standard also differentiates `-0` from `+0`."
   ]
  },
  {
   "cell_type": "code",
   "execution_count": 7,
   "metadata": {
    "collapsed": true
   },
   "outputs": [],
   "source": [
    "import decimal"
   ]
  },
  {
   "cell_type": "code",
   "execution_count": 8,
   "metadata": {
    "collapsed": false
   },
   "outputs": [
    {
     "data": {
      "text/plain": [
       "Context(prec=28, rounding=ROUND_HALF_EVEN, Emin=-999999, Emax=999999, capitals=1, clamp=0, flags=[], traps=[InvalidOperation, DivisionByZero, Overflow])"
      ]
     },
     "execution_count": 8,
     "metadata": {},
     "output_type": "execute_result"
    }
   ],
   "source": [
    "# show current parameters for the decimal modules\n",
    "decimal.getcontext()"
   ]
  },
  {
   "cell_type": "code",
   "execution_count": 9,
   "metadata": {
    "collapsed": false
   },
   "outputs": [
    {
     "data": {
      "text/plain": [
       "Decimal('10')"
      ]
     },
     "execution_count": 9,
     "metadata": {},
     "output_type": "execute_result"
    }
   ],
   "source": [
    "# construct a decimal number from an integer\n",
    "decimal.Decimal(10)"
   ]
  },
  {
   "cell_type": "code",
   "execution_count": 10,
   "metadata": {
    "collapsed": false
   },
   "outputs": [
    {
     "data": {
      "text/plain": [
       "Decimal('3.14158999999999988261834005243144929409027099609375')"
      ]
     },
     "execution_count": 10,
     "metadata": {},
     "output_type": "execute_result"
    }
   ],
   "source": [
    "# construct a decimal from a float\n",
    "decimal.Decimal(3.14159)"
   ]
  },
  {
   "cell_type": "code",
   "execution_count": 11,
   "metadata": {
    "collapsed": false
   },
   "outputs": [
    {
     "data": {
      "text/plain": [
       "Decimal('3.14')"
      ]
     },
     "execution_count": 11,
     "metadata": {},
     "output_type": "execute_result"
    }
   ],
   "source": [
    "# construct a decimal from a string\n",
    "decimal.Decimal('3.14')"
   ]
  },
  {
   "cell_type": "markdown",
   "metadata": {},
   "source": [
    "Notice how the decimal that takes a string input has exact precision, whereas the decimal that took a float as input represents the float as it was stored in binary floating point. The decimal datatype also interacts well with the rest of python, as shown below. "
   ]
  },
  {
   "cell_type": "code",
   "execution_count": 12,
   "metadata": {
    "collapsed": false
   },
   "outputs": [
    {
     "data": {
      "text/plain": [
       "Decimal('5.000')"
      ]
     },
     "execution_count": 12,
     "metadata": {},
     "output_type": "execute_result"
    }
   ],
   "source": [
    "# define variables with the decimal datatype\n",
    "a = decimal.Decimal('3.1415927')\n",
    "b = decimal.Decimal('1.00')\n",
    "c = decimal.Decimal('5.0')\n",
    "\n",
    "b * c"
   ]
  },
  {
   "cell_type": "code",
   "execution_count": 13,
   "metadata": {
    "collapsed": false
   },
   "outputs": [
    {
     "data": {
      "text/plain": [
       "Decimal('4.1415927')"
      ]
     },
     "execution_count": 13,
     "metadata": {},
     "output_type": "execute_result"
    }
   ],
   "source": [
    "a + b"
   ]
  },
  {
   "cell_type": "code",
   "execution_count": 14,
   "metadata": {
    "collapsed": false
   },
   "outputs": [
    {
     "data": {
      "text/plain": [
       "3"
      ]
     },
     "execution_count": 14,
     "metadata": {},
     "output_type": "execute_result"
    }
   ],
   "source": [
    "# create an integer from a decimal\n",
    "int(a)"
   ]
  },
  {
   "cell_type": "code",
   "execution_count": 15,
   "metadata": {
    "collapsed": false
   },
   "outputs": [
    {
     "data": {
      "text/plain": [
       "Decimal('3.14')"
      ]
     },
     "execution_count": 15,
     "metadata": {},
     "output_type": "execute_result"
    }
   ],
   "source": [
    "# round a decimal\n",
    "round(a, 2)"
   ]
  },
  {
   "cell_type": "code",
   "execution_count": 16,
   "metadata": {
    "collapsed": false
   },
   "outputs": [
    {
     "data": {
      "text/plain": [
       "Decimal('9.00')"
      ]
     },
     "execution_count": 16,
     "metadata": {},
     "output_type": "execute_result"
    }
   ],
   "source": [
    "# you can also do some basic math in decimal\n",
    "decimal.Decimal('81.0000').sqrt()"
   ]
  },
  {
   "cell_type": "code",
   "execution_count": 17,
   "metadata": {
    "collapsed": false
   },
   "outputs": [
    {
     "data": {
      "text/plain": [
       "Decimal('2.718281828459045235360287471')"
      ]
     },
     "execution_count": 17,
     "metadata": {},
     "output_type": "execute_result"
    }
   ],
   "source": [
    "# e ** 1\n",
    "decimal.Decimal('1').exp()"
   ]
  },
  {
   "cell_type": "code",
   "execution_count": 18,
   "metadata": {
    "collapsed": false
   },
   "outputs": [
    {
     "data": {
      "text/plain": [
       "Decimal('1.144729900622227697056358539')"
      ]
     },
     "execution_count": 18,
     "metadata": {},
     "output_type": "execute_result"
    }
   ],
   "source": [
    "# take the natural log of a\n",
    "a.ln()"
   ]
  },
  {
   "cell_type": "code",
   "execution_count": 19,
   "metadata": {
    "collapsed": false
   },
   "outputs": [
    {
     "data": {
      "text/plain": [
       "Decimal('0.4971498791098913296608388065')"
      ]
     },
     "execution_count": 19,
     "metadata": {},
     "output_type": "execute_result"
    }
   ],
   "source": [
    "# take log base 10 of a\n",
    "a.log10()"
   ]
  },
  {
   "cell_type": "markdown",
   "metadata": {},
   "source": [
    "The `decimal` and `fractions` modules also play well together. For example:"
   ]
  },
  {
   "cell_type": "code",
   "execution_count": 20,
   "metadata": {
    "collapsed": false
   },
   "outputs": [
    {
     "data": {
      "text/plain": [
       "Fraction(11, 10)"
      ]
     },
     "execution_count": 20,
     "metadata": {},
     "output_type": "execute_result"
    }
   ],
   "source": [
    "fractions.Fraction(decimal.Decimal('1.1'))"
   ]
  },
  {
   "cell_type": "markdown",
   "metadata": {},
   "source": [
    "We haven't talked about the list datatype yet (that's the homework from today's class), but we'll see a quick preview of their uses here. "
   ]
  },
  {
   "cell_type": "code",
   "execution_count": 21,
   "metadata": {
    "collapsed": false
   },
   "outputs": [],
   "source": [
    "# create a list of decimals\n",
    "my_list = [a, b, c]"
   ]
  },
  {
   "cell_type": "code",
   "execution_count": 22,
   "metadata": {
    "collapsed": false
   },
   "outputs": [
    {
     "data": {
      "text/plain": [
       "Decimal('5.0')"
      ]
     },
     "execution_count": 22,
     "metadata": {},
     "output_type": "execute_result"
    }
   ],
   "source": [
    "# list maxmium\n",
    "max(my_list)"
   ]
  },
  {
   "cell_type": "code",
   "execution_count": 23,
   "metadata": {
    "collapsed": false
   },
   "outputs": [
    {
     "data": {
      "text/plain": [
       "Decimal('1.00')"
      ]
     },
     "execution_count": 23,
     "metadata": {},
     "output_type": "execute_result"
    }
   ],
   "source": [
    "# list minimum\n",
    "min(my_list)"
   ]
  },
  {
   "cell_type": "code",
   "execution_count": 24,
   "metadata": {
    "collapsed": false
   },
   "outputs": [
    {
     "data": {
      "text/plain": [
       "Decimal('9.1415927')"
      ]
     },
     "execution_count": 24,
     "metadata": {},
     "output_type": "execute_result"
    }
   ],
   "source": [
    "# list sum\n",
    "sum(my_list)"
   ]
  },
  {
   "cell_type": "markdown",
   "metadata": {
    "collapsed": true
   },
   "source": [
    "### The `random` Module\n",
    "[[back to top]](#Table-of-Contents)\n",
    "[[documentation]](https://docs.python.org/3/library/random.html)\n",
    "\n",
    "This module implements pseudo-random number generators for various distributions.\n",
    "\n",
    "For integers, there is uniform selection from a range. For sequences, there is uniform selection of a random element, a function to generate a random permutation of a list in-place, and a function for random sampling without replacement. On the real line, there are functions to compute uniform, normal (Gaussian), lognormal, negative exponential, gamma, and beta distributions. For generating distributions of angles, the von Mises distribution is available.\n",
    "\n",
    "Almost all module functions depend on the basic function random(), which generates a random float uniformly in the semi-open range [0.0, 1.0). Python uses the Mersenne Twister as the core generator. It produces 53-bit precision floats and has a period of `2**19937-1`. The underlying implementation in C is both fast and threadsafe. The Mersenne Twister is one of the most extensively tested random number generators in existence. However, being completely deterministic, it is not suitable for all purposes, and is completely unsuitable for cryptographic purposes."
   ]
  },
  {
   "cell_type": "code",
   "execution_count": 25,
   "metadata": {
    "collapsed": true
   },
   "outputs": [],
   "source": [
    "import random"
   ]
  },
  {
   "cell_type": "code",
   "execution_count": 26,
   "metadata": {
    "collapsed": false
   },
   "outputs": [
    {
     "data": {
      "text/plain": [
       "0.4894693587722323"
      ]
     },
     "execution_count": 26,
     "metadata": {},
     "output_type": "execute_result"
    }
   ],
   "source": [
    "# generate a random number between 0 and 1\n",
    "random.random()"
   ]
  },
  {
   "cell_type": "code",
   "execution_count": 27,
   "metadata": {
    "collapsed": false
   },
   "outputs": [
    {
     "data": {
      "text/plain": [
       "16.416449609958637"
      ]
     },
     "execution_count": 27,
     "metadata": {},
     "output_type": "execute_result"
    }
   ],
   "source": [
    "# random float between 10 and 20\n",
    "random.uniform(10, 20)"
   ]
  },
  {
   "cell_type": "code",
   "execution_count": 28,
   "metadata": {
    "collapsed": false
   },
   "outputs": [
    {
     "data": {
      "text/plain": [
       "8"
      ]
     },
     "execution_count": 28,
     "metadata": {},
     "output_type": "execute_result"
    }
   ],
   "source": [
    "# random integer in a range (inclusive)\n",
    "random.randint(1, 10)"
   ]
  },
  {
   "cell_type": "markdown",
   "metadata": {},
   "source": [
    "In python, the final value in a range is often excluded as an asymptotic endpoint. Since this is the behavior most python users are used to, the `random.randint()` function is often replaced with `random.randrange()`. The latter function also includes an optional step argument, allowing you to subset the potential results. "
   ]
  },
  {
   "cell_type": "code",
   "execution_count": 29,
   "metadata": {
    "collapsed": false
   },
   "outputs": [
    {
     "data": {
      "text/plain": [
       "3"
      ]
     },
     "execution_count": 29,
     "metadata": {},
     "output_type": "execute_result"
    }
   ],
   "source": [
    "# random integer in a range (exclusive of the upper limit)\n",
    "random.randrange(1, 11)"
   ]
  },
  {
   "cell_type": "code",
   "execution_count": 30,
   "metadata": {
    "collapsed": false
   },
   "outputs": [
    {
     "data": {
      "text/plain": [
       "6"
      ]
     },
     "execution_count": 30,
     "metadata": {},
     "output_type": "execute_result"
    }
   ],
   "source": [
    "# random even integer from 2 to 10\n",
    "random.randrange(2, 11, 2)"
   ]
  },
  {
   "cell_type": "markdown",
   "metadata": {},
   "source": [
    "Besides generating random integers, the `random` module has some incredibly useful functions relating to shuffling items, choosing items from a list, etc. We can even add weights to random choices, which is useful when simulating probability and statistics problems. "
   ]
  },
  {
   "cell_type": "code",
   "execution_count": 31,
   "metadata": {
    "collapsed": false
   },
   "outputs": [
    {
     "data": {
      "text/plain": [
       "'t'"
      ]
     },
     "execution_count": 31,
     "metadata": {},
     "output_type": "execute_result"
    }
   ],
   "source": [
    "# choose a random letter\n",
    "random.choice('abcdefghijklmnopqrstuvwxyz')"
   ]
  },
  {
   "cell_type": "code",
   "execution_count": 32,
   "metadata": {
    "collapsed": false
   },
   "outputs": [
    {
     "data": {
      "text/plain": [
       "['f', 'g', 'e', 'a', 'b', 'd', 'c']"
      ]
     },
     "execution_count": 32,
     "metadata": {},
     "output_type": "execute_result"
    }
   ],
   "source": [
    "# create a list of items\n",
    "my_list2 = ['a', 'b', 'c', 'd', 'e', 'f', 'g']\n",
    "\n",
    "# shuffle the list\n",
    "random.shuffle(my_list2)\n",
    "my_list2"
   ]
  },
  {
   "cell_type": "code",
   "execution_count": 33,
   "metadata": {
    "collapsed": false
   },
   "outputs": [
    {
     "data": {
      "text/plain": [
       "[7, 4, 1, 5]"
      ]
     },
     "execution_count": 33,
     "metadata": {},
     "output_type": "execute_result"
    }
   ],
   "source": [
    "# create another list of items\n",
    "my_list3 = [1, 2, 3, 4, 5, 6, 7]\n",
    "\n",
    "# take an unweighted random sample of 4 items, without replacement\n",
    "random.sample(my_list3, 4)"
   ]
  },
  {
   "cell_type": "markdown",
   "metadata": {},
   "source": [
    "### The `math` Module\n",
    "[[back to top]](#Table-of-Contents)\n",
    "[[documentation]](https://docs.python.org/3/library/math.html)\n",
    "\n",
    "This module provides access to the mathematical functions defined by the C standard. To start with, there are two mathematical constants we can use: pi and e. "
   ]
  },
  {
   "cell_type": "code",
   "execution_count": 34,
   "metadata": {
    "collapsed": false
   },
   "outputs": [],
   "source": [
    "import math"
   ]
  },
  {
   "cell_type": "code",
   "execution_count": 35,
   "metadata": {
    "collapsed": false
   },
   "outputs": [
    {
     "name": "stdout",
     "output_type": "stream",
     "text": [
      "3.141592653589793\n",
      "2.718281828459045\n"
     ]
    }
   ],
   "source": [
    "print(math.pi)\n",
    "print(math.e)"
   ]
  },
  {
   "cell_type": "markdown",
   "metadata": {},
   "source": [
    "There are a ton of useful functions in the math module, and I encourage you to review the documentation for the module to see the full list. "
   ]
  },
  {
   "cell_type": "code",
   "execution_count": 36,
   "metadata": {
    "collapsed": false
   },
   "outputs": [
    {
     "data": {
      "text/plain": [
       "10.0"
      ]
     },
     "execution_count": 36,
     "metadata": {},
     "output_type": "execute_result"
    }
   ],
   "source": [
    "# square root\n",
    "math.sqrt(100)"
   ]
  },
  {
   "cell_type": "code",
   "execution_count": 37,
   "metadata": {
    "collapsed": false
   },
   "outputs": [
    {
     "data": {
      "text/plain": [
       "40320"
      ]
     },
     "execution_count": 37,
     "metadata": {},
     "output_type": "execute_result"
    }
   ],
   "source": [
    "# factorial \n",
    "math.factorial(8)"
   ]
  },
  {
   "cell_type": "code",
   "execution_count": 38,
   "metadata": {
    "collapsed": false
   },
   "outputs": [
    {
     "data": {
      "text/plain": [
       "148.4131591025766"
      ]
     },
     "execution_count": 38,
     "metadata": {},
     "output_type": "execute_result"
    }
   ],
   "source": [
    "# exponential \n",
    "math.exp(5)"
   ]
  },
  {
   "cell_type": "code",
   "execution_count": 39,
   "metadata": {
    "collapsed": false
   },
   "outputs": [
    {
     "data": {
      "text/plain": [
       "1.2246467991473532e-16"
      ]
     },
     "execution_count": 39,
     "metadata": {},
     "output_type": "execute_result"
    }
   ],
   "source": [
    "# sine\n",
    "math.sin(math.pi)"
   ]
  },
  {
   "cell_type": "markdown",
   "metadata": {},
   "source": [
    "Notice how $sin(\\pi)$ doesn't actually return $0$, though it's very close. That's because of the slight loss of precision, since we're only using 15 digits of pi.\n",
    "\n",
    "### The `statistics` Module\n",
    "[[back to top]](#Table-of-Contents)\n",
    "[[documentation]](https://docs.python.org/3/library/statistics.html)\n",
    "\n",
    "This module provides functions for calculating mathematical statistics of numeric (Real-valued) data. We can start with some basic measures of central tendency."
   ]
  },
  {
   "cell_type": "code",
   "execution_count": 40,
   "metadata": {
    "collapsed": true
   },
   "outputs": [],
   "source": [
    "import statistics as stats"
   ]
  },
  {
   "cell_type": "code",
   "execution_count": 41,
   "metadata": {
    "collapsed": false
   },
   "outputs": [
    {
     "data": {
      "text/plain": [
       "[10, 19, 8, 43, 25, 49, 2, 5, 47, 36, 27, 7, 45, 17, 9, 35, 4, 40, 19]"
      ]
     },
     "execution_count": 41,
     "metadata": {},
     "output_type": "execute_result"
    }
   ],
   "source": [
    "# create a sample list of data\n",
    "data = []\n",
    "for i in range(20):\n",
    "    x = random.randrange(0, 50)\n",
    "    if x not in data:\n",
    "        data.append(x)\n",
    "\n",
    "data.append(random.choice(data))\n",
    "\n",
    "data"
   ]
  },
  {
   "cell_type": "code",
   "execution_count": 42,
   "metadata": {
    "collapsed": false
   },
   "outputs": [
    {
     "data": {
      "text/plain": [
       "23.526315789473685"
      ]
     },
     "execution_count": 42,
     "metadata": {},
     "output_type": "execute_result"
    }
   ],
   "source": [
    "# arithmetic mean\n",
    "stats.mean(data)"
   ]
  },
  {
   "cell_type": "code",
   "execution_count": 43,
   "metadata": {
    "collapsed": false
   },
   "outputs": [
    {
     "data": {
      "text/plain": [
       "19"
      ]
     },
     "execution_count": 43,
     "metadata": {},
     "output_type": "execute_result"
    }
   ],
   "source": [
    "# median\n",
    "stats.median(data)"
   ]
  },
  {
   "cell_type": "code",
   "execution_count": 44,
   "metadata": {
    "collapsed": false
   },
   "outputs": [
    {
     "data": {
      "text/plain": [
       "19"
      ]
     },
     "execution_count": 44,
     "metadata": {},
     "output_type": "execute_result"
    }
   ],
   "source": [
    "# mode\n",
    "stats.mode(data)"
   ]
  },
  {
   "cell_type": "markdown",
   "metadata": {},
   "source": [
    "Next, let's talk about measuring the spread of data. We can measure the variance and standard deviation of both a sample and a population. If we're using a sample of data, we want to use the `stdev()` and `variance` functions. However, if we're doing descriptive statistics on an entire population, we want to use `pstdev()` and `pvariance`. "
   ]
  },
  {
   "cell_type": "code",
   "execution_count": 45,
   "metadata": {
    "collapsed": false
   },
   "outputs": [
    {
     "data": {
      "text/plain": [
       "266.2631578947369"
      ]
     },
     "execution_count": 45,
     "metadata": {},
     "output_type": "execute_result"
    }
   ],
   "source": [
    "# calculate the sample variance\n",
    "stats.variance(data)"
   ]
  },
  {
   "cell_type": "code",
   "execution_count": 46,
   "metadata": {
    "collapsed": false
   },
   "outputs": [
    {
     "data": {
      "text/plain": [
       "252.2493074792244"
      ]
     },
     "execution_count": 46,
     "metadata": {},
     "output_type": "execute_result"
    }
   ],
   "source": [
    "# calculate the population variance\n",
    "stats.pvariance(data)"
   ]
  },
  {
   "cell_type": "code",
   "execution_count": 47,
   "metadata": {
    "collapsed": false
   },
   "outputs": [
    {
     "data": {
      "text/plain": [
       "16.31757205881858"
      ]
     },
     "execution_count": 47,
     "metadata": {},
     "output_type": "execute_result"
    }
   ],
   "source": [
    "# sample standard deviation\n",
    "stats.stdev(data)"
   ]
  },
  {
   "cell_type": "markdown",
   "metadata": {},
   "source": [
    "### A Note on Statistics\n",
    "[[back to top]](#Table-of-Contents)\n",
    "\n",
    "It is often not possible to measure values from an entire sample (e.g. when trying to compute the average height of all US citizens). Thus, we often have to make an estimate from a sample. The simplest estimators for *population mean* and *population variance* are simply the mean and variance of the sample, the *sample mean* and (uncorrected) *sample variance*. These are consistent estimators (as the number of samples is increased, they converge to the population values), but they can be improved. \n",
    "\n",
    "Estimating the population variance by taking the sample's variance is close to optimal in general, but can be improved in two ways. The sample variance is computed as an average of squared deviations about the (sample) mean, by dividing by $n$. However, using values other than $n$ improves the estimator in various ways. Four common values for the denominator are $n$, $n − 1$, $n + 1$, and $n − 1.5$: $n$ is the simplest (population variance of the sample), $n − 1$ eliminates bias, $n + 1$ minimizes mean squared error for the normal distribution, and $n − 1.5$ mostly eliminates bias in unbiased estimation of standard deviation for the normal distribution.\n",
    "\n",
    "If the population mean is unknown (and is computed as the sample mean), then the sample variance is a biased estimator: it underestimates the variance by a factor of $\\frac{(n − 1)}{n}$; correcting by this factor (dividing by $n − 1$ instead of $n$) is called Bessel's correction. The resulting estimator is unbiased, and is called the (corrected) sample variance or unbiased sample variance. For example, when $n = 1$ the variance of a single observation about the sample mean (itself) is obviously zero regardless of the population variance. If the mean is determined in some other way than from the same samples used to estimate the variance then this bias does not arise and the variance can safely be estimated as that of the samples about the (independently known) mean.\n",
    "\n",
    "The sample variance does not generally minimize mean squared error between sample variance and population variance. Correcting for bias often makes this worse: one can always choose a scale factor that performs better than the corrected sample variance, though the optimal scale factor depends on the excess kurtosis of the population (see mean squared error: variance), and introduces bias. This always consists of scaling down the unbiased estimator (dividing by a number larger than $n − 1$), and is a simple example of a shrinkage estimator: one \"shrinks\" the unbiased estimator towards zero. For the normal distribution, dividing by $n + 1$ (instead of $n − 1$ or $n$) minimizes mean squared error. The resulting estimator is biased, however, and is known as the biased sample variation.\n",
    "\n",
    "##### Population Variance\n",
    "In a population of data, we calculate the mean $\\mu$ as\n",
    "\n",
    "$$ \\mu = \\frac{1}{N}\\sum_{i = 1}^N x_i $$\n",
    "\n",
    "where $N$ is the size of the population with values $x_i$. Here, the population variance is given by\n",
    "\n",
    "$$ \\sigma^2 = \\frac{1}{N}\\sum_{i = 1}^N(x_i - \\mu)^2 = \\left(\\frac{1}{N}\\sum_{i = 1}^N x_i^2\\right) - \\mu^2 $$ .\n",
    "\n",
    "##### Sample Variance\n",
    "If the true mean and variance are not known for a population, we can estimate them from a sample. If we take a sample, with replacement, of $n$ values, $y_1, y_2, \\dots, y_n$ from the population, where $n < N$, we can use this to estimate the variance based on the sample. \n",
    "\n",
    "We can calculate the sample mean, $\\bar{y}$, as \n",
    "\n",
    "$$ \\bar{y} = \\frac{1}{n}\\sum_{i = 1}^n y_i .$$\n",
    "\n",
    "Using this sample mean, we can directly calculate the variance of the sample\n",
    "\n",
    "$$ \\sigma_y^2 = \\frac{1}{n}\\sum_{i = 1}^n (y_i - \\bar{y})^2 = \\left(\\frac{1}{n}\\sum_{i = 1}^n y_i^2 \\right) - \\bar{y}^2 .$$\n",
    "\n",
    "As long as the $y_i$ are selected randomly, both $\\bar{y}$ and $\\sigma_y^2$ are random variables. Their expected values can be calculated by summing over all possible samples:\n",
    "\n",
    "\\begin{align*}\n",
    "E\\big[\\sigma_y^2\\big] &= E\\left[ \\frac{1}{n}\\sum_{i=1}^n\\left( y_i - \\frac{1}{n}\\sum_{j = 1}^n \\right)^2\\right] \\\\\n",
    "&= \\frac{1}{n}\\sum_{i=1}^n E\\left[y_i^2 - \\frac{2}{n}y_i\\sum_{j = 1}^n y_i + \\frac{1}{n^2}\\sum_{j=1}^n y_i \\sum_{k=1}^n y_k \\right] \\\\\n",
    "&= \\frac{1}{n} \\sum_{i=1}^n \\left[ \\frac{n-2}{n}E\\big[ y_i^2 \\big] - \\frac{2}{n}\\sum_{j \\neq i} E\\big[ y_iy_j \\big] + \\frac{1}{n^2}\\sum_{j=1}^n\\sum_{k\\neq j}^n E\\big[ y_j y_k \\big] + \\frac{1}{n^2}\\sum_{j=1}^n E\\big[ y_j^2 \\big] \\right] \\\\\n",
    "&= \\frac{1}{n} \\sum_{i=1}^n\\left[ \\frac{n-2}{n}\\left( \\sigma^2 + \\mu^2 \\right) - \\frac{2}{n}(n - 1)\\mu^2 + \\frac{1}{n^2}n(n-1)\\mu^2 + \\frac{1}{n}\\left(\\sigma^2 + \\mu^2\\right) \\right] \\\\\n",
    "&= \\frac{n - 1}{n}\\sigma^2 .\n",
    "\\end{align*}\n",
    "\n",
    "This shows that $\\sigma_y^2$ is biased by a factor of $\\displaystyle\\frac{n-1}{n}$. This, $\\sigma_y^2$ is called the *biased sample variance*. Correcting for this bias, we can create the *unbiased sample variance*:\n",
    "\n",
    "$$ s^2 = \\frac{n}{n-1}\\sigma_y^2 = \\frac{n}{n-1}\\left(\\frac{1}{n}\\sum_{i=1}^n\\left(y_i - \\bar{y}\\right)^2\\right) = \\frac{1}{n-1}\\sum_{i=1}^n\\left(y_i - \\bar{y}\\right)^2 .$$\n",
    "\n",
    "The term $n - 1$ is called *Bessel's correction*, and it is also used in calculating the sample covariance and the sample standard deviation. However, the square root function itself introduces a negative bias, even using Bessel's correction will yield a biased sample standard deviation. To get an unbiased estimation of standard deviation is challenging (I don't know how to do it!), but for a normally-distributed function, correcting by using the term $n - 1.5$ yields a nearly-unbiased estimator. "
   ]
  }
 ],
 "metadata": {
  "kernelspec": {
   "display_name": "Python 3",
   "language": "python",
   "name": "python3"
  },
  "language_info": {
   "codemirror_mode": {
    "name": "ipython",
    "version": 3
   },
   "file_extension": ".py",
   "mimetype": "text/x-python",
   "name": "python",
   "nbconvert_exporter": "python",
   "pygments_lexer": "ipython3",
   "version": "3.4.3"
  }
 },
 "nbformat": 4,
 "nbformat_minor": 0
}
