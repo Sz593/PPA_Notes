{
 "cells": [
  {
   "cell_type": "markdown",
   "metadata": {},
   "source": [
    "# Working Session - Problem Set\n",
    "\n",
    "**Question 1:** Reverse this string. "
   ]
  },
  {
   "cell_type": "code",
   "execution_count": null,
   "metadata": {
    "collapsed": true
   },
   "outputs": [],
   "source": [
    "myString = \"I'm like hey, what's up? Hello.\""
   ]
  },
  {
   "cell_type": "code",
   "execution_count": null,
   "metadata": {
    "collapsed": false
   },
   "outputs": [],
   "source": [
    "print(myString[::-1])"
   ]
  },
  {
   "cell_type": "markdown",
   "metadata": {},
   "source": [
    "**Question 2:** What are the unique values in this list below?"
   ]
  },
  {
   "cell_type": "code",
   "execution_count": null,
   "metadata": {
    "collapsed": false
   },
   "outputs": [],
   "source": [
    "myList = [1, 2, 3, 5, 2, 43, 7, 4, 7, 3, 6, 0, 9, 8, 12, 4, 2, 1]"
   ]
  },
  {
   "cell_type": "code",
   "execution_count": null,
   "metadata": {
    "collapsed": false,
    "scrolled": true
   },
   "outputs": [],
   "source": [
    "myList2 = myList.copy()\n",
    "str(myList2)\n",
    "myList2.sort()\n",
    "print(myList2)\n",
    "\n",
    "counter = 1\n",
    "unique_list=[]\n",
    "for i in range(0,len(myList)):\n",
    "    if myList2[i-1] != myList2[i]:\n",
    "        unique_list.append(myList2[i])\n",
    "        counter+=1\n",
    "print(unique_list)"
   ]
  },
  {
   "cell_type": "markdown",
   "metadata": {},
   "source": [
    "**Question 3:** Print out the words that start with the letter \"s\". "
   ]
  },
  {
   "cell_type": "code",
   "execution_count": null,
   "metadata": {
    "collapsed": true
   },
   "outputs": [],
   "source": [
    "myString2 = 'Print only the words that start with s in this sentence'"
   ]
  },
  {
   "cell_type": "code",
   "execution_count": null,
   "metadata": {
    "collapsed": false,
    "scrolled": true
   },
   "outputs": [],
   "source": [
    "x=myString2.split()\n",
    "# print(type(x))\n",
    "# print(len(x))\n",
    "# print(x)\n",
    "[print(x[i]) for i in range(1,len(x)) if x[i][0]=='s' and len(x[i]) > 1]\n",
    "\n"
   ]
  },
  {
   "cell_type": "markdown",
   "metadata": {},
   "source": [
    "**Question 4:** Create a list of all the numbers from 1 to 50 (including both 1 and 50) that are divisible by 3. "
   ]
  },
  {
   "cell_type": "code",
   "execution_count": 2,
   "metadata": {
    "collapsed": false
   },
   "outputs": [
    {
     "name": "stdout",
     "output_type": "stream",
     "text": [
      "[3, 6, 9, 12, 15, 18, 21, 24, 27, 30, 33, 36, 39, 42, 45, 48]\n"
     ]
    }
   ],
   "source": [
    "[i for i in range(1,51) if i % 3 == 0]\n",
    "print(nums_div_3)"
   ]
  },
  {
   "cell_type": "markdown",
   "metadata": {},
   "source": [
    "**Question 5:** Print out every word in the string below where the lenth of the word is an even number."
   ]
  },
  {
   "cell_type": "code",
   "execution_count": 5,
   "metadata": {
    "collapsed": true
   },
   "outputs": [],
   "source": [
    "myString3 = 'Print every word in this sentence that has an even number of letters'"
   ]
  },
  {
   "cell_type": "code",
   "execution_count": 9,
   "metadata": {
    "collapsed": false,
    "scrolled": true
   },
   "outputs": [
    {
     "data": {
      "text/plain": [
       "['word', 'in', 'this', 'sentence', 'that', 'an', 'even', 'number', 'of']"
      ]
     },
     "execution_count": 9,
     "metadata": {},
     "output_type": "execute_result"
    }
   ],
   "source": [
    "myString3List = myString3.split()\n",
    "[i for i in myString3List if len(i) % 2 == 0]"
   ]
  },
  {
   "cell_type": "markdown",
   "metadata": {},
   "source": [
    "**Question 6:** Write a program that prints the integers from 1 to 100. But for multiples of three print \"Fizz\" instead of the number, and for the multiples of five print \"Buzz\". For numbers which are multiples of both three and five print \"FizzBuzz\"."
   ]
  },
  {
   "cell_type": "code",
   "execution_count": null,
   "metadata": {
    "collapsed": false,
    "scrolled": false
   },
   "outputs": [],
   "source": [
    "def FizzyBuzzy(endpoint):\n",
    "    for i in range(1,endpoint+1):\n",
    "        if i % 3 == 0 and i % 5 == 0:\n",
    "            x = 'FizzBuzz'\n",
    "        elif i % 3 == 0:\n",
    "            x = 'Fizz'\n",
    "        elif i % 5 == 0:\n",
    "            x = 'Buzz'\n",
    "        else:\n",
    "            x = str(i)\n",
    "        print(x)\n",
    "\n",
    "FizzyBuzzy(100)"
   ]
  },
  {
   "cell_type": "markdown",
   "metadata": {},
   "source": [
    "**Question 7:** Using the string below, create a list of the first letter of each word in the string. "
   ]
  },
  {
   "cell_type": "code",
   "execution_count": 11,
   "metadata": {
    "collapsed": true
   },
   "outputs": [],
   "source": [
    "myString4 = 'Create a list of the first letters of every word in this string'"
   ]
  },
  {
   "cell_type": "code",
   "execution_count": 13,
   "metadata": {
    "collapsed": false
   },
   "outputs": [
    {
     "data": {
      "text/plain": [
       "['C', 'a', 'l', 'o', 't', 'f', 'l', 'o', 'e', 'w', 'i', 't', 's']"
      ]
     },
     "execution_count": 13,
     "metadata": {},
     "output_type": "execute_result"
    }
   ],
   "source": [
    "[i[0] for i in myString4.split()]\n"
   ]
  },
  {
   "cell_type": "markdown",
   "metadata": {},
   "source": [
    "**Question 8:** Handle the exception thrown by the code below by using try and except blocks. After your code is done running, print \"Complete\" (it should print \"Complete\" regardless of whether an exception was thrown or not). "
   ]
  },
  {
   "cell_type": "code",
   "execution_count": 14,
   "metadata": {
    "collapsed": false,
    "scrolled": true
   },
   "outputs": [
    {
     "name": "stdout",
     "output_type": "stream",
     "text": [
      "You idiot!  Your denominator is 0 - you can't divide by zero!\n",
      "Complete\n"
     ]
    }
   ],
   "source": [
    "x = 5\n",
    "y = 0\n",
    "\n",
    "# update the code below\n",
    "try:\n",
    "    x / y\n",
    "    print('Complete')\n",
    "except ZeroDivisionError:\n",
    "        print(\"You idiot!  Your denominator is 0 - you can't divide by zero!\")\n",
    "        print('Complete')"
   ]
  },
  {
   "cell_type": "markdown",
   "metadata": {},
   "source": [
    "**Question 9:** Write a program that asks for integer input. Use a while loop with a try/except block to account for incorrect inputs. "
   ]
  },
  {
   "cell_type": "code",
   "execution_count": 15,
   "metadata": {
    "collapsed": false
   },
   "outputs": [
    {
     "name": "stdout",
     "output_type": "stream",
     "text": [
      "What is the answer to the ultimate question of life, the universe, and everything?\n",
      "2\n",
      "Wrong! Try again...\n",
      "What is the answer to the ultimate question of life, the universe, and everything?\n",
      "42\n",
      "You are a genius! The answer is indeed 42\n"
     ]
    }
   ],
   "source": [
    "while True:\n",
    "    try:\n",
    "        print('What is the answer to the ultimate question of life, the universe, and everything?')\n",
    "        answer=input()\n",
    "        if int(answer) == 42:\n",
    "            print('You are a genius! The answer is indeed ' + str(answer))\n",
    "            break\n",
    "        else:\n",
    "            print('Wrong! Try again...')\n",
    "    except ValueError:\n",
    "        print('Please try again...')        "
   ]
  },
  {
   "cell_type": "markdown",
   "metadata": {},
   "source": [
    "**Question 10:** Reverse the list below. "
   ]
  },
  {
   "cell_type": "code",
   "execution_count": null,
   "metadata": {
    "collapsed": true
   },
   "outputs": [],
   "source": [
    "myList2 = list('abcdefghijklmnop')"
   ]
  },
  {
   "cell_type": "code",
   "execution_count": null,
   "metadata": {
    "collapsed": false
   },
   "outputs": [],
   "source": [
    "print(myList2[::-1])"
   ]
  },
  {
   "cell_type": "markdown",
   "metadata": {},
   "source": [
    "**Question 11:** Sort the list below."
   ]
  },
  {
   "cell_type": "code",
   "execution_count": 17,
   "metadata": {
    "collapsed": true
   },
   "outputs": [],
   "source": [
    "myList3 = [2, 5, 3, 7, 1, 4]\n"
   ]
  },
  {
   "cell_type": "code",
   "execution_count": 18,
   "metadata": {
    "collapsed": false
   },
   "outputs": [
    {
     "name": "stdout",
     "output_type": "stream",
     "text": [
      "[1, 2, 3, 4, 5, 7]\n"
     ]
    }
   ],
   "source": [
    "myList3Sorted = myList3.copy()\n",
    "myList3Sorted.sort()\n",
    "print(myList3Sorted)"
   ]
  },
  {
   "cell_type": "markdown",
   "metadata": {},
   "source": [
    "**Question 12:** Use `map()` to create a function which finds the length of each word in the phrase (broken by spaces) and return the values in a list. Remember, in ATBS Chapter 6 (strings) we have a string method for separating strings. "
   ]
  },
  {
   "cell_type": "code",
   "execution_count": 2,
   "metadata": {
    "collapsed": true
   },
   "outputs": [],
   "source": [
    "myString5 = \"How long are each of the words in this string\""
   ]
  },
  {
   "cell_type": "code",
   "execution_count": 13,
   "metadata": {
    "collapsed": false
   },
   "outputs": [
    {
     "data": {
      "text/plain": [
       "[3, 4, 3, 4, 2, 3, 5, 2, 4, 6]"
      ]
     },
     "execution_count": 13,
     "metadata": {},
     "output_type": "execute_result"
    }
   ],
   "source": [
    "mylist = myString5.split()\n",
    "\n",
    "def funky(thislist):\n",
    "    return len(thislist)\n",
    "        \n",
    "wordlength = map(funky,mylist)\n",
    "list(wordlength)"
   ]
  },
  {
   "cell_type": "markdown",
   "metadata": {},
   "source": [
    "**Question 13:** Write a function that takes in two inputs: a list of words and a letter. Your function should return a new list of all the words in the original list that start with the letter you specified. "
   ]
  },
  {
   "cell_type": "code",
   "execution_count": 20,
   "metadata": {
    "collapsed": false
   },
   "outputs": [
    {
     "name": "stdout",
     "output_type": "stream",
     "text": [
      "<class 'list'>\n",
      "['hhello', 'hare', 'hcat', 'hdog', 'hham', 'hhi', 'hgo', 'hto', 'hheart']\n",
      "<class 'list'>\n",
      "['hello', 'ham', 'hi', 'heart']\n"
     ]
    }
   ],
   "source": [
    "def startsWithLetter(wordList, letter):\n",
    "    newList=[]\n",
    "    for i in range(0,len(wordList)):\n",
    "        newList.append(letter+wordList[i])\n",
    "    return newList\n",
    "\n",
    "l = ['hello','are','cat','dog','ham','hi','go','to','heart']\n",
    "x=startsWithLetter(l, 'h')\n",
    "print(type(x))\n",
    "print(x)\n",
    "\n",
    "\n",
    "def startsWithLetter2(wordList, letter):\n",
    "    newList=[]\n",
    "    for i in range(0,len(wordList)):\n",
    "        if wordList[i][0]==letter:\n",
    "            newList.append(wordList[i])\n",
    "    return newList\n",
    "\n",
    "l = ['hello','are','cat','dog','ham','hi','go','to','heart']\n",
    "x=startsWithLetter2(l, 'h')\n",
    "print(type(x))\n",
    "print(x)\n"
   ]
  },
  {
   "cell_type": "code",
   "execution_count": 21,
   "metadata": {
    "collapsed": false,
    "scrolled": true
   },
   "outputs": [
    {
     "name": "stdout",
     "output_type": "stream",
     "text": [
      "<class 'list'>\n",
      "['hello', 'ham', 'hi', 'heart']\n"
     ]
    }
   ],
   "source": [
    "# use this list\n",
    "l = ['hello','are','cat','dog','ham','hi','go','to','heart']\n",
    "\n",
    "# your solution should return the same results as this does\n",
    "startsWithLetter(l, 'h')\n",
    "print(type(x))\n",
    "print(x)\n"
   ]
  },
  {
   "cell_type": "markdown",
   "metadata": {},
   "source": [
    "**Question 14:** How many of the integers in the following list have values that equal their index?"
   ]
  },
  {
   "cell_type": "code",
   "execution_count": 22,
   "metadata": {
    "collapsed": true
   },
   "outputs": [],
   "source": [
    "myList4 = [0,2,2,1,5,5,6,10]"
   ]
  },
  {
   "cell_type": "code",
   "execution_count": 25,
   "metadata": {
    "collapsed": false
   },
   "outputs": [
    {
     "name": "stdout",
     "output_type": "stream",
     "text": [
      "4\n"
     ]
    }
   ],
   "source": [
    "counter=0\n",
    "for i in range(0,len(myList4)):\n",
    "    if i == myList4[i]:\n",
    "        counter+=1\n",
    "print(counter)"
   ]
  },
  {
   "cell_type": "markdown",
   "metadata": {},
   "source": [
    "**Question 15:** Below are two lists of $x$ values and $y$ values. Combine these two lists in to a list of 2-tuples of the form $(x, y)$. For example, if I had `xList = [1, 2]` and `yList = [3, 4]`, your code should give `[(1, 3), (2, 4)]`. "
   ]
  },
  {
   "cell_type": "code",
   "execution_count": 40,
   "metadata": {
    "collapsed": false
   },
   "outputs": [],
   "source": [
    "xValues = [1, 2, 3, 4, 5]\n",
    "yValues = [2, 4, 6, 8, 10]"
   ]
  },
  {
   "cell_type": "code",
   "execution_count": 55,
   "metadata": {
    "collapsed": false,
    "scrolled": true
   },
   "outputs": [
    {
     "name": "stdout",
     "output_type": "stream",
     "text": [
      "[(1, 2), (2, 4), (3, 6), (4, 8), (5, 10)]\n"
     ]
    }
   ],
   "source": [
    "tuplist=zip(xValues,yValues)\n",
    "print(list(tuplist))"
   ]
  },
  {
   "cell_type": "markdown",
   "metadata": {},
   "source": [
    "**Question 16:** Write a function that returns the volume of a sphere, given it's radius as input. "
   ]
  },
  {
   "cell_type": "code",
   "execution_count": 60,
   "metadata": {
    "collapsed": false
   },
   "outputs": [
    {
     "name": "stdout",
     "output_type": "stream",
     "text": [
      "4.1887902047863905\n",
      "33.510321638291124\n",
      "113.09733552923254\n",
      "268.082573106329\n",
      "523.5987755982989\n"
     ]
    }
   ],
   "source": [
    "import math\n",
    "def sphereVolume(radius):\n",
    "    # your code here\n",
    "    V=(4/3) * math.pi * (radius**3)\n",
    "    return V\n",
    "    pass\n",
    "\n",
    "print(sphereVolume(1))\n",
    "print(sphereVolume(2))\n",
    "print(sphereVolume(3))\n",
    "print(sphereVolume(4))\n",
    "print(sphereVolume(5))"
   ]
  },
  {
   "cell_type": "markdown",
   "metadata": {},
   "source": [
    "**Question 17:** Write a function that checks whether or not a number is included in a given range. Whether or not you're inclusive of the endpoints is up to you, but make sure you're aware of your choice of endpoint inclusion/exclusion. You function should only return a boolean value of `True` or `False`. "
   ]
  },
  {
   "cell_type": "code",
   "execution_count": 64,
   "metadata": {
    "collapsed": false
   },
   "outputs": [
    {
     "name": "stdout",
     "output_type": "stream",
     "text": [
      "True\n"
     ]
    }
   ],
   "source": [
    "def inRange(num, low, high):\n",
    "    return low <= num and num <= high\n",
    "\n",
    "\n",
    "print(inRange(1,0,3))"
   ]
  },
  {
   "cell_type": "markdown",
   "metadata": {},
   "source": [
    "**Question 18:** Write a function that takes a list as input, and returns the unique elements of that list. Be careful! Don't make a function that only works for one datatype!"
   ]
  },
  {
   "cell_type": "code",
   "execution_count": null,
   "metadata": {
    "collapsed": true
   },
   "outputs": [],
   "source": [
    "# your code here"
   ]
  },
  {
   "cell_type": "markdown",
   "metadata": {},
   "source": [
    "**Question 19:** Write a python function to multiple all numbers in a list together. For example:\n",
    "\n",
    "```\n",
    "Sample List = [1, 2, 3, -4]\n",
    "Expected Output = -24\n",
    "```"
   ]
  },
  {
   "cell_type": "code",
   "execution_count": 69,
   "metadata": {
    "collapsed": false
   },
   "outputs": [
    {
     "ename": "TypeError",
     "evalue": "'list' object cannot be interpreted as an integer",
     "output_type": "error",
     "traceback": [
      "\u001b[1;31m---------------------------------------------------------------------------\u001b[0m",
      "\u001b[1;31mTypeError\u001b[0m                                 Traceback (most recent call last)",
      "\u001b[1;32m<ipython-input-69-c5c79eb09d2e>\u001b[0m in \u001b[0;36m<module>\u001b[1;34m()\u001b[0m\n\u001b[0;32m      5\u001b[0m \u001b[1;33m\u001b[0m\u001b[0m\n\u001b[0;32m      6\u001b[0m \u001b[0mthislist\u001b[0m\u001b[1;33m=\u001b[0m\u001b[1;33m[\u001b[0m\u001b[1;36m1\u001b[0m\u001b[1;33m,\u001b[0m\u001b[1;36m2\u001b[0m\u001b[1;33m,\u001b[0m\u001b[1;36m3\u001b[0m\u001b[1;33m,\u001b[0m\u001b[1;36m4\u001b[0m\u001b[1;33m]\u001b[0m\u001b[1;33m\u001b[0m\u001b[0m\n\u001b[1;32m----> 7\u001b[1;33m \u001b[0mprint\u001b[0m\u001b[1;33m(\u001b[0m\u001b[0mrange\u001b[0m\u001b[1;33m(\u001b[0m\u001b[0mthislist\u001b[0m\u001b[1;33m)\u001b[0m\u001b[1;33m)\u001b[0m\u001b[1;33m\u001b[0m\u001b[0m\n\u001b[0m",
      "\u001b[1;31mTypeError\u001b[0m: 'list' object cannot be interpreted as an integer"
     ]
    }
   ],
   "source": [
    "\n",
    "def mult(myList):\n",
    "    for i in range(myList):\n",
    "        multvar*=myList[i]\n",
    "    return multvar\n",
    "\n",
    "thislist=[1,2,3,4]\n",
    "print(range(thislist))\n"
   ]
  },
  {
   "cell_type": "markdown",
   "metadata": {},
   "source": [
    "**Question 20:** Write a function that checks whether or not a string passed to the function is a palindrome or not. "
   ]
  },
  {
   "cell_type": "code",
   "execution_count": 14,
   "metadata": {
    "collapsed": false
   },
   "outputs": [
    {
     "name": "stdout",
     "output_type": "stream",
     "text": [
      "Your entry: 'a man a plan a canal panama' is a palindrome.\n",
      "Your entry: 'racecar' is a palindrome.\n",
      "Your entry: 'step on no pets' is a palindrome.\n",
      "Your entry: 'i look justlike Buddy Holly' is NOT a palindrome - how mundane!\n"
     ]
    }
   ],
   "source": [
    "def ipalindromei(mystring):\n",
    "    var1=str(mystring).replace(' ','')\n",
    "    var2=str(mystring[::-1]).replace(' ','')\n",
    "    if var1 == var2:\n",
    "        print(\"Your entry: '\" + mystring + \"' is a palindrome.\")\n",
    "    else:\n",
    "        print(\"Your entry: '\" + mystring + \"' is NOT a palindrome - how mundane!\")\n",
    "\n",
    "ipalindromei('a man a plan a canal panama')\n",
    "ipalindromei('racecar')\n",
    "ipalindromei('step on no pets')\n",
    "ipalindromei('i look just like Buddy Holly')"
   ]
  }
 ],
 "metadata": {
  "kernelspec": {
   "display_name": "Python 3",
   "language": "python",
   "name": "python3"
  },
  "language_info": {
   "codemirror_mode": {
    "name": "ipython",
    "version": 3
   },
   "file_extension": ".py",
   "mimetype": "text/x-python",
   "name": "python",
   "nbconvert_exporter": "python",
   "pygments_lexer": "ipython3",
   "version": "3.4.3"
  }
 },
 "nbformat": 4,
 "nbformat_minor": 0
}
