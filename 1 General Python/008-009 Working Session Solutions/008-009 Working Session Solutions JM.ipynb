{
 "cells": [
  {
   "cell_type": "markdown",
   "metadata": {},
   "source": [
    "# Working Session - Problem Set\n",
    "\n",
    "**Question 1:** Reverse this string. "
   ]
  },
  {
   "cell_type": "code",
   "execution_count": null,
   "metadata": {
    "collapsed": true
   },
   "outputs": [],
   "source": [
    "myString = \"I'm like hey, what's up? Hello.\"\n",
    "print(myString)"
   ]
  },
  {
   "cell_type": "code",
   "execution_count": 11,
   "metadata": {
    "collapsed": false
   },
   "outputs": [
    {
     "name": "stdout",
     "output_type": "stream",
     "text": [
      "I'm like hey, what's up? Hello.\n",
      ".olleH ?pu s'tahw ,yeh ekil m'I\n"
     ]
    }
   ],
   "source": [
    "myString = \"I'm like hey, what's up? Hello.\"\n",
    "myStringBk = []\n",
    "counter =1\n",
    "while True:\n",
    "    myStringBk.append(myString[(counter*-1)])\n",
    "    counter += 1\n",
    "    if counter == len(myString)+1:\n",
    "        break\n",
    "myStringBk = ''.join(myStringBk)\n",
    "print(myString)\n",
    "print(myStringBk)\n",
    "    "
   ]
  },
  {
   "cell_type": "code",
   "execution_count": 20,
   "metadata": {
    "collapsed": false
   },
   "outputs": [
    {
     "name": "stdout",
     "output_type": "stream",
     "text": [
      "I'm like hey, what's up? Hello.\n",
      ".olleH ?pu s'tahw ,yeh ekil m'I\n"
     ]
    }
   ],
   "source": [
    "# Simon's version\n",
    "myString = \"I'm like hey, what's up? Hello.\"\n",
    "myStringBk = []\n",
    "\n",
    "for letter in reversed(myString):\n",
    "    myStringBk.append(letter)\n",
    "\n",
    "myStringBk = ''.join(myStringBk)\n",
    "print(myString)\n",
    "print(myStringBk)"
   ]
  },
  {
   "cell_type": "code",
   "execution_count": 24,
   "metadata": {
    "collapsed": false
   },
   "outputs": [
    {
     "data": {
      "text/plain": [
       "\".olleH ?pu s'tahw ,yeh ekil m'I\""
      ]
     },
     "execution_count": 24,
     "metadata": {},
     "output_type": "execute_result"
    }
   ],
   "source": [
    "# Simon's other version\n",
    "myString[::-1]"
   ]
  },
  {
   "cell_type": "code",
   "execution_count": null,
   "metadata": {
    "collapsed": true
   },
   "outputs": [],
   "source": []
  },
  {
   "cell_type": "markdown",
   "metadata": {},
   "source": [
    "**Question 2:** What are the unique values in this list below?"
   ]
  },
  {
   "cell_type": "code",
   "execution_count": 3,
   "metadata": {
    "collapsed": false
   },
   "outputs": [],
   "source": [
    "myList = [1, 2, 3, 5, 2, 43, 7, 4, 7, 3, 6, 0, 9, 8, 12, 4, 2, 1]"
   ]
  },
  {
   "cell_type": "code",
   "execution_count": 9,
   "metadata": {
    "collapsed": false
   },
   "outputs": [
    {
     "name": "stdout",
     "output_type": "stream",
     "text": [
      "{0, 1, 2, 3, 4, 5, 6, 7, 8, 9, 43, 12}\n"
     ]
    }
   ],
   "source": [
    "myList = [1, 2, 3, 5, 2, 43, 7, 4, 7, 3, 6, 0, 9, 8, 12, 4, 2, 1]\n",
    "myListUnique = set(myList)\n",
    "print(myListUnique)"
   ]
  },
  {
   "cell_type": "markdown",
   "metadata": {},
   "source": [
    "**Question 3:** Print out the words that start with the letter \"s\". "
   ]
  },
  {
   "cell_type": "code",
   "execution_count": 5,
   "metadata": {
    "collapsed": true
   },
   "outputs": [],
   "source": [
    "myString2 = 'Print only the words that start with s in this sentence'"
   ]
  },
  {
   "cell_type": "code",
   "execution_count": 58,
   "metadata": {
    "collapsed": false
   },
   "outputs": [
    {
     "name": "stdout",
     "output_type": "stream",
     "text": [
      "['start', 's', 'sentence']\n"
     ]
    }
   ],
   "source": [
    "myString2 = 'Print only the words that start with s in this sentence'\n",
    "myString2_split = myString2.split()\n",
    "EssWords = []\n",
    "for word in myString2_split:\n",
    "    if word[0] == 's':\n",
    "        EssWords.append(word)\n",
    "print(EssWords)"
   ]
  },
  {
   "cell_type": "markdown",
   "metadata": {},
   "source": [
    "**Question 4:** Create a list of all the numbers from 1 to 50 (including both 1 and 50) that are divisible by 3. "
   ]
  },
  {
   "cell_type": "code",
   "execution_count": 24,
   "metadata": {
    "collapsed": false
   },
   "outputs": [
    {
     "name": "stdout",
     "output_type": "stream",
     "text": [
      "[3, 6, 9, 12, 15, 18, 21, 24, 27, 30, 33, 36, 39, 42, 45, 48]\n"
     ]
    }
   ],
   "source": [
    "divisible = []\n",
    "for num in range(1,51):\n",
    "    if num%3 == 0:\n",
    "        divisible.append(num)\n",
    "    \n",
    "print(divisible)\n",
    "\n",
    "    "
   ]
  },
  {
   "cell_type": "markdown",
   "metadata": {},
   "source": [
    "**Question 5:** Print out every word in the string below where the lenth of the word is an even number."
   ]
  },
  {
   "cell_type": "code",
   "execution_count": 8,
   "metadata": {
    "collapsed": true
   },
   "outputs": [],
   "source": [
    "myString3 = 'Print every word in this sentence that has an even number of letters'"
   ]
  },
  {
   "cell_type": "code",
   "execution_count": 57,
   "metadata": {
    "collapsed": false
   },
   "outputs": [
    {
     "name": "stdout",
     "output_type": "stream",
     "text": [
      "['Print', 'every', 'word', 'in', 'this', 'sentence', 'that', 'has', 'an', 'even', 'number', 'of', 'letters']\n",
      "['word', 'in', 'this', 'sentence', 'that', 'an', 'even', 'number', 'of']\n"
     ]
    }
   ],
   "source": [
    "myString3 = 'Print every word in this sentence that has an even number of letters'\n",
    "EvenWords = []\n",
    "BagOfWords = myString3.split()\n",
    "for word in BagOfWords:\n",
    "    if len(word)%2 == 0:\n",
    "        EvenWords.append(word)\n",
    "print(BagOfWords)\n",
    "print(EvenWords)"
   ]
  },
  {
   "cell_type": "markdown",
   "metadata": {},
   "source": [
    "**Question 6:** Write a program that prints the integers from 1 to 100. But for multiples of three print \"Fizz\" instead of the number, and for the multiples of five print \"Buzz\". For numbers which are multiples of both three and five print \"FizzBuzz\"."
   ]
  },
  {
   "cell_type": "code",
   "execution_count": 29,
   "metadata": {
    "collapsed": false
   },
   "outputs": [
    {
     "name": "stdout",
     "output_type": "stream",
     "text": [
      "1\n",
      "2\n",
      "Fizz\n",
      "4\n",
      "Buzz\n",
      "Fizz\n",
      "7\n",
      "8\n",
      "Fizz\n",
      "Buzz\n",
      "11\n",
      "Fizz\n",
      "13\n",
      "14\n",
      "FizzBuzz\n",
      "16\n",
      "17\n",
      "Fizz\n",
      "19\n",
      "Buzz\n",
      "Fizz\n",
      "22\n",
      "23\n",
      "Fizz\n",
      "Buzz\n",
      "26\n",
      "Fizz\n",
      "28\n",
      "29\n",
      "FizzBuzz\n",
      "31\n",
      "32\n",
      "Fizz\n",
      "34\n",
      "Buzz\n",
      "Fizz\n",
      "37\n",
      "38\n",
      "Fizz\n",
      "Buzz\n",
      "41\n",
      "Fizz\n",
      "43\n",
      "44\n",
      "FizzBuzz\n",
      "46\n",
      "47\n",
      "Fizz\n",
      "49\n",
      "Buzz\n",
      "Fizz\n",
      "52\n",
      "53\n",
      "Fizz\n",
      "Buzz\n",
      "56\n",
      "Fizz\n",
      "58\n",
      "59\n",
      "FizzBuzz\n",
      "61\n",
      "62\n",
      "Fizz\n",
      "64\n",
      "Buzz\n",
      "Fizz\n",
      "67\n",
      "68\n",
      "Fizz\n",
      "Buzz\n",
      "71\n",
      "Fizz\n",
      "73\n",
      "74\n",
      "FizzBuzz\n",
      "76\n",
      "77\n",
      "Fizz\n",
      "79\n",
      "Buzz\n",
      "Fizz\n",
      "82\n",
      "83\n",
      "Fizz\n",
      "Buzz\n",
      "86\n",
      "Fizz\n",
      "88\n",
      "89\n",
      "FizzBuzz\n",
      "91\n",
      "92\n",
      "Fizz\n",
      "94\n",
      "Buzz\n",
      "Fizz\n",
      "97\n",
      "98\n",
      "Fizz\n",
      "Buzz\n"
     ]
    }
   ],
   "source": [
    "for num in range(1,101):\n",
    "    if num%3 ==0 and num%5 ==0:\n",
    "        print('FizzBuzz')\n",
    "    elif num%3 == 0:\n",
    "        print('Fizz')\n",
    "    elif num%5 == 0:\n",
    "        print('Buzz')\n",
    "    else:\n",
    "        print(num)"
   ]
  },
  {
   "cell_type": "markdown",
   "metadata": {},
   "source": [
    "**Question 7:** Using the string below, create a list of the first letter of each word in the string. "
   ]
  },
  {
   "cell_type": "code",
   "execution_count": 11,
   "metadata": {
    "collapsed": true
   },
   "outputs": [],
   "source": [
    "myString4 = 'Create a list of the first letters of every word in this string'"
   ]
  },
  {
   "cell_type": "code",
   "execution_count": 59,
   "metadata": {
    "collapsed": false
   },
   "outputs": [
    {
     "name": "stdout",
     "output_type": "stream",
     "text": [
      "['C', 'a', 'l', 'o', 't', 'f', 'l', 'o', 'e', 'w', 'i', 't', 's']\n"
     ]
    }
   ],
   "source": [
    "myString4 = 'Create a list of the first letters of every word in this string'\n",
    "BagOfWords2 = myString4.split()\n",
    "LtrList = []\n",
    "for word in BagOfWords2:\n",
    "    LtrList.append(word[0])\n",
    "print(LtrList)"
   ]
  },
  {
   "cell_type": "markdown",
   "metadata": {},
   "source": [
    "**Question 8:** Handle the exception thrown by the code below by using try and except blocks. After your code is done running, print \"Complete\" (it should print \"Complete\" regardless of whether an exception was thrown or not). "
   ]
  },
  {
   "cell_type": "code",
   "execution_count": 2,
   "metadata": {
    "collapsed": false
   },
   "outputs": [],
   "source": [
    "x = 5\n",
    "y = 0\n",
    "\n",
    "# update the code below\n",
    "try:\n",
    "    x / y\n",
    "\n",
    "except ZeroDivisionError:\n",
    "    print(\"You can't divide by zero, fool\")"
   ]
  },
  {
   "cell_type": "markdown",
   "metadata": {},
   "source": [
    "**Question 9:** Write a program that asks for integer input. Use a while loop with a try/except block to account for incorrect inputs. "
   ]
  },
  {
   "cell_type": "code",
   "execution_count": 4,
   "metadata": {
    "collapsed": false
   },
   "outputs": [
    {
     "name": "stdout",
     "output_type": "stream",
     "text": [
      "Give me an integer:3.2\n",
      "An INTEGER, you idiot\n",
      "Give me an integer:3\n",
      "Thank you\n"
     ]
    }
   ],
   "source": [
    "while True:\n",
    "    try: \n",
    "        x = int(input('Give me an integer:'))\n",
    "        print('Thank you')\n",
    "        break\n",
    "    \n",
    "    except ValueError:\n",
    "        print('An INTEGER, you idiot')"
   ]
  },
  {
   "cell_type": "markdown",
   "metadata": {},
   "source": [
    "**Question 10:** Reverse the list below. "
   ]
  },
  {
   "cell_type": "code",
   "execution_count": 15,
   "metadata": {
    "collapsed": true
   },
   "outputs": [],
   "source": [
    "myList2 = list('abcdefghijklmnop')"
   ]
  },
  {
   "cell_type": "code",
   "execution_count": 17,
   "metadata": {
    "collapsed": false
   },
   "outputs": [
    {
     "name": "stdout",
     "output_type": "stream",
     "text": [
      "ponmlkjihgfedcba\n"
     ]
    }
   ],
   "source": [
    "myList2 = list('abcdefghijklmnop')\n",
    "myList2_split = str(myList2).split(\"'\")\n",
    "myList2_rev = ''.join(sorted(myList2_split, reverse=True))\n",
    "print(myList2_rev[0:16]) #cheated here"
   ]
  },
  {
   "cell_type": "markdown",
   "metadata": {},
   "source": [
    "**Question 11:** Sort the list below."
   ]
  },
  {
   "cell_type": "code",
   "execution_count": 15,
   "metadata": {
    "collapsed": true
   },
   "outputs": [],
   "source": [
    "myList3 = [2, 5, 3, 7, 1, 4]"
   ]
  },
  {
   "cell_type": "code",
   "execution_count": 20,
   "metadata": {
    "collapsed": false
   },
   "outputs": [
    {
     "name": "stdout",
     "output_type": "stream",
     "text": [
      "[1, 2, 3, 4, 5, 7]\n"
     ]
    }
   ],
   "source": [
    "myList3 = [2, 5, 3, 7, 1, 4]\n",
    "myList3 = sorted(myList3)\n",
    "print(myList3)"
   ]
  },
  {
   "cell_type": "code",
   "execution_count": 25,
   "metadata": {
    "collapsed": false
   },
   "outputs": [
    {
     "name": "stdout",
     "output_type": "stream",
     "text": [
      "[1, 2, 3, 4, 5, 7]\n"
     ]
    }
   ],
   "source": [
    "myList3 = [2, 5, 3, 7, 1, 4]\n",
    "myList3.sort()\n",
    "print(myList3)"
   ]
  },
  {
   "cell_type": "markdown",
   "metadata": {},
   "source": [
    "**Question 12:** Use `map()` to create a function which finds the length of each word in the phrase (broken by spaces) and return the values in a list. Remember, in ATBS Chapter 6 (strings) we have a string method for separating strings. "
   ]
  },
  {
   "cell_type": "code",
   "execution_count": 19,
   "metadata": {
    "collapsed": true
   },
   "outputs": [],
   "source": [
    "myString5 = \"How long are each of the words in this string\""
   ]
  },
  {
   "cell_type": "code",
   "execution_count": 32,
   "metadata": {
    "collapsed": false
   },
   "outputs": [
    {
     "name": "stdout",
     "output_type": "stream",
     "text": [
      "['How', 'long', 'are', 'each', 'of', 'the', 'words', 'in', 'this', 'string']\n",
      "[('How', 3), ('long', 4), ('are', 3), ('each', 4), ('of', 2), ('the', 3), ('words', 5), ('in', 2), ('this', 4), ('string', 6)]\n"
     ]
    }
   ],
   "source": [
    "myString5 = \"How long are each of the words in this string\"\n",
    "splitString = myString5.split()\n",
    "print(splitString)\n",
    "WordLengths = [(word, len(word)) for word in splitString]\n",
    "print(WordLengths)"
   ]
  },
  {
   "cell_type": "markdown",
   "metadata": {},
   "source": [
    "**Question 13:** Write a function that takes in two inputs: a list of words and a letter. Your function should return a new list of all the words in the original list that start with the letter you specified. "
   ]
  },
  {
   "cell_type": "code",
   "execution_count": 72,
   "metadata": {
    "collapsed": false
   },
   "outputs": [
    {
     "data": {
      "text/plain": [
       "['hello', 'ham', 'hi', 'heart']"
      ]
     },
     "execution_count": 72,
     "metadata": {},
     "output_type": "execute_result"
    }
   ],
   "source": [
    "l = ['hello','are','cat','dog','ham','hi','go','to','heart']\n",
    "\n",
    "def startsWithLetter(wordList, letter):\n",
    "    Words = []\n",
    "    for word in wordList:\n",
    "        if word[0] == letter:\n",
    "            Words.append(word)\n",
    "    return Words\n",
    "\n",
    "startsWithLetter(l, 'h')"
   ]
  },
  {
   "cell_type": "code",
   "execution_count": 22,
   "metadata": {
    "collapsed": false
   },
   "outputs": [
    {
     "data": {
      "text/plain": [
       "['hello', 'ham', 'hi', 'heart']"
      ]
     },
     "execution_count": 22,
     "metadata": {},
     "output_type": "execute_result"
    }
   ],
   "source": [
    "\n",
    "# use this list\n",
    "l = ['hello','are','cat','dog','ham','hi','go','to','heart']\n",
    "\n",
    "# your solution should return the same results as this does\n",
    "startsWithLetter(l, 'h')"
   ]
  },
  {
   "cell_type": "markdown",
   "metadata": {},
   "source": [
    "**Question 14:** How many of the integers in the following list have values that equal their index?"
   ]
  },
  {
   "cell_type": "code",
   "execution_count": 23,
   "metadata": {
    "collapsed": true
   },
   "outputs": [],
   "source": [
    "myList4 = [0,2,2,1,5,5,6,10]"
   ]
  },
  {
   "cell_type": "code",
   "execution_count": 11,
   "metadata": {
    "collapsed": false
   },
   "outputs": [
    {
     "name": "stdout",
     "output_type": "stream",
     "text": [
      "[0, 2, 5, 6]\n",
      "4\n"
     ]
    }
   ],
   "source": [
    "myList4 = [0,2,2,1,5,5,6,10]\n",
    "myListEn = list(enumerate(myList4))\n",
    "Sames = []\n",
    "for k, v in myListEn:\n",
    "    if k == v:\n",
    "        Sames.append(v)\n",
    "print(Sames)\n",
    "print(len(Sames))\n",
    "        "
   ]
  },
  {
   "cell_type": "markdown",
   "metadata": {},
   "source": [
    "**Question 15:** Below are two lists of $x$ values and $y$ values. Combine these two lists in to a list of 2-tuples of the form $(x, y)$. For example, if I had `xList = [1, 2]` and `yList = [3, 4]`, your code should give `[(1, 3), (2, 4)]`. "
   ]
  },
  {
   "cell_type": "code",
   "execution_count": 25,
   "metadata": {
    "collapsed": false
   },
   "outputs": [],
   "source": [
    "xValues = [1, 2, 3, 4, 5]\n",
    "yValues = [2, 4, 6, 8, 10]"
   ]
  },
  {
   "cell_type": "code",
   "execution_count": 7,
   "metadata": {
    "collapsed": false
   },
   "outputs": [
    {
     "name": "stdout",
     "output_type": "stream",
     "text": [
      "[(1, 2), (2, 4), (3, 6), (4, 8), (5, 10)]\n"
     ]
    }
   ],
   "source": [
    "xValues = [1, 2, 3, 4, 5]\n",
    "yValues = [2, 4, 6, 8, 10]\n",
    "zList = list(zip(xValues, yValues))\n",
    "print(zList)"
   ]
  },
  {
   "cell_type": "markdown",
   "metadata": {},
   "source": [
    "**Question 16:** Write a function that returns the volume of a sphere, given it's radius as input. "
   ]
  },
  {
   "cell_type": "code",
   "execution_count": 12,
   "metadata": {
    "collapsed": false
   },
   "outputs": [
    {
     "data": {
      "text/plain": [
       "137258.16149333332"
      ]
     },
     "execution_count": 12,
     "metadata": {},
     "output_type": "execute_result"
    }
   ],
   "source": [
    "def sphereVolume(radius):\n",
    "    Vol = (4/3)* 3.14159 * radius**3\n",
    "    return Vol\n",
    "\n",
    "sphereVolume(32)"
   ]
  },
  {
   "cell_type": "markdown",
   "metadata": {},
   "source": [
    "**Question 17:** Write a function that checks whether or not a number is included in a given range. Whether or not you're inclusive of the endpoints is up to you, but make sure you're aware of your choice of endpoint inclusion/exclusion. You function should only return a boolean value of `True` or `False`. "
   ]
  },
  {
   "cell_type": "code",
   "execution_count": 67,
   "metadata": {
    "collapsed": false
   },
   "outputs": [
    {
     "data": {
      "text/plain": [
       "False"
      ]
     },
     "execution_count": 67,
     "metadata": {},
     "output_type": "execute_result"
    }
   ],
   "source": [
    "def inRange(num, low, high):\n",
    "    if num <= high and num >= low: #inclusive\n",
    "        return True\n",
    "    else:\n",
    "        return False\n",
    "\n",
    "inRange(8,1,7)"
   ]
  },
  {
   "cell_type": "markdown",
   "metadata": {},
   "source": [
    "**Question 18:** Write a function that takes a list as input, and returns the unique elements of that list. Be careful! Don't make a function that only works for one datatype!"
   ]
  },
  {
   "cell_type": "code",
   "execution_count": 11,
   "metadata": {
    "collapsed": false
   },
   "outputs": [
    {
     "name": "stdout",
     "output_type": "stream",
     "text": [
      "{1, 2.6, 3, 4, 5, 6, 7, 43, 'labrador', 'retriever'}\n"
     ]
    }
   ],
   "source": [
    "def ListFunc(list):\n",
    "    print(set(list))\n",
    "        \n",
    "RandoList = [1,2.6,4,4,4,4,2.6,5,6,7,43,'labrador', 3, 'retriever', 'labrador']\n",
    "ListFunc(RandoList)"
   ]
  },
  {
   "cell_type": "code",
   "execution_count": null,
   "metadata": {
    "collapsed": true
   },
   "outputs": [],
   "source": []
  },
  {
   "cell_type": "markdown",
   "metadata": {},
   "source": [
    "**Question 19:** Write a python function to multiple all numbers in a list together. For example:\n",
    "\n",
    "```\n",
    "Sample List = [1, 2, 3, -4]\n",
    "Expected Output = -24\n",
    "```"
   ]
  },
  {
   "cell_type": "code",
   "execution_count": 62,
   "metadata": {
    "collapsed": false
   },
   "outputs": [
    {
     "data": {
      "text/plain": [
       "-24"
      ]
     },
     "execution_count": 62,
     "metadata": {},
     "output_type": "execute_result"
    }
   ],
   "source": [
    "def ListMult(list):\n",
    "    mult=1\n",
    "    for num in list:\n",
    "        mult *= num\n",
    "    return mult\n",
    "\n",
    "SampList = [1,2,3,-4]\n",
    "\n",
    "ListMult(SampList)"
   ]
  },
  {
   "cell_type": "markdown",
   "metadata": {},
   "source": [
    "**Question 20:** Write a function that checks whether or not a string passed to the function is a palindrome or not. "
   ]
  },
  {
   "cell_type": "code",
   "execution_count": null,
   "metadata": {
    "collapsed": true
   },
   "outputs": [],
   "source": []
  },
  {
   "cell_type": "code",
   "execution_count": 10,
   "metadata": {
    "collapsed": false
   },
   "outputs": [
    {
     "name": "stdout",
     "output_type": "stream",
     "text": [
      "Enter the phrase you'd like to check:poop\n"
     ]
    },
    {
     "data": {
      "text/plain": [
       "'This phrase is a palindrome'"
      ]
     },
     "execution_count": 10,
     "metadata": {},
     "output_type": "execute_result"
    }
   ],
   "source": [
    "def PalinCheck(string):\n",
    "    #First Build the reverse string as in Problem 1 above:\n",
    "    RevString = []\n",
    "    counter =1\n",
    "    while True:\n",
    "        RevString.append(string[(counter*-1)])\n",
    "        counter += 1\n",
    "        if counter == len(string)+1:\n",
    "            break\n",
    "        \n",
    "    RevString = ''.join(RevString)\n",
    "   \n",
    "    \n",
    "    #Test equivalence of forward and reverse strings\n",
    "    if RevString == string:\n",
    "        return 'This phrase is a palindrome'\n",
    "    else:\n",
    "        return 'This phrase is NOT a palindrome'\n",
    "    \n",
    "word = input(\"Enter the phrase you'd like to check:\")    \n",
    "PalinCheck(word)\n",
    "    \n"
   ]
  },
  {
   "cell_type": "code",
   "execution_count": null,
   "metadata": {
    "collapsed": true
   },
   "outputs": [],
   "source": []
  }
 ],
 "metadata": {
  "kernelspec": {
   "display_name": "Python 3",
   "language": "python",
   "name": "python3"
  },
  "language_info": {
   "codemirror_mode": {
    "name": "ipython",
    "version": 3
   },
   "file_extension": ".py",
   "mimetype": "text/x-python",
   "name": "python",
   "nbconvert_exporter": "python",
   "pygments_lexer": "ipython3",
   "version": "3.4.3"
  }
 },
 "nbformat": 4,
 "nbformat_minor": 0
}
