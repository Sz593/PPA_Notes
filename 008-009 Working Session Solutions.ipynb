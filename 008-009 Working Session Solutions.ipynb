{
 "cells": [
  {
   "cell_type": "markdown",
   "metadata": {},
   "source": [
    "# Working Session - Problem Set\n",
    "\n",
    "**Question 1:** Reverse this string. "
   ]
  },
  {
   "cell_type": "code",
   "execution_count": 1,
   "metadata": {
    "collapsed": true
   },
   "outputs": [],
   "source": [
    "myString = \"I'm like hey, what's up? Hello.\""
   ]
  },
  {
   "cell_type": "code",
   "execution_count": 2,
   "metadata": {
    "collapsed": false
   },
   "outputs": [
    {
     "name": "stdout",
     "output_type": "stream",
     "text": [
      ".olleH ?pu s'tahw ,yeh ekil m'I\n"
     ]
    }
   ],
   "source": [
    "# Solution 1\n",
    "reversedList = []\n",
    "for i in range(len(myString)):\n",
    "    x = len(myString) - 1\n",
    "    reversedList.append(myString[x - i])\n",
    "\n",
    "myReversedString = ''.join(reversedList)\n",
    "print(myReversedString)"
   ]
  },
  {
   "cell_type": "code",
   "execution_count": 3,
   "metadata": {
    "collapsed": false
   },
   "outputs": [
    {
     "name": "stdout",
     "output_type": "stream",
     "text": [
      ".olleH ?pu s'tahw ,yeh ekil m'I\n"
     ]
    }
   ],
   "source": [
    "# Solution 2\n",
    "reversedList1 = []\n",
    "for letter in reversed(myString):\n",
    "    reversedList1.append(letter)\n",
    "\n",
    "myReversedString1 = ''.join(reversedList1)\n",
    "print(myReversedString1)"
   ]
  },
  {
   "cell_type": "code",
   "execution_count": 4,
   "metadata": {
    "collapsed": false
   },
   "outputs": [
    {
     "data": {
      "text/plain": [
       "\".olleH ?pu s'tahw ,yeh ekil m'I\""
      ]
     },
     "execution_count": 4,
     "metadata": {},
     "output_type": "execute_result"
    }
   ],
   "source": [
    "# Solution 3\n",
    "myString[::-1]"
   ]
  },
  {
   "cell_type": "markdown",
   "metadata": {},
   "source": [
    "**Question 2:** What are the unique values in this list below?"
   ]
  },
  {
   "cell_type": "code",
   "execution_count": 5,
   "metadata": {
    "collapsed": false
   },
   "outputs": [],
   "source": [
    "myList = [1, 2, 3, 5, 2, 43, 7, 4, 7, 3, 6, 0, 9, 8, 12, 4, 2, 1]"
   ]
  },
  {
   "cell_type": "code",
   "execution_count": 6,
   "metadata": {
    "collapsed": false
   },
   "outputs": [
    {
     "name": "stdout",
     "output_type": "stream",
     "text": [
      "[1, 2, 3, 5, 43, 7, 4, 6, 0, 9, 8, 12]\n"
     ]
    }
   ],
   "source": [
    "# Solution 1\n",
    "uniqueList = []\n",
    "for item in myList:\n",
    "    if item not in uniqueList:\n",
    "        uniqueList.append(item)\n",
    "\n",
    "print(uniqueList)"
   ]
  },
  {
   "cell_type": "code",
   "execution_count": 7,
   "metadata": {
    "collapsed": false
   },
   "outputs": [
    {
     "data": {
      "text/plain": [
       "[0, 1, 2, 3, 4, 5, 6, 7, 8, 9, 43, 12]"
      ]
     },
     "execution_count": 7,
     "metadata": {},
     "output_type": "execute_result"
    }
   ],
   "source": [
    "# Solution 2\n",
    "list(set(myList))"
   ]
  },
  {
   "cell_type": "markdown",
   "metadata": {},
   "source": [
    "**Question 3:** Print out the words that start with the letter \"s\". "
   ]
  },
  {
   "cell_type": "code",
   "execution_count": 8,
   "metadata": {
    "collapsed": true
   },
   "outputs": [],
   "source": [
    "myString2 = 'Print only the words that start with s in this sentence'"
   ]
  },
  {
   "cell_type": "code",
   "execution_count": 9,
   "metadata": {
    "collapsed": false
   },
   "outputs": [
    {
     "name": "stdout",
     "output_type": "stream",
     "text": [
      "start\n",
      "s\n",
      "sentence\n"
     ]
    }
   ],
   "source": [
    "# Solution 1\n",
    "for word in myString2.split():\n",
    "    if word[0] == 's':\n",
    "        print(word)"
   ]
  },
  {
   "cell_type": "markdown",
   "metadata": {},
   "source": [
    "**Question 4:** Create a list of all the numbers from 1 to 50 (including both 1 and 50) that are divisible by 3. "
   ]
  },
  {
   "cell_type": "code",
   "execution_count": 10,
   "metadata": {
    "collapsed": false
   },
   "outputs": [
    {
     "name": "stdout",
     "output_type": "stream",
     "text": [
      "[3, 6, 9, 12, 15, 18, 21, 24, 27, 30, 33, 36, 39, 42, 45, 48]\n"
     ]
    }
   ],
   "source": [
    "# Solution 1\n",
    "listByThree = []\n",
    "for i in range(1, 51):\n",
    "    if i % 3 == 0:\n",
    "        listByThree.append(i)\n",
    "\n",
    "print(listByThree)"
   ]
  },
  {
   "cell_type": "code",
   "execution_count": 11,
   "metadata": {
    "collapsed": false
   },
   "outputs": [
    {
     "name": "stdout",
     "output_type": "stream",
     "text": [
      "[3, 6, 9, 12, 15, 18, 21, 24, 27, 30, 33, 36, 39, 42, 45, 48]\n"
     ]
    }
   ],
   "source": [
    "# Solution 2\n",
    "listByThree_2 = [i for i in range(1, 51) if i % 3 == 0]\n",
    "print(listByThree_2)"
   ]
  },
  {
   "cell_type": "code",
   "execution_count": 12,
   "metadata": {
    "collapsed": false
   },
   "outputs": [
    {
     "name": "stdout",
     "output_type": "stream",
     "text": [
      "[3, 6, 9, 12, 15, 18, 21, 24, 27, 30, 33, 36, 39, 42, 45, 48]\n"
     ]
    }
   ],
   "source": [
    "# Solution 3\n",
    "listByThree_3 = filter(lambda x: x % 3 == 0, range(1, 51))\n",
    "print(list(listByThree_3))"
   ]
  },
  {
   "cell_type": "code",
   "execution_count": 13,
   "metadata": {
    "collapsed": false
   },
   "outputs": [
    {
     "name": "stdout",
     "output_type": "stream",
     "text": [
      "[3, 6, 9, 12, 15, 18, 21, 24, 27, 30, 33, 36, 39, 42, 45, 48]\n"
     ]
    }
   ],
   "source": [
    "# Solution 4\n",
    "listByThree_4 = list(range(3, 51, 3))\n",
    "print(listByThree_4)"
   ]
  },
  {
   "cell_type": "markdown",
   "metadata": {},
   "source": [
    "**Question 5:** Print out every word in the string below where the lenth of the word is an even number."
   ]
  },
  {
   "cell_type": "code",
   "execution_count": 14,
   "metadata": {
    "collapsed": true
   },
   "outputs": [],
   "source": [
    "myString3 = 'Print every word in this sentence that has an even number of letters'"
   ]
  },
  {
   "cell_type": "code",
   "execution_count": 15,
   "metadata": {
    "collapsed": false
   },
   "outputs": [
    {
     "name": "stdout",
     "output_type": "stream",
     "text": [
      "word\n",
      "in\n",
      "this\n",
      "sentence\n",
      "that\n",
      "an\n",
      "even\n",
      "number\n",
      "of\n"
     ]
    }
   ],
   "source": [
    "# Solution 1\n",
    "for word in myString3.split():\n",
    "    if len(word) % 2 == 0:\n",
    "        print(word)"
   ]
  },
  {
   "cell_type": "code",
   "execution_count": 16,
   "metadata": {
    "collapsed": false
   },
   "outputs": [
    {
     "name": "stdout",
     "output_type": "stream",
     "text": [
      "['word', 'in', 'this', 'sentence', 'that', 'an', 'even', 'number', 'of']\n"
     ]
    }
   ],
   "source": [
    "# Solution 2\n",
    "print(list(filter(lambda x: len(x) % 2 == 0, myString3.split())))"
   ]
  },
  {
   "cell_type": "markdown",
   "metadata": {},
   "source": [
    "**Question 6:** Write a program that prints the integers from 1 to 100. But for multiples of three print \"Fizz\" instead of the number, and for the multiples of five print \"Buzz\". For numbers which are multiples of both three and five print \"FizzBuzz\"."
   ]
  },
  {
   "cell_type": "code",
   "execution_count": 17,
   "metadata": {
    "collapsed": false
   },
   "outputs": [
    {
     "name": "stdout",
     "output_type": "stream",
     "text": [
      "1\n",
      "2\n",
      "Fizz\n",
      "4\n",
      "Buzz\n",
      "Fizz\n",
      "7\n",
      "8\n",
      "Fizz\n",
      "Buzz\n",
      "11\n",
      "Fizz\n",
      "13\n",
      "14\n",
      "FizzBuzz\n",
      "16\n",
      "17\n",
      "Fizz\n",
      "19\n",
      "Buzz\n",
      "Fizz\n",
      "22\n",
      "23\n",
      "Fizz\n",
      "Buzz\n",
      "26\n",
      "Fizz\n",
      "28\n",
      "29\n",
      "FizzBuzz\n",
      "31\n"
     ]
    }
   ],
   "source": [
    "# Solution 1 (I only ran it from 1 to 31 to save space.)\n",
    "for num in range(1,32):\n",
    "    if num % 5 == 0 and num % 3 == 0:\n",
    "        print(\"FizzBuzz\")\n",
    "    elif num % 3 == 0:\n",
    "        print(\"Fizz\")\n",
    "    elif num % 5 == 0:\n",
    "        print(\"Buzz\")\n",
    "    else:\n",
    "        print(num)"
   ]
  },
  {
   "cell_type": "markdown",
   "metadata": {},
   "source": [
    "**Question 7:** Using the string below, create a list of the first letter of each word in the string. "
   ]
  },
  {
   "cell_type": "code",
   "execution_count": 18,
   "metadata": {
    "collapsed": true
   },
   "outputs": [],
   "source": [
    "myString4 = 'Create a list of the first letters of every word in this string'"
   ]
  },
  {
   "cell_type": "code",
   "execution_count": 19,
   "metadata": {
    "collapsed": false
   },
   "outputs": [
    {
     "data": {
      "text/plain": [
       "['C', 'a', 'l', 'o', 't', 'f', 'l', 'o', 'e', 'w', 'i', 't', 's']"
      ]
     },
     "execution_count": 19,
     "metadata": {},
     "output_type": "execute_result"
    }
   ],
   "source": [
    "# Solution 1\n",
    "[word[0] for word in myString4.split()]"
   ]
  },
  {
   "cell_type": "markdown",
   "metadata": {},
   "source": [
    "**Question 8:** Handle the exception thrown by the code below by using try and except blocks. After your code is done running, print \"Complete\" (it should print \"Complete\" regardless of whether an exception was thrown or not). "
   ]
  },
  {
   "cell_type": "code",
   "execution_count": 20,
   "metadata": {
    "collapsed": false
   },
   "outputs": [
    {
     "name": "stdout",
     "output_type": "stream",
     "text": [
      "Please don't divide by zero, stupid...\n",
      "Complete\n"
     ]
    }
   ],
   "source": [
    "x = 5\n",
    "y = 0\n",
    "\n",
    "# Solution 1\n",
    "try:\n",
    "    x / y\n",
    "except ZeroDivisionError:\n",
    "    print(\"Please don't divide by zero, stupid...\")\n",
    "finally:\n",
    "    print('Complete')"
   ]
  },
  {
   "cell_type": "markdown",
   "metadata": {},
   "source": [
    "**Question 9:** Write a program that asks for integer input. Use a while loop with a try/except block to account for incorrect inputs. "
   ]
  },
  {
   "cell_type": "code",
   "execution_count": 21,
   "metadata": {
    "collapsed": false
   },
   "outputs": [
    {
     "name": "stdout",
     "output_type": "stream",
     "text": [
      "Please enter an integer: No\n",
      "No you twat, and integer...\n",
      "Please enter an integer: Five\n",
      "No you twat, and integer...\n",
      "Please enter an integer: 8\n"
     ]
    }
   ],
   "source": [
    "# Solution 1\n",
    "while True:\n",
    "    try:\n",
    "        x = int(input('Please enter an integer: '))\n",
    "        break\n",
    "    except ValueError:\n",
    "        print('No you fool, an integer...')"
   ]
  },
  {
   "cell_type": "markdown",
   "metadata": {},
   "source": [
    "**Question 10:** Reverse the list below. "
   ]
  },
  {
   "cell_type": "code",
   "execution_count": 22,
   "metadata": {
    "collapsed": true
   },
   "outputs": [],
   "source": [
    "myList2 = list('abcdefghijklmnop')"
   ]
  },
  {
   "cell_type": "code",
   "execution_count": 23,
   "metadata": {
    "collapsed": false
   },
   "outputs": [
    {
     "name": "stdout",
     "output_type": "stream",
     "text": [
      "['p', 'o', 'n', 'm', 'l', 'k', 'j', 'i', 'h', 'g', 'f', 'e', 'd', 'c', 'b', 'a']\n"
     ]
    }
   ],
   "source": [
    "# Solution 1\n",
    "myList2_reversed = []\n",
    "for letter in reversed(myList2):\n",
    "    myList2_reversed.append(letter)\n",
    "\n",
    "print(myList2_reversed)"
   ]
  },
  {
   "cell_type": "code",
   "execution_count": 24,
   "metadata": {
    "collapsed": false
   },
   "outputs": [
    {
     "name": "stdout",
     "output_type": "stream",
     "text": [
      "['p', 'o', 'n', 'm', 'l', 'k', 'j', 'i', 'h', 'g', 'f', 'e', 'd', 'c', 'b', 'a']\n"
     ]
    }
   ],
   "source": [
    "# Solution 2\n",
    "print(list(reversed(myList2)))"
   ]
  },
  {
   "cell_type": "code",
   "execution_count": 25,
   "metadata": {
    "collapsed": false
   },
   "outputs": [
    {
     "name": "stdout",
     "output_type": "stream",
     "text": [
      "['p', 'o', 'n', 'm', 'l', 'k', 'j', 'i', 'h', 'g', 'f', 'e', 'd', 'c', 'b', 'a']\n"
     ]
    }
   ],
   "source": [
    "# Solution 3\n",
    "myList2.reverse()\n",
    "print(myList2)"
   ]
  },
  {
   "cell_type": "markdown",
   "metadata": {},
   "source": [
    "**Question 11:** Sort the list below."
   ]
  },
  {
   "cell_type": "code",
   "execution_count": 26,
   "metadata": {
    "collapsed": true
   },
   "outputs": [],
   "source": [
    "myList3 = [2, 5, 3, 7, 1, 4]"
   ]
  },
  {
   "cell_type": "code",
   "execution_count": 27,
   "metadata": {
    "collapsed": false
   },
   "outputs": [
    {
     "name": "stdout",
     "output_type": "stream",
     "text": [
      "[1, 2, 3, 4, 5, 7]\n"
     ]
    }
   ],
   "source": [
    "# Solution 1\n",
    "print(sorted(myList3))"
   ]
  },
  {
   "cell_type": "code",
   "execution_count": 28,
   "metadata": {
    "collapsed": false
   },
   "outputs": [
    {
     "name": "stdout",
     "output_type": "stream",
     "text": [
      "[1, 2, 3, 4, 5, 7]\n"
     ]
    }
   ],
   "source": [
    "# Solution 2\n",
    "myList3.sort()\n",
    "print(myList3)"
   ]
  },
  {
   "cell_type": "markdown",
   "metadata": {},
   "source": [
    "**Question 12:** Use `map()` to create a function which finds the length of each word in the phrase (broken by spaces) and return the values in a list. Remember, in ATBS Chapter 6 (strings) we have a string method for separating strings. "
   ]
  },
  {
   "cell_type": "code",
   "execution_count": 29,
   "metadata": {
    "collapsed": true
   },
   "outputs": [],
   "source": [
    "myString5 = \"How long are each of the words in this string\""
   ]
  },
  {
   "cell_type": "code",
   "execution_count": 30,
   "metadata": {
    "collapsed": false
   },
   "outputs": [
    {
     "data": {
      "text/plain": [
       "[3, 4, 3, 4, 2, 3, 5, 2, 4, 6]"
      ]
     },
     "execution_count": 30,
     "metadata": {},
     "output_type": "execute_result"
    }
   ],
   "source": [
    "# Solution 1\n",
    "list(map(len, myString5.split()))"
   ]
  },
  {
   "cell_type": "markdown",
   "metadata": {},
   "source": [
    "**Question 13:** Write a function that takes in two inputs: a list of words and a letter. Your function should return a new list of all the words in the original list that start with the letter you specified. "
   ]
  },
  {
   "cell_type": "code",
   "execution_count": 31,
   "metadata": {
    "collapsed": true
   },
   "outputs": [],
   "source": [
    "# Solution 1\n",
    "def startsWithLetter(wordList, letter):\n",
    "    resultsList = []\n",
    "    for word in wordList:\n",
    "        if word[0] == letter:\n",
    "            resultsList.append(word)\n",
    "    return resultsList"
   ]
  },
  {
   "cell_type": "code",
   "execution_count": 32,
   "metadata": {
    "collapsed": false
   },
   "outputs": [
    {
     "data": {
      "text/plain": [
       "['cat']"
      ]
     },
     "execution_count": 32,
     "metadata": {},
     "output_type": "execute_result"
    }
   ],
   "source": [
    "# use this list\n",
    "l = ['hello','are','cat','dog','ham','hi','go','to','heart']\n",
    "\n",
    "# your solution should return the same results as this does\n",
    "startsWithLetter(l, 'c')"
   ]
  },
  {
   "cell_type": "markdown",
   "metadata": {},
   "source": [
    "**Question 14:** How many of the integers in the following list have values that equal their index?"
   ]
  },
  {
   "cell_type": "code",
   "execution_count": 33,
   "metadata": {
    "collapsed": true
   },
   "outputs": [],
   "source": [
    "myList4 = [0,2,2,1,5,5,6,10]"
   ]
  },
  {
   "cell_type": "code",
   "execution_count": 34,
   "metadata": {
    "collapsed": false
   },
   "outputs": [
    {
     "name": "stdout",
     "output_type": "stream",
     "text": [
      "4\n"
     ]
    }
   ],
   "source": [
    "# Solution 1\n",
    "counter = 0\n",
    "for i in range(len(myList4)):\n",
    "    if i == myList4[i]:\n",
    "        counter += 1\n",
    "\n",
    "print(counter)"
   ]
  },
  {
   "cell_type": "code",
   "execution_count": 35,
   "metadata": {
    "collapsed": false
   },
   "outputs": [
    {
     "name": "stdout",
     "output_type": "stream",
     "text": [
      "4\n"
     ]
    }
   ],
   "source": [
    "# Solution 2\n",
    "counter = 0\n",
    "for index, value in enumerate(myList4):\n",
    "    if index == value:\n",
    "        counter += 1\n",
    "\n",
    "print(counter)"
   ]
  },
  {
   "cell_type": "markdown",
   "metadata": {},
   "source": [
    "**Question 15:** Below are two lists of $x$ values and $y$ values. Combine these two lists in to a list of 2-tuples of the form $(x, y)$. For example, if I had `xList = [1, 2]` and `yList = [3, 4]`, your code should give `[(1, 3), (2, 4)]`. "
   ]
  },
  {
   "cell_type": "code",
   "execution_count": 36,
   "metadata": {
    "collapsed": false
   },
   "outputs": [],
   "source": [
    "xValues = [1, 2, 3, 4, 5]\n",
    "yValues = [2, 4, 6, 8, 10]"
   ]
  },
  {
   "cell_type": "code",
   "execution_count": 37,
   "metadata": {
    "collapsed": false
   },
   "outputs": [
    {
     "name": "stdout",
     "output_type": "stream",
     "text": [
      "[(1, 2), (2, 4), (3, 6), (4, 8), (5, 10)]\n"
     ]
    }
   ],
   "source": [
    "# Solution 1\n",
    "tupleList = []\n",
    "if len(xValues) == len(yValues):\n",
    "    for i in range(len(xValues)):\n",
    "        tupleList.append((xValues[i], yValues[i]))\n",
    "\n",
    "print(tupleList)"
   ]
  },
  {
   "cell_type": "code",
   "execution_count": 38,
   "metadata": {
    "collapsed": false
   },
   "outputs": [
    {
     "name": "stdout",
     "output_type": "stream",
     "text": [
      "[(1, 2), (2, 4), (3, 6), (4, 8), (5, 10)]\n"
     ]
    }
   ],
   "source": [
    "# Solution 2\n",
    "print(list(zip(xValues, yValues)))"
   ]
  },
  {
   "cell_type": "markdown",
   "metadata": {},
   "source": [
    "**Question 16:** Write a function that returns the volume of a sphere, given it's radius as input. "
   ]
  },
  {
   "cell_type": "code",
   "execution_count": 39,
   "metadata": {
    "collapsed": false
   },
   "outputs": [
    {
     "data": {
      "text/plain": [
       "4.1887902047863905"
      ]
     },
     "execution_count": 39,
     "metadata": {},
     "output_type": "execute_result"
    }
   ],
   "source": [
    "# Solution 1\n",
    "import math\n",
    "\n",
    "def sphereVolume(radius):\n",
    "    return (4/3) * math.pi * radius**3\n",
    "\n",
    "sphereVolume(1)"
   ]
  },
  {
   "cell_type": "code",
   "execution_count": 40,
   "metadata": {
    "collapsed": false
   },
   "outputs": [
    {
     "data": {
      "text/plain": [
       "Decimal('4.188790204786390821330617957')"
      ]
     },
     "execution_count": 40,
     "metadata": {},
     "output_type": "execute_result"
    }
   ],
   "source": [
    "# Solution 2\n",
    "import math\n",
    "from fractions import Fraction as f\n",
    "from decimal import Decimal as d\n",
    "\n",
    "def sphereVolumeExact(r):\n",
    "    r = d(r)\n",
    "    return d('4')/d('3') * d(math.pi) * r**3\n",
    "\n",
    "sphereVolumeExact(1)"
   ]
  },
  {
   "cell_type": "markdown",
   "metadata": {},
   "source": [
    "**Question 17:** Write a function that checks whether or not a number is included in a given range. Whether or not you're inclusive of the endpoints is up to you, but make sure you're aware of your choice of endpoint inclusion/exclusion. You function should only return a boolean value of `True` or `False`. "
   ]
  },
  {
   "cell_type": "code",
   "execution_count": 41,
   "metadata": {
    "collapsed": false
   },
   "outputs": [
    {
     "data": {
      "text/plain": [
       "True"
      ]
     },
     "execution_count": 41,
     "metadata": {},
     "output_type": "execute_result"
    }
   ],
   "source": [
    "# Solution 1 (inclusive of endpoints)\n",
    "def inRange(num, low, high):\n",
    "    if num >= low and num <= high:\n",
    "        return True\n",
    "    else:\n",
    "        return False\n",
    "\n",
    "inRange(8, 5, 10)"
   ]
  },
  {
   "cell_type": "code",
   "execution_count": 42,
   "metadata": {
    "collapsed": false
   },
   "outputs": [
    {
     "data": {
      "text/plain": [
       "True"
      ]
     },
     "execution_count": 42,
     "metadata": {},
     "output_type": "execute_result"
    }
   ],
   "source": [
    "# Solution 2 (inclusive of endpoints)\n",
    "def inRange(num, low, high):\n",
    "    if num in range(low, high + 1):\n",
    "        return True\n",
    "    else:\n",
    "        return False\n",
    "\n",
    "inRange(12, 10, 20)"
   ]
  },
  {
   "cell_type": "markdown",
   "metadata": {},
   "source": [
    "**Question 18:** Write a function that takes a list as input, and returns the unique elements of that list. Be careful! Don't make a function that only works for one datatype!"
   ]
  },
  {
   "cell_type": "code",
   "execution_count": 43,
   "metadata": {
    "collapsed": false
   },
   "outputs": [
    {
     "name": "stdout",
     "output_type": "stream",
     "text": [
      "testList0 = ['a', 'b', 'a', 'b', 'a', 'b', 'a', 'b', 'a', 'b']\n",
      "testList1 = [0, 1, 2, 3, 4, 5, 6, 7, 8, 9, 10, 11, 12, 13, 14, 0, 1, 2, 3, 9, 10, 11, 12, 13, 14, 15, 16, 17]\n",
      "testList2 = ['a', 'b', 'c', 'd', 'e', 'f', 'g', 'h', 'i', 'b', 'c', 'd', 'e', 'f', 'a', 'b', 'c', 'd']\n",
      "testList3 = [1, 2, 3, 'a', 'b', 'cat', 'elephant', (4, 5), 'b', 2, 3, (4, 5), 'cat']\n",
      "\n",
      "Unique in testList0 = ['a', 'b']\n",
      "Unique in testList1 = [0, 1, 2, 3, 4, 5, 6, 7, 8, 9, 10, 11, 12, 13, 14, 15, 16, 17]\n",
      "Unique in testList2 = ['a', 'b', 'c', 'd', 'e', 'f', 'g', 'h', 'i']\n",
      "Unique in testList3 = [1, 2, 3, 'a', 'b', 'cat', 'elephant', (4, 5)]\n"
     ]
    }
   ],
   "source": [
    "# Solution 1\n",
    "\n",
    "# define testing lists\n",
    "testList0 = ['a', 'b'] * 5\n",
    "testList1 = list(range(0, 15)) + list(range(0, 4)) + list(range(9, 18))\n",
    "testList2 = list('abcdefghi') + list('bcdef') + list('abcd')\n",
    "testList3 = [1, 2, 3, 'a', 'b', 'cat', 'elephant', (4, 5), 'b', 2, 3, (4, 5), 'cat']\n",
    "\n",
    "print('testList0 = ', end='')\n",
    "print(testList0)\n",
    "print('testList1 = ', end='')\n",
    "print(testList1)\n",
    "print('testList2 = ', end='')\n",
    "print(testList2)\n",
    "print('testList3 = ', end='')\n",
    "print(testList3)\n",
    "print()\n",
    "\n",
    "# solution code\n",
    "def uniqueElements(inputList):\n",
    "    inclusionList = []\n",
    "    for element in inputList:\n",
    "        if element not in inclusionList:\n",
    "            inclusionList.append(element)\n",
    "    return inclusionList\n",
    "\n",
    "print('Unique in testList0 = ', end='')\n",
    "print(uniqueElements(testList0))\n",
    "print('Unique in testList1 = ', end='')\n",
    "print(uniqueElements(testList1))\n",
    "print('Unique in testList2 = ', end='')\n",
    "print(uniqueElements(testList2))\n",
    "print('Unique in testList3 = ', end='')\n",
    "print(uniqueElements(testList3))"
   ]
  },
  {
   "cell_type": "code",
   "execution_count": 44,
   "metadata": {
    "collapsed": false
   },
   "outputs": [
    {
     "name": "stdout",
     "output_type": "stream",
     "text": [
      "Unique in testList0 = ['a', 'b']\n",
      "Unique in testList1 = [0, 1, 2, 3, 4, 5, 6, 7, 8, 9, 10, 11, 12, 13, 14, 15, 16, 17]\n",
      "Unique in testList2 = ['d', 'b', 'c', 'h', 'i', 'a', 'f', 'e', 'g']\n",
      "Unique in testList3 = [1, 2, 3, (4, 5), 'b', 'a', 'cat', 'elephant']\n"
     ]
    }
   ],
   "source": [
    "# Solution 2\n",
    "\n",
    "# define testing lists\n",
    "testList0 = ['a', 'b'] * 5\n",
    "testList1 = list(range(0, 15)) + list(range(0, 4)) + list(range(9, 18))\n",
    "testList2 = list('abcdefghi') + list('bcdef') + list('abcd')\n",
    "testList3 = [1, 2, 3, 'a', 'b', 'cat', 'elephant', (4, 5), 'b', 2, 3, (4, 5), 'cat']\n",
    "\n",
    "# solution code\n",
    "def uniqueElements(inputList):\n",
    "    return list(set(inputList))\n",
    "\n",
    "print('Unique in testList0 = ', end='')\n",
    "print(uniqueElements(testList0))\n",
    "print('Unique in testList1 = ', end='')\n",
    "print(uniqueElements(testList1))\n",
    "print('Unique in testList2 = ', end='')\n",
    "print(uniqueElements(testList2))\n",
    "print('Unique in testList3 = ', end='')\n",
    "print(uniqueElements(testList3))"
   ]
  },
  {
   "cell_type": "markdown",
   "metadata": {},
   "source": [
    "**Question 19:** Write a python function to multiple all numbers in a list together. For example:\n",
    "\n",
    "```\n",
    "Sample List = [1, 2, 3, -4]\n",
    "Expected Output = -24\n",
    "```"
   ]
  },
  {
   "cell_type": "code",
   "execution_count": 45,
   "metadata": {
    "collapsed": false
   },
   "outputs": [
    {
     "data": {
      "text/plain": [
       "-24"
      ]
     },
     "execution_count": 45,
     "metadata": {},
     "output_type": "execute_result"
    }
   ],
   "source": [
    "# Solution 1\n",
    "def reduceList(inputList):\n",
    "    total = 1\n",
    "    for i in range(len(inputList)):\n",
    "        total *= inputList[i]\n",
    "    return total\n",
    "\n",
    "reduceList([1, 2, 3, -4])"
   ]
  },
  {
   "cell_type": "code",
   "execution_count": 46,
   "metadata": {
    "collapsed": false
   },
   "outputs": [
    {
     "data": {
      "text/plain": [
       "-24"
      ]
     },
     "execution_count": 46,
     "metadata": {},
     "output_type": "execute_result"
    }
   ],
   "source": [
    "# Solution 2\n",
    "def reduceList(inputList):\n",
    "    total = 1\n",
    "    for number in inputList:\n",
    "        total *= number\n",
    "    return total\n",
    "\n",
    "reduceList([1, 2, 3, -4])"
   ]
  },
  {
   "cell_type": "code",
   "execution_count": 47,
   "metadata": {
    "collapsed": false
   },
   "outputs": [
    {
     "data": {
      "text/plain": [
       "-24"
      ]
     },
     "execution_count": 47,
     "metadata": {},
     "output_type": "execute_result"
    }
   ],
   "source": [
    "# Solution 3 - using a new trick\n",
    "\n",
    "import functools\n",
    "functools.reduce(lambda x, y: x * y, [1, 2, 3, -4])"
   ]
  },
  {
   "cell_type": "markdown",
   "metadata": {},
   "source": [
    "**Question 20:** Write a function that checks whether or not a string passed to the function is a palindrome or not. "
   ]
  },
  {
   "cell_type": "code",
   "execution_count": 48,
   "metadata": {
    "collapsed": false
   },
   "outputs": [
    {
     "name": "stdout",
     "output_type": "stream",
     "text": [
      "Palindrome check: dad -> True\n",
      "Palindrome check: Dad -> False\n",
      "Palindrome check: Madam Im Adam -> False\n"
     ]
    }
   ],
   "source": [
    "# Solution 1\n",
    "def palindrome(x):\n",
    "    for i in range(len(x)):\n",
    "        j = i + 1\n",
    "        if x[i] != x[-j]:\n",
    "            return False\n",
    "            break\n",
    "        else:\n",
    "            continue\n",
    "    return True\n",
    "\n",
    "print('Palindrome check: dad', end=' -> ')\n",
    "print(palindrome('dad'))\n",
    "print('Palindrome check: Dad', end=' -> ')\n",
    "print(palindrome('Dad'))\n",
    "print('Palindrome check: Madam Im Adam', end=' -> ')\n",
    "print(palindrome('Madam Im Adam'))"
   ]
  },
  {
   "cell_type": "code",
   "execution_count": 49,
   "metadata": {
    "collapsed": false
   },
   "outputs": [
    {
     "name": "stdout",
     "output_type": "stream",
     "text": [
      "Palindrome check: dad -> True\n",
      "Palindrome check: Dad -> True\n",
      "Palindrome check: Madam, I'm Adam -> True\n"
     ]
    }
   ],
   "source": [
    "# Solution 2 (Advanced - this solution removes spaces from the check and isn't case-sensitive.)\n",
    "import string\n",
    "\n",
    "def palindrome(inputString):\n",
    "    noSpaces = inputString.replace(' ', '')                         # remove spaces from the string\n",
    "    \n",
    "    for char in string.punctuation:                                 # remove all punctuation characters\n",
    "        noSpaces = noSpaces.replace(char, '')\n",
    "    \n",
    "    lowerInputString = str.lower(noSpaces)                          # make all characters lowercase\n",
    "    return lowerInputString == lowerInputString[::-1]\n",
    "\n",
    "print('Palindrome check: dad', end=' -> ')\n",
    "print(palindrome('dad'))\n",
    "print('Palindrome check: Dad', end=' -> ')\n",
    "print(palindrome('Dad'))\n",
    "print(\"Palindrome check: Madam, I'm Adam\", end=' -> ')\n",
    "print(palindrome(\"Madam, I'm Adam\"))"
   ]
  }
 ],
 "metadata": {
  "kernelspec": {
   "display_name": "Python 3",
   "language": "python",
   "name": "python3"
  },
  "language_info": {
   "codemirror_mode": {
    "name": "ipython",
    "version": 3
   },
   "file_extension": ".py",
   "mimetype": "text/x-python",
   "name": "python",
   "nbconvert_exporter": "python",
   "pygments_lexer": "ipython3",
   "version": "3.4.3"
  }
 },
 "nbformat": 4,
 "nbformat_minor": 0
}
