{
 "cells": [
  {
   "cell_type": "markdown",
   "metadata": {},
   "source": [
    "# PPA Data Science Group Syllabus\n",
    "\n",
    "I've put together a mock-outline of how I see this grouping going for the first few months at least. I'm hoping we can have a bit of a discussion about this and the resources we choose to utilize. \n",
    "\n",
    "### Part 1 - General Python\n",
    "| Session | Date | Classroom Topic | Homework |\n",
    "|:----:|----|----|----|\n",
    "| 1 | 2016-01-12 | Intro. to Python and IPython | [ATBS](https://automatetheboringstuff.com/) Chapter 1 |\n",
    "| 2 | 2016-01-14 | Review ATBS Chap. 1, [Example ML Notebook](http://nbviewer.ipython.org/github/Sz593/PPA_Notes/tree/master/), and Group Planning | ATBS 2 & 3 |\n",
    "| 3 | 2016-01-19 | Review ATBS 2 & 3, Math in Python| ATBS 4 |\n",
    "| 4 | 2016-01-21 | Lists, Tuples, Sets, Built-in Functions/Constants 1| ATBS 5 |\n",
    "| 5 | 2016-01-26 | Reading and writing from files, csv Module, Lambda Functions | ATBS 6 |\n",
    "| 6 | 2016-01-28 | Built-in Functions 2, Comprehensions, and Magic Functions | DMWP 2 - Graphing |\n",
    "| 7 | 2016-02-02 | Standard Library 1 - Data Types, shelve, os, io, sys |  |\n",
    "| 8 | 2016-02-04 | Generators, collections Module | Read OOP [Blog Entry](http://inventwithpython.com/blog/2014/12/02/why-is-object-oriented-programming-useful-with-an-role-playing-game-example/) |\n",
    "| 9 | 2016-02-09 | Classes and Object-Oriented Programming | Start Analysis Course |\n",
    "\n",
    "### Part 2 - Data Analysis in Python\n",
    "| Session | Date | Classroom Topic | Homework |\n",
    "|:----:|----|----|----|\n",
    "| 10 | 2016-02-11 | TBD | TBD |\n",
    "\n",
    "### Part 3 - Data Science in Python\n",
    "\n",
    "| Session | Date | Classroom Topic | Homework |\n",
    "|:----:|:----:|:----:|:----:| \n",
    "| X | X | X | X |\n",
    "\n",
    "### Part 4 - Machine Learning\n",
    "\n",
    "| Session | Date | Classroom Topic | Homework |\n",
    "|:----:|:----:|:----:|:----:| \n",
    "| X | X | X | X |"
   ]
  }
 ],
 "metadata": {
  "kernelspec": {
   "display_name": "Python 3",
   "language": "python",
   "name": "python3"
  },
  "language_info": {
   "codemirror_mode": {
    "name": "ipython",
    "version": 3
   },
   "file_extension": ".py",
   "mimetype": "text/x-python",
   "name": "python",
   "nbconvert_exporter": "python",
   "pygments_lexer": "ipython3",
   "version": "3.4.3"
  }
 },
 "nbformat": 4,
 "nbformat_minor": 0
}
