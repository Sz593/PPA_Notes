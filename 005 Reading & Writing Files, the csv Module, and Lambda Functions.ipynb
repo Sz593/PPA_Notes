{
 "cells": [
  {
   "cell_type": "markdown",
   "metadata": {},
   "source": [
    "# Reading & Writing Files, the csv Module, and Lambda Expressions\n",
    "\n",
    "### Table of Contents\n",
    "1. [Reading Files](#Reading-Files)\n",
    "2. [Writing and Appending Files](#Writing-and-Appending-Files)\n",
    "3. [The csv Module](#The-csv-Module)\n",
    "4. [Lambda Expressions](#Lambda-Expressions)\n",
    "\n",
    "### Reading Files\n",
    "[[back to top]](#Table-of-Contents)\n",
    "[[documentation]](https://docs.python.org/3/tutorial/inputoutput.html#reading-and-writing-files)\n",
    "\n",
    "To read or write to files in Python, we use the `open()` built-in function. This funtion takes two arguments: the filename, and the mode. Some examples of modes include:\n",
    "\n",
    "| Mode | Mode Description |\n",
    "|:---:|------|\n",
    "| 'r' | open for reading (default) |\n",
    "| 'w' | open for writing, truncating the file first |\n",
    "| 'x' | create a new file and open it for writing |\n",
    "| 'a' | open for writing, appending to the end of the file if it exists |\n",
    "| 'b' | binary mode |\n",
    "| 't' | text mode (default) |\n",
    "| '+' | open a disk file for updating (reading and writing) |\n",
    "\n",
    "\n",
    "The default mode is `'rt'` (open for reading text). For binary random access, the mode `'w+b'` opens and truncates the file to 0 bytes, while `'r+b'` opens the file without truncation. The `'x'` mode implies `'w'` and raises an `FileExistsError` if the file already exists. Using `'r+'` opens the file for both reading and writing. The mode argument is optional; `'r'` will be assumed if it’s omitted.\n",
    "\n",
    "Python distinguishes between files opened in binary and text modes, even when the underlying operating system doesn't. Normally, files are opened in text mode, that means, you read and write strings from and to the file, which are encoded in a specific encoding. If encoding is not specified, the default is platform dependent. `'b'` appended to the mode opens the file in binary mode: now the data is read and written in the form of bytes objects. This mode should be used for all files that don’t contain text.\n",
    "\n",
    "Let's read a sample file."
   ]
  },
  {
   "cell_type": "code",
   "execution_count": 1,
   "metadata": {
    "collapsed": false
   },
   "outputs": [],
   "source": [
    "# open the sample text file in read only mode\n",
    "f = open('Sample_Text.txt', 'r')"
   ]
  },
  {
   "cell_type": "code",
   "execution_count": 2,
   "metadata": {
    "collapsed": false
   },
   "outputs": [
    {
     "data": {
      "text/plain": [
       "'Hello, world!\\nThis is my file. \\nLine 3.'"
      ]
     },
     "execution_count": 2,
     "metadata": {},
     "output_type": "execute_result"
    }
   ],
   "source": [
    "# read the contents of the file\n",
    "f.read()"
   ]
  },
  {
   "cell_type": "code",
   "execution_count": 3,
   "metadata": {
    "collapsed": false
   },
   "outputs": [
    {
     "data": {
      "text/plain": [
       "''"
      ]
     },
     "execution_count": 3,
     "metadata": {},
     "output_type": "execute_result"
    }
   ],
   "source": [
    "# read the contents again\n",
    "f.read()"
   ]
  },
  {
   "cell_type": "markdown",
   "metadata": {},
   "source": [
    "Notice how when we read the file the second time, we only get a blank string returned. Imagine reading a book by following the text with your finger, this is similar to how Python reads files. In this example, the 'finger' is the file object's current position. When a file is opened, the position is set to the top of the file. We can see the current position by using the `tell()` method, and `seek()` method to move the position (seeking `0` moves to the start of the file). "
   ]
  },
  {
   "cell_type": "code",
   "execution_count": 4,
   "metadata": {
    "collapsed": false
   },
   "outputs": [
    {
     "data": {
      "text/plain": [
       "41"
      ]
     },
     "execution_count": 4,
     "metadata": {},
     "output_type": "execute_result"
    }
   ],
   "source": [
    "# give the file object's current position\n",
    "f.tell()"
   ]
  },
  {
   "cell_type": "code",
   "execution_count": 5,
   "metadata": {
    "collapsed": false
   },
   "outputs": [
    {
     "data": {
      "text/plain": [
       "0"
      ]
     },
     "execution_count": 5,
     "metadata": {},
     "output_type": "execute_result"
    }
   ],
   "source": [
    "# move the position to the start of the file\n",
    "f.seek(0)"
   ]
  },
  {
   "cell_type": "code",
   "execution_count": 6,
   "metadata": {
    "collapsed": false
   },
   "outputs": [
    {
     "data": {
      "text/plain": [
       "0"
      ]
     },
     "execution_count": 6,
     "metadata": {},
     "output_type": "execute_result"
    }
   ],
   "source": [
    "# check the position again\n",
    "f.tell()"
   ]
  },
  {
   "cell_type": "markdown",
   "metadata": {},
   "source": [
    "We can use the `.readline()` method to go through the file line-by-line. "
   ]
  },
  {
   "cell_type": "code",
   "execution_count": 7,
   "metadata": {
    "collapsed": false
   },
   "outputs": [
    {
     "data": {
      "text/plain": [
       "'Hello, world!\\n'"
      ]
     },
     "execution_count": 7,
     "metadata": {},
     "output_type": "execute_result"
    }
   ],
   "source": [
    "# read the first line of the file\n",
    "f.readline()"
   ]
  },
  {
   "cell_type": "code",
   "execution_count": 8,
   "metadata": {
    "collapsed": false
   },
   "outputs": [
    {
     "data": {
      "text/plain": [
       "'This is my file. \\n'"
      ]
     },
     "execution_count": 8,
     "metadata": {},
     "output_type": "execute_result"
    }
   ],
   "source": [
    "# read the second line\n",
    "f.readline()"
   ]
  },
  {
   "cell_type": "code",
   "execution_count": 9,
   "metadata": {
    "collapsed": false
   },
   "outputs": [
    {
     "data": {
      "text/plain": [
       "0"
      ]
     },
     "execution_count": 9,
     "metadata": {},
     "output_type": "execute_result"
    }
   ],
   "source": [
    "# return to the top of the file\n",
    "f.seek(0)"
   ]
  },
  {
   "cell_type": "markdown",
   "metadata": {},
   "source": [
    "We can also easily loop over the lines in a file."
   ]
  },
  {
   "cell_type": "code",
   "execution_count": 10,
   "metadata": {
    "collapsed": false
   },
   "outputs": [
    {
     "name": "stdout",
     "output_type": "stream",
     "text": [
      "Hello, world!\n",
      "This is my file. \n",
      "Line 3."
     ]
    }
   ],
   "source": [
    "for line in f:\n",
    "    print(line, end='')"
   ]
  },
  {
   "cell_type": "markdown",
   "metadata": {},
   "source": [
    "If we want to read all lines of the file, we can create a list of the lines. This is done by using either `list(f)` or `f.readlines()`. "
   ]
  },
  {
   "cell_type": "code",
   "execution_count": 11,
   "metadata": {
    "collapsed": false
   },
   "outputs": [
    {
     "data": {
      "text/plain": [
       "['Hello, world!\\n', 'This is my file. \\n', 'Line 3.']"
      ]
     },
     "execution_count": 11,
     "metadata": {},
     "output_type": "execute_result"
    }
   ],
   "source": [
    "# read all lines of the file\n",
    "f.seek(0)\n",
    "f.readlines()"
   ]
  },
  {
   "cell_type": "markdown",
   "metadata": {},
   "source": [
    "Before we can move on, we need to close this file. If we don't, the file will stay 'in use' and you won't be able to open it regularly. "
   ]
  },
  {
   "cell_type": "code",
   "execution_count": 12,
   "metadata": {
    "collapsed": true
   },
   "outputs": [],
   "source": [
    "# close the file\n",
    "f.close()"
   ]
  },
  {
   "cell_type": "markdown",
   "metadata": {},
   "source": [
    "### Writing and Appending Files\n",
    "[[back to top]](#Table-of-Contents)\n",
    "\n",
    "\n",
    "Let's create a new file that we can write to. We call the `open()` function with the `'x'` mode to do this. The `'w'` mode is for writing to existing files (the file is truncated first), and `'a'` is used to append to existing files. When you write to a file, the number of characters"
   ]
  },
  {
   "cell_type": "code",
   "execution_count": 13,
   "metadata": {
    "collapsed": false
   },
   "outputs": [],
   "source": [
    "# create a file in write mode\n",
    "f2 = open('Sample-File2.txt', 'x')"
   ]
  },
  {
   "cell_type": "code",
   "execution_count": 14,
   "metadata": {
    "collapsed": false
   },
   "outputs": [
    {
     "data": {
      "text/plain": [
       "14"
      ]
     },
     "execution_count": 14,
     "metadata": {},
     "output_type": "execute_result"
    }
   ],
   "source": [
    "# write to a file\n",
    "f2.write('My first line\\n')"
   ]
  },
  {
   "cell_type": "code",
   "execution_count": 15,
   "metadata": {
    "collapsed": true
   },
   "outputs": [],
   "source": [
    "# close the file\n",
    "f2.close()"
   ]
  },
  {
   "cell_type": "markdown",
   "metadata": {},
   "source": [
    "While the traditional `open()` and `f.close()` functions work well, there's a better way to work with file. Instead, we should use the `with` keyword instead. This has the advantage that the file is properly closed after its suite finishes, even if an exception is raised on the way. It is also much shorter than how files are normally opened, using `try-except-finally` blocks. "
   ]
  },
  {
   "cell_type": "code",
   "execution_count": 16,
   "metadata": {
    "collapsed": true
   },
   "outputs": [],
   "source": [
    "with open('Sample-File2.txt', 'r') as f3:\n",
    "    read_lines = f3.readlines()"
   ]
  },
  {
   "cell_type": "markdown",
   "metadata": {},
   "source": [
    "Now, the file is automatically closed, and we can still reference the lines becaues they're stored in the `read_lines` variable. "
   ]
  },
  {
   "cell_type": "code",
   "execution_count": 17,
   "metadata": {
    "collapsed": false
   },
   "outputs": [
    {
     "data": {
      "text/plain": [
       "['My first line\\n']"
      ]
     },
     "execution_count": 17,
     "metadata": {},
     "output_type": "execute_result"
    }
   ],
   "source": [
    "read_lines"
   ]
  },
  {
   "cell_type": "markdown",
   "metadata": {},
   "source": [
    "### The `csv` Module\n",
    "[[back to top]](#Table-of-Contents)\n",
    "[[documentation]](https://docs.python.org/3/library/csv.html)\n",
    "\n",
    "The csv module implements classes to read and write tabular data in CSV format. It allows programmers to say, “write this data in the format preferred by Excel,” or “read data from this file which was generated by Excel,” without knowing the precise details of the CSV format used by Excel. Programmers can also describe the CSV formats understood by other applications or define their own special-purpose CSV formats. The csv module’s reader and writer objects read and write sequences.\n",
    "\n",
    "The `csv.reader()` function returns a reader object which will iterate over lines in the given csvfile. `csvfile` can be any object which supports the iterator protocol and returns a string each time its `__next__()` method is called — file objects and list objects are both suitable. If `csvfile` is a file object, it should be opened with `newline=''`. Each row read from the csv file is returned as a list of strings. No automatic data type conversion is performed unless the `QUOTE_NONNUMERIC` format option is specified (in which case unquoted fields are transformed into floats).\n",
    "\n",
    "The `csv.writer()` function returns a writer object responsible for converting the user’s data into delimited strings on the given file-like object. `csvfile` can be any object with a `write()` method. If `csvfile` is a file object, it should be opened with `newline=''`. "
   ]
  },
  {
   "cell_type": "code",
   "execution_count": 18,
   "metadata": {
    "collapsed": true
   },
   "outputs": [],
   "source": [
    "# create some lists\n",
    "list1 = list('abcdefghij')\n",
    "list2 = list(range(1, 11))\n",
    "list3 = ['dog', 'cat', 'mouse', 'elephant', 'horse', \n",
    "         'snake', 'bat', 'cow', 'frog', 'bird']"
   ]
  },
  {
   "cell_type": "code",
   "execution_count": 19,
   "metadata": {
    "collapsed": false
   },
   "outputs": [],
   "source": [
    "# write the three lists to a csv file\n",
    "import csv\n",
    "with open('sample_csv.csv', 'w', newline='') as csv1:\n",
    "    writer = csv.writer(csv1)\n",
    "    writer.writerow(list1)\n",
    "    writer.writerow(list2)\n",
    "    writer.writerow(list3)"
   ]
  },
  {
   "cell_type": "code",
   "execution_count": 20,
   "metadata": {
    "collapsed": false
   },
   "outputs": [
    {
     "name": "stdout",
     "output_type": "stream",
     "text": [
      "['a', 'b', 'c', 'd', 'e', 'f', 'g', 'h', 'i', 'j']\n",
      "['1', '2', '3', '4', '5', '6', '7', '8', '9', '10']\n",
      "['dog', 'cat', 'mouse', 'elephant', 'horse', 'snake', 'bat', 'cow', 'frog', 'bird']\n"
     ]
    }
   ],
   "source": [
    "# read the csv file we just wrote\n",
    "with open('sample_csv.csv', 'r', newline='') as csv2:\n",
    "    reader = csv.reader(csv2)\n",
    "    for row in reader:\n",
    "        print(row)"
   ]
  },
  {
   "cell_type": "code",
   "execution_count": 21,
   "metadata": {
    "collapsed": true
   },
   "outputs": [],
   "source": [
    "# store the read data\n",
    "with open('sample_csv.csv', 'r', newline='') as csv2:\n",
    "    reader = csv.reader(csv2)\n",
    "    saved_data = list(reader)"
   ]
  },
  {
   "cell_type": "code",
   "execution_count": 22,
   "metadata": {
    "collapsed": false
   },
   "outputs": [
    {
     "data": {
      "text/plain": [
       "[['a', 'b', 'c', 'd', 'e', 'f', 'g', 'h', 'i', 'j'],\n",
       " ['1', '2', '3', '4', '5', '6', '7', '8', '9', '10'],\n",
       " ['dog',\n",
       "  'cat',\n",
       "  'mouse',\n",
       "  'elephant',\n",
       "  'horse',\n",
       "  'snake',\n",
       "  'bat',\n",
       "  'cow',\n",
       "  'frog',\n",
       "  'bird']]"
      ]
     },
     "execution_count": 22,
     "metadata": {},
     "output_type": "execute_result"
    }
   ],
   "source": [
    "# show the saved data\n",
    "saved_data"
   ]
  },
  {
   "cell_type": "markdown",
   "metadata": {},
   "source": [
    "This returns a list of lists, allowing us to work with it the data like any other list. "
   ]
  },
  {
   "cell_type": "code",
   "execution_count": 23,
   "metadata": {
    "collapsed": false
   },
   "outputs": [
    {
     "data": {
      "text/plain": [
       "'c'"
      ]
     },
     "execution_count": 23,
     "metadata": {},
     "output_type": "execute_result"
    }
   ],
   "source": [
    "# examine a particular element of the saved data\n",
    "saved_data[0][2]"
   ]
  },
  {
   "cell_type": "markdown",
   "metadata": {},
   "source": [
    "There are two very important keywords when dealing with csv files: `delimiter` and `lineterminator`. The `deliminater` keyword allows us to change the delimiter from the default comma to something else (a tab, space, pipe, or something else), and the `lineterminator` allows us to change where we start the next line. \n",
    "\n",
    "Let's do an example where we change the delimiter from a comma to a pipe. We have the `saved_data` list, so we can write this to a new csv object with a pipe delimiter. "
   ]
  },
  {
   "cell_type": "code",
   "execution_count": 24,
   "metadata": {
    "collapsed": false
   },
   "outputs": [],
   "source": [
    "with open('my_pipe_csv.csv', 'w', newline='') as pipecsv:\n",
    "    writer = csv.writer(pipecsv, delimiter='|')\n",
    "    for item in saved_data:\n",
    "        writer.writerow(item)"
   ]
  },
  {
   "cell_type": "markdown",
   "metadata": {},
   "source": [
    "We now have a pipe-delimited csv file. \n",
    "\n",
    "### Lambda Expressions\n",
    "[[back to top]](#Table-of-Contents)\n",
    "[[documentation]](https://docs.python.org/2/tutorial/controlflow.html#lambda-expressions)\n",
    "\n",
    "Lambda expressions, also called lambda functions, are small anonymous functions created with the `lambda` keyword. This function returns the sum of its two arguments: `lambda a, b: a+b`. Lambda functions can be used wherever function objects are required. They are syntactically restricted to a single expression. Semantically, they are just syntactic sugar for a normal function definition. Like nested function definitions, lambda functions can reference variables from the containing scope."
   ]
  },
  {
   "cell_type": "code",
   "execution_count": 25,
   "metadata": {
    "collapsed": false
   },
   "outputs": [],
   "source": [
    "# create a normal function to add 1 to a number\n",
    "def add_one(x):\n",
    "    return x + 1"
   ]
  },
  {
   "cell_type": "code",
   "execution_count": 26,
   "metadata": {
    "collapsed": false
   },
   "outputs": [
    {
     "data": {
      "text/plain": [
       "6"
      ]
     },
     "execution_count": 26,
     "metadata": {},
     "output_type": "execute_result"
    }
   ],
   "source": [
    "# use our function\n",
    "add_one(5)"
   ]
  },
  {
   "cell_type": "markdown",
   "metadata": {},
   "source": [
    "Now, let's make the same function using a lambda expression. "
   ]
  },
  {
   "cell_type": "code",
   "execution_count": 27,
   "metadata": {
    "collapsed": false
   },
   "outputs": [],
   "source": [
    "# create our lambda expression\n",
    "z = lambda x: x + 1"
   ]
  },
  {
   "cell_type": "code",
   "execution_count": 28,
   "metadata": {
    "collapsed": false
   },
   "outputs": [
    {
     "data": {
      "text/plain": [
       "9"
      ]
     },
     "execution_count": 28,
     "metadata": {},
     "output_type": "execute_result"
    }
   ],
   "source": [
    "# use our lambda expression\n",
    "z(8)"
   ]
  },
  {
   "cell_type": "markdown",
   "metadata": {},
   "source": [
    "Let's check the types for both of these. "
   ]
  },
  {
   "cell_type": "code",
   "execution_count": 29,
   "metadata": {
    "collapsed": false
   },
   "outputs": [
    {
     "name": "stdout",
     "output_type": "stream",
     "text": [
      "<class 'function'>\n",
      "<class 'function'>\n"
     ]
    }
   ],
   "source": [
    "print(type(add_one))\n",
    "print(type(z))"
   ]
  },
  {
   "cell_type": "markdown",
   "metadata": {},
   "source": [
    "They're both functions, which is interesting. Typically, we want to use the standard `def` keyword to define functions, because it makes the code much more readable. Lambda expressions are typically used within built-in functions, when we have no need to keep a function for repeated use. Let's go over another use case for lambda expressions. "
   ]
  },
  {
   "cell_type": "code",
   "execution_count": 30,
   "metadata": {
    "collapsed": true
   },
   "outputs": [],
   "source": [
    "# define a list of tuples\n",
    "pairs = [(1, 'one'), (2, 'two'), (3, 'three'), (4, 'four')]"
   ]
  },
  {
   "cell_type": "markdown",
   "metadata": {},
   "source": [
    "If we want to sort the pairs, they will be sorted by the first key. To demonstrate this, let's sort the pairs in reverse."
   ]
  },
  {
   "cell_type": "code",
   "execution_count": 31,
   "metadata": {
    "collapsed": false
   },
   "outputs": [
    {
     "name": "stdout",
     "output_type": "stream",
     "text": [
      "[(4, 'four'), (3, 'three'), (2, 'two'), (1, 'one')]\n"
     ]
    }
   ],
   "source": [
    "# sort the pairs in reverse\n",
    "pairs.sort(reverse=True)\n",
    "print(pairs)"
   ]
  },
  {
   "cell_type": "markdown",
   "metadata": {},
   "source": [
    "Now what is we wanted to sort by the second value in the tuple? We can use a lambda expression to give us the second value of the pair instead. "
   ]
  },
  {
   "cell_type": "code",
   "execution_count": 32,
   "metadata": {
    "collapsed": false
   },
   "outputs": [
    {
     "name": "stdout",
     "output_type": "stream",
     "text": [
      "[(4, 'four'), (1, 'one'), (3, 'three'), (2, 'two')]\n"
     ]
    }
   ],
   "source": [
    "# sort the pairs by the second value (index = 1)\n",
    "pairs.sort(key=lambda pair: pair[1])\n",
    "print(pairs)"
   ]
  }
 ],
 "metadata": {
  "kernelspec": {
   "display_name": "Python 3",
   "language": "python",
   "name": "python3"
  },
  "language_info": {
   "codemirror_mode": {
    "name": "ipython",
    "version": 3
   },
   "file_extension": ".py",
   "mimetype": "text/x-python",
   "name": "python",
   "nbconvert_exporter": "python",
   "pygments_lexer": "ipython3",
   "version": "3.4.3"
  }
 },
 "nbformat": 4,
 "nbformat_minor": 0
}
