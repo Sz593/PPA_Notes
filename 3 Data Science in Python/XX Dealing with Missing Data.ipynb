{
 "cells": [
  {
   "cell_type": "markdown",
   "metadata": {},
   "source": [
    "# Dealing with Missing Data"
   ]
  },
  {
   "cell_type": "code",
   "execution_count": 1,
   "metadata": {
    "collapsed": false
   },
   "outputs": [
    {
     "name": "stderr",
     "output_type": "stream",
     "text": [
      "C:\\Users\\szahn\\Anaconda3\\lib\\site-packages\\matplotlib\\__init__.py:872: UserWarning: axes.color_cycle is deprecated and replaced with axes.prop_cycle; please use the latter.\n",
      "  warnings.warn(self.msg_depr % (key, alt_key))\n"
     ]
    }
   ],
   "source": [
    "# standard imports\n",
    "import numpy as np\n",
    "import pandas as pd\n",
    "\n",
    "# statistics imports\n",
    "import scipy.stats as stats\n",
    "\n",
    "# plotting imports\n",
    "import matplotlib as mpl\n",
    "import matplotlib.pyplot as plt\n",
    "import seaborn as sns\n",
    "\n",
    "%matplotlib inline"
   ]
  },
  {
   "cell_type": "markdown",
   "metadata": {},
   "source": [
    "### Table of Contents\n",
    "1. [Dealing with Missing Data](#Dealing-with-Missing-Data)\n",
    "2. [Basic Imputation](#Basic-Imputation)\n",
    "3. [Impute Using Linear Regression](#Impute-Using-Linear-Regression)\n",
    "4. [Interpolation](#Interpolation)\n",
    "\n",
    "\n",
    "### Dealing with Missing Data\n",
    "[[back to top]](#Table-of-Contents)\n",
    "\n",
    "If the dataset we're working with has missing values, there are two main ways we can deal with the missing values:\n",
    "\n",
    "- Partial Deletion\n",
    "- Imputation\n",
    "\n",
    "For partial deletion, there are two types of partial deletion:\n",
    "\n",
    "1. **Listwise Deletion:** When using listwise deletion, we remove any rows that have `NULL` values in the columns used for the analysis. This can be achieved in Pandas using the `.dropna()` method, using the default `how='any'` (as long as you're not dropping a row based on a `NULL` value in a column that you don't care about). Let's say we have a data set that contains a person ID, age, weight, and height. If we want to perform analysis on age and height, but one person is missing their age in the dataset, we'd exclude that entire row. \n",
    "2. **Pairwise Deletion:** Excludes missing values when performing calculations on the column that contains the missing value, but still uses the available values in other columns. Using the same example as above, if we want to perform analysis on age and height, but one person is missing their age in the dataset, we'd exclude them when looking at age, but keep them in the data while looking at height. \n",
    "\n",
    "Partial deletion has a few challenges associated with it:\n",
    "\n",
    "- If the majority of rows have a `NULL` value in a particular column, removing too many values will greatly reduce the statistical power of our analysis.\n",
    "- If a certain sub-population tends to have a value missing for a particular column, partial deletion may compromise the representativeness of our sample. \n",
    "\n",
    "\n",
    "### Basic Imputation\n",
    "[[back to top]](#Table-of-Contents)\n",
    "\n",
    "Due to some of the problems with just removing missing values, sometimes it's a better idea to make an intelligent guess about the missing values in our data, and this is called *imputation*. There are many ways to impute missing data, but we'll go over some of the basic ones here. \n",
    "\n",
    "One of the most basic ways to impute data is to take the mean of the available data and assign that to all the missing values. One of the benefits of this method of imputation is that it doesn't change the mean of the column; however, this method will decrease the correlation between our imputed variable and any other variable. We can accomplish this type of imputation in Pandas using the `.fillna()` method.\n",
    "\n",
    "### Impute Using Linear Regression\n",
    "[[back to top]](#Table-of-Contents)\n",
    "\n",
    "Another method of imputation is to use a linear regression to estimate the missing values. Here, we'd create an equation to predict the missing values in the data using the information that's available to us. \n",
    "\n",
    "This method, unlike the previous method, amplifies correlation between the imputed variable and the variables used to create the linear regression. Additionally, the imputed values are exact, implying more certainty in the imputed values than we actually have. \n",
    "\n",
    "\n",
    "### Interpolation\n",
    "[[back to top]](#Table-of-Contents)\n",
    "\n",
    "In the mathematical field of numerical analysis, interpolation is a method of constructing new data points within the range of a discrete set of known data points. Both Series and Dataframe objects have an interpolate method that, by default, performs linear interpolation at missing datapoints."
   ]
  },
  {
   "cell_type": "code",
   "execution_count": 2,
   "metadata": {
    "collapsed": false
   },
   "outputs": [
    {
     "data": {
      "text/html": [
       "<div>\n",
       "<table border=\"1\" class=\"dataframe\">\n",
       "  <thead>\n",
       "    <tr style=\"text-align: right;\">\n",
       "      <th></th>\n",
       "      <th>A</th>\n",
       "      <th>B</th>\n",
       "      <th>C</th>\n",
       "    </tr>\n",
       "  </thead>\n",
       "  <tbody>\n",
       "    <tr>\n",
       "      <th>0</th>\n",
       "      <td>-1.472251</td>\n",
       "      <td>1</td>\n",
       "      <td>NaN</td>\n",
       "    </tr>\n",
       "    <tr>\n",
       "      <th>1</th>\n",
       "      <td>0.553938</td>\n",
       "      <td>2</td>\n",
       "      <td>12</td>\n",
       "    </tr>\n",
       "    <tr>\n",
       "      <th>2</th>\n",
       "      <td>0.264419</td>\n",
       "      <td>NaN</td>\n",
       "      <td>13</td>\n",
       "    </tr>\n",
       "    <tr>\n",
       "      <th>3</th>\n",
       "      <td>1.203069</td>\n",
       "      <td>4</td>\n",
       "      <td>NaN</td>\n",
       "    </tr>\n",
       "    <tr>\n",
       "      <th>4</th>\n",
       "      <td>0.053248</td>\n",
       "      <td>5</td>\n",
       "      <td>NaN</td>\n",
       "    </tr>\n",
       "  </tbody>\n",
       "</table>\n",
       "</div>"
      ],
      "text/plain": [
       "          A   B   C\n",
       "0 -1.472251   1 NaN\n",
       "1  0.553938   2  12\n",
       "2  0.264419 NaN  13\n",
       "3  1.203069   4 NaN\n",
       "4  0.053248   5 NaN"
      ]
     },
     "execution_count": 2,
     "metadata": {},
     "output_type": "execute_result"
    }
   ],
   "source": [
    "# create a sample DataFrame with some missing values\n",
    "df = pd.DataFrame({\"A\":np.random.randn(5),\n",
    "                   'B':[1, 2, np.nan, 4, 5],\n",
    "                   'C':[np.nan, 12, 13, np.nan, np.nan]})\n",
    "df"
   ]
  },
  {
   "cell_type": "code",
   "execution_count": 3,
   "metadata": {
    "collapsed": false
   },
   "outputs": [
    {
     "data": {
      "text/html": [
       "<div>\n",
       "<table border=\"1\" class=\"dataframe\">\n",
       "  <thead>\n",
       "    <tr style=\"text-align: right;\">\n",
       "      <th></th>\n",
       "      <th>A</th>\n",
       "      <th>B</th>\n",
       "      <th>C</th>\n",
       "    </tr>\n",
       "  </thead>\n",
       "  <tbody>\n",
       "    <tr>\n",
       "      <th>0</th>\n",
       "      <td>-1.472251</td>\n",
       "      <td>1</td>\n",
       "      <td>NaN</td>\n",
       "    </tr>\n",
       "    <tr>\n",
       "      <th>1</th>\n",
       "      <td>0.553938</td>\n",
       "      <td>2</td>\n",
       "      <td>12</td>\n",
       "    </tr>\n",
       "    <tr>\n",
       "      <th>2</th>\n",
       "      <td>0.264419</td>\n",
       "      <td>3</td>\n",
       "      <td>13</td>\n",
       "    </tr>\n",
       "    <tr>\n",
       "      <th>3</th>\n",
       "      <td>1.203069</td>\n",
       "      <td>4</td>\n",
       "      <td>13</td>\n",
       "    </tr>\n",
       "    <tr>\n",
       "      <th>4</th>\n",
       "      <td>0.053248</td>\n",
       "      <td>5</td>\n",
       "      <td>13</td>\n",
       "    </tr>\n",
       "  </tbody>\n",
       "</table>\n",
       "</div>"
      ],
      "text/plain": [
       "          A  B   C\n",
       "0 -1.472251  1 NaN\n",
       "1  0.553938  2  12\n",
       "2  0.264419  3  13\n",
       "3  1.203069  4  13\n",
       "4  0.053248  5  13"
      ]
     },
     "execution_count": 3,
     "metadata": {},
     "output_type": "execute_result"
    }
   ],
   "source": [
    "# use the .interpolate() method to attempt to fill in the missing values\n",
    "df.interpolate()"
   ]
  }
 ],
 "metadata": {
  "kernelspec": {
   "display_name": "Python 3",
   "language": "python",
   "name": "python3"
  },
  "language_info": {
   "codemirror_mode": {
    "name": "ipython",
    "version": 3
   },
   "file_extension": ".py",
   "mimetype": "text/x-python",
   "name": "python",
   "nbconvert_exporter": "python",
   "pygments_lexer": "ipython3",
   "version": "3.5.1"
  }
 },
 "nbformat": 4,
 "nbformat_minor": 0
}
