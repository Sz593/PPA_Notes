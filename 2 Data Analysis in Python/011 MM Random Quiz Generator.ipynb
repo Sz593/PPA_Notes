{
 "cells": [
  {
   "cell_type": "code",
   "execution_count": 1,
   "metadata": {
    "collapsed": true
   },
   "outputs": [],
   "source": [
    "#Create 35 state capital quizes and answer keys with a randomized order of questions and a randomized order for answers\n",
    "import random\n",
    "#define state capitals in a dictionary\n",
    "capitals = {\"Alabama\": \"Montgomery\", \"Alaska\": \"Juneau\", \"Arizona\": \"Phoenix\",\n",
    "   \"Arkansas\": \"Little Rock\", \"California\": \"Sacramento\", \"Colorado\": \"Denver\",\n",
    "   \"Connecticut\": \"Hartford\", \"Delaware\": \"Dover\", \"Florida\": \"Tallahassee\",\n",
    "   \"Georgia\": \"Atlanta\", \"Hawaii\": \"Honolulu\", \"Idaho\": \"Boise\", \n",
    "   \"Illinois\": \"Springfield\", \"Indiana\": \"Indianapolis\", \"Iowa\": \"Des Moines\", \n",
    "   \"Kansas\": \"Topeka\", \"Kentucky\": \"Frankfort\", \"Louisiana\": \"Baton Rouge\", \n",
    "   \"Maine\": \"Augusta\", \"Maryland\": \"Annapolis\", \"Massachusetts\": \"Boston\",\n",
    "   \"Michigan\": \"Lansing\", \"Minnesota\": \"Saint Paul\", \"Mississippi\": \"Jackson\", \n",
    "   \"Missouri\": \"Jefferson City\", \"Montana\": \"Helena\", \"Nebraska\": \"Lincoln\", \n",
    "   \"Nevada\": \"Carson City\", \"New Hampshire\": \"Concord\", \"New Jersey\": \"Trenton\", \n",
    "   \"New Mexico\": \"Santa Fe\", \"New York\": \"Albany\", \"North Carolina\": \"Raleigh\",\n",
    "   \"North Dakota\": \"Bismarck\", \"Ohio\": \"Columbus\", \"Oklahoma\": \"Oklahoma City\",\n",
    "   \"Oregon\": \"Salem\", \"Pennsylvania\": \"Harrisburg\", \"Rhode Island\": \"Providence\",\n",
    "   \"South Carolina\": \"Columbia\", \"South Dakota\": \"Pierre\", \n",
    "   \"Tennessee\": \"Nashville\", \"Texas\": \"Austin\", \"Utah\": \"Salt Lake City\", \"Vermont\": \"Montpelier\",\n",
    "   \"Virginia\": \"Richmond\", \"Washington\": \"Olympia\", \n",
    "   \"West Virginia\": \"Charleston\", \"Wisconsin\": \"Madison\", \"Wyoming\": \"Cheyenne\"}\n",
    "#Create 35 files for both quiz and ak\n",
    "for i in range(1,36):\n",
    "    with open('capitalsQuiz_%s.txt' % (i), 'w', newline='') as quiz, open('capitalQuizAK_%s.txt' % (i),'w', newline='') as ak:\n",
    "        #Write headers to each file\n",
    "        quiz.write('Name:\\nDate:\\nPeriod:\\n\\n')\n",
    "        quiz.write('State Capitals Quiz '+ str(i))\n",
    "        quiz.write('\\n\\n')\n",
    "        ak.write('State Capitals Quiz ' + str(i) + ' Answer Key\\n\\n')\n",
    "        \n",
    "        #Randomize Capitals dict for each quiz and AK\n",
    "        capKeys = list(capitals.keys())\n",
    "        random.shuffle(capKeys)\n",
    "        \n",
    "        #Create 50 questions for each quiz and AK\n",
    "        for j in range (1,51):\n",
    "            \n",
    "            #Ask question for state at j-1 position in capitals\n",
    "            quiz.write('%s) What is the capital of %s?\\n' % (j,capKeys[j-1]))\n",
    "            \n",
    "            #use dict functionality to lookup correct answer in capitals\n",
    "            correctAnswer = [capitals[capKeys[j-1]]]\n",
    "            \n",
    "            #Remove correct answer from the pool of other choices\n",
    "            allAnswers = list(capitals.values())\n",
    "            allAnswers.remove(correctAnswer[0])\n",
    "            \n",
    "            #Create answer set of 4 including correct answer\n",
    "            otherAnswers = random.sample(allAnswers,3)\n",
    "            answerSet = correctAnswer + otherAnswers\n",
    "            \n",
    "            #Assign answer set to random spots a thru d\n",
    "            multChoice = list(range(0,4))\n",
    "            random.shuffle(multChoice)\n",
    "            \n",
    "            #Print answer choices on quiz in multiple choice format \n",
    "            quiz.write('A. %s \\nB. %s \\nC. %s \\nD. %s\\n\\n' % (answerSet[multChoice[0]],answerSet[multChoice[1]],\n",
    "                                         answerSet[multChoice[2]],answerSet[multChoice[3]]))\n",
    "            #Print correct answer choice on answer key-very clunky due to randomizing answers a thru d\n",
    "            choices = ['A','B','C','D']\n",
    "            answerKey = [answerSet[multChoice[0]],answerSet[multChoice[1]],\n",
    "                                         answerSet[multChoice[2]],answerSet[multChoice[3]]]\n",
    "            ak.write('%s) %s. %s\\n\\n' %(j,choices[answerKey.index(correctAnswer[0])],correctAnswer[0]))\n"
   ]
  }
 ],
 "metadata": {
  "kernelspec": {
   "display_name": "Python 3",
   "language": "python",
   "name": "python3"
  },
  "language_info": {
   "codemirror_mode": {
    "name": "ipython",
    "version": 3
   },
   "file_extension": ".py",
   "mimetype": "text/x-python",
   "name": "python",
   "nbconvert_exporter": "python",
   "pygments_lexer": "ipython3",
   "version": "3.5.1"
  }
 },
 "nbformat": 4,
 "nbformat_minor": 0
}
