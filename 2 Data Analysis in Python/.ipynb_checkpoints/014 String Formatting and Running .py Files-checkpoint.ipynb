{
 "cells": [
  {
   "cell_type": "markdown",
   "metadata": {},
   "source": [
    "# 014 String Formatting and Running .py Files\n",
    "\n",
    "### Table of Contents\n",
    "1. [Running .py Files on Your Computer](#Running-.py-Files-on-Your-Computer)\n",
    "  1. [Windows Batch Files to Run Python Scripts](#Windows-Batch-Files-to-Run-Python-Scripts)\n",
    "2. [Extended Iterable Unpacking](#Extended-Iterable-Unpacking)\n",
    "3. [String Formatting](#String-Formatting)\n",
    "  1. [Accessing Arguments by Position and Name](#Accessing-Arguments-by-Position-and-Name)\n",
    "  2. [Aligning Text and Specifying Width](#Aligning-Text-and-Specifying-Width)\n",
    "  3. [Formatting Numerical Values](#Formatting-Numerical-Values)\n",
    "\n",
    "\n",
    "\n",
    "### Running .py Files on Your Computer\n",
    "[[back to top]](#Table-of-Contents)\n",
    "[[documentation]](https://docs.python.org/3/using/windows.html)\n",
    "\n",
    "To create a Python script file, write you Python code in the editor of your choice, and save the file as a .py file. Then, right-click your .py file, and go to properties. In the properties window, you'll have an \"Open With\" option. You'll need to locate the python.exe executable to specify that .py files should be opened with Python. Since we're using Anaconda, you should be able to find the file here:\n",
    "\n",
    "```\n",
    "C:\\Users\\%username%\\AppData\\Local\\Continuum\\Anaconda3\\python.exe\n",
    "```\n",
    "\n",
    "where `%username%` should be your Windows login. As a side note, `%username%` is actually a DOS variable, so you can actually use that filepath in the Windows DOS Command Prompt or .bat scripts. \n",
    "\n",
    "When creating a python script (not a notebook), you should put a [shebang line](https://docs.python.org/3/using/windows.html#shebang-lines) as the first line of your .py file. For us on Windows 7 using Python 3, the shebang line should be\n",
    "\n",
    "```\n",
    "#! python3\n",
    "```\n",
    "\n",
    "This tells the interpreter that we want to use Python 3 vs. Python 2.\n",
    "\n",
    "##### Windows Batch Files to Run Python Scripts\n",
    "Create a simple script, like this one:\n",
    "\n",
    "``` python\n",
    "#! python3\n",
    "\n",
    "x = input('What is your name?')\n",
    "print('Hello, {}'.format(x))\n",
    "```\n",
    "\n",
    "This script asks for your name, and then says hello. If you run this script by double-clicking it, it'll open in Python, ask your name, and then disappear. That's because as soon as the script is complete, the cmd prompt vanishes. To prevent that, we can make a batch (.bat) file to exectute the script. The batch file should read as follows:\n",
    "\n",
    "```\n",
    "@echo off\n",
    "C:\\Users\\%username%\\AppData\\Local\\Continuum\\Anaconda3\\python.exe \"C:\\Users\\%username%\\Documents\\Python Scripts\\myScript.py\" %*\n",
    "\n",
    "timeout 5 > nul\n",
    "```\n",
    "\n",
    "The top line, `@echo off`, tells us not to print the Windows DOS information that we don't care about. The next bit (all on one line), should have three arguments, separated by spaces. The first is the path to the python.exe file, the second is the path to your .py script, and the third is `%*`.\n",
    "\n",
    "Finally, the last line is `timeout 5 > nul`, which tells the cmd prompt to stay open for 5 seconds after the script finishes running. Note that any filepaths that contain spaces need to be enclosed in double quotes (see the path to my script in the sample .bat file above). "
   ]
  },
  {
   "cell_type": "markdown",
   "metadata": {},
   "source": [
    "### Iterable Unpacking\n",
    "[[back to top]](#Table-of-Contents)\n",
    "[[Iterable And Dictionary Unpacking]](https://docs.python.org/3.5/tutorial/controlflow.html#unpacking-argument-lists)\n",
    "[[Extended Iterable Unpacking]](https://www.python.org/dev/peps/pep-3132/)\n",
    "\n",
    "As a quick aside, we need to talk about extended unpacking. Iterable unpacking is when you take the values in an iterable (like a list or tuple) and assign them to variables. Here's a quick example."
   ]
  },
  {
   "cell_type": "code",
   "execution_count": 65,
   "metadata": {
    "collapsed": false
   },
   "outputs": [
    {
     "name": "stdout",
     "output_type": "stream",
     "text": [
      "The value of x is: 3.\tThe value of y is: 4.\n"
     ]
    }
   ],
   "source": [
    "# create an iterable\n",
    "myTuple = (3, 4)\n",
    "\n",
    "# unpack the iterable into variables x and y\n",
    "x, y = myTuple\n",
    "\n",
    "# display the variable values\n",
    "print('The value of x is: ', x, '.\\tThe value of y is: ', y, '.', sep='')"
   ]
  },
  {
   "cell_type": "markdown",
   "metadata": {},
   "source": [
    "What if we don't want to store the values in variables, but we just want to use them to calculate something? We can do that too using the `*` operator. "
   ]
  },
  {
   "cell_type": "code",
   "execution_count": 66,
   "metadata": {
    "collapsed": false
   },
   "outputs": [
    {
     "name": "stdout",
     "output_type": "stream",
     "text": [
      "Normal Method: [3, 4, 5, 6, 7, 8, 9]\n",
      "Iterable Unpacking: [3, 4, 5, 6, 7, 8, 9]\n"
     ]
    }
   ],
   "source": [
    "# create an iterable\n",
    "myList = [3, 10]\n",
    "\n",
    "# print a range function the normal way\n",
    "print('Normal Method:', list(range(3, 10)))\n",
    "\n",
    "# print a range function the normal way\n",
    "print('Iterable Unpacking:',list(range(*myList)))"
   ]
  },
  {
   "cell_type": "markdown",
   "metadata": {},
   "source": [
    "Now, let's say we have a longer iterable. What is we want to unpack the first two values, but don't care about the rest? We can also use the `*` operator before a value to say \"put the rest here.\""
   ]
  },
  {
   "cell_type": "code",
   "execution_count": 67,
   "metadata": {
    "collapsed": false
   },
   "outputs": [
    {
     "name": "stdout",
     "output_type": "stream",
     "text": [
      "myList =  [2, 4, 6, 8, 10, 12, 14, 16, 18, 20] \n",
      "\n",
      "The value of x is: 2\n",
      "The value of y is: 4\n",
      "The value of z is: 6\n",
      "The value of rest is: [8, 10, 12, 14, 16, 18, 20]\n"
     ]
    }
   ],
   "source": [
    "# create an iterable \n",
    "myList = [x for x in range(1, 21) if x % 2 == 0 ]\n",
    "print('myList = ', myList, '\\n')\n",
    "\n",
    "# unpack the first three values of the iterable, and put the remaining values into the 'rest' variable\n",
    "x, y, z, *rest = myList\n",
    "\n",
    "# display the variable values\n",
    "print('The value of x is:', x)\n",
    "print('The value of y is:', y)\n",
    "print('The value of z is:', z)\n",
    "print('The value of rest is:', rest)"
   ]
  },
  {
   "cell_type": "markdown",
   "metadata": {},
   "source": [
    "Notice how everything that isn't unpacked into a variable is put into the variable `rest`. Typically, in Python, when we want to create a throwaway variable, we use a single underscore. So, the above code would look like:"
   ]
  },
  {
   "cell_type": "code",
   "execution_count": 68,
   "metadata": {
    "collapsed": false
   },
   "outputs": [
    {
     "name": "stdout",
     "output_type": "stream",
     "text": [
      "The value of x is: 2\n",
      "The value of y is: 4\n",
      "The value of z is: 6\n"
     ]
    }
   ],
   "source": [
    "# unpack the first three values of the iterable, and put the remaining values into the 'rest' variable\n",
    "x, y, z, *_ = myList\n",
    "\n",
    "# display the variable values\n",
    "print('The value of x is:', x)\n",
    "print('The value of y is:', y)\n",
    "print('The value of z is:', z)"
   ]
  },
  {
   "cell_type": "markdown",
   "metadata": {},
   "source": [
    "Just as the `*` operator is used for iterable unpacking, the `**` operator is used for dictionary unpacking. "
   ]
  },
  {
   "cell_type": "markdown",
   "metadata": {},
   "source": [
    "### String Formatting\n",
    "[[back to top]](#Table-of-Contents)\n",
    "[[documentation]](https://docs.python.org/3/library/string.html#custom-string-formatting)\n",
    "\n",
    "We actually used an example of this above. Custom string formatting is when you have a string, and follow it using the `.format()` method. This can be extremely helpful in printing things legibly, since you can control things like alignment of text and the format of numbers. \n",
    "\n",
    "Format strings contain “replacement fields” surrounded by curly braces {}. Anything that is not contained in braces is considered literal text, which is copied unchanged to the output. If you need to include a brace character in the literal text, it can be escaped by doubling: {{ and }}.\n",
    "\n",
    "We can use numerical (positional) arguments to specify which curly braces get replaced with which argument, or we can leave the curly braces blank and replace them in order of position. We can also access the values by using named variables, or a dictionary.\n",
    "\n",
    "##### Accessing Arguments by Position and Name"
   ]
  },
  {
   "cell_type": "code",
   "execution_count": 69,
   "metadata": {
    "collapsed": false
   },
   "outputs": [
    {
     "name": "stdout",
     "output_type": "stream",
     "text": [
      "a, b, c\n"
     ]
    }
   ],
   "source": [
    "# use specified positional arguments\n",
    "print('{0}, {1}, {2}'.format('a', 'b', 'c'))"
   ]
  },
  {
   "cell_type": "code",
   "execution_count": 70,
   "metadata": {
    "collapsed": false
   },
   "outputs": [
    {
     "name": "stdout",
     "output_type": "stream",
     "text": [
      "a, b, c\n"
     ]
    }
   ],
   "source": [
    "# use implied positional arguments, Python 3.1+ only\n",
    "print('{}, {}, {}'.format('a', 'b', 'c'))"
   ]
  },
  {
   "cell_type": "code",
   "execution_count": 71,
   "metadata": {
    "collapsed": false
   },
   "outputs": [
    {
     "name": "stdout",
     "output_type": "stream",
     "text": [
      "c, b, a\n"
     ]
    }
   ],
   "source": [
    "# change up the positions a bit\n",
    "print('{2}, {1}, {0}'.format('a', 'b', 'c'))"
   ]
  },
  {
   "cell_type": "code",
   "execution_count": 72,
   "metadata": {
    "collapsed": false
   },
   "outputs": [
    {
     "name": "stdout",
     "output_type": "stream",
     "text": [
      "abracadabra\n"
     ]
    }
   ],
   "source": [
    "# repeat arguments\n",
    "print('{0}{1}{0}'.format('abra', 'cad'))"
   ]
  },
  {
   "cell_type": "code",
   "execution_count": 73,
   "metadata": {
    "collapsed": false
   },
   "outputs": [
    {
     "name": "stdout",
     "output_type": "stream",
     "text": [
      "c, b, a\n"
     ]
    }
   ],
   "source": [
    "# we can use unpacking here too\n",
    "print('{2}, {1}, {0}'.format(*'abc'))"
   ]
  },
  {
   "cell_type": "code",
   "execution_count": 74,
   "metadata": {
    "collapsed": false
   },
   "outputs": [
    {
     "name": "stdout",
     "output_type": "stream",
     "text": [
      "Coordinates: 37.24N, -115.81W\n"
     ]
    }
   ],
   "source": [
    "# access arguments using named variables\n",
    "print('Coordinates: {latitude}, {longitude}'.format(latitude='37.24N', longitude='-115.81W'))"
   ]
  },
  {
   "cell_type": "code",
   "execution_count": 75,
   "metadata": {
    "collapsed": false
   },
   "outputs": [
    {
     "name": "stdout",
     "output_type": "stream",
     "text": [
      "Coordinates: 37.24N, -115.81W\n"
     ]
    }
   ],
   "source": [
    "# access arguments using a dictionary, using the dictionary unpacking operator **\n",
    "coord = {'latitude': '37.24N', 'longitude': '-115.81W'}\n",
    "print('Coordinates: {latitude}, {longitude}'.format(**coord))"
   ]
  },
  {
   "cell_type": "markdown",
   "metadata": {},
   "source": [
    "When using the `string.format()` method, what we've seen in the curly brackets so far is called the replacement field. The replacement field starts with the *field name*, which is the value to be replaced (we used numerical or text arguments above). \n",
    "\n",
    "After the *field name*, we can optionally have a *conversion field*, which is preceeded by an exclamation point. The *converstion field* specifies the datatype we want coming out of the replacement field (string, representation, etc.). Finally, we can have a *format_spec*, which is preceded by a colon. This specifies a non-default format for the replacement value. \n",
    "\n",
    "##### Aligning Text and Specifying Width"
   ]
  },
  {
   "cell_type": "code",
   "execution_count": 76,
   "metadata": {
    "collapsed": false
   },
   "outputs": [
    {
     "data": {
      "text/plain": [
       "'left aligned                  '"
      ]
     },
     "execution_count": 76,
     "metadata": {},
     "output_type": "execute_result"
    }
   ],
   "source": [
    "# left align text\n",
    "'{:<30}'.format('left aligned')"
   ]
  },
  {
   "cell_type": "code",
   "execution_count": 77,
   "metadata": {
    "collapsed": false
   },
   "outputs": [
    {
     "data": {
      "text/plain": [
       "'                 right aligned'"
      ]
     },
     "execution_count": 77,
     "metadata": {},
     "output_type": "execute_result"
    }
   ],
   "source": [
    "# right align text\n",
    "'{:>30}'.format('right aligned')"
   ]
  },
  {
   "cell_type": "code",
   "execution_count": 78,
   "metadata": {
    "collapsed": false
   },
   "outputs": [
    {
     "data": {
      "text/plain": [
       "'           centered           '"
      ]
     },
     "execution_count": 78,
     "metadata": {},
     "output_type": "execute_result"
    }
   ],
   "source": [
    "# center text\n",
    "'{:^30}'.format('centered')"
   ]
  },
  {
   "cell_type": "code",
   "execution_count": 79,
   "metadata": {
    "collapsed": false
   },
   "outputs": [
    {
     "data": {
      "text/plain": [
       "'***********centered***********'"
      ]
     },
     "execution_count": 79,
     "metadata": {},
     "output_type": "execute_result"
    }
   ],
   "source": [
    "# center text and use '*' as a fill char\n",
    "'{:*^30}'.format('centered')"
   ]
  },
  {
   "cell_type": "markdown",
   "metadata": {},
   "source": [
    "##### Formatting Numerical Values\n",
    "\n",
    "There are several formatting options we can use with numerical values. "
   ]
  },
  {
   "cell_type": "code",
   "execution_count": 80,
   "metadata": {
    "collapsed": false
   },
   "outputs": [
    {
     "name": "stdout",
     "output_type": "stream",
     "text": [
      "My decimal is 3.14\n"
     ]
    }
   ],
   "source": [
    "# show number as a decimal with two digits after the decimal\n",
    "print('My decimal is {:.2f}'.format(3.1415927))"
   ]
  },
  {
   "cell_type": "code",
   "execution_count": 81,
   "metadata": {
    "collapsed": false
   },
   "outputs": [
    {
     "name": "stdout",
     "output_type": "stream",
     "text": [
      "My percentage is 12.346%\n"
     ]
    }
   ],
   "source": [
    "# show the number as a percentage with 3 decimal points\n",
    "# shows the 'f' format multiplied by 100, and followed by a percent sign\n",
    "print('My percentage is {:.3%}'.format(0.123456789))"
   ]
  },
  {
   "cell_type": "code",
   "execution_count": 82,
   "metadata": {
    "collapsed": false
   },
   "outputs": [
    {
     "name": "stdout",
     "output_type": "stream",
     "text": [
      "This is a huge number! 1,000,000,000\n"
     ]
    }
   ],
   "source": [
    "# use a thousands-place comma separator\n",
    "print('This is a huge number! {:,}'.format(1000000000))"
   ]
  },
  {
   "cell_type": "code",
   "execution_count": 83,
   "metadata": {
    "collapsed": false
   },
   "outputs": [
    {
     "name": "stdout",
     "output_type": "stream",
     "text": [
      "This is another huge number! 1.000000e+09\n"
     ]
    }
   ],
   "source": [
    "# give the number is exponent notation\n",
    "print('This is another huge number! {:e}'.format(1000000000))"
   ]
  }
 ],
 "metadata": {
  "kernelspec": {
   "display_name": "Python 3",
   "language": "python",
   "name": "python3"
  },
  "language_info": {
   "codemirror_mode": {
    "name": "ipython",
    "version": 3
   },
   "file_extension": ".py",
   "mimetype": "text/x-python",
   "name": "python",
   "nbconvert_exporter": "python",
   "pygments_lexer": "ipython3",
   "version": "3.5.1"
  }
 },
 "nbformat": 4,
 "nbformat_minor": 0
}
