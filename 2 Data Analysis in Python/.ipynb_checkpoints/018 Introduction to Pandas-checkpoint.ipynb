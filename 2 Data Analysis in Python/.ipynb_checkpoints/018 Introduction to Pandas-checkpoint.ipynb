{
 "cells": [
  {
   "cell_type": "code",
   "execution_count": 2,
   "metadata": {
    "collapsed": true
   },
   "outputs": [],
   "source": [
    "# standard imports\n",
    "import numpy as np\n",
    "import pandas as pd\n",
    "# import scipy.stats as stats\n",
    "# from sklearn import ...\n",
    "\n",
    "# graphing imports\n",
    "import matplotlib as mpl\n",
    "import matplotlib.pyplot as plt\n",
    "# import seaborn as sns\n",
    "\n",
    "%matplotlib inline"
   ]
  },
  {
   "cell_type": "code",
   "execution_count": 3,
   "metadata": {
    "collapsed": false
   },
   "outputs": [],
   "source": [
    "# create a data frame from a table copied from wikipedia\n",
    "calgary_df = pd.read_clipboard()"
   ]
  },
  {
   "cell_type": "code",
   "execution_count": 6,
   "metadata": {
    "collapsed": false
   },
   "outputs": [
    {
     "name": "stdout",
     "output_type": "stream",
     "text": [
      "<class 'pandas.core.frame.DataFrame'>\n",
      "Int64Index: 11 entries, 0 to 10\n",
      "Data columns (total 6 columns):\n",
      "Rank      11 non-null int64\n",
      "Nation    11 non-null object\n",
      "Gold      11 non-null int64\n",
      "Silver    11 non-null int64\n",
      "Bronze    11 non-null int64\n",
      "Total     11 non-null int64\n",
      "dtypes: int64(5), object(1)\n",
      "memory usage: 616.0+ bytes\n"
     ]
    }
   ],
   "source": [
    "# display data frame information\n",
    "calgary_df.info()"
   ]
  },
  {
   "cell_type": "code",
   "execution_count": 7,
   "metadata": {
    "collapsed": true
   },
   "outputs": [],
   "source": [
    "# create a data frame by reading the clipboard using data copied out of Teradata\n",
    "area1_df = pd.read_clipboard()"
   ]
  },
  {
   "cell_type": "code",
   "execution_count": 11,
   "metadata": {
    "collapsed": false
   },
   "outputs": [
    {
     "data": {
      "text/plain": [
       "A    0.936689\n",
       "B    1.631569\n",
       "C   -0.356267\n",
       "D    0.284706\n",
       "E    0.490724\n",
       "F   -0.149918\n",
       "G    0.139905\n",
       "H   -1.156840\n",
       "I   -0.080856\n",
       "J    2.051223\n",
       "dtype: float64"
      ]
     },
     "execution_count": 11,
     "metadata": {},
     "output_type": "execute_result"
    }
   ],
   "source": [
    "# create a series of random normal variables with a specified index\n",
    "s1 = pd.Series(np.random.randn(10), index=list('ABCDEFGHIJ'))\n",
    "s1"
   ]
  },
  {
   "cell_type": "code",
   "execution_count": 15,
   "metadata": {
    "collapsed": false
   },
   "outputs": [
    {
     "data": {
      "text/plain": [
       "A     0\n",
       "B     1\n",
       "C     4\n",
       "E     9\n",
       "G    16\n",
       "H    25\n",
       "I    36\n",
       "J    49\n",
       "K    64\n",
       "L    81\n",
       "dtype: int32"
      ]
     },
     "execution_count": 15,
     "metadata": {},
     "output_type": "execute_result"
    }
   ],
   "source": [
    "# create a series with a custom index\n",
    "s2 = pd.Series(np.arange(10)**2, index=list('ABCEGHIJKL'))\n",
    "s2"
   ]
  },
  {
   "cell_type": "code",
   "execution_count": 19,
   "metadata": {
    "collapsed": false
   },
   "outputs": [
    {
     "data": {
      "text/plain": [
       "A     0.936689\n",
       "B     2.631569\n",
       "C     3.643733\n",
       "E     9.490724\n",
       "G    16.139905\n",
       "H    23.843160\n",
       "I    35.919144\n",
       "J    51.051223\n",
       "dtype: float64"
      ]
     },
     "execution_count": 19,
     "metadata": {},
     "output_type": "execute_result"
    }
   ],
   "source": [
    "# add two pandas series together, and then drop the null values\n",
    "s3 = s1 + s2\n",
    "s3.dropna()"
   ]
  },
  {
   "cell_type": "code",
   "execution_count": 4,
   "metadata": {
    "collapsed": false
   },
   "outputs": [
    {
     "data": {
      "text/plain": [
       "DatetimeIndex(['2015-01-01', '2015-01-02', '2015-01-03', '2015-01-04',\n",
       "               '2015-01-05', '2015-01-06'],\n",
       "              dtype='datetime64[ns]', freq='D')"
      ]
     },
     "execution_count": 4,
     "metadata": {},
     "output_type": "execute_result"
    }
   ],
   "source": [
    "# create a Pandas index of a date range\n",
    "date_list = pd.date_range('20150101', periods=6, freq='D')\n",
    "date_list"
   ]
  },
  {
   "cell_type": "code",
   "execution_count": 5,
   "metadata": {
    "collapsed": false
   },
   "outputs": [
    {
     "data": {
      "text/html": [
       "<div>\n",
       "<table border=\"1\" class=\"dataframe\">\n",
       "  <thead>\n",
       "    <tr style=\"text-align: right;\">\n",
       "      <th></th>\n",
       "      <th>A</th>\n",
       "      <th>B</th>\n",
       "      <th>C</th>\n",
       "      <th>D</th>\n",
       "    </tr>\n",
       "  </thead>\n",
       "  <tbody>\n",
       "    <tr>\n",
       "      <th>2015-01-01</th>\n",
       "      <td>-1.027007</td>\n",
       "      <td>0.295947</td>\n",
       "      <td>0.447634</td>\n",
       "      <td>0.585970</td>\n",
       "    </tr>\n",
       "    <tr>\n",
       "      <th>2015-01-02</th>\n",
       "      <td>0.834807</td>\n",
       "      <td>-0.026989</td>\n",
       "      <td>1.425487</td>\n",
       "      <td>-0.034016</td>\n",
       "    </tr>\n",
       "    <tr>\n",
       "      <th>2015-01-03</th>\n",
       "      <td>-0.111637</td>\n",
       "      <td>1.755979</td>\n",
       "      <td>-1.330637</td>\n",
       "      <td>1.299502</td>\n",
       "    </tr>\n",
       "    <tr>\n",
       "      <th>2015-01-04</th>\n",
       "      <td>1.183336</td>\n",
       "      <td>-1.385654</td>\n",
       "      <td>-0.891763</td>\n",
       "      <td>-2.317539</td>\n",
       "    </tr>\n",
       "    <tr>\n",
       "      <th>2015-01-05</th>\n",
       "      <td>1.241920</td>\n",
       "      <td>2.000216</td>\n",
       "      <td>1.178503</td>\n",
       "      <td>-0.838917</td>\n",
       "    </tr>\n",
       "    <tr>\n",
       "      <th>2015-01-06</th>\n",
       "      <td>0.277866</td>\n",
       "      <td>0.535229</td>\n",
       "      <td>0.352055</td>\n",
       "      <td>0.021119</td>\n",
       "    </tr>\n",
       "  </tbody>\n",
       "</table>\n",
       "</div>"
      ],
      "text/plain": [
       "                   A         B         C         D\n",
       "2015-01-01 -1.027007  0.295947  0.447634  0.585970\n",
       "2015-01-02  0.834807 -0.026989  1.425487 -0.034016\n",
       "2015-01-03 -0.111637  1.755979 -1.330637  1.299502\n",
       "2015-01-04  1.183336 -1.385654 -0.891763 -2.317539\n",
       "2015-01-05  1.241920  2.000216  1.178503 -0.838917\n",
       "2015-01-06  0.277866  0.535229  0.352055  0.021119"
      ]
     },
     "execution_count": 5,
     "metadata": {},
     "output_type": "execute_result"
    }
   ],
   "source": [
    "# create a data frame with the date range index we just created\n",
    "df1 = pd.DataFrame(np.random.randn(6, 4), index=date_list, columns=list('ABCD'))\n",
    "df1"
   ]
  },
  {
   "cell_type": "code",
   "execution_count": 6,
   "metadata": {
    "collapsed": false
   },
   "outputs": [
    {
     "data": {
      "text/html": [
       "<div>\n",
       "<table border=\"1\" class=\"dataframe\">\n",
       "  <thead>\n",
       "    <tr style=\"text-align: right;\">\n",
       "      <th></th>\n",
       "      <th>A</th>\n",
       "      <th>B</th>\n",
       "      <th>C</th>\n",
       "      <th>D</th>\n",
       "      <th>E</th>\n",
       "      <th>F</th>\n",
       "    </tr>\n",
       "  </thead>\n",
       "  <tbody>\n",
       "    <tr>\n",
       "      <th>0</th>\n",
       "      <td>1</td>\n",
       "      <td>2016-02-29</td>\n",
       "      <td>1</td>\n",
       "      <td>3</td>\n",
       "      <td>test</td>\n",
       "      <td>foo</td>\n",
       "    </tr>\n",
       "    <tr>\n",
       "      <th>1</th>\n",
       "      <td>1</td>\n",
       "      <td>2016-02-29</td>\n",
       "      <td>1</td>\n",
       "      <td>3</td>\n",
       "      <td>train</td>\n",
       "      <td>foo</td>\n",
       "    </tr>\n",
       "    <tr>\n",
       "      <th>2</th>\n",
       "      <td>1</td>\n",
       "      <td>2016-02-29</td>\n",
       "      <td>1</td>\n",
       "      <td>3</td>\n",
       "      <td>test</td>\n",
       "      <td>foo</td>\n",
       "    </tr>\n",
       "    <tr>\n",
       "      <th>3</th>\n",
       "      <td>1</td>\n",
       "      <td>2016-02-29</td>\n",
       "      <td>1</td>\n",
       "      <td>3</td>\n",
       "      <td>train</td>\n",
       "      <td>foo</td>\n",
       "    </tr>\n",
       "  </tbody>\n",
       "</table>\n",
       "</div>"
      ],
      "text/plain": [
       "   A          B  C  D      E    F\n",
       "0  1 2016-02-29  1  3   test  foo\n",
       "1  1 2016-02-29  1  3  train  foo\n",
       "2  1 2016-02-29  1  3   test  foo\n",
       "3  1 2016-02-29  1  3  train  foo"
      ]
     },
     "execution_count": 6,
     "metadata": {},
     "output_type": "execute_result"
    }
   ],
   "source": [
    "# create a data frame from a dictionary\n",
    "df2 = pd.DataFrame({'A' : 1., \n",
    "                    'B' : pd.Timestamp('20160229'), \n",
    "                    'C' : pd.Series(1, index=list(range(4)), dtype='float32'), \n",
    "                    'D' : np.array([3] * 4, dtype = 'int32'), \n",
    "                    'E' : pd.Categorical(['test', 'train', 'test', 'train']), \n",
    "                    'F' : 'foo' \n",
    "                   })\n",
    "\n",
    "df2"
   ]
  },
  {
   "cell_type": "code",
   "execution_count": 7,
   "metadata": {
    "collapsed": false
   },
   "outputs": [
    {
     "data": {
      "text/plain": [
       "A           float64\n",
       "B    datetime64[ns]\n",
       "C           float32\n",
       "D             int32\n",
       "E          category\n",
       "F            object\n",
       "dtype: object"
      ]
     },
     "execution_count": 7,
     "metadata": {},
     "output_type": "execute_result"
    }
   ],
   "source": [
    "# show the datatypes in our data frame\n",
    "df2.dtypes"
   ]
  },
  {
   "cell_type": "code",
   "execution_count": 8,
   "metadata": {
    "collapsed": false
   },
   "outputs": [
    {
     "data": {
      "text/html": [
       "<div>\n",
       "<table border=\"1\" class=\"dataframe\">\n",
       "  <thead>\n",
       "    <tr style=\"text-align: right;\">\n",
       "      <th></th>\n",
       "      <th>A</th>\n",
       "      <th>B</th>\n",
       "      <th>C</th>\n",
       "      <th>D</th>\n",
       "    </tr>\n",
       "  </thead>\n",
       "  <tbody>\n",
       "    <tr>\n",
       "      <th>2015-01-01</th>\n",
       "      <td>-1.027007</td>\n",
       "      <td>0.295947</td>\n",
       "      <td>0.447634</td>\n",
       "      <td>0.585970</td>\n",
       "    </tr>\n",
       "    <tr>\n",
       "      <th>2015-01-02</th>\n",
       "      <td>0.834807</td>\n",
       "      <td>-0.026989</td>\n",
       "      <td>1.425487</td>\n",
       "      <td>-0.034016</td>\n",
       "    </tr>\n",
       "    <tr>\n",
       "      <th>2015-01-03</th>\n",
       "      <td>-0.111637</td>\n",
       "      <td>1.755979</td>\n",
       "      <td>-1.330637</td>\n",
       "      <td>1.299502</td>\n",
       "    </tr>\n",
       "    <tr>\n",
       "      <th>2015-01-04</th>\n",
       "      <td>1.183336</td>\n",
       "      <td>-1.385654</td>\n",
       "      <td>-0.891763</td>\n",
       "      <td>-2.317539</td>\n",
       "    </tr>\n",
       "    <tr>\n",
       "      <th>2015-01-05</th>\n",
       "      <td>1.241920</td>\n",
       "      <td>2.000216</td>\n",
       "      <td>1.178503</td>\n",
       "      <td>-0.838917</td>\n",
       "    </tr>\n",
       "  </tbody>\n",
       "</table>\n",
       "</div>"
      ],
      "text/plain": [
       "                   A         B         C         D\n",
       "2015-01-01 -1.027007  0.295947  0.447634  0.585970\n",
       "2015-01-02  0.834807 -0.026989  1.425487 -0.034016\n",
       "2015-01-03 -0.111637  1.755979 -1.330637  1.299502\n",
       "2015-01-04  1.183336 -1.385654 -0.891763 -2.317539\n",
       "2015-01-05  1.241920  2.000216  1.178503 -0.838917"
      ]
     },
     "execution_count": 8,
     "metadata": {},
     "output_type": "execute_result"
    }
   ],
   "source": [
    "# display the top 5 (by default) rows of the data frame\n",
    "df1.head()"
   ]
  },
  {
   "cell_type": "code",
   "execution_count": 9,
   "metadata": {
    "collapsed": false
   },
   "outputs": [
    {
     "data": {
      "text/html": [
       "<div>\n",
       "<table border=\"1\" class=\"dataframe\">\n",
       "  <thead>\n",
       "    <tr style=\"text-align: right;\">\n",
       "      <th></th>\n",
       "      <th>A</th>\n",
       "      <th>B</th>\n",
       "      <th>C</th>\n",
       "      <th>D</th>\n",
       "    </tr>\n",
       "  </thead>\n",
       "  <tbody>\n",
       "    <tr>\n",
       "      <th>2015-01-04</th>\n",
       "      <td>1.183336</td>\n",
       "      <td>-1.385654</td>\n",
       "      <td>-0.891763</td>\n",
       "      <td>-2.317539</td>\n",
       "    </tr>\n",
       "    <tr>\n",
       "      <th>2015-01-05</th>\n",
       "      <td>1.241920</td>\n",
       "      <td>2.000216</td>\n",
       "      <td>1.178503</td>\n",
       "      <td>-0.838917</td>\n",
       "    </tr>\n",
       "    <tr>\n",
       "      <th>2015-01-06</th>\n",
       "      <td>0.277866</td>\n",
       "      <td>0.535229</td>\n",
       "      <td>0.352055</td>\n",
       "      <td>0.021119</td>\n",
       "    </tr>\n",
       "  </tbody>\n",
       "</table>\n",
       "</div>"
      ],
      "text/plain": [
       "                   A         B         C         D\n",
       "2015-01-04  1.183336 -1.385654 -0.891763 -2.317539\n",
       "2015-01-05  1.241920  2.000216  1.178503 -0.838917\n",
       "2015-01-06  0.277866  0.535229  0.352055  0.021119"
      ]
     },
     "execution_count": 9,
     "metadata": {},
     "output_type": "execute_result"
    }
   ],
   "source": [
    "# display the last 3 rows of the data frame\n",
    "df1.tail(3)"
   ]
  },
  {
   "cell_type": "code",
   "execution_count": 10,
   "metadata": {
    "collapsed": false
   },
   "outputs": [
    {
     "data": {
      "text/plain": [
       "DatetimeIndex(['2015-01-01', '2015-01-02', '2015-01-03', '2015-01-04',\n",
       "               '2015-01-05', '2015-01-06'],\n",
       "              dtype='datetime64[ns]', freq='D')"
      ]
     },
     "execution_count": 10,
     "metadata": {},
     "output_type": "execute_result"
    }
   ],
   "source": [
    "# show the data frame index\n",
    "df1.index"
   ]
  },
  {
   "cell_type": "code",
   "execution_count": 11,
   "metadata": {
    "collapsed": false
   },
   "outputs": [
    {
     "data": {
      "text/plain": [
       "Index(['A', 'B', 'C', 'D'], dtype='object')"
      ]
     },
     "execution_count": 11,
     "metadata": {},
     "output_type": "execute_result"
    }
   ],
   "source": [
    "# show the data frame columns\n",
    "df1.columns"
   ]
  },
  {
   "cell_type": "code",
   "execution_count": 12,
   "metadata": {
    "collapsed": false
   },
   "outputs": [
    {
     "data": {
      "text/plain": [
       "array([[-1.02700749,  0.29594742,  0.44763425,  0.58596991],\n",
       "       [ 0.83480722, -0.02698899,  1.42548681, -0.03401619],\n",
       "       [-0.11163731,  1.75597877, -1.33063689,  1.29950236],\n",
       "       [ 1.18333599, -1.38565376, -0.89176314, -2.31753881],\n",
       "       [ 1.24192019,  2.0002164 ,  1.17850304, -0.83891669],\n",
       "       [ 0.27786553,  0.53522917,  0.35205476,  0.02111865]])"
      ]
     },
     "execution_count": 12,
     "metadata": {},
     "output_type": "execute_result"
    }
   ],
   "source": [
    "# show all the non-index or column-name values as a NumPy array\n",
    "df1.values"
   ]
  },
  {
   "cell_type": "code",
   "execution_count": 13,
   "metadata": {
    "collapsed": false
   },
   "outputs": [
    {
     "data": {
      "text/html": [
       "<div>\n",
       "<table border=\"1\" class=\"dataframe\">\n",
       "  <thead>\n",
       "    <tr style=\"text-align: right;\">\n",
       "      <th></th>\n",
       "      <th>A</th>\n",
       "      <th>B</th>\n",
       "      <th>C</th>\n",
       "      <th>D</th>\n",
       "    </tr>\n",
       "  </thead>\n",
       "  <tbody>\n",
       "    <tr>\n",
       "      <th>count</th>\n",
       "      <td>6.000000</td>\n",
       "      <td>6.000000</td>\n",
       "      <td>6.000000</td>\n",
       "      <td>6.000000</td>\n",
       "    </tr>\n",
       "    <tr>\n",
       "      <th>mean</th>\n",
       "      <td>0.399881</td>\n",
       "      <td>0.529122</td>\n",
       "      <td>0.196880</td>\n",
       "      <td>-0.213980</td>\n",
       "    </tr>\n",
       "    <tr>\n",
       "      <th>std</th>\n",
       "      <td>0.874590</td>\n",
       "      <td>1.240913</td>\n",
       "      <td>1.102585</td>\n",
       "      <td>1.251696</td>\n",
       "    </tr>\n",
       "    <tr>\n",
       "      <th>min</th>\n",
       "      <td>-1.027007</td>\n",
       "      <td>-1.385654</td>\n",
       "      <td>-1.330637</td>\n",
       "      <td>-2.317539</td>\n",
       "    </tr>\n",
       "    <tr>\n",
       "      <th>25%</th>\n",
       "      <td>-0.014262</td>\n",
       "      <td>0.053745</td>\n",
       "      <td>-0.580809</td>\n",
       "      <td>-0.637692</td>\n",
       "    </tr>\n",
       "    <tr>\n",
       "      <th>50%</th>\n",
       "      <td>0.556336</td>\n",
       "      <td>0.415588</td>\n",
       "      <td>0.399845</td>\n",
       "      <td>-0.006449</td>\n",
       "    </tr>\n",
       "    <tr>\n",
       "      <th>75%</th>\n",
       "      <td>1.096204</td>\n",
       "      <td>1.450791</td>\n",
       "      <td>0.995786</td>\n",
       "      <td>0.444757</td>\n",
       "    </tr>\n",
       "    <tr>\n",
       "      <th>max</th>\n",
       "      <td>1.241920</td>\n",
       "      <td>2.000216</td>\n",
       "      <td>1.425487</td>\n",
       "      <td>1.299502</td>\n",
       "    </tr>\n",
       "  </tbody>\n",
       "</table>\n",
       "</div>"
      ],
      "text/plain": [
       "              A         B         C         D\n",
       "count  6.000000  6.000000  6.000000  6.000000\n",
       "mean   0.399881  0.529122  0.196880 -0.213980\n",
       "std    0.874590  1.240913  1.102585  1.251696\n",
       "min   -1.027007 -1.385654 -1.330637 -2.317539\n",
       "25%   -0.014262  0.053745 -0.580809 -0.637692\n",
       "50%    0.556336  0.415588  0.399845 -0.006449\n",
       "75%    1.096204  1.450791  0.995786  0.444757\n",
       "max    1.241920  2.000216  1.425487  1.299502"
      ]
     },
     "execution_count": 13,
     "metadata": {},
     "output_type": "execute_result"
    }
   ],
   "source": [
    "# describe (quick summary statistics) on the data frame\n",
    "df1.describe()"
   ]
  },
  {
   "cell_type": "code",
   "execution_count": 14,
   "metadata": {
    "collapsed": false
   },
   "outputs": [
    {
     "data": {
      "text/html": [
       "<div>\n",
       "<table border=\"1\" class=\"dataframe\">\n",
       "  <thead>\n",
       "    <tr style=\"text-align: right;\">\n",
       "      <th></th>\n",
       "      <th>2015-01-01 00:00:00</th>\n",
       "      <th>2015-01-02 00:00:00</th>\n",
       "      <th>2015-01-03 00:00:00</th>\n",
       "      <th>2015-01-04 00:00:00</th>\n",
       "      <th>2015-01-05 00:00:00</th>\n",
       "      <th>2015-01-06 00:00:00</th>\n",
       "    </tr>\n",
       "  </thead>\n",
       "  <tbody>\n",
       "    <tr>\n",
       "      <th>A</th>\n",
       "      <td>-1.027007</td>\n",
       "      <td>0.834807</td>\n",
       "      <td>-0.111637</td>\n",
       "      <td>1.183336</td>\n",
       "      <td>1.241920</td>\n",
       "      <td>0.277866</td>\n",
       "    </tr>\n",
       "    <tr>\n",
       "      <th>B</th>\n",
       "      <td>0.295947</td>\n",
       "      <td>-0.026989</td>\n",
       "      <td>1.755979</td>\n",
       "      <td>-1.385654</td>\n",
       "      <td>2.000216</td>\n",
       "      <td>0.535229</td>\n",
       "    </tr>\n",
       "    <tr>\n",
       "      <th>C</th>\n",
       "      <td>0.447634</td>\n",
       "      <td>1.425487</td>\n",
       "      <td>-1.330637</td>\n",
       "      <td>-0.891763</td>\n",
       "      <td>1.178503</td>\n",
       "      <td>0.352055</td>\n",
       "    </tr>\n",
       "    <tr>\n",
       "      <th>D</th>\n",
       "      <td>0.585970</td>\n",
       "      <td>-0.034016</td>\n",
       "      <td>1.299502</td>\n",
       "      <td>-2.317539</td>\n",
       "      <td>-0.838917</td>\n",
       "      <td>0.021119</td>\n",
       "    </tr>\n",
       "  </tbody>\n",
       "</table>\n",
       "</div>"
      ],
      "text/plain": [
       "   2015-01-01  2015-01-02  2015-01-03  2015-01-04  2015-01-05  2015-01-06\n",
       "A   -1.027007    0.834807   -0.111637    1.183336    1.241920    0.277866\n",
       "B    0.295947   -0.026989    1.755979   -1.385654    2.000216    0.535229\n",
       "C    0.447634    1.425487   -1.330637   -0.891763    1.178503    0.352055\n",
       "D    0.585970   -0.034016    1.299502   -2.317539   -0.838917    0.021119"
      ]
     },
     "execution_count": 14,
     "metadata": {},
     "output_type": "execute_result"
    }
   ],
   "source": [
    "# transpose the data frame\n",
    "df1.T"
   ]
  },
  {
   "cell_type": "code",
   "execution_count": 15,
   "metadata": {
    "collapsed": false
   },
   "outputs": [
    {
     "data": {
      "text/html": [
       "<div>\n",
       "<table border=\"1\" class=\"dataframe\">\n",
       "  <thead>\n",
       "    <tr style=\"text-align: right;\">\n",
       "      <th></th>\n",
       "      <th>D</th>\n",
       "      <th>C</th>\n",
       "      <th>B</th>\n",
       "      <th>A</th>\n",
       "    </tr>\n",
       "  </thead>\n",
       "  <tbody>\n",
       "    <tr>\n",
       "      <th>2015-01-01</th>\n",
       "      <td>0.585970</td>\n",
       "      <td>0.447634</td>\n",
       "      <td>0.295947</td>\n",
       "      <td>-1.027007</td>\n",
       "    </tr>\n",
       "    <tr>\n",
       "      <th>2015-01-02</th>\n",
       "      <td>-0.034016</td>\n",
       "      <td>1.425487</td>\n",
       "      <td>-0.026989</td>\n",
       "      <td>0.834807</td>\n",
       "    </tr>\n",
       "    <tr>\n",
       "      <th>2015-01-03</th>\n",
       "      <td>1.299502</td>\n",
       "      <td>-1.330637</td>\n",
       "      <td>1.755979</td>\n",
       "      <td>-0.111637</td>\n",
       "    </tr>\n",
       "    <tr>\n",
       "      <th>2015-01-04</th>\n",
       "      <td>-2.317539</td>\n",
       "      <td>-0.891763</td>\n",
       "      <td>-1.385654</td>\n",
       "      <td>1.183336</td>\n",
       "    </tr>\n",
       "    <tr>\n",
       "      <th>2015-01-05</th>\n",
       "      <td>-0.838917</td>\n",
       "      <td>1.178503</td>\n",
       "      <td>2.000216</td>\n",
       "      <td>1.241920</td>\n",
       "    </tr>\n",
       "    <tr>\n",
       "      <th>2015-01-06</th>\n",
       "      <td>0.021119</td>\n",
       "      <td>0.352055</td>\n",
       "      <td>0.535229</td>\n",
       "      <td>0.277866</td>\n",
       "    </tr>\n",
       "  </tbody>\n",
       "</table>\n",
       "</div>"
      ],
      "text/plain": [
       "                   D         C         B         A\n",
       "2015-01-01  0.585970  0.447634  0.295947 -1.027007\n",
       "2015-01-02 -0.034016  1.425487 -0.026989  0.834807\n",
       "2015-01-03  1.299502 -1.330637  1.755979 -0.111637\n",
       "2015-01-04 -2.317539 -0.891763 -1.385654  1.183336\n",
       "2015-01-05 -0.838917  1.178503  2.000216  1.241920\n",
       "2015-01-06  0.021119  0.352055  0.535229  0.277866"
      ]
     },
     "execution_count": 15,
     "metadata": {},
     "output_type": "execute_result"
    }
   ],
   "source": [
    "# sort the data frame using the index\n",
    "df1.sort_index(axis=1, ascending=False)"
   ]
  },
  {
   "cell_type": "code",
   "execution_count": 16,
   "metadata": {
    "collapsed": false
   },
   "outputs": [
    {
     "data": {
      "text/html": [
       "<div>\n",
       "<table border=\"1\" class=\"dataframe\">\n",
       "  <thead>\n",
       "    <tr style=\"text-align: right;\">\n",
       "      <th></th>\n",
       "      <th>A</th>\n",
       "      <th>B</th>\n",
       "      <th>C</th>\n",
       "      <th>D</th>\n",
       "    </tr>\n",
       "  </thead>\n",
       "  <tbody>\n",
       "    <tr>\n",
       "      <th>2015-01-04</th>\n",
       "      <td>1.183336</td>\n",
       "      <td>-1.385654</td>\n",
       "      <td>-0.891763</td>\n",
       "      <td>-2.317539</td>\n",
       "    </tr>\n",
       "    <tr>\n",
       "      <th>2015-01-02</th>\n",
       "      <td>0.834807</td>\n",
       "      <td>-0.026989</td>\n",
       "      <td>1.425487</td>\n",
       "      <td>-0.034016</td>\n",
       "    </tr>\n",
       "    <tr>\n",
       "      <th>2015-01-01</th>\n",
       "      <td>-1.027007</td>\n",
       "      <td>0.295947</td>\n",
       "      <td>0.447634</td>\n",
       "      <td>0.585970</td>\n",
       "    </tr>\n",
       "    <tr>\n",
       "      <th>2015-01-06</th>\n",
       "      <td>0.277866</td>\n",
       "      <td>0.535229</td>\n",
       "      <td>0.352055</td>\n",
       "      <td>0.021119</td>\n",
       "    </tr>\n",
       "    <tr>\n",
       "      <th>2015-01-03</th>\n",
       "      <td>-0.111637</td>\n",
       "      <td>1.755979</td>\n",
       "      <td>-1.330637</td>\n",
       "      <td>1.299502</td>\n",
       "    </tr>\n",
       "    <tr>\n",
       "      <th>2015-01-05</th>\n",
       "      <td>1.241920</td>\n",
       "      <td>2.000216</td>\n",
       "      <td>1.178503</td>\n",
       "      <td>-0.838917</td>\n",
       "    </tr>\n",
       "  </tbody>\n",
       "</table>\n",
       "</div>"
      ],
      "text/plain": [
       "                   A         B         C         D\n",
       "2015-01-04  1.183336 -1.385654 -0.891763 -2.317539\n",
       "2015-01-02  0.834807 -0.026989  1.425487 -0.034016\n",
       "2015-01-01 -1.027007  0.295947  0.447634  0.585970\n",
       "2015-01-06  0.277866  0.535229  0.352055  0.021119\n",
       "2015-01-03 -0.111637  1.755979 -1.330637  1.299502\n",
       "2015-01-05  1.241920  2.000216  1.178503 -0.838917"
      ]
     },
     "execution_count": 16,
     "metadata": {},
     "output_type": "execute_result"
    }
   ],
   "source": [
    "# sort the data frame by non-index values\n",
    "df1.sort_values(by='B')"
   ]
  },
  {
   "cell_type": "code",
   "execution_count": 17,
   "metadata": {
    "collapsed": false
   },
   "outputs": [
    {
     "data": {
      "text/plain": [
       "2015-01-01   -1.027007\n",
       "2015-01-02    0.834807\n",
       "2015-01-03   -0.111637\n",
       "2015-01-04    1.183336\n",
       "2015-01-05    1.241920\n",
       "2015-01-06    0.277866\n",
       "Freq: D, Name: A, dtype: float64"
      ]
     },
     "execution_count": 17,
     "metadata": {},
     "output_type": "execute_result"
    }
   ],
   "source": [
    "# call a column in the data frame as a series\n",
    "df1.A"
   ]
  },
  {
   "cell_type": "code",
   "execution_count": 18,
   "metadata": {
    "collapsed": false
   },
   "outputs": [
    {
     "data": {
      "text/plain": [
       "2015-01-01   -1.027007\n",
       "2015-01-02    0.834807\n",
       "2015-01-03   -0.111637\n",
       "2015-01-04    1.183336\n",
       "2015-01-05    1.241920\n",
       "2015-01-06    0.277866\n",
       "Freq: D, Name: A, dtype: float64"
      ]
     },
     "execution_count": 18,
     "metadata": {},
     "output_type": "execute_result"
    }
   ],
   "source": [
    "# call a column in the data frame as a series\n",
    "df1['A']"
   ]
  },
  {
   "cell_type": "code",
   "execution_count": 23,
   "metadata": {
    "collapsed": false
   },
   "outputs": [
    {
     "data": {
      "text/html": [
       "<div>\n",
       "<table border=\"1\" class=\"dataframe\">\n",
       "  <thead>\n",
       "    <tr style=\"text-align: right;\">\n",
       "      <th></th>\n",
       "      <th>A</th>\n",
       "      <th>B</th>\n",
       "      <th>C</th>\n",
       "      <th>D</th>\n",
       "    </tr>\n",
       "  </thead>\n",
       "  <tbody>\n",
       "    <tr>\n",
       "      <th>2015-01-01</th>\n",
       "      <td>-1.027007</td>\n",
       "      <td>0.295947</td>\n",
       "      <td>0.447634</td>\n",
       "      <td>0.585970</td>\n",
       "    </tr>\n",
       "    <tr>\n",
       "      <th>2015-01-02</th>\n",
       "      <td>0.834807</td>\n",
       "      <td>-0.026989</td>\n",
       "      <td>1.425487</td>\n",
       "      <td>-0.034016</td>\n",
       "    </tr>\n",
       "    <tr>\n",
       "      <th>2015-01-03</th>\n",
       "      <td>-0.111637</td>\n",
       "      <td>1.755979</td>\n",
       "      <td>-1.330637</td>\n",
       "      <td>1.299502</td>\n",
       "    </tr>\n",
       "  </tbody>\n",
       "</table>\n",
       "</div>"
      ],
      "text/plain": [
       "                   A         B         C         D\n",
       "2015-01-01 -1.027007  0.295947  0.447634  0.585970\n",
       "2015-01-02  0.834807 -0.026989  1.425487 -0.034016\n",
       "2015-01-03 -0.111637  1.755979 -1.330637  1.299502"
      ]
     },
     "execution_count": 23,
     "metadata": {},
     "output_type": "execute_result"
    }
   ],
   "source": [
    "# slice the data frame using positions\n",
    "df1[0:3]"
   ]
  },
  {
   "cell_type": "code",
   "execution_count": 24,
   "metadata": {
    "collapsed": false
   },
   "outputs": [
    {
     "data": {
      "text/html": [
       "<div>\n",
       "<table border=\"1\" class=\"dataframe\">\n",
       "  <thead>\n",
       "    <tr style=\"text-align: right;\">\n",
       "      <th></th>\n",
       "      <th>A</th>\n",
       "      <th>B</th>\n",
       "      <th>C</th>\n",
       "      <th>D</th>\n",
       "    </tr>\n",
       "  </thead>\n",
       "  <tbody>\n",
       "    <tr>\n",
       "      <th>2015-01-02</th>\n",
       "      <td>0.834807</td>\n",
       "      <td>-0.026989</td>\n",
       "      <td>1.425487</td>\n",
       "      <td>-0.034016</td>\n",
       "    </tr>\n",
       "    <tr>\n",
       "      <th>2015-01-03</th>\n",
       "      <td>-0.111637</td>\n",
       "      <td>1.755979</td>\n",
       "      <td>-1.330637</td>\n",
       "      <td>1.299502</td>\n",
       "    </tr>\n",
       "    <tr>\n",
       "      <th>2015-01-04</th>\n",
       "      <td>1.183336</td>\n",
       "      <td>-1.385654</td>\n",
       "      <td>-0.891763</td>\n",
       "      <td>-2.317539</td>\n",
       "    </tr>\n",
       "    <tr>\n",
       "      <th>2015-01-05</th>\n",
       "      <td>1.241920</td>\n",
       "      <td>2.000216</td>\n",
       "      <td>1.178503</td>\n",
       "      <td>-0.838917</td>\n",
       "    </tr>\n",
       "  </tbody>\n",
       "</table>\n",
       "</div>"
      ],
      "text/plain": [
       "                   A         B         C         D\n",
       "2015-01-02  0.834807 -0.026989  1.425487 -0.034016\n",
       "2015-01-03 -0.111637  1.755979 -1.330637  1.299502\n",
       "2015-01-04  1.183336 -1.385654 -0.891763 -2.317539\n",
       "2015-01-05  1.241920  2.000216  1.178503 -0.838917"
      ]
     },
     "execution_count": 24,
     "metadata": {},
     "output_type": "execute_result"
    }
   ],
   "source": [
    "# slice the data frame using index values\n",
    "df1['2015-01-02':'2015-01-05']"
   ]
  },
  {
   "cell_type": "code",
   "execution_count": 25,
   "metadata": {
    "collapsed": false
   },
   "outputs": [
    {
     "data": {
      "text/plain": [
       "DatetimeIndex(['2015-01-01', '2015-01-02', '2015-01-03', '2015-01-04',\n",
       "               '2015-01-05', '2015-01-06'],\n",
       "              dtype='datetime64[ns]', freq='D')"
      ]
     },
     "execution_count": 25,
     "metadata": {},
     "output_type": "execute_result"
    }
   ],
   "source": [
    "# remember what the date list index that we made looks like\n",
    "date_list"
   ]
  },
  {
   "cell_type": "code",
   "execution_count": 26,
   "metadata": {
    "collapsed": false
   },
   "outputs": [
    {
     "data": {
      "text/plain": [
       "Timestamp('2015-01-01 00:00:00', offset='D')"
      ]
     },
     "execution_count": 26,
     "metadata": {},
     "output_type": "execute_result"
    }
   ],
   "source": [
    "# you can slide the date list like any other iterable in Python\n",
    "date_list[0]"
   ]
  },
  {
   "cell_type": "code",
   "execution_count": 28,
   "metadata": {
    "collapsed": false
   },
   "outputs": [
    {
     "data": {
      "text/plain": [
       "A   -0.111637\n",
       "B    1.755979\n",
       "C   -1.330637\n",
       "D    1.299502\n",
       "Name: 2015-01-03 00:00:00, dtype: float64"
      ]
     },
     "execution_count": 28,
     "metadata": {},
     "output_type": "execute_result"
    }
   ],
   "source": [
    "# call .loc to return a row as a series based on a supplied index\n",
    "df1.loc['2015-01-03']"
   ]
  },
  {
   "cell_type": "code",
   "execution_count": 27,
   "metadata": {
    "collapsed": false
   },
   "outputs": [
    {
     "data": {
      "text/plain": [
       "A   -1.027007\n",
       "B    0.295947\n",
       "C    0.447634\n",
       "D    0.585970\n",
       "Name: 2015-01-01 00:00:00, dtype: float64"
      ]
     },
     "execution_count": 27,
     "metadata": {},
     "output_type": "execute_result"
    }
   ],
   "source": [
    "# you can also do this by slicing the index\n",
    "df1.loc[date_list[0]]"
   ]
  },
  {
   "cell_type": "code",
   "execution_count": 29,
   "metadata": {
    "collapsed": false
   },
   "outputs": [
    {
     "data": {
      "text/html": [
       "<div>\n",
       "<table border=\"1\" class=\"dataframe\">\n",
       "  <thead>\n",
       "    <tr style=\"text-align: right;\">\n",
       "      <th></th>\n",
       "      <th>A</th>\n",
       "      <th>B</th>\n",
       "    </tr>\n",
       "  </thead>\n",
       "  <tbody>\n",
       "    <tr>\n",
       "      <th>2015-01-01</th>\n",
       "      <td>-1.027007</td>\n",
       "      <td>0.295947</td>\n",
       "    </tr>\n",
       "    <tr>\n",
       "      <th>2015-01-02</th>\n",
       "      <td>0.834807</td>\n",
       "      <td>-0.026989</td>\n",
       "    </tr>\n",
       "    <tr>\n",
       "      <th>2015-01-03</th>\n",
       "      <td>-0.111637</td>\n",
       "      <td>1.755979</td>\n",
       "    </tr>\n",
       "    <tr>\n",
       "      <th>2015-01-04</th>\n",
       "      <td>1.183336</td>\n",
       "      <td>-1.385654</td>\n",
       "    </tr>\n",
       "    <tr>\n",
       "      <th>2015-01-05</th>\n",
       "      <td>1.241920</td>\n",
       "      <td>2.000216</td>\n",
       "    </tr>\n",
       "    <tr>\n",
       "      <th>2015-01-06</th>\n",
       "      <td>0.277866</td>\n",
       "      <td>0.535229</td>\n",
       "    </tr>\n",
       "  </tbody>\n",
       "</table>\n",
       "</div>"
      ],
      "text/plain": [
       "                   A         B\n",
       "2015-01-01 -1.027007  0.295947\n",
       "2015-01-02  0.834807 -0.026989\n",
       "2015-01-03 -0.111637  1.755979\n",
       "2015-01-04  1.183336 -1.385654\n",
       "2015-01-05  1.241920  2.000216\n",
       "2015-01-06  0.277866  0.535229"
      ]
     },
     "execution_count": 29,
     "metadata": {},
     "output_type": "execute_result"
    }
   ],
   "source": [
    "# data frame slicing\n",
    "df1.loc[:, ['A', 'B']]"
   ]
  },
  {
   "cell_type": "code",
   "execution_count": 30,
   "metadata": {
    "collapsed": false
   },
   "outputs": [
    {
     "data": {
      "text/html": [
       "<div>\n",
       "<table border=\"1\" class=\"dataframe\">\n",
       "  <thead>\n",
       "    <tr style=\"text-align: right;\">\n",
       "      <th></th>\n",
       "      <th>A</th>\n",
       "      <th>B</th>\n",
       "    </tr>\n",
       "  </thead>\n",
       "  <tbody>\n",
       "    <tr>\n",
       "      <th>2015-01-02</th>\n",
       "      <td>0.834807</td>\n",
       "      <td>-0.026989</td>\n",
       "    </tr>\n",
       "    <tr>\n",
       "      <th>2015-01-03</th>\n",
       "      <td>-0.111637</td>\n",
       "      <td>1.755979</td>\n",
       "    </tr>\n",
       "    <tr>\n",
       "      <th>2015-01-04</th>\n",
       "      <td>1.183336</td>\n",
       "      <td>-1.385654</td>\n",
       "    </tr>\n",
       "    <tr>\n",
       "      <th>2015-01-05</th>\n",
       "      <td>1.241920</td>\n",
       "      <td>2.000216</td>\n",
       "    </tr>\n",
       "  </tbody>\n",
       "</table>\n",
       "</div>"
      ],
      "text/plain": [
       "                   A         B\n",
       "2015-01-02  0.834807 -0.026989\n",
       "2015-01-03 -0.111637  1.755979\n",
       "2015-01-04  1.183336 -1.385654\n",
       "2015-01-05  1.241920  2.000216"
      ]
     },
     "execution_count": 30,
     "metadata": {},
     "output_type": "execute_result"
    }
   ],
   "source": [
    "# data frame slicing\n",
    "df1.loc['2015-01-02':'2015-01-05', ['A', 'B']]"
   ]
  },
  {
   "cell_type": "code",
   "execution_count": 31,
   "metadata": {
    "collapsed": false
   },
   "outputs": [
    {
     "data": {
      "text/plain": [
       "B   -1.385654\n",
       "C   -0.891763\n",
       "Name: 2015-01-04 00:00:00, dtype: float64"
      ]
     },
     "execution_count": 31,
     "metadata": {},
     "output_type": "execute_result"
    }
   ],
   "source": [
    "# data frame slicing\n",
    "df1.loc['2015-01-04', ['B', 'C']]"
   ]
  },
  {
   "cell_type": "code",
   "execution_count": 32,
   "metadata": {
    "collapsed": false
   },
   "outputs": [
    {
     "data": {
      "text/plain": [
       "0.29594742497582394"
      ]
     },
     "execution_count": 32,
     "metadata": {},
     "output_type": "execute_result"
    }
   ],
   "source": [
    "# data frame slicing\n",
    "df1.loc['2015-01-01', 'B']"
   ]
  },
  {
   "cell_type": "code",
   "execution_count": 34,
   "metadata": {
    "collapsed": false
   },
   "outputs": [
    {
     "data": {
      "text/plain": [
       "A    1.183336\n",
       "B   -1.385654\n",
       "C   -0.891763\n",
       "D   -2.317539\n",
       "Name: 2015-01-04 00:00:00, dtype: float64"
      ]
     },
     "execution_count": 34,
     "metadata": {},
     "output_type": "execute_result"
    }
   ],
   "source": [
    "# data frame slicing by position\n",
    "df1.iloc[3]"
   ]
  },
  {
   "cell_type": "code",
   "execution_count": 35,
   "metadata": {
    "collapsed": false
   },
   "outputs": [
    {
     "data": {
      "text/html": [
       "<div>\n",
       "<table border=\"1\" class=\"dataframe\">\n",
       "  <thead>\n",
       "    <tr style=\"text-align: right;\">\n",
       "      <th></th>\n",
       "      <th>A</th>\n",
       "      <th>B</th>\n",
       "    </tr>\n",
       "  </thead>\n",
       "  <tbody>\n",
       "    <tr>\n",
       "      <th>2015-01-04</th>\n",
       "      <td>1.183336</td>\n",
       "      <td>-1.385654</td>\n",
       "    </tr>\n",
       "    <tr>\n",
       "      <th>2015-01-05</th>\n",
       "      <td>1.241920</td>\n",
       "      <td>2.000216</td>\n",
       "    </tr>\n",
       "  </tbody>\n",
       "</table>\n",
       "</div>"
      ],
      "text/plain": [
       "                   A         B\n",
       "2015-01-04  1.183336 -1.385654\n",
       "2015-01-05  1.241920  2.000216"
      ]
     },
     "execution_count": 35,
     "metadata": {},
     "output_type": "execute_result"
    }
   ],
   "source": [
    "# data frame slicing by position\n",
    "df1.iloc[3:5, 0:2]"
   ]
  },
  {
   "cell_type": "code",
   "execution_count": 37,
   "metadata": {
    "collapsed": false
   },
   "outputs": [
    {
     "data": {
      "text/html": [
       "<div>\n",
       "<table border=\"1\" class=\"dataframe\">\n",
       "  <thead>\n",
       "    <tr style=\"text-align: right;\">\n",
       "      <th></th>\n",
       "      <th>A</th>\n",
       "      <th>B</th>\n",
       "      <th>C</th>\n",
       "      <th>D</th>\n",
       "    </tr>\n",
       "  </thead>\n",
       "  <tbody>\n",
       "    <tr>\n",
       "      <th>2015-01-02</th>\n",
       "      <td>0.834807</td>\n",
       "      <td>-0.026989</td>\n",
       "      <td>1.425487</td>\n",
       "      <td>-0.034016</td>\n",
       "    </tr>\n",
       "    <tr>\n",
       "      <th>2015-01-04</th>\n",
       "      <td>1.183336</td>\n",
       "      <td>-1.385654</td>\n",
       "      <td>-0.891763</td>\n",
       "      <td>-2.317539</td>\n",
       "    </tr>\n",
       "    <tr>\n",
       "      <th>2015-01-05</th>\n",
       "      <td>1.241920</td>\n",
       "      <td>2.000216</td>\n",
       "      <td>1.178503</td>\n",
       "      <td>-0.838917</td>\n",
       "    </tr>\n",
       "    <tr>\n",
       "      <th>2015-01-06</th>\n",
       "      <td>0.277866</td>\n",
       "      <td>0.535229</td>\n",
       "      <td>0.352055</td>\n",
       "      <td>0.021119</td>\n",
       "    </tr>\n",
       "  </tbody>\n",
       "</table>\n",
       "</div>"
      ],
      "text/plain": [
       "                   A         B         C         D\n",
       "2015-01-02  0.834807 -0.026989  1.425487 -0.034016\n",
       "2015-01-04  1.183336 -1.385654 -0.891763 -2.317539\n",
       "2015-01-05  1.241920  2.000216  1.178503 -0.838917\n",
       "2015-01-06  0.277866  0.535229  0.352055  0.021119"
      ]
     },
     "execution_count": 37,
     "metadata": {},
     "output_type": "execute_result"
    }
   ],
   "source": [
    "# data frames with conditions\n",
    "# pull any rows where the value in column A is > 0\n",
    "df1[df1.A > 0]"
   ]
  },
  {
   "cell_type": "code",
   "execution_count": 38,
   "metadata": {
    "collapsed": false
   },
   "outputs": [
    {
     "data": {
      "text/html": [
       "<div>\n",
       "<table border=\"1\" class=\"dataframe\">\n",
       "  <thead>\n",
       "    <tr style=\"text-align: right;\">\n",
       "      <th></th>\n",
       "      <th>A</th>\n",
       "      <th>B</th>\n",
       "      <th>C</th>\n",
       "      <th>D</th>\n",
       "    </tr>\n",
       "  </thead>\n",
       "  <tbody>\n",
       "    <tr>\n",
       "      <th>2015-01-02</th>\n",
       "      <td>0.834807</td>\n",
       "      <td>-0.026989</td>\n",
       "      <td>1.425487</td>\n",
       "      <td>-0.034016</td>\n",
       "    </tr>\n",
       "    <tr>\n",
       "      <th>2015-01-04</th>\n",
       "      <td>1.183336</td>\n",
       "      <td>-1.385654</td>\n",
       "      <td>-0.891763</td>\n",
       "      <td>-2.317539</td>\n",
       "    </tr>\n",
       "    <tr>\n",
       "      <th>2015-01-05</th>\n",
       "      <td>1.241920</td>\n",
       "      <td>2.000216</td>\n",
       "      <td>1.178503</td>\n",
       "      <td>-0.838917</td>\n",
       "    </tr>\n",
       "    <tr>\n",
       "      <th>2015-01-06</th>\n",
       "      <td>0.277866</td>\n",
       "      <td>0.535229</td>\n",
       "      <td>0.352055</td>\n",
       "      <td>0.021119</td>\n",
       "    </tr>\n",
       "  </tbody>\n",
       "</table>\n",
       "</div>"
      ],
      "text/plain": [
       "                   A         B         C         D\n",
       "2015-01-02  0.834807 -0.026989  1.425487 -0.034016\n",
       "2015-01-04  1.183336 -1.385654 -0.891763 -2.317539\n",
       "2015-01-05  1.241920  2.000216  1.178503 -0.838917\n",
       "2015-01-06  0.277866  0.535229  0.352055  0.021119"
      ]
     },
     "execution_count": 38,
     "metadata": {},
     "output_type": "execute_result"
    }
   ],
   "source": [
    "# data frames with conditions\n",
    "# pull any rows where the value in column A is > 0\n",
    "df1[df1['A'] > 0]"
   ]
  },
  {
   "cell_type": "code",
   "execution_count": 40,
   "metadata": {
    "collapsed": false
   },
   "outputs": [
    {
     "data": {
      "text/html": [
       "<div>\n",
       "<table border=\"1\" class=\"dataframe\">\n",
       "  <thead>\n",
       "    <tr style=\"text-align: right;\">\n",
       "      <th></th>\n",
       "      <th>A</th>\n",
       "      <th>B</th>\n",
       "      <th>C</th>\n",
       "      <th>D</th>\n",
       "    </tr>\n",
       "  </thead>\n",
       "  <tbody>\n",
       "    <tr>\n",
       "      <th>2015-01-01</th>\n",
       "      <td>NaN</td>\n",
       "      <td>0.295947</td>\n",
       "      <td>0.447634</td>\n",
       "      <td>0.585970</td>\n",
       "    </tr>\n",
       "    <tr>\n",
       "      <th>2015-01-02</th>\n",
       "      <td>0.834807</td>\n",
       "      <td>NaN</td>\n",
       "      <td>1.425487</td>\n",
       "      <td>NaN</td>\n",
       "    </tr>\n",
       "    <tr>\n",
       "      <th>2015-01-03</th>\n",
       "      <td>NaN</td>\n",
       "      <td>1.755979</td>\n",
       "      <td>NaN</td>\n",
       "      <td>1.299502</td>\n",
       "    </tr>\n",
       "    <tr>\n",
       "      <th>2015-01-04</th>\n",
       "      <td>1.183336</td>\n",
       "      <td>NaN</td>\n",
       "      <td>NaN</td>\n",
       "      <td>NaN</td>\n",
       "    </tr>\n",
       "    <tr>\n",
       "      <th>2015-01-05</th>\n",
       "      <td>1.241920</td>\n",
       "      <td>2.000216</td>\n",
       "      <td>1.178503</td>\n",
       "      <td>NaN</td>\n",
       "    </tr>\n",
       "    <tr>\n",
       "      <th>2015-01-06</th>\n",
       "      <td>0.277866</td>\n",
       "      <td>0.535229</td>\n",
       "      <td>0.352055</td>\n",
       "      <td>0.021119</td>\n",
       "    </tr>\n",
       "  </tbody>\n",
       "</table>\n",
       "</div>"
      ],
      "text/plain": [
       "                   A         B         C         D\n",
       "2015-01-01       NaN  0.295947  0.447634  0.585970\n",
       "2015-01-02  0.834807       NaN  1.425487       NaN\n",
       "2015-01-03       NaN  1.755979       NaN  1.299502\n",
       "2015-01-04  1.183336       NaN       NaN       NaN\n",
       "2015-01-05  1.241920  2.000216  1.178503       NaN\n",
       "2015-01-06  0.277866  0.535229  0.352055  0.021119"
      ]
     },
     "execution_count": 40,
     "metadata": {},
     "output_type": "execute_result"
    }
   ],
   "source": [
    "# data frame with conditions\n",
    "# show any cell where the value is > 0\n",
    "df1[df1 > 0]"
   ]
  },
  {
   "cell_type": "code",
   "execution_count": 41,
   "metadata": {
    "collapsed": true
   },
   "outputs": [],
   "source": [
    "# create a new data frame as a copy of an existing data frame\n",
    "df2 = df1.copy()"
   ]
  },
  {
   "cell_type": "code",
   "execution_count": 43,
   "metadata": {
    "collapsed": false
   },
   "outputs": [
    {
     "name": "stdout",
     "output_type": "stream",
     "text": [
      "108138168\n",
      "109914264\n"
     ]
    }
   ],
   "source": [
    "# print the IDs of both data frames, to show that they're separate objects in memory\n",
    "print(id(df1), id(df2), sep='\\n')"
   ]
  },
  {
   "cell_type": "code",
   "execution_count": 44,
   "metadata": {
    "collapsed": false
   },
   "outputs": [
    {
     "data": {
      "text/html": [
       "<div>\n",
       "<table border=\"1\" class=\"dataframe\">\n",
       "  <thead>\n",
       "    <tr style=\"text-align: right;\">\n",
       "      <th></th>\n",
       "      <th>A</th>\n",
       "      <th>B</th>\n",
       "      <th>C</th>\n",
       "      <th>D</th>\n",
       "      <th>E</th>\n",
       "    </tr>\n",
       "  </thead>\n",
       "  <tbody>\n",
       "    <tr>\n",
       "      <th>2015-01-01</th>\n",
       "      <td>-1.027007</td>\n",
       "      <td>0.295947</td>\n",
       "      <td>0.447634</td>\n",
       "      <td>0.585970</td>\n",
       "      <td>one</td>\n",
       "    </tr>\n",
       "    <tr>\n",
       "      <th>2015-01-02</th>\n",
       "      <td>0.834807</td>\n",
       "      <td>-0.026989</td>\n",
       "      <td>1.425487</td>\n",
       "      <td>-0.034016</td>\n",
       "      <td>one</td>\n",
       "    </tr>\n",
       "    <tr>\n",
       "      <th>2015-01-03</th>\n",
       "      <td>-0.111637</td>\n",
       "      <td>1.755979</td>\n",
       "      <td>-1.330637</td>\n",
       "      <td>1.299502</td>\n",
       "      <td>two</td>\n",
       "    </tr>\n",
       "    <tr>\n",
       "      <th>2015-01-04</th>\n",
       "      <td>1.183336</td>\n",
       "      <td>-1.385654</td>\n",
       "      <td>-0.891763</td>\n",
       "      <td>-2.317539</td>\n",
       "      <td>three</td>\n",
       "    </tr>\n",
       "    <tr>\n",
       "      <th>2015-01-05</th>\n",
       "      <td>1.241920</td>\n",
       "      <td>2.000216</td>\n",
       "      <td>1.178503</td>\n",
       "      <td>-0.838917</td>\n",
       "      <td>four</td>\n",
       "    </tr>\n",
       "    <tr>\n",
       "      <th>2015-01-06</th>\n",
       "      <td>0.277866</td>\n",
       "      <td>0.535229</td>\n",
       "      <td>0.352055</td>\n",
       "      <td>0.021119</td>\n",
       "      <td>three</td>\n",
       "    </tr>\n",
       "  </tbody>\n",
       "</table>\n",
       "</div>"
      ],
      "text/plain": [
       "                   A         B         C         D      E\n",
       "2015-01-01 -1.027007  0.295947  0.447634  0.585970    one\n",
       "2015-01-02  0.834807 -0.026989  1.425487 -0.034016    one\n",
       "2015-01-03 -0.111637  1.755979 -1.330637  1.299502    two\n",
       "2015-01-04  1.183336 -1.385654 -0.891763 -2.317539  three\n",
       "2015-01-05  1.241920  2.000216  1.178503 -0.838917   four\n",
       "2015-01-06  0.277866  0.535229  0.352055  0.021119  three"
      ]
     },
     "execution_count": 44,
     "metadata": {},
     "output_type": "execute_result"
    }
   ],
   "source": [
    "# create a new column \n",
    "df2['E'] = ['one', 'one', 'two', 'three', 'four', 'three']\n",
    "df2"
   ]
  },
  {
   "cell_type": "code",
   "execution_count": 48,
   "metadata": {
    "collapsed": false
   },
   "outputs": [
    {
     "data": {
      "text/plain": [
       "2015-01-01    False\n",
       "2015-01-02    False\n",
       "2015-01-03     True\n",
       "2015-01-04    False\n",
       "2015-01-05     True\n",
       "2015-01-06    False\n",
       "Freq: D, Name: E, dtype: bool"
      ]
     },
     "execution_count": 48,
     "metadata": {},
     "output_type": "execute_result"
    }
   ],
   "source": [
    "# use the \"is in\" method to test for inclusion\n",
    "# show Booleans for column E testing for inclusion criteria\n",
    "df2['E'].isin(['two', 'four'])"
   ]
  },
  {
   "cell_type": "code",
   "execution_count": 49,
   "metadata": {
    "collapsed": false
   },
   "outputs": [
    {
     "data": {
      "text/html": [
       "<div>\n",
       "<table border=\"1\" class=\"dataframe\">\n",
       "  <thead>\n",
       "    <tr style=\"text-align: right;\">\n",
       "      <th></th>\n",
       "      <th>A</th>\n",
       "      <th>B</th>\n",
       "      <th>C</th>\n",
       "      <th>D</th>\n",
       "      <th>E</th>\n",
       "    </tr>\n",
       "  </thead>\n",
       "  <tbody>\n",
       "    <tr>\n",
       "      <th>2015-01-03</th>\n",
       "      <td>-0.111637</td>\n",
       "      <td>1.755979</td>\n",
       "      <td>-1.330637</td>\n",
       "      <td>1.299502</td>\n",
       "      <td>two</td>\n",
       "    </tr>\n",
       "    <tr>\n",
       "      <th>2015-01-05</th>\n",
       "      <td>1.241920</td>\n",
       "      <td>2.000216</td>\n",
       "      <td>1.178503</td>\n",
       "      <td>-0.838917</td>\n",
       "      <td>four</td>\n",
       "    </tr>\n",
       "  </tbody>\n",
       "</table>\n",
       "</div>"
      ],
      "text/plain": [
       "                   A         B         C         D     E\n",
       "2015-01-03 -0.111637  1.755979 -1.330637  1.299502   two\n",
       "2015-01-05  1.241920  2.000216  1.178503 -0.838917  four"
      ]
     },
     "execution_count": 49,
     "metadata": {},
     "output_type": "execute_result"
    }
   ],
   "source": [
    "# another form of the syntax where you can use \"is in\"\n",
    "# display all rows where column E has the value 'two' or 'four'\n",
    "df2[df2['E'].isin(['two', 'four'])]"
   ]
  },
  {
   "cell_type": "code",
   "execution_count": 50,
   "metadata": {
    "collapsed": false
   },
   "outputs": [
    {
     "data": {
      "text/plain": [
       "2015-01-01    1\n",
       "2015-01-02    2\n",
       "2015-01-03    3\n",
       "2015-01-04    4\n",
       "2015-01-05    5\n",
       "2015-01-06    6\n",
       "Freq: D, dtype: int32"
      ]
     },
     "execution_count": 50,
     "metadata": {},
     "output_type": "execute_result"
    }
   ],
   "source": [
    "# create a new series\n",
    "s1 = pd.Series(np.arange(1, 7), index=pd.date_range('20150101', periods=6))\n",
    "s1"
   ]
  },
  {
   "cell_type": "code",
   "execution_count": 52,
   "metadata": {
    "collapsed": false
   },
   "outputs": [],
   "source": [
    "# add that new series to our existing data frame\n",
    "df2['F'] = s1"
   ]
  },
  {
   "cell_type": "code",
   "execution_count": 53,
   "metadata": {
    "collapsed": false
   },
   "outputs": [
    {
     "data": {
      "text/html": [
       "<div>\n",
       "<table border=\"1\" class=\"dataframe\">\n",
       "  <thead>\n",
       "    <tr style=\"text-align: right;\">\n",
       "      <th></th>\n",
       "      <th>A</th>\n",
       "      <th>B</th>\n",
       "      <th>C</th>\n",
       "      <th>D</th>\n",
       "      <th>E</th>\n",
       "      <th>F</th>\n",
       "    </tr>\n",
       "  </thead>\n",
       "  <tbody>\n",
       "    <tr>\n",
       "      <th>2015-01-01</th>\n",
       "      <td>-1.027007</td>\n",
       "      <td>0.295947</td>\n",
       "      <td>0.447634</td>\n",
       "      <td>0.585970</td>\n",
       "      <td>one</td>\n",
       "      <td>1</td>\n",
       "    </tr>\n",
       "    <tr>\n",
       "      <th>2015-01-02</th>\n",
       "      <td>0.834807</td>\n",
       "      <td>-0.026989</td>\n",
       "      <td>1.425487</td>\n",
       "      <td>-0.034016</td>\n",
       "      <td>one</td>\n",
       "      <td>2</td>\n",
       "    </tr>\n",
       "    <tr>\n",
       "      <th>2015-01-03</th>\n",
       "      <td>-0.111637</td>\n",
       "      <td>1.755979</td>\n",
       "      <td>-1.330637</td>\n",
       "      <td>1.299502</td>\n",
       "      <td>two</td>\n",
       "      <td>3</td>\n",
       "    </tr>\n",
       "    <tr>\n",
       "      <th>2015-01-04</th>\n",
       "      <td>1.183336</td>\n",
       "      <td>-1.385654</td>\n",
       "      <td>-0.891763</td>\n",
       "      <td>-2.317539</td>\n",
       "      <td>three</td>\n",
       "      <td>4</td>\n",
       "    </tr>\n",
       "    <tr>\n",
       "      <th>2015-01-05</th>\n",
       "      <td>1.241920</td>\n",
       "      <td>2.000216</td>\n",
       "      <td>1.178503</td>\n",
       "      <td>-0.838917</td>\n",
       "      <td>four</td>\n",
       "      <td>5</td>\n",
       "    </tr>\n",
       "    <tr>\n",
       "      <th>2015-01-06</th>\n",
       "      <td>0.277866</td>\n",
       "      <td>0.535229</td>\n",
       "      <td>0.352055</td>\n",
       "      <td>0.021119</td>\n",
       "      <td>three</td>\n",
       "      <td>6</td>\n",
       "    </tr>\n",
       "  </tbody>\n",
       "</table>\n",
       "</div>"
      ],
      "text/plain": [
       "                   A         B         C         D      E  F\n",
       "2015-01-01 -1.027007  0.295947  0.447634  0.585970    one  1\n",
       "2015-01-02  0.834807 -0.026989  1.425487 -0.034016    one  2\n",
       "2015-01-03 -0.111637  1.755979 -1.330637  1.299502    two  3\n",
       "2015-01-04  1.183336 -1.385654 -0.891763 -2.317539  three  4\n",
       "2015-01-05  1.241920  2.000216  1.178503 -0.838917   four  5\n",
       "2015-01-06  0.277866  0.535229  0.352055  0.021119  three  6"
      ]
     },
     "execution_count": 53,
     "metadata": {},
     "output_type": "execute_result"
    }
   ],
   "source": [
    "# display the data frame\n",
    "df2"
   ]
  },
  {
   "cell_type": "code",
   "execution_count": 56,
   "metadata": {
    "collapsed": false
   },
   "outputs": [
    {
     "data": {
      "text/plain": [
       "1"
      ]
     },
     "execution_count": 56,
     "metadata": {},
     "output_type": "execute_result"
    }
   ],
   "source": [
    "# use the .at method to pull a single value by specifying the index and column\n",
    "df2.at[date_list[0], 'F']"
   ]
  },
  {
   "cell_type": "code",
   "execution_count": 57,
   "metadata": {
    "collapsed": false
   },
   "outputs": [
    {
     "data": {
      "text/html": [
       "<div>\n",
       "<table border=\"1\" class=\"dataframe\">\n",
       "  <thead>\n",
       "    <tr style=\"text-align: right;\">\n",
       "      <th></th>\n",
       "      <th>A</th>\n",
       "      <th>B</th>\n",
       "      <th>C</th>\n",
       "      <th>D</th>\n",
       "      <th>E</th>\n",
       "      <th>F</th>\n",
       "    </tr>\n",
       "  </thead>\n",
       "  <tbody>\n",
       "    <tr>\n",
       "      <th>2015-01-01</th>\n",
       "      <td>-1.027007</td>\n",
       "      <td>0.295947</td>\n",
       "      <td>0.447634</td>\n",
       "      <td>0.585970</td>\n",
       "      <td>one</td>\n",
       "      <td>0</td>\n",
       "    </tr>\n",
       "    <tr>\n",
       "      <th>2015-01-02</th>\n",
       "      <td>0.834807</td>\n",
       "      <td>-0.026989</td>\n",
       "      <td>1.425487</td>\n",
       "      <td>-0.034016</td>\n",
       "      <td>one</td>\n",
       "      <td>2</td>\n",
       "    </tr>\n",
       "    <tr>\n",
       "      <th>2015-01-03</th>\n",
       "      <td>-0.111637</td>\n",
       "      <td>1.755979</td>\n",
       "      <td>-1.330637</td>\n",
       "      <td>1.299502</td>\n",
       "      <td>two</td>\n",
       "      <td>3</td>\n",
       "    </tr>\n",
       "    <tr>\n",
       "      <th>2015-01-04</th>\n",
       "      <td>1.183336</td>\n",
       "      <td>-1.385654</td>\n",
       "      <td>-0.891763</td>\n",
       "      <td>-2.317539</td>\n",
       "      <td>three</td>\n",
       "      <td>4</td>\n",
       "    </tr>\n",
       "    <tr>\n",
       "      <th>2015-01-05</th>\n",
       "      <td>1.241920</td>\n",
       "      <td>2.000216</td>\n",
       "      <td>1.178503</td>\n",
       "      <td>-0.838917</td>\n",
       "      <td>four</td>\n",
       "      <td>5</td>\n",
       "    </tr>\n",
       "    <tr>\n",
       "      <th>2015-01-06</th>\n",
       "      <td>0.277866</td>\n",
       "      <td>0.535229</td>\n",
       "      <td>0.352055</td>\n",
       "      <td>0.021119</td>\n",
       "      <td>three</td>\n",
       "      <td>6</td>\n",
       "    </tr>\n",
       "  </tbody>\n",
       "</table>\n",
       "</div>"
      ],
      "text/plain": [
       "                   A         B         C         D      E  F\n",
       "2015-01-01 -1.027007  0.295947  0.447634  0.585970    one  0\n",
       "2015-01-02  0.834807 -0.026989  1.425487 -0.034016    one  2\n",
       "2015-01-03 -0.111637  1.755979 -1.330637  1.299502    two  3\n",
       "2015-01-04  1.183336 -1.385654 -0.891763 -2.317539  three  4\n",
       "2015-01-05  1.241920  2.000216  1.178503 -0.838917   four  5\n",
       "2015-01-06  0.277866  0.535229  0.352055  0.021119  three  6"
      ]
     },
     "execution_count": 57,
     "metadata": {},
     "output_type": "execute_result"
    }
   ],
   "source": [
    "# use the .at method\n",
    "df2.at[date_list[0], 'F'] = 0\n",
    "df2"
   ]
  },
  {
   "cell_type": "code",
   "execution_count": 58,
   "metadata": {
    "collapsed": false
   },
   "outputs": [
    {
     "data": {
      "text/html": [
       "<div>\n",
       "<table border=\"1\" class=\"dataframe\">\n",
       "  <thead>\n",
       "    <tr style=\"text-align: right;\">\n",
       "      <th></th>\n",
       "      <th>A</th>\n",
       "      <th>B</th>\n",
       "      <th>C</th>\n",
       "      <th>D</th>\n",
       "      <th>E</th>\n",
       "      <th>F</th>\n",
       "    </tr>\n",
       "  </thead>\n",
       "  <tbody>\n",
       "    <tr>\n",
       "      <th>2015-01-01</th>\n",
       "      <td>-1.027007</td>\n",
       "      <td>0.295947</td>\n",
       "      <td>0.447634</td>\n",
       "      <td>0.585970</td>\n",
       "      <td>one</td>\n",
       "      <td>0</td>\n",
       "    </tr>\n",
       "    <tr>\n",
       "      <th>2015-01-02</th>\n",
       "      <td>0.834807</td>\n",
       "      <td>-10.000000</td>\n",
       "      <td>1.425487</td>\n",
       "      <td>-0.034016</td>\n",
       "      <td>one</td>\n",
       "      <td>2</td>\n",
       "    </tr>\n",
       "    <tr>\n",
       "      <th>2015-01-03</th>\n",
       "      <td>-0.111637</td>\n",
       "      <td>1.755979</td>\n",
       "      <td>-1.330637</td>\n",
       "      <td>1.299502</td>\n",
       "      <td>two</td>\n",
       "      <td>3</td>\n",
       "    </tr>\n",
       "    <tr>\n",
       "      <th>2015-01-04</th>\n",
       "      <td>1.183336</td>\n",
       "      <td>-1.385654</td>\n",
       "      <td>-0.891763</td>\n",
       "      <td>-2.317539</td>\n",
       "      <td>three</td>\n",
       "      <td>4</td>\n",
       "    </tr>\n",
       "    <tr>\n",
       "      <th>2015-01-05</th>\n",
       "      <td>1.241920</td>\n",
       "      <td>2.000216</td>\n",
       "      <td>1.178503</td>\n",
       "      <td>-0.838917</td>\n",
       "      <td>four</td>\n",
       "      <td>5</td>\n",
       "    </tr>\n",
       "    <tr>\n",
       "      <th>2015-01-06</th>\n",
       "      <td>0.277866</td>\n",
       "      <td>0.535229</td>\n",
       "      <td>0.352055</td>\n",
       "      <td>0.021119</td>\n",
       "      <td>three</td>\n",
       "      <td>6</td>\n",
       "    </tr>\n",
       "  </tbody>\n",
       "</table>\n",
       "</div>"
      ],
      "text/plain": [
       "                   A          B         C         D      E  F\n",
       "2015-01-01 -1.027007   0.295947  0.447634  0.585970    one  0\n",
       "2015-01-02  0.834807 -10.000000  1.425487 -0.034016    one  2\n",
       "2015-01-03 -0.111637   1.755979 -1.330637  1.299502    two  3\n",
       "2015-01-04  1.183336  -1.385654 -0.891763 -2.317539  three  4\n",
       "2015-01-05  1.241920   2.000216  1.178503 -0.838917   four  5\n",
       "2015-01-06  0.277866   0.535229  0.352055  0.021119  three  6"
      ]
     },
     "execution_count": 58,
     "metadata": {},
     "output_type": "execute_result"
    }
   ],
   "source": [
    "# use .iat to do the same this with positional arguments\n",
    "df2.iat[1, 1] = -10\n",
    "df2"
   ]
  },
  {
   "cell_type": "code",
   "execution_count": 65,
   "metadata": {
    "collapsed": false
   },
   "outputs": [
    {
     "data": {
      "text/html": [
       "<div>\n",
       "<table border=\"1\" class=\"dataframe\">\n",
       "  <thead>\n",
       "    <tr style=\"text-align: right;\">\n",
       "      <th></th>\n",
       "      <th>A</th>\n",
       "      <th>B</th>\n",
       "      <th>C</th>\n",
       "      <th>D</th>\n",
       "      <th>E</th>\n",
       "      <th>F</th>\n",
       "    </tr>\n",
       "  </thead>\n",
       "  <tbody>\n",
       "    <tr>\n",
       "      <th>2015-01-01</th>\n",
       "      <td>-1.027007</td>\n",
       "      <td>0.295947</td>\n",
       "      <td>0.447634</td>\n",
       "      <td>5</td>\n",
       "      <td>one</td>\n",
       "      <td>0</td>\n",
       "    </tr>\n",
       "    <tr>\n",
       "      <th>2015-01-02</th>\n",
       "      <td>0.834807</td>\n",
       "      <td>-10.000000</td>\n",
       "      <td>1.425487</td>\n",
       "      <td>5</td>\n",
       "      <td>one</td>\n",
       "      <td>2</td>\n",
       "    </tr>\n",
       "    <tr>\n",
       "      <th>2015-01-03</th>\n",
       "      <td>-0.111637</td>\n",
       "      <td>1.755979</td>\n",
       "      <td>-1.330637</td>\n",
       "      <td>5</td>\n",
       "      <td>two</td>\n",
       "      <td>3</td>\n",
       "    </tr>\n",
       "    <tr>\n",
       "      <th>2015-01-04</th>\n",
       "      <td>1.183336</td>\n",
       "      <td>-1.385654</td>\n",
       "      <td>-0.891763</td>\n",
       "      <td>5</td>\n",
       "      <td>three</td>\n",
       "      <td>4</td>\n",
       "    </tr>\n",
       "    <tr>\n",
       "      <th>2015-01-05</th>\n",
       "      <td>1.241920</td>\n",
       "      <td>2.000216</td>\n",
       "      <td>1.178503</td>\n",
       "      <td>5</td>\n",
       "      <td>four</td>\n",
       "      <td>5</td>\n",
       "    </tr>\n",
       "    <tr>\n",
       "      <th>2015-01-06</th>\n",
       "      <td>0.277866</td>\n",
       "      <td>0.535229</td>\n",
       "      <td>0.352055</td>\n",
       "      <td>5</td>\n",
       "      <td>three</td>\n",
       "      <td>6</td>\n",
       "    </tr>\n",
       "  </tbody>\n",
       "</table>\n",
       "</div>"
      ],
      "text/plain": [
       "                   A          B         C  D      E  F\n",
       "2015-01-01 -1.027007   0.295947  0.447634  5    one  0\n",
       "2015-01-02  0.834807 -10.000000  1.425487  5    one  2\n",
       "2015-01-03 -0.111637   1.755979 -1.330637  5    two  3\n",
       "2015-01-04  1.183336  -1.385654 -0.891763  5  three  4\n",
       "2015-01-05  1.241920   2.000216  1.178503  5   four  5\n",
       "2015-01-06  0.277866   0.535229  0.352055  5  three  6"
      ]
     },
     "execution_count": 65,
     "metadata": {},
     "output_type": "execute_result"
    }
   ],
   "source": [
    "# overwrite column D in our data frame\n",
    "df2.loc[:, 'D'] = np.array([5] * len(df2))\n",
    "df2"
   ]
  },
  {
   "cell_type": "code",
   "execution_count": 76,
   "metadata": {
    "collapsed": true
   },
   "outputs": [],
   "source": [
    "# create a new data frame from our existing one using .reindex\n",
    "df3 = df2.reindex(index=date_list[0:4], columns=list(df1.columns) + ['E'])"
   ]
  },
  {
   "cell_type": "code",
   "execution_count": 77,
   "metadata": {
    "collapsed": false
   },
   "outputs": [
    {
     "data": {
      "text/html": [
       "<div>\n",
       "<table border=\"1\" class=\"dataframe\">\n",
       "  <thead>\n",
       "    <tr style=\"text-align: right;\">\n",
       "      <th></th>\n",
       "      <th>A</th>\n",
       "      <th>B</th>\n",
       "      <th>C</th>\n",
       "      <th>D</th>\n",
       "      <th>E</th>\n",
       "    </tr>\n",
       "  </thead>\n",
       "  <tbody>\n",
       "    <tr>\n",
       "      <th>2015-01-01</th>\n",
       "      <td>-1.027007</td>\n",
       "      <td>0.295947</td>\n",
       "      <td>0.447634</td>\n",
       "      <td>5</td>\n",
       "      <td>one</td>\n",
       "    </tr>\n",
       "    <tr>\n",
       "      <th>2015-01-02</th>\n",
       "      <td>0.834807</td>\n",
       "      <td>-10.000000</td>\n",
       "      <td>1.425487</td>\n",
       "      <td>5</td>\n",
       "      <td>one</td>\n",
       "    </tr>\n",
       "    <tr>\n",
       "      <th>2015-01-03</th>\n",
       "      <td>-0.111637</td>\n",
       "      <td>1.755979</td>\n",
       "      <td>-1.330637</td>\n",
       "      <td>5</td>\n",
       "      <td>two</td>\n",
       "    </tr>\n",
       "    <tr>\n",
       "      <th>2015-01-04</th>\n",
       "      <td>1.183336</td>\n",
       "      <td>-1.385654</td>\n",
       "      <td>-0.891763</td>\n",
       "      <td>5</td>\n",
       "      <td>three</td>\n",
       "    </tr>\n",
       "  </tbody>\n",
       "</table>\n",
       "</div>"
      ],
      "text/plain": [
       "                   A          B         C  D      E\n",
       "2015-01-01 -1.027007   0.295947  0.447634  5    one\n",
       "2015-01-02  0.834807 -10.000000  1.425487  5    one\n",
       "2015-01-03 -0.111637   1.755979 -1.330637  5    two\n",
       "2015-01-04  1.183336  -1.385654 -0.891763  5  three"
      ]
     },
     "execution_count": 77,
     "metadata": {},
     "output_type": "execute_result"
    }
   ],
   "source": [
    "# show the new data frame\n",
    "df3"
   ]
  },
  {
   "cell_type": "code",
   "execution_count": null,
   "metadata": {
    "collapsed": true
   },
   "outputs": [],
   "source": []
  }
 ],
 "metadata": {
  "kernelspec": {
   "display_name": "Python 3",
   "language": "python",
   "name": "python3"
  },
  "language_info": {
   "codemirror_mode": {
    "name": "ipython",
    "version": 3
   },
   "file_extension": ".py",
   "mimetype": "text/x-python",
   "name": "python",
   "nbconvert_exporter": "python",
   "pygments_lexer": "ipython3",
   "version": "3.5.1"
  }
 },
 "nbformat": 4,
 "nbformat_minor": 0
}
