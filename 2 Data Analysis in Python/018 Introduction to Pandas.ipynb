{
 "cells": [
  {
   "cell_type": "code",
   "execution_count": 2,
   "metadata": {
    "collapsed": true
   },
   "outputs": [],
   "source": [
    "# standard imports\n",
    "import numpy as np\n",
    "import pandas as pd\n",
    "# import scipy.stats as stats\n",
    "# from sklearn import ...\n",
    "\n",
    "# graphing imports\n",
    "import matplotlib as mpl\n",
    "import matplotlib.pyplot as plt\n",
    "# import seaborn as sns\n",
    "\n",
    "%matplotlib inline"
   ]
  },
  {
   "cell_type": "code",
   "execution_count": 3,
   "metadata": {
    "collapsed": false
   },
   "outputs": [],
   "source": [
    "# create a data frame from a table copied from wikipedia\n",
    "calgary_df = pd.read_clipboard()"
   ]
  },
  {
   "cell_type": "code",
   "execution_count": 6,
   "metadata": {
    "collapsed": false
   },
   "outputs": [
    {
     "name": "stdout",
     "output_type": "stream",
     "text": [
      "<class 'pandas.core.frame.DataFrame'>\n",
      "Int64Index: 11 entries, 0 to 10\n",
      "Data columns (total 6 columns):\n",
      "Rank      11 non-null int64\n",
      "Nation    11 non-null object\n",
      "Gold      11 non-null int64\n",
      "Silver    11 non-null int64\n",
      "Bronze    11 non-null int64\n",
      "Total     11 non-null int64\n",
      "dtypes: int64(5), object(1)\n",
      "memory usage: 616.0+ bytes\n"
     ]
    }
   ],
   "source": [
    "# display data frame information\n",
    "calgary_df.info()"
   ]
  },
  {
   "cell_type": "code",
   "execution_count": 7,
   "metadata": {
    "collapsed": true
   },
   "outputs": [],
   "source": [
    "# create a data frame by reading the clipboard using data copied out of Teradata\n",
    "area1_df = pd.read_clipboard()"
   ]
  },
  {
   "cell_type": "code",
   "execution_count": 4,
   "metadata": {
    "collapsed": false
   },
   "outputs": [
    {
     "data": {
      "text/plain": [
       "A   -0.477103\n",
       "B   -0.633084\n",
       "C    2.551989\n",
       "D   -0.918584\n",
       "E   -1.008493\n",
       "F    0.561798\n",
       "G    0.539526\n",
       "H   -0.788453\n",
       "I    0.067096\n",
       "J    1.151809\n",
       "dtype: float64"
      ]
     },
     "execution_count": 4,
     "metadata": {},
     "output_type": "execute_result"
    }
   ],
   "source": [
    "# create a series of random normal variables with a specified index\n",
    "s1 = pd.Series(np.random.randn(10), index=list('ABCDEFGHIJ'))\n",
    "s1"
   ]
  },
  {
   "cell_type": "code",
   "execution_count": 5,
   "metadata": {
    "collapsed": false
   },
   "outputs": [
    {
     "data": {
      "text/plain": [
       "A     0\n",
       "B     1\n",
       "C     4\n",
       "E     9\n",
       "G    16\n",
       "H    25\n",
       "I    36\n",
       "J    49\n",
       "K    64\n",
       "L    81\n",
       "dtype: int32"
      ]
     },
     "execution_count": 5,
     "metadata": {},
     "output_type": "execute_result"
    }
   ],
   "source": [
    "# create a series with a custom index\n",
    "s2 = pd.Series(np.arange(10)**2, index=list('ABCEGHIJKL'))\n",
    "s2"
   ]
  },
  {
   "cell_type": "code",
   "execution_count": 6,
   "metadata": {
    "collapsed": false
   },
   "outputs": [
    {
     "data": {
      "text/plain": [
       "A    -0.477103\n",
       "B     0.366916\n",
       "C     6.551989\n",
       "E     7.991507\n",
       "G    16.539526\n",
       "H    24.211547\n",
       "I    36.067096\n",
       "J    50.151809\n",
       "dtype: float64"
      ]
     },
     "execution_count": 6,
     "metadata": {},
     "output_type": "execute_result"
    }
   ],
   "source": [
    "# add two pandas series together, and then drop the null values\n",
    "s3 = s1 + s2\n",
    "s3.dropna()"
   ]
  },
  {
   "cell_type": "code",
   "execution_count": 7,
   "metadata": {
    "collapsed": false
   },
   "outputs": [
    {
     "data": {
      "text/plain": [
       "DatetimeIndex(['2015-01-01', '2015-01-02', '2015-01-03', '2015-01-04',\n",
       "               '2015-01-05', '2015-01-06'],\n",
       "              dtype='datetime64[ns]', freq='D')"
      ]
     },
     "execution_count": 7,
     "metadata": {},
     "output_type": "execute_result"
    }
   ],
   "source": [
    "# create a Pandas index of a date range\n",
    "date_list = pd.date_range('20150101', periods=6, freq='D')\n",
    "date_list"
   ]
  },
  {
   "cell_type": "code",
   "execution_count": 8,
   "metadata": {
    "collapsed": false
   },
   "outputs": [
    {
     "data": {
      "text/html": [
       "<div>\n",
       "<table border=\"1\" class=\"dataframe\">\n",
       "  <thead>\n",
       "    <tr style=\"text-align: right;\">\n",
       "      <th></th>\n",
       "      <th>A</th>\n",
       "      <th>B</th>\n",
       "      <th>C</th>\n",
       "      <th>D</th>\n",
       "    </tr>\n",
       "  </thead>\n",
       "  <tbody>\n",
       "    <tr>\n",
       "      <th>2015-01-01</th>\n",
       "      <td>-0.852818</td>\n",
       "      <td>-1.648361</td>\n",
       "      <td>0.342131</td>\n",
       "      <td>0.899479</td>\n",
       "    </tr>\n",
       "    <tr>\n",
       "      <th>2015-01-02</th>\n",
       "      <td>0.725912</td>\n",
       "      <td>0.087800</td>\n",
       "      <td>0.139006</td>\n",
       "      <td>-0.318910</td>\n",
       "    </tr>\n",
       "    <tr>\n",
       "      <th>2015-01-03</th>\n",
       "      <td>1.572601</td>\n",
       "      <td>1.592835</td>\n",
       "      <td>-1.772723</td>\n",
       "      <td>0.713786</td>\n",
       "    </tr>\n",
       "    <tr>\n",
       "      <th>2015-01-04</th>\n",
       "      <td>1.797927</td>\n",
       "      <td>0.600935</td>\n",
       "      <td>-0.183380</td>\n",
       "      <td>-1.144088</td>\n",
       "    </tr>\n",
       "    <tr>\n",
       "      <th>2015-01-05</th>\n",
       "      <td>-0.843192</td>\n",
       "      <td>0.744456</td>\n",
       "      <td>-1.847296</td>\n",
       "      <td>1.004035</td>\n",
       "    </tr>\n",
       "    <tr>\n",
       "      <th>2015-01-06</th>\n",
       "      <td>-1.430559</td>\n",
       "      <td>-0.758815</td>\n",
       "      <td>0.354500</td>\n",
       "      <td>0.038475</td>\n",
       "    </tr>\n",
       "  </tbody>\n",
       "</table>\n",
       "</div>"
      ],
      "text/plain": [
       "                   A         B         C         D\n",
       "2015-01-01 -0.852818 -1.648361  0.342131  0.899479\n",
       "2015-01-02  0.725912  0.087800  0.139006 -0.318910\n",
       "2015-01-03  1.572601  1.592835 -1.772723  0.713786\n",
       "2015-01-04  1.797927  0.600935 -0.183380 -1.144088\n",
       "2015-01-05 -0.843192  0.744456 -1.847296  1.004035\n",
       "2015-01-06 -1.430559 -0.758815  0.354500  0.038475"
      ]
     },
     "execution_count": 8,
     "metadata": {},
     "output_type": "execute_result"
    }
   ],
   "source": [
    "# create a data frame with the date range index we just created\n",
    "df1 = pd.DataFrame(np.random.randn(6, 4), index=date_list, columns=list('ABCD'))\n",
    "df1"
   ]
  },
  {
   "cell_type": "code",
   "execution_count": 9,
   "metadata": {
    "collapsed": false
   },
   "outputs": [
    {
     "data": {
      "text/html": [
       "<div>\n",
       "<table border=\"1\" class=\"dataframe\">\n",
       "  <thead>\n",
       "    <tr style=\"text-align: right;\">\n",
       "      <th></th>\n",
       "      <th>A</th>\n",
       "      <th>B</th>\n",
       "      <th>C</th>\n",
       "      <th>D</th>\n",
       "      <th>E</th>\n",
       "      <th>F</th>\n",
       "    </tr>\n",
       "  </thead>\n",
       "  <tbody>\n",
       "    <tr>\n",
       "      <th>0</th>\n",
       "      <td>1</td>\n",
       "      <td>2016-02-29</td>\n",
       "      <td>1</td>\n",
       "      <td>3</td>\n",
       "      <td>test</td>\n",
       "      <td>foo</td>\n",
       "    </tr>\n",
       "    <tr>\n",
       "      <th>1</th>\n",
       "      <td>1</td>\n",
       "      <td>2016-02-29</td>\n",
       "      <td>1</td>\n",
       "      <td>3</td>\n",
       "      <td>train</td>\n",
       "      <td>foo</td>\n",
       "    </tr>\n",
       "    <tr>\n",
       "      <th>2</th>\n",
       "      <td>1</td>\n",
       "      <td>2016-02-29</td>\n",
       "      <td>1</td>\n",
       "      <td>3</td>\n",
       "      <td>test</td>\n",
       "      <td>foo</td>\n",
       "    </tr>\n",
       "    <tr>\n",
       "      <th>3</th>\n",
       "      <td>1</td>\n",
       "      <td>2016-02-29</td>\n",
       "      <td>1</td>\n",
       "      <td>3</td>\n",
       "      <td>train</td>\n",
       "      <td>foo</td>\n",
       "    </tr>\n",
       "  </tbody>\n",
       "</table>\n",
       "</div>"
      ],
      "text/plain": [
       "   A          B  C  D      E    F\n",
       "0  1 2016-02-29  1  3   test  foo\n",
       "1  1 2016-02-29  1  3  train  foo\n",
       "2  1 2016-02-29  1  3   test  foo\n",
       "3  1 2016-02-29  1  3  train  foo"
      ]
     },
     "execution_count": 9,
     "metadata": {},
     "output_type": "execute_result"
    }
   ],
   "source": [
    "# create a data frame from a dictionary\n",
    "df2 = pd.DataFrame({'A' : 1., \n",
    "                    'B' : pd.Timestamp('20160229'), \n",
    "                    'C' : pd.Series(1, index=list(range(4)), dtype='float32'), \n",
    "                    'D' : np.array([3] * 4, dtype = 'int32'), \n",
    "                    'E' : pd.Categorical(['test', 'train', 'test', 'train']), \n",
    "                    'F' : 'foo' \n",
    "                   })\n",
    "\n",
    "df2"
   ]
  },
  {
   "cell_type": "code",
   "execution_count": 10,
   "metadata": {
    "collapsed": false
   },
   "outputs": [
    {
     "data": {
      "text/plain": [
       "A           float64\n",
       "B    datetime64[ns]\n",
       "C           float32\n",
       "D             int32\n",
       "E          category\n",
       "F            object\n",
       "dtype: object"
      ]
     },
     "execution_count": 10,
     "metadata": {},
     "output_type": "execute_result"
    }
   ],
   "source": [
    "# show the datatypes in our data frame\n",
    "df2.dtypes"
   ]
  },
  {
   "cell_type": "code",
   "execution_count": 11,
   "metadata": {
    "collapsed": false
   },
   "outputs": [
    {
     "data": {
      "text/html": [
       "<div>\n",
       "<table border=\"1\" class=\"dataframe\">\n",
       "  <thead>\n",
       "    <tr style=\"text-align: right;\">\n",
       "      <th></th>\n",
       "      <th>A</th>\n",
       "      <th>B</th>\n",
       "      <th>C</th>\n",
       "      <th>D</th>\n",
       "    </tr>\n",
       "  </thead>\n",
       "  <tbody>\n",
       "    <tr>\n",
       "      <th>2015-01-01</th>\n",
       "      <td>-0.852818</td>\n",
       "      <td>-1.648361</td>\n",
       "      <td>0.342131</td>\n",
       "      <td>0.899479</td>\n",
       "    </tr>\n",
       "    <tr>\n",
       "      <th>2015-01-02</th>\n",
       "      <td>0.725912</td>\n",
       "      <td>0.087800</td>\n",
       "      <td>0.139006</td>\n",
       "      <td>-0.318910</td>\n",
       "    </tr>\n",
       "    <tr>\n",
       "      <th>2015-01-03</th>\n",
       "      <td>1.572601</td>\n",
       "      <td>1.592835</td>\n",
       "      <td>-1.772723</td>\n",
       "      <td>0.713786</td>\n",
       "    </tr>\n",
       "    <tr>\n",
       "      <th>2015-01-04</th>\n",
       "      <td>1.797927</td>\n",
       "      <td>0.600935</td>\n",
       "      <td>-0.183380</td>\n",
       "      <td>-1.144088</td>\n",
       "    </tr>\n",
       "    <tr>\n",
       "      <th>2015-01-05</th>\n",
       "      <td>-0.843192</td>\n",
       "      <td>0.744456</td>\n",
       "      <td>-1.847296</td>\n",
       "      <td>1.004035</td>\n",
       "    </tr>\n",
       "  </tbody>\n",
       "</table>\n",
       "</div>"
      ],
      "text/plain": [
       "                   A         B         C         D\n",
       "2015-01-01 -0.852818 -1.648361  0.342131  0.899479\n",
       "2015-01-02  0.725912  0.087800  0.139006 -0.318910\n",
       "2015-01-03  1.572601  1.592835 -1.772723  0.713786\n",
       "2015-01-04  1.797927  0.600935 -0.183380 -1.144088\n",
       "2015-01-05 -0.843192  0.744456 -1.847296  1.004035"
      ]
     },
     "execution_count": 11,
     "metadata": {},
     "output_type": "execute_result"
    }
   ],
   "source": [
    "# display the top 5 (by default) rows of the data frame\n",
    "df1.head()"
   ]
  },
  {
   "cell_type": "code",
   "execution_count": 12,
   "metadata": {
    "collapsed": false
   },
   "outputs": [
    {
     "data": {
      "text/html": [
       "<div>\n",
       "<table border=\"1\" class=\"dataframe\">\n",
       "  <thead>\n",
       "    <tr style=\"text-align: right;\">\n",
       "      <th></th>\n",
       "      <th>A</th>\n",
       "      <th>B</th>\n",
       "      <th>C</th>\n",
       "      <th>D</th>\n",
       "    </tr>\n",
       "  </thead>\n",
       "  <tbody>\n",
       "    <tr>\n",
       "      <th>2015-01-04</th>\n",
       "      <td>1.797927</td>\n",
       "      <td>0.600935</td>\n",
       "      <td>-0.183380</td>\n",
       "      <td>-1.144088</td>\n",
       "    </tr>\n",
       "    <tr>\n",
       "      <th>2015-01-05</th>\n",
       "      <td>-0.843192</td>\n",
       "      <td>0.744456</td>\n",
       "      <td>-1.847296</td>\n",
       "      <td>1.004035</td>\n",
       "    </tr>\n",
       "    <tr>\n",
       "      <th>2015-01-06</th>\n",
       "      <td>-1.430559</td>\n",
       "      <td>-0.758815</td>\n",
       "      <td>0.354500</td>\n",
       "      <td>0.038475</td>\n",
       "    </tr>\n",
       "  </tbody>\n",
       "</table>\n",
       "</div>"
      ],
      "text/plain": [
       "                   A         B         C         D\n",
       "2015-01-04  1.797927  0.600935 -0.183380 -1.144088\n",
       "2015-01-05 -0.843192  0.744456 -1.847296  1.004035\n",
       "2015-01-06 -1.430559 -0.758815  0.354500  0.038475"
      ]
     },
     "execution_count": 12,
     "metadata": {},
     "output_type": "execute_result"
    }
   ],
   "source": [
    "# display the last 3 rows of the data frame\n",
    "df1.tail(3)"
   ]
  },
  {
   "cell_type": "code",
   "execution_count": 13,
   "metadata": {
    "collapsed": false
   },
   "outputs": [
    {
     "data": {
      "text/plain": [
       "DatetimeIndex(['2015-01-01', '2015-01-02', '2015-01-03', '2015-01-04',\n",
       "               '2015-01-05', '2015-01-06'],\n",
       "              dtype='datetime64[ns]', freq='D')"
      ]
     },
     "execution_count": 13,
     "metadata": {},
     "output_type": "execute_result"
    }
   ],
   "source": [
    "# show the data frame index\n",
    "df1.index"
   ]
  },
  {
   "cell_type": "code",
   "execution_count": 14,
   "metadata": {
    "collapsed": false
   },
   "outputs": [
    {
     "data": {
      "text/plain": [
       "Index(['A', 'B', 'C', 'D'], dtype='object')"
      ]
     },
     "execution_count": 14,
     "metadata": {},
     "output_type": "execute_result"
    }
   ],
   "source": [
    "# show the data frame columns\n",
    "df1.columns"
   ]
  },
  {
   "cell_type": "code",
   "execution_count": 15,
   "metadata": {
    "collapsed": false
   },
   "outputs": [
    {
     "data": {
      "text/plain": [
       "array([[-0.85281807, -1.64836054,  0.3421311 ,  0.89947889],\n",
       "       [ 0.72591201,  0.08780012,  0.13900568, -0.31891048],\n",
       "       [ 1.57260113,  1.59283524, -1.77272305,  0.71378594],\n",
       "       [ 1.79792673,  0.60093474, -0.18338042, -1.14408794],\n",
       "       [-0.84319175,  0.74445576, -1.84729558,  1.00403457],\n",
       "       [-1.43055912, -0.75881546,  0.3544998 ,  0.03847514]])"
      ]
     },
     "execution_count": 15,
     "metadata": {},
     "output_type": "execute_result"
    }
   ],
   "source": [
    "# show all the non-index or column-name values as a NumPy array\n",
    "df1.values"
   ]
  },
  {
   "cell_type": "code",
   "execution_count": 16,
   "metadata": {
    "collapsed": false
   },
   "outputs": [
    {
     "data": {
      "text/html": [
       "<div>\n",
       "<table border=\"1\" class=\"dataframe\">\n",
       "  <thead>\n",
       "    <tr style=\"text-align: right;\">\n",
       "      <th></th>\n",
       "      <th>A</th>\n",
       "      <th>B</th>\n",
       "      <th>C</th>\n",
       "      <th>D</th>\n",
       "    </tr>\n",
       "  </thead>\n",
       "  <tbody>\n",
       "    <tr>\n",
       "      <th>count</th>\n",
       "      <td>6.000000</td>\n",
       "      <td>6.000000</td>\n",
       "      <td>6.000000</td>\n",
       "      <td>6.000000</td>\n",
       "    </tr>\n",
       "    <tr>\n",
       "      <th>mean</th>\n",
       "      <td>0.161645</td>\n",
       "      <td>0.103142</td>\n",
       "      <td>-0.494627</td>\n",
       "      <td>0.198796</td>\n",
       "    </tr>\n",
       "    <tr>\n",
       "      <th>std</th>\n",
       "      <td>1.382791</td>\n",
       "      <td>1.156653</td>\n",
       "      <td>1.037573</td>\n",
       "      <td>0.836856</td>\n",
       "    </tr>\n",
       "    <tr>\n",
       "      <th>min</th>\n",
       "      <td>-1.430559</td>\n",
       "      <td>-1.648361</td>\n",
       "      <td>-1.847296</td>\n",
       "      <td>-1.144088</td>\n",
       "    </tr>\n",
       "    <tr>\n",
       "      <th>25%</th>\n",
       "      <td>-0.850411</td>\n",
       "      <td>-0.547162</td>\n",
       "      <td>-1.375387</td>\n",
       "      <td>-0.229564</td>\n",
       "    </tr>\n",
       "    <tr>\n",
       "      <th>50%</th>\n",
       "      <td>-0.058640</td>\n",
       "      <td>0.344367</td>\n",
       "      <td>-0.022187</td>\n",
       "      <td>0.376131</td>\n",
       "    </tr>\n",
       "    <tr>\n",
       "      <th>75%</th>\n",
       "      <td>1.360929</td>\n",
       "      <td>0.708576</td>\n",
       "      <td>0.291350</td>\n",
       "      <td>0.853056</td>\n",
       "    </tr>\n",
       "    <tr>\n",
       "      <th>max</th>\n",
       "      <td>1.797927</td>\n",
       "      <td>1.592835</td>\n",
       "      <td>0.354500</td>\n",
       "      <td>1.004035</td>\n",
       "    </tr>\n",
       "  </tbody>\n",
       "</table>\n",
       "</div>"
      ],
      "text/plain": [
       "              A         B         C         D\n",
       "count  6.000000  6.000000  6.000000  6.000000\n",
       "mean   0.161645  0.103142 -0.494627  0.198796\n",
       "std    1.382791  1.156653  1.037573  0.836856\n",
       "min   -1.430559 -1.648361 -1.847296 -1.144088\n",
       "25%   -0.850411 -0.547162 -1.375387 -0.229564\n",
       "50%   -0.058640  0.344367 -0.022187  0.376131\n",
       "75%    1.360929  0.708576  0.291350  0.853056\n",
       "max    1.797927  1.592835  0.354500  1.004035"
      ]
     },
     "execution_count": 16,
     "metadata": {},
     "output_type": "execute_result"
    }
   ],
   "source": [
    "# describe (quick summary statistics) on the data frame\n",
    "df1.describe()"
   ]
  },
  {
   "cell_type": "code",
   "execution_count": 17,
   "metadata": {
    "collapsed": false
   },
   "outputs": [
    {
     "data": {
      "text/html": [
       "<div>\n",
       "<table border=\"1\" class=\"dataframe\">\n",
       "  <thead>\n",
       "    <tr style=\"text-align: right;\">\n",
       "      <th></th>\n",
       "      <th>2015-01-01 00:00:00</th>\n",
       "      <th>2015-01-02 00:00:00</th>\n",
       "      <th>2015-01-03 00:00:00</th>\n",
       "      <th>2015-01-04 00:00:00</th>\n",
       "      <th>2015-01-05 00:00:00</th>\n",
       "      <th>2015-01-06 00:00:00</th>\n",
       "    </tr>\n",
       "  </thead>\n",
       "  <tbody>\n",
       "    <tr>\n",
       "      <th>A</th>\n",
       "      <td>-0.852818</td>\n",
       "      <td>0.725912</td>\n",
       "      <td>1.572601</td>\n",
       "      <td>1.797927</td>\n",
       "      <td>-0.843192</td>\n",
       "      <td>-1.430559</td>\n",
       "    </tr>\n",
       "    <tr>\n",
       "      <th>B</th>\n",
       "      <td>-1.648361</td>\n",
       "      <td>0.087800</td>\n",
       "      <td>1.592835</td>\n",
       "      <td>0.600935</td>\n",
       "      <td>0.744456</td>\n",
       "      <td>-0.758815</td>\n",
       "    </tr>\n",
       "    <tr>\n",
       "      <th>C</th>\n",
       "      <td>0.342131</td>\n",
       "      <td>0.139006</td>\n",
       "      <td>-1.772723</td>\n",
       "      <td>-0.183380</td>\n",
       "      <td>-1.847296</td>\n",
       "      <td>0.354500</td>\n",
       "    </tr>\n",
       "    <tr>\n",
       "      <th>D</th>\n",
       "      <td>0.899479</td>\n",
       "      <td>-0.318910</td>\n",
       "      <td>0.713786</td>\n",
       "      <td>-1.144088</td>\n",
       "      <td>1.004035</td>\n",
       "      <td>0.038475</td>\n",
       "    </tr>\n",
       "  </tbody>\n",
       "</table>\n",
       "</div>"
      ],
      "text/plain": [
       "   2015-01-01  2015-01-02  2015-01-03  2015-01-04  2015-01-05  2015-01-06\n",
       "A   -0.852818    0.725912    1.572601    1.797927   -0.843192   -1.430559\n",
       "B   -1.648361    0.087800    1.592835    0.600935    0.744456   -0.758815\n",
       "C    0.342131    0.139006   -1.772723   -0.183380   -1.847296    0.354500\n",
       "D    0.899479   -0.318910    0.713786   -1.144088    1.004035    0.038475"
      ]
     },
     "execution_count": 17,
     "metadata": {},
     "output_type": "execute_result"
    }
   ],
   "source": [
    "# transpose the data frame\n",
    "df1.T"
   ]
  },
  {
   "cell_type": "code",
   "execution_count": 18,
   "metadata": {
    "collapsed": false
   },
   "outputs": [
    {
     "data": {
      "text/html": [
       "<div>\n",
       "<table border=\"1\" class=\"dataframe\">\n",
       "  <thead>\n",
       "    <tr style=\"text-align: right;\">\n",
       "      <th></th>\n",
       "      <th>D</th>\n",
       "      <th>C</th>\n",
       "      <th>B</th>\n",
       "      <th>A</th>\n",
       "    </tr>\n",
       "  </thead>\n",
       "  <tbody>\n",
       "    <tr>\n",
       "      <th>2015-01-01</th>\n",
       "      <td>0.899479</td>\n",
       "      <td>0.342131</td>\n",
       "      <td>-1.648361</td>\n",
       "      <td>-0.852818</td>\n",
       "    </tr>\n",
       "    <tr>\n",
       "      <th>2015-01-02</th>\n",
       "      <td>-0.318910</td>\n",
       "      <td>0.139006</td>\n",
       "      <td>0.087800</td>\n",
       "      <td>0.725912</td>\n",
       "    </tr>\n",
       "    <tr>\n",
       "      <th>2015-01-03</th>\n",
       "      <td>0.713786</td>\n",
       "      <td>-1.772723</td>\n",
       "      <td>1.592835</td>\n",
       "      <td>1.572601</td>\n",
       "    </tr>\n",
       "    <tr>\n",
       "      <th>2015-01-04</th>\n",
       "      <td>-1.144088</td>\n",
       "      <td>-0.183380</td>\n",
       "      <td>0.600935</td>\n",
       "      <td>1.797927</td>\n",
       "    </tr>\n",
       "    <tr>\n",
       "      <th>2015-01-05</th>\n",
       "      <td>1.004035</td>\n",
       "      <td>-1.847296</td>\n",
       "      <td>0.744456</td>\n",
       "      <td>-0.843192</td>\n",
       "    </tr>\n",
       "    <tr>\n",
       "      <th>2015-01-06</th>\n",
       "      <td>0.038475</td>\n",
       "      <td>0.354500</td>\n",
       "      <td>-0.758815</td>\n",
       "      <td>-1.430559</td>\n",
       "    </tr>\n",
       "  </tbody>\n",
       "</table>\n",
       "</div>"
      ],
      "text/plain": [
       "                   D         C         B         A\n",
       "2015-01-01  0.899479  0.342131 -1.648361 -0.852818\n",
       "2015-01-02 -0.318910  0.139006  0.087800  0.725912\n",
       "2015-01-03  0.713786 -1.772723  1.592835  1.572601\n",
       "2015-01-04 -1.144088 -0.183380  0.600935  1.797927\n",
       "2015-01-05  1.004035 -1.847296  0.744456 -0.843192\n",
       "2015-01-06  0.038475  0.354500 -0.758815 -1.430559"
      ]
     },
     "execution_count": 18,
     "metadata": {},
     "output_type": "execute_result"
    }
   ],
   "source": [
    "# sort the data frame using the index\n",
    "df1.sort_index(axis=1, ascending=False)"
   ]
  },
  {
   "cell_type": "code",
   "execution_count": 19,
   "metadata": {
    "collapsed": false
   },
   "outputs": [
    {
     "data": {
      "text/html": [
       "<div>\n",
       "<table border=\"1\" class=\"dataframe\">\n",
       "  <thead>\n",
       "    <tr style=\"text-align: right;\">\n",
       "      <th></th>\n",
       "      <th>A</th>\n",
       "      <th>B</th>\n",
       "      <th>C</th>\n",
       "      <th>D</th>\n",
       "    </tr>\n",
       "  </thead>\n",
       "  <tbody>\n",
       "    <tr>\n",
       "      <th>2015-01-01</th>\n",
       "      <td>-0.852818</td>\n",
       "      <td>-1.648361</td>\n",
       "      <td>0.342131</td>\n",
       "      <td>0.899479</td>\n",
       "    </tr>\n",
       "    <tr>\n",
       "      <th>2015-01-06</th>\n",
       "      <td>-1.430559</td>\n",
       "      <td>-0.758815</td>\n",
       "      <td>0.354500</td>\n",
       "      <td>0.038475</td>\n",
       "    </tr>\n",
       "    <tr>\n",
       "      <th>2015-01-02</th>\n",
       "      <td>0.725912</td>\n",
       "      <td>0.087800</td>\n",
       "      <td>0.139006</td>\n",
       "      <td>-0.318910</td>\n",
       "    </tr>\n",
       "    <tr>\n",
       "      <th>2015-01-04</th>\n",
       "      <td>1.797927</td>\n",
       "      <td>0.600935</td>\n",
       "      <td>-0.183380</td>\n",
       "      <td>-1.144088</td>\n",
       "    </tr>\n",
       "    <tr>\n",
       "      <th>2015-01-05</th>\n",
       "      <td>-0.843192</td>\n",
       "      <td>0.744456</td>\n",
       "      <td>-1.847296</td>\n",
       "      <td>1.004035</td>\n",
       "    </tr>\n",
       "    <tr>\n",
       "      <th>2015-01-03</th>\n",
       "      <td>1.572601</td>\n",
       "      <td>1.592835</td>\n",
       "      <td>-1.772723</td>\n",
       "      <td>0.713786</td>\n",
       "    </tr>\n",
       "  </tbody>\n",
       "</table>\n",
       "</div>"
      ],
      "text/plain": [
       "                   A         B         C         D\n",
       "2015-01-01 -0.852818 -1.648361  0.342131  0.899479\n",
       "2015-01-06 -1.430559 -0.758815  0.354500  0.038475\n",
       "2015-01-02  0.725912  0.087800  0.139006 -0.318910\n",
       "2015-01-04  1.797927  0.600935 -0.183380 -1.144088\n",
       "2015-01-05 -0.843192  0.744456 -1.847296  1.004035\n",
       "2015-01-03  1.572601  1.592835 -1.772723  0.713786"
      ]
     },
     "execution_count": 19,
     "metadata": {},
     "output_type": "execute_result"
    }
   ],
   "source": [
    "# sort the data frame by non-index values\n",
    "df1.sort_values(by='B')"
   ]
  },
  {
   "cell_type": "code",
   "execution_count": 20,
   "metadata": {
    "collapsed": false
   },
   "outputs": [
    {
     "data": {
      "text/plain": [
       "2015-01-01   -0.852818\n",
       "2015-01-02    0.725912\n",
       "2015-01-03    1.572601\n",
       "2015-01-04    1.797927\n",
       "2015-01-05   -0.843192\n",
       "2015-01-06   -1.430559\n",
       "Freq: D, Name: A, dtype: float64"
      ]
     },
     "execution_count": 20,
     "metadata": {},
     "output_type": "execute_result"
    }
   ],
   "source": [
    "# call a column in the data frame as a series\n",
    "df1.A"
   ]
  },
  {
   "cell_type": "code",
   "execution_count": 21,
   "metadata": {
    "collapsed": false
   },
   "outputs": [
    {
     "data": {
      "text/plain": [
       "2015-01-01   -0.852818\n",
       "2015-01-02    0.725912\n",
       "2015-01-03    1.572601\n",
       "2015-01-04    1.797927\n",
       "2015-01-05   -0.843192\n",
       "2015-01-06   -1.430559\n",
       "Freq: D, Name: A, dtype: float64"
      ]
     },
     "execution_count": 21,
     "metadata": {},
     "output_type": "execute_result"
    }
   ],
   "source": [
    "# call a column in the data frame as a series\n",
    "df1['A']"
   ]
  },
  {
   "cell_type": "code",
   "execution_count": 22,
   "metadata": {
    "collapsed": false
   },
   "outputs": [
    {
     "data": {
      "text/html": [
       "<div>\n",
       "<table border=\"1\" class=\"dataframe\">\n",
       "  <thead>\n",
       "    <tr style=\"text-align: right;\">\n",
       "      <th></th>\n",
       "      <th>A</th>\n",
       "      <th>B</th>\n",
       "      <th>C</th>\n",
       "      <th>D</th>\n",
       "    </tr>\n",
       "  </thead>\n",
       "  <tbody>\n",
       "    <tr>\n",
       "      <th>2015-01-01</th>\n",
       "      <td>-0.852818</td>\n",
       "      <td>-1.648361</td>\n",
       "      <td>0.342131</td>\n",
       "      <td>0.899479</td>\n",
       "    </tr>\n",
       "    <tr>\n",
       "      <th>2015-01-02</th>\n",
       "      <td>0.725912</td>\n",
       "      <td>0.087800</td>\n",
       "      <td>0.139006</td>\n",
       "      <td>-0.318910</td>\n",
       "    </tr>\n",
       "    <tr>\n",
       "      <th>2015-01-03</th>\n",
       "      <td>1.572601</td>\n",
       "      <td>1.592835</td>\n",
       "      <td>-1.772723</td>\n",
       "      <td>0.713786</td>\n",
       "    </tr>\n",
       "  </tbody>\n",
       "</table>\n",
       "</div>"
      ],
      "text/plain": [
       "                   A         B         C         D\n",
       "2015-01-01 -0.852818 -1.648361  0.342131  0.899479\n",
       "2015-01-02  0.725912  0.087800  0.139006 -0.318910\n",
       "2015-01-03  1.572601  1.592835 -1.772723  0.713786"
      ]
     },
     "execution_count": 22,
     "metadata": {},
     "output_type": "execute_result"
    }
   ],
   "source": [
    "# slice the data frame using positions\n",
    "df1[0:3]"
   ]
  },
  {
   "cell_type": "code",
   "execution_count": 23,
   "metadata": {
    "collapsed": false
   },
   "outputs": [
    {
     "data": {
      "text/html": [
       "<div>\n",
       "<table border=\"1\" class=\"dataframe\">\n",
       "  <thead>\n",
       "    <tr style=\"text-align: right;\">\n",
       "      <th></th>\n",
       "      <th>A</th>\n",
       "      <th>B</th>\n",
       "      <th>C</th>\n",
       "      <th>D</th>\n",
       "    </tr>\n",
       "  </thead>\n",
       "  <tbody>\n",
       "    <tr>\n",
       "      <th>2015-01-02</th>\n",
       "      <td>0.725912</td>\n",
       "      <td>0.087800</td>\n",
       "      <td>0.139006</td>\n",
       "      <td>-0.318910</td>\n",
       "    </tr>\n",
       "    <tr>\n",
       "      <th>2015-01-03</th>\n",
       "      <td>1.572601</td>\n",
       "      <td>1.592835</td>\n",
       "      <td>-1.772723</td>\n",
       "      <td>0.713786</td>\n",
       "    </tr>\n",
       "    <tr>\n",
       "      <th>2015-01-04</th>\n",
       "      <td>1.797927</td>\n",
       "      <td>0.600935</td>\n",
       "      <td>-0.183380</td>\n",
       "      <td>-1.144088</td>\n",
       "    </tr>\n",
       "    <tr>\n",
       "      <th>2015-01-05</th>\n",
       "      <td>-0.843192</td>\n",
       "      <td>0.744456</td>\n",
       "      <td>-1.847296</td>\n",
       "      <td>1.004035</td>\n",
       "    </tr>\n",
       "  </tbody>\n",
       "</table>\n",
       "</div>"
      ],
      "text/plain": [
       "                   A         B         C         D\n",
       "2015-01-02  0.725912  0.087800  0.139006 -0.318910\n",
       "2015-01-03  1.572601  1.592835 -1.772723  0.713786\n",
       "2015-01-04  1.797927  0.600935 -0.183380 -1.144088\n",
       "2015-01-05 -0.843192  0.744456 -1.847296  1.004035"
      ]
     },
     "execution_count": 23,
     "metadata": {},
     "output_type": "execute_result"
    }
   ],
   "source": [
    "# slice the data frame using index values\n",
    "df1['2015-01-02':'2015-01-05']"
   ]
  },
  {
   "cell_type": "code",
   "execution_count": 24,
   "metadata": {
    "collapsed": false
   },
   "outputs": [
    {
     "data": {
      "text/plain": [
       "DatetimeIndex(['2015-01-01', '2015-01-02', '2015-01-03', '2015-01-04',\n",
       "               '2015-01-05', '2015-01-06'],\n",
       "              dtype='datetime64[ns]', freq='D')"
      ]
     },
     "execution_count": 24,
     "metadata": {},
     "output_type": "execute_result"
    }
   ],
   "source": [
    "# remember what the date list index that we made looks like\n",
    "date_list"
   ]
  },
  {
   "cell_type": "code",
   "execution_count": 25,
   "metadata": {
    "collapsed": false
   },
   "outputs": [
    {
     "data": {
      "text/plain": [
       "Timestamp('2015-01-01 00:00:00', offset='D')"
      ]
     },
     "execution_count": 25,
     "metadata": {},
     "output_type": "execute_result"
    }
   ],
   "source": [
    "# you can slide the date list like any other iterable in Python\n",
    "date_list[0]"
   ]
  },
  {
   "cell_type": "code",
   "execution_count": 26,
   "metadata": {
    "collapsed": false
   },
   "outputs": [
    {
     "data": {
      "text/plain": [
       "A    1.572601\n",
       "B    1.592835\n",
       "C   -1.772723\n",
       "D    0.713786\n",
       "Name: 2015-01-03 00:00:00, dtype: float64"
      ]
     },
     "execution_count": 26,
     "metadata": {},
     "output_type": "execute_result"
    }
   ],
   "source": [
    "# call .loc to return a row as a series based on a supplied index\n",
    "df1.loc['2015-01-03']"
   ]
  },
  {
   "cell_type": "code",
   "execution_count": 27,
   "metadata": {
    "collapsed": false
   },
   "outputs": [
    {
     "data": {
      "text/plain": [
       "A   -0.852818\n",
       "B   -1.648361\n",
       "C    0.342131\n",
       "D    0.899479\n",
       "Name: 2015-01-01 00:00:00, dtype: float64"
      ]
     },
     "execution_count": 27,
     "metadata": {},
     "output_type": "execute_result"
    }
   ],
   "source": [
    "# you can also do this by slicing the index\n",
    "df1.loc[date_list[0]]"
   ]
  },
  {
   "cell_type": "code",
   "execution_count": 28,
   "metadata": {
    "collapsed": false
   },
   "outputs": [
    {
     "data": {
      "text/html": [
       "<div>\n",
       "<table border=\"1\" class=\"dataframe\">\n",
       "  <thead>\n",
       "    <tr style=\"text-align: right;\">\n",
       "      <th></th>\n",
       "      <th>A</th>\n",
       "      <th>B</th>\n",
       "    </tr>\n",
       "  </thead>\n",
       "  <tbody>\n",
       "    <tr>\n",
       "      <th>2015-01-01</th>\n",
       "      <td>-0.852818</td>\n",
       "      <td>-1.648361</td>\n",
       "    </tr>\n",
       "    <tr>\n",
       "      <th>2015-01-02</th>\n",
       "      <td>0.725912</td>\n",
       "      <td>0.087800</td>\n",
       "    </tr>\n",
       "    <tr>\n",
       "      <th>2015-01-03</th>\n",
       "      <td>1.572601</td>\n",
       "      <td>1.592835</td>\n",
       "    </tr>\n",
       "    <tr>\n",
       "      <th>2015-01-04</th>\n",
       "      <td>1.797927</td>\n",
       "      <td>0.600935</td>\n",
       "    </tr>\n",
       "    <tr>\n",
       "      <th>2015-01-05</th>\n",
       "      <td>-0.843192</td>\n",
       "      <td>0.744456</td>\n",
       "    </tr>\n",
       "    <tr>\n",
       "      <th>2015-01-06</th>\n",
       "      <td>-1.430559</td>\n",
       "      <td>-0.758815</td>\n",
       "    </tr>\n",
       "  </tbody>\n",
       "</table>\n",
       "</div>"
      ],
      "text/plain": [
       "                   A         B\n",
       "2015-01-01 -0.852818 -1.648361\n",
       "2015-01-02  0.725912  0.087800\n",
       "2015-01-03  1.572601  1.592835\n",
       "2015-01-04  1.797927  0.600935\n",
       "2015-01-05 -0.843192  0.744456\n",
       "2015-01-06 -1.430559 -0.758815"
      ]
     },
     "execution_count": 28,
     "metadata": {},
     "output_type": "execute_result"
    }
   ],
   "source": [
    "# data frame slicing\n",
    "df1.loc[:, ['A', 'B']]"
   ]
  },
  {
   "cell_type": "code",
   "execution_count": 29,
   "metadata": {
    "collapsed": false
   },
   "outputs": [
    {
     "data": {
      "text/html": [
       "<div>\n",
       "<table border=\"1\" class=\"dataframe\">\n",
       "  <thead>\n",
       "    <tr style=\"text-align: right;\">\n",
       "      <th></th>\n",
       "      <th>A</th>\n",
       "      <th>B</th>\n",
       "    </tr>\n",
       "  </thead>\n",
       "  <tbody>\n",
       "    <tr>\n",
       "      <th>2015-01-02</th>\n",
       "      <td>0.725912</td>\n",
       "      <td>0.087800</td>\n",
       "    </tr>\n",
       "    <tr>\n",
       "      <th>2015-01-03</th>\n",
       "      <td>1.572601</td>\n",
       "      <td>1.592835</td>\n",
       "    </tr>\n",
       "    <tr>\n",
       "      <th>2015-01-04</th>\n",
       "      <td>1.797927</td>\n",
       "      <td>0.600935</td>\n",
       "    </tr>\n",
       "    <tr>\n",
       "      <th>2015-01-05</th>\n",
       "      <td>-0.843192</td>\n",
       "      <td>0.744456</td>\n",
       "    </tr>\n",
       "  </tbody>\n",
       "</table>\n",
       "</div>"
      ],
      "text/plain": [
       "                   A         B\n",
       "2015-01-02  0.725912  0.087800\n",
       "2015-01-03  1.572601  1.592835\n",
       "2015-01-04  1.797927  0.600935\n",
       "2015-01-05 -0.843192  0.744456"
      ]
     },
     "execution_count": 29,
     "metadata": {},
     "output_type": "execute_result"
    }
   ],
   "source": [
    "# data frame slicing\n",
    "df1.loc['2015-01-02':'2015-01-05', ['A', 'B']]"
   ]
  },
  {
   "cell_type": "code",
   "execution_count": 30,
   "metadata": {
    "collapsed": false
   },
   "outputs": [
    {
     "data": {
      "text/plain": [
       "B    0.600935\n",
       "C   -0.183380\n",
       "Name: 2015-01-04 00:00:00, dtype: float64"
      ]
     },
     "execution_count": 30,
     "metadata": {},
     "output_type": "execute_result"
    }
   ],
   "source": [
    "# data frame slicing\n",
    "df1.loc['2015-01-04', ['B', 'C']]"
   ]
  },
  {
   "cell_type": "code",
   "execution_count": 31,
   "metadata": {
    "collapsed": false
   },
   "outputs": [
    {
     "data": {
      "text/plain": [
       "-1.6483605387377085"
      ]
     },
     "execution_count": 31,
     "metadata": {},
     "output_type": "execute_result"
    }
   ],
   "source": [
    "# data frame slicing\n",
    "df1.loc['2015-01-01', 'B']"
   ]
  },
  {
   "cell_type": "code",
   "execution_count": 32,
   "metadata": {
    "collapsed": false
   },
   "outputs": [
    {
     "data": {
      "text/plain": [
       "A    1.797927\n",
       "B    0.600935\n",
       "C   -0.183380\n",
       "D   -1.144088\n",
       "Name: 2015-01-04 00:00:00, dtype: float64"
      ]
     },
     "execution_count": 32,
     "metadata": {},
     "output_type": "execute_result"
    }
   ],
   "source": [
    "# data frame slicing by position\n",
    "df1.iloc[3]"
   ]
  },
  {
   "cell_type": "code",
   "execution_count": 33,
   "metadata": {
    "collapsed": false
   },
   "outputs": [
    {
     "data": {
      "text/html": [
       "<div>\n",
       "<table border=\"1\" class=\"dataframe\">\n",
       "  <thead>\n",
       "    <tr style=\"text-align: right;\">\n",
       "      <th></th>\n",
       "      <th>A</th>\n",
       "      <th>B</th>\n",
       "    </tr>\n",
       "  </thead>\n",
       "  <tbody>\n",
       "    <tr>\n",
       "      <th>2015-01-04</th>\n",
       "      <td>1.797927</td>\n",
       "      <td>0.600935</td>\n",
       "    </tr>\n",
       "    <tr>\n",
       "      <th>2015-01-05</th>\n",
       "      <td>-0.843192</td>\n",
       "      <td>0.744456</td>\n",
       "    </tr>\n",
       "  </tbody>\n",
       "</table>\n",
       "</div>"
      ],
      "text/plain": [
       "                   A         B\n",
       "2015-01-04  1.797927  0.600935\n",
       "2015-01-05 -0.843192  0.744456"
      ]
     },
     "execution_count": 33,
     "metadata": {},
     "output_type": "execute_result"
    }
   ],
   "source": [
    "# data frame slicing by position\n",
    "df1.iloc[3:5, 0:2]"
   ]
  },
  {
   "cell_type": "code",
   "execution_count": 34,
   "metadata": {
    "collapsed": false
   },
   "outputs": [
    {
     "data": {
      "text/html": [
       "<div>\n",
       "<table border=\"1\" class=\"dataframe\">\n",
       "  <thead>\n",
       "    <tr style=\"text-align: right;\">\n",
       "      <th></th>\n",
       "      <th>A</th>\n",
       "      <th>B</th>\n",
       "      <th>C</th>\n",
       "      <th>D</th>\n",
       "    </tr>\n",
       "  </thead>\n",
       "  <tbody>\n",
       "    <tr>\n",
       "      <th>2015-01-02</th>\n",
       "      <td>0.725912</td>\n",
       "      <td>0.087800</td>\n",
       "      <td>0.139006</td>\n",
       "      <td>-0.318910</td>\n",
       "    </tr>\n",
       "    <tr>\n",
       "      <th>2015-01-03</th>\n",
       "      <td>1.572601</td>\n",
       "      <td>1.592835</td>\n",
       "      <td>-1.772723</td>\n",
       "      <td>0.713786</td>\n",
       "    </tr>\n",
       "    <tr>\n",
       "      <th>2015-01-04</th>\n",
       "      <td>1.797927</td>\n",
       "      <td>0.600935</td>\n",
       "      <td>-0.183380</td>\n",
       "      <td>-1.144088</td>\n",
       "    </tr>\n",
       "  </tbody>\n",
       "</table>\n",
       "</div>"
      ],
      "text/plain": [
       "                   A         B         C         D\n",
       "2015-01-02  0.725912  0.087800  0.139006 -0.318910\n",
       "2015-01-03  1.572601  1.592835 -1.772723  0.713786\n",
       "2015-01-04  1.797927  0.600935 -0.183380 -1.144088"
      ]
     },
     "execution_count": 34,
     "metadata": {},
     "output_type": "execute_result"
    }
   ],
   "source": [
    "# data frames with conditions\n",
    "# pull any rows where the value in column A is > 0\n",
    "df1[df1.A > 0]"
   ]
  },
  {
   "cell_type": "code",
   "execution_count": 35,
   "metadata": {
    "collapsed": false
   },
   "outputs": [
    {
     "data": {
      "text/html": [
       "<div>\n",
       "<table border=\"1\" class=\"dataframe\">\n",
       "  <thead>\n",
       "    <tr style=\"text-align: right;\">\n",
       "      <th></th>\n",
       "      <th>A</th>\n",
       "      <th>B</th>\n",
       "      <th>C</th>\n",
       "      <th>D</th>\n",
       "    </tr>\n",
       "  </thead>\n",
       "  <tbody>\n",
       "    <tr>\n",
       "      <th>2015-01-02</th>\n",
       "      <td>0.725912</td>\n",
       "      <td>0.087800</td>\n",
       "      <td>0.139006</td>\n",
       "      <td>-0.318910</td>\n",
       "    </tr>\n",
       "    <tr>\n",
       "      <th>2015-01-03</th>\n",
       "      <td>1.572601</td>\n",
       "      <td>1.592835</td>\n",
       "      <td>-1.772723</td>\n",
       "      <td>0.713786</td>\n",
       "    </tr>\n",
       "    <tr>\n",
       "      <th>2015-01-04</th>\n",
       "      <td>1.797927</td>\n",
       "      <td>0.600935</td>\n",
       "      <td>-0.183380</td>\n",
       "      <td>-1.144088</td>\n",
       "    </tr>\n",
       "  </tbody>\n",
       "</table>\n",
       "</div>"
      ],
      "text/plain": [
       "                   A         B         C         D\n",
       "2015-01-02  0.725912  0.087800  0.139006 -0.318910\n",
       "2015-01-03  1.572601  1.592835 -1.772723  0.713786\n",
       "2015-01-04  1.797927  0.600935 -0.183380 -1.144088"
      ]
     },
     "execution_count": 35,
     "metadata": {},
     "output_type": "execute_result"
    }
   ],
   "source": [
    "# data frames with conditions\n",
    "# pull any rows where the value in column A is > 0\n",
    "df1[df1['A'] > 0]"
   ]
  },
  {
   "cell_type": "code",
   "execution_count": 36,
   "metadata": {
    "collapsed": false
   },
   "outputs": [
    {
     "data": {
      "text/html": [
       "<div>\n",
       "<table border=\"1\" class=\"dataframe\">\n",
       "  <thead>\n",
       "    <tr style=\"text-align: right;\">\n",
       "      <th></th>\n",
       "      <th>A</th>\n",
       "      <th>B</th>\n",
       "      <th>C</th>\n",
       "      <th>D</th>\n",
       "    </tr>\n",
       "  </thead>\n",
       "  <tbody>\n",
       "    <tr>\n",
       "      <th>2015-01-01</th>\n",
       "      <td>NaN</td>\n",
       "      <td>NaN</td>\n",
       "      <td>0.342131</td>\n",
       "      <td>0.899479</td>\n",
       "    </tr>\n",
       "    <tr>\n",
       "      <th>2015-01-02</th>\n",
       "      <td>0.725912</td>\n",
       "      <td>0.087800</td>\n",
       "      <td>0.139006</td>\n",
       "      <td>NaN</td>\n",
       "    </tr>\n",
       "    <tr>\n",
       "      <th>2015-01-03</th>\n",
       "      <td>1.572601</td>\n",
       "      <td>1.592835</td>\n",
       "      <td>NaN</td>\n",
       "      <td>0.713786</td>\n",
       "    </tr>\n",
       "    <tr>\n",
       "      <th>2015-01-04</th>\n",
       "      <td>1.797927</td>\n",
       "      <td>0.600935</td>\n",
       "      <td>NaN</td>\n",
       "      <td>NaN</td>\n",
       "    </tr>\n",
       "    <tr>\n",
       "      <th>2015-01-05</th>\n",
       "      <td>NaN</td>\n",
       "      <td>0.744456</td>\n",
       "      <td>NaN</td>\n",
       "      <td>1.004035</td>\n",
       "    </tr>\n",
       "    <tr>\n",
       "      <th>2015-01-06</th>\n",
       "      <td>NaN</td>\n",
       "      <td>NaN</td>\n",
       "      <td>0.354500</td>\n",
       "      <td>0.038475</td>\n",
       "    </tr>\n",
       "  </tbody>\n",
       "</table>\n",
       "</div>"
      ],
      "text/plain": [
       "                   A         B         C         D\n",
       "2015-01-01       NaN       NaN  0.342131  0.899479\n",
       "2015-01-02  0.725912  0.087800  0.139006       NaN\n",
       "2015-01-03  1.572601  1.592835       NaN  0.713786\n",
       "2015-01-04  1.797927  0.600935       NaN       NaN\n",
       "2015-01-05       NaN  0.744456       NaN  1.004035\n",
       "2015-01-06       NaN       NaN  0.354500  0.038475"
      ]
     },
     "execution_count": 36,
     "metadata": {},
     "output_type": "execute_result"
    }
   ],
   "source": [
    "# data frame with conditions\n",
    "# show any cell where the value is > 0\n",
    "df1[df1 > 0]"
   ]
  },
  {
   "cell_type": "code",
   "execution_count": 37,
   "metadata": {
    "collapsed": true
   },
   "outputs": [],
   "source": [
    "# create a new data frame as a copy of an existing data frame\n",
    "df2 = df1.copy()"
   ]
  },
  {
   "cell_type": "code",
   "execution_count": 38,
   "metadata": {
    "collapsed": false
   },
   "outputs": [
    {
     "name": "stdout",
     "output_type": "stream",
     "text": [
      "162029920\n",
      "162119016\n"
     ]
    }
   ],
   "source": [
    "# print the IDs of both data frames, to show that they're separate objects in memory\n",
    "print(id(df1), id(df2), sep='\\n')"
   ]
  },
  {
   "cell_type": "code",
   "execution_count": 39,
   "metadata": {
    "collapsed": false
   },
   "outputs": [
    {
     "data": {
      "text/html": [
       "<div>\n",
       "<table border=\"1\" class=\"dataframe\">\n",
       "  <thead>\n",
       "    <tr style=\"text-align: right;\">\n",
       "      <th></th>\n",
       "      <th>A</th>\n",
       "      <th>B</th>\n",
       "      <th>C</th>\n",
       "      <th>D</th>\n",
       "      <th>E</th>\n",
       "    </tr>\n",
       "  </thead>\n",
       "  <tbody>\n",
       "    <tr>\n",
       "      <th>2015-01-01</th>\n",
       "      <td>-0.852818</td>\n",
       "      <td>-1.648361</td>\n",
       "      <td>0.342131</td>\n",
       "      <td>0.899479</td>\n",
       "      <td>one</td>\n",
       "    </tr>\n",
       "    <tr>\n",
       "      <th>2015-01-02</th>\n",
       "      <td>0.725912</td>\n",
       "      <td>0.087800</td>\n",
       "      <td>0.139006</td>\n",
       "      <td>-0.318910</td>\n",
       "      <td>one</td>\n",
       "    </tr>\n",
       "    <tr>\n",
       "      <th>2015-01-03</th>\n",
       "      <td>1.572601</td>\n",
       "      <td>1.592835</td>\n",
       "      <td>-1.772723</td>\n",
       "      <td>0.713786</td>\n",
       "      <td>two</td>\n",
       "    </tr>\n",
       "    <tr>\n",
       "      <th>2015-01-04</th>\n",
       "      <td>1.797927</td>\n",
       "      <td>0.600935</td>\n",
       "      <td>-0.183380</td>\n",
       "      <td>-1.144088</td>\n",
       "      <td>three</td>\n",
       "    </tr>\n",
       "    <tr>\n",
       "      <th>2015-01-05</th>\n",
       "      <td>-0.843192</td>\n",
       "      <td>0.744456</td>\n",
       "      <td>-1.847296</td>\n",
       "      <td>1.004035</td>\n",
       "      <td>four</td>\n",
       "    </tr>\n",
       "    <tr>\n",
       "      <th>2015-01-06</th>\n",
       "      <td>-1.430559</td>\n",
       "      <td>-0.758815</td>\n",
       "      <td>0.354500</td>\n",
       "      <td>0.038475</td>\n",
       "      <td>three</td>\n",
       "    </tr>\n",
       "  </tbody>\n",
       "</table>\n",
       "</div>"
      ],
      "text/plain": [
       "                   A         B         C         D      E\n",
       "2015-01-01 -0.852818 -1.648361  0.342131  0.899479    one\n",
       "2015-01-02  0.725912  0.087800  0.139006 -0.318910    one\n",
       "2015-01-03  1.572601  1.592835 -1.772723  0.713786    two\n",
       "2015-01-04  1.797927  0.600935 -0.183380 -1.144088  three\n",
       "2015-01-05 -0.843192  0.744456 -1.847296  1.004035   four\n",
       "2015-01-06 -1.430559 -0.758815  0.354500  0.038475  three"
      ]
     },
     "execution_count": 39,
     "metadata": {},
     "output_type": "execute_result"
    }
   ],
   "source": [
    "# create a new column \n",
    "df2['E'] = ['one', 'one', 'two', 'three', 'four', 'three']\n",
    "df2"
   ]
  },
  {
   "cell_type": "code",
   "execution_count": 40,
   "metadata": {
    "collapsed": false
   },
   "outputs": [
    {
     "data": {
      "text/plain": [
       "2015-01-01    False\n",
       "2015-01-02    False\n",
       "2015-01-03     True\n",
       "2015-01-04    False\n",
       "2015-01-05     True\n",
       "2015-01-06    False\n",
       "Freq: D, Name: E, dtype: bool"
      ]
     },
     "execution_count": 40,
     "metadata": {},
     "output_type": "execute_result"
    }
   ],
   "source": [
    "# use the \"is in\" method to test for inclusion\n",
    "# show Booleans for column E testing for inclusion criteria\n",
    "df2['E'].isin(['two', 'four'])"
   ]
  },
  {
   "cell_type": "code",
   "execution_count": 41,
   "metadata": {
    "collapsed": false
   },
   "outputs": [
    {
     "data": {
      "text/html": [
       "<div>\n",
       "<table border=\"1\" class=\"dataframe\">\n",
       "  <thead>\n",
       "    <tr style=\"text-align: right;\">\n",
       "      <th></th>\n",
       "      <th>A</th>\n",
       "      <th>B</th>\n",
       "      <th>C</th>\n",
       "      <th>D</th>\n",
       "      <th>E</th>\n",
       "    </tr>\n",
       "  </thead>\n",
       "  <tbody>\n",
       "    <tr>\n",
       "      <th>2015-01-03</th>\n",
       "      <td>1.572601</td>\n",
       "      <td>1.592835</td>\n",
       "      <td>-1.772723</td>\n",
       "      <td>0.713786</td>\n",
       "      <td>two</td>\n",
       "    </tr>\n",
       "    <tr>\n",
       "      <th>2015-01-05</th>\n",
       "      <td>-0.843192</td>\n",
       "      <td>0.744456</td>\n",
       "      <td>-1.847296</td>\n",
       "      <td>1.004035</td>\n",
       "      <td>four</td>\n",
       "    </tr>\n",
       "  </tbody>\n",
       "</table>\n",
       "</div>"
      ],
      "text/plain": [
       "                   A         B         C         D     E\n",
       "2015-01-03  1.572601  1.592835 -1.772723  0.713786   two\n",
       "2015-01-05 -0.843192  0.744456 -1.847296  1.004035  four"
      ]
     },
     "execution_count": 41,
     "metadata": {},
     "output_type": "execute_result"
    }
   ],
   "source": [
    "# another form of the syntax where you can use \"is in\"\n",
    "# display all rows where column E has the value 'two' or 'four'\n",
    "df2[df2['E'].isin(['two', 'four'])]"
   ]
  },
  {
   "cell_type": "code",
   "execution_count": 42,
   "metadata": {
    "collapsed": false
   },
   "outputs": [
    {
     "data": {
      "text/plain": [
       "2015-01-01    1\n",
       "2015-01-02    2\n",
       "2015-01-03    3\n",
       "2015-01-04    4\n",
       "2015-01-05    5\n",
       "2015-01-06    6\n",
       "Freq: D, dtype: int32"
      ]
     },
     "execution_count": 42,
     "metadata": {},
     "output_type": "execute_result"
    }
   ],
   "source": [
    "# create a new series\n",
    "s1 = pd.Series(np.arange(1, 7), index=pd.date_range('20150101', periods=6))\n",
    "s1"
   ]
  },
  {
   "cell_type": "code",
   "execution_count": 43,
   "metadata": {
    "collapsed": false
   },
   "outputs": [],
   "source": [
    "# add that new series to our existing data frame\n",
    "df2['F'] = s1"
   ]
  },
  {
   "cell_type": "code",
   "execution_count": 44,
   "metadata": {
    "collapsed": false
   },
   "outputs": [
    {
     "data": {
      "text/html": [
       "<div>\n",
       "<table border=\"1\" class=\"dataframe\">\n",
       "  <thead>\n",
       "    <tr style=\"text-align: right;\">\n",
       "      <th></th>\n",
       "      <th>A</th>\n",
       "      <th>B</th>\n",
       "      <th>C</th>\n",
       "      <th>D</th>\n",
       "      <th>E</th>\n",
       "      <th>F</th>\n",
       "    </tr>\n",
       "  </thead>\n",
       "  <tbody>\n",
       "    <tr>\n",
       "      <th>2015-01-01</th>\n",
       "      <td>-0.852818</td>\n",
       "      <td>-1.648361</td>\n",
       "      <td>0.342131</td>\n",
       "      <td>0.899479</td>\n",
       "      <td>one</td>\n",
       "      <td>1</td>\n",
       "    </tr>\n",
       "    <tr>\n",
       "      <th>2015-01-02</th>\n",
       "      <td>0.725912</td>\n",
       "      <td>0.087800</td>\n",
       "      <td>0.139006</td>\n",
       "      <td>-0.318910</td>\n",
       "      <td>one</td>\n",
       "      <td>2</td>\n",
       "    </tr>\n",
       "    <tr>\n",
       "      <th>2015-01-03</th>\n",
       "      <td>1.572601</td>\n",
       "      <td>1.592835</td>\n",
       "      <td>-1.772723</td>\n",
       "      <td>0.713786</td>\n",
       "      <td>two</td>\n",
       "      <td>3</td>\n",
       "    </tr>\n",
       "    <tr>\n",
       "      <th>2015-01-04</th>\n",
       "      <td>1.797927</td>\n",
       "      <td>0.600935</td>\n",
       "      <td>-0.183380</td>\n",
       "      <td>-1.144088</td>\n",
       "      <td>three</td>\n",
       "      <td>4</td>\n",
       "    </tr>\n",
       "    <tr>\n",
       "      <th>2015-01-05</th>\n",
       "      <td>-0.843192</td>\n",
       "      <td>0.744456</td>\n",
       "      <td>-1.847296</td>\n",
       "      <td>1.004035</td>\n",
       "      <td>four</td>\n",
       "      <td>5</td>\n",
       "    </tr>\n",
       "    <tr>\n",
       "      <th>2015-01-06</th>\n",
       "      <td>-1.430559</td>\n",
       "      <td>-0.758815</td>\n",
       "      <td>0.354500</td>\n",
       "      <td>0.038475</td>\n",
       "      <td>three</td>\n",
       "      <td>6</td>\n",
       "    </tr>\n",
       "  </tbody>\n",
       "</table>\n",
       "</div>"
      ],
      "text/plain": [
       "                   A         B         C         D      E  F\n",
       "2015-01-01 -0.852818 -1.648361  0.342131  0.899479    one  1\n",
       "2015-01-02  0.725912  0.087800  0.139006 -0.318910    one  2\n",
       "2015-01-03  1.572601  1.592835 -1.772723  0.713786    two  3\n",
       "2015-01-04  1.797927  0.600935 -0.183380 -1.144088  three  4\n",
       "2015-01-05 -0.843192  0.744456 -1.847296  1.004035   four  5\n",
       "2015-01-06 -1.430559 -0.758815  0.354500  0.038475  three  6"
      ]
     },
     "execution_count": 44,
     "metadata": {},
     "output_type": "execute_result"
    }
   ],
   "source": [
    "# display the data frame\n",
    "df2"
   ]
  },
  {
   "cell_type": "code",
   "execution_count": 45,
   "metadata": {
    "collapsed": false
   },
   "outputs": [
    {
     "data": {
      "text/plain": [
       "1"
      ]
     },
     "execution_count": 45,
     "metadata": {},
     "output_type": "execute_result"
    }
   ],
   "source": [
    "# use the .at method to pull a single value by specifying the index and column\n",
    "df2.at[date_list[0], 'F']"
   ]
  },
  {
   "cell_type": "code",
   "execution_count": 46,
   "metadata": {
    "collapsed": false
   },
   "outputs": [
    {
     "data": {
      "text/html": [
       "<div>\n",
       "<table border=\"1\" class=\"dataframe\">\n",
       "  <thead>\n",
       "    <tr style=\"text-align: right;\">\n",
       "      <th></th>\n",
       "      <th>A</th>\n",
       "      <th>B</th>\n",
       "      <th>C</th>\n",
       "      <th>D</th>\n",
       "      <th>E</th>\n",
       "      <th>F</th>\n",
       "    </tr>\n",
       "  </thead>\n",
       "  <tbody>\n",
       "    <tr>\n",
       "      <th>2015-01-01</th>\n",
       "      <td>-0.852818</td>\n",
       "      <td>-1.648361</td>\n",
       "      <td>0.342131</td>\n",
       "      <td>0.899479</td>\n",
       "      <td>one</td>\n",
       "      <td>0</td>\n",
       "    </tr>\n",
       "    <tr>\n",
       "      <th>2015-01-02</th>\n",
       "      <td>0.725912</td>\n",
       "      <td>0.087800</td>\n",
       "      <td>0.139006</td>\n",
       "      <td>-0.318910</td>\n",
       "      <td>one</td>\n",
       "      <td>2</td>\n",
       "    </tr>\n",
       "    <tr>\n",
       "      <th>2015-01-03</th>\n",
       "      <td>1.572601</td>\n",
       "      <td>1.592835</td>\n",
       "      <td>-1.772723</td>\n",
       "      <td>0.713786</td>\n",
       "      <td>two</td>\n",
       "      <td>3</td>\n",
       "    </tr>\n",
       "    <tr>\n",
       "      <th>2015-01-04</th>\n",
       "      <td>1.797927</td>\n",
       "      <td>0.600935</td>\n",
       "      <td>-0.183380</td>\n",
       "      <td>-1.144088</td>\n",
       "      <td>three</td>\n",
       "      <td>4</td>\n",
       "    </tr>\n",
       "    <tr>\n",
       "      <th>2015-01-05</th>\n",
       "      <td>-0.843192</td>\n",
       "      <td>0.744456</td>\n",
       "      <td>-1.847296</td>\n",
       "      <td>1.004035</td>\n",
       "      <td>four</td>\n",
       "      <td>5</td>\n",
       "    </tr>\n",
       "    <tr>\n",
       "      <th>2015-01-06</th>\n",
       "      <td>-1.430559</td>\n",
       "      <td>-0.758815</td>\n",
       "      <td>0.354500</td>\n",
       "      <td>0.038475</td>\n",
       "      <td>three</td>\n",
       "      <td>6</td>\n",
       "    </tr>\n",
       "  </tbody>\n",
       "</table>\n",
       "</div>"
      ],
      "text/plain": [
       "                   A         B         C         D      E  F\n",
       "2015-01-01 -0.852818 -1.648361  0.342131  0.899479    one  0\n",
       "2015-01-02  0.725912  0.087800  0.139006 -0.318910    one  2\n",
       "2015-01-03  1.572601  1.592835 -1.772723  0.713786    two  3\n",
       "2015-01-04  1.797927  0.600935 -0.183380 -1.144088  three  4\n",
       "2015-01-05 -0.843192  0.744456 -1.847296  1.004035   four  5\n",
       "2015-01-06 -1.430559 -0.758815  0.354500  0.038475  three  6"
      ]
     },
     "execution_count": 46,
     "metadata": {},
     "output_type": "execute_result"
    }
   ],
   "source": [
    "# use the .at method\n",
    "df2.at[date_list[0], 'F'] = 0\n",
    "df2"
   ]
  },
  {
   "cell_type": "code",
   "execution_count": 47,
   "metadata": {
    "collapsed": false
   },
   "outputs": [
    {
     "data": {
      "text/html": [
       "<div>\n",
       "<table border=\"1\" class=\"dataframe\">\n",
       "  <thead>\n",
       "    <tr style=\"text-align: right;\">\n",
       "      <th></th>\n",
       "      <th>A</th>\n",
       "      <th>B</th>\n",
       "      <th>C</th>\n",
       "      <th>D</th>\n",
       "      <th>E</th>\n",
       "      <th>F</th>\n",
       "    </tr>\n",
       "  </thead>\n",
       "  <tbody>\n",
       "    <tr>\n",
       "      <th>2015-01-01</th>\n",
       "      <td>-0.852818</td>\n",
       "      <td>-1.648361</td>\n",
       "      <td>0.342131</td>\n",
       "      <td>0.899479</td>\n",
       "      <td>one</td>\n",
       "      <td>0</td>\n",
       "    </tr>\n",
       "    <tr>\n",
       "      <th>2015-01-02</th>\n",
       "      <td>0.725912</td>\n",
       "      <td>-10.000000</td>\n",
       "      <td>0.139006</td>\n",
       "      <td>-0.318910</td>\n",
       "      <td>one</td>\n",
       "      <td>2</td>\n",
       "    </tr>\n",
       "    <tr>\n",
       "      <th>2015-01-03</th>\n",
       "      <td>1.572601</td>\n",
       "      <td>1.592835</td>\n",
       "      <td>-1.772723</td>\n",
       "      <td>0.713786</td>\n",
       "      <td>two</td>\n",
       "      <td>3</td>\n",
       "    </tr>\n",
       "    <tr>\n",
       "      <th>2015-01-04</th>\n",
       "      <td>1.797927</td>\n",
       "      <td>0.600935</td>\n",
       "      <td>-0.183380</td>\n",
       "      <td>-1.144088</td>\n",
       "      <td>three</td>\n",
       "      <td>4</td>\n",
       "    </tr>\n",
       "    <tr>\n",
       "      <th>2015-01-05</th>\n",
       "      <td>-0.843192</td>\n",
       "      <td>0.744456</td>\n",
       "      <td>-1.847296</td>\n",
       "      <td>1.004035</td>\n",
       "      <td>four</td>\n",
       "      <td>5</td>\n",
       "    </tr>\n",
       "    <tr>\n",
       "      <th>2015-01-06</th>\n",
       "      <td>-1.430559</td>\n",
       "      <td>-0.758815</td>\n",
       "      <td>0.354500</td>\n",
       "      <td>0.038475</td>\n",
       "      <td>three</td>\n",
       "      <td>6</td>\n",
       "    </tr>\n",
       "  </tbody>\n",
       "</table>\n",
       "</div>"
      ],
      "text/plain": [
       "                   A          B         C         D      E  F\n",
       "2015-01-01 -0.852818  -1.648361  0.342131  0.899479    one  0\n",
       "2015-01-02  0.725912 -10.000000  0.139006 -0.318910    one  2\n",
       "2015-01-03  1.572601   1.592835 -1.772723  0.713786    two  3\n",
       "2015-01-04  1.797927   0.600935 -0.183380 -1.144088  three  4\n",
       "2015-01-05 -0.843192   0.744456 -1.847296  1.004035   four  5\n",
       "2015-01-06 -1.430559  -0.758815  0.354500  0.038475  three  6"
      ]
     },
     "execution_count": 47,
     "metadata": {},
     "output_type": "execute_result"
    }
   ],
   "source": [
    "# use .iat to do the same this with positional arguments\n",
    "df2.iat[1, 1] = -10\n",
    "df2"
   ]
  },
  {
   "cell_type": "code",
   "execution_count": 48,
   "metadata": {
    "collapsed": false
   },
   "outputs": [
    {
     "data": {
      "text/html": [
       "<div>\n",
       "<table border=\"1\" class=\"dataframe\">\n",
       "  <thead>\n",
       "    <tr style=\"text-align: right;\">\n",
       "      <th></th>\n",
       "      <th>A</th>\n",
       "      <th>B</th>\n",
       "      <th>C</th>\n",
       "      <th>D</th>\n",
       "      <th>E</th>\n",
       "      <th>F</th>\n",
       "    </tr>\n",
       "  </thead>\n",
       "  <tbody>\n",
       "    <tr>\n",
       "      <th>2015-01-01</th>\n",
       "      <td>-0.852818</td>\n",
       "      <td>-1.648361</td>\n",
       "      <td>0.342131</td>\n",
       "      <td>5</td>\n",
       "      <td>one</td>\n",
       "      <td>0</td>\n",
       "    </tr>\n",
       "    <tr>\n",
       "      <th>2015-01-02</th>\n",
       "      <td>0.725912</td>\n",
       "      <td>-10.000000</td>\n",
       "      <td>0.139006</td>\n",
       "      <td>5</td>\n",
       "      <td>one</td>\n",
       "      <td>2</td>\n",
       "    </tr>\n",
       "    <tr>\n",
       "      <th>2015-01-03</th>\n",
       "      <td>1.572601</td>\n",
       "      <td>1.592835</td>\n",
       "      <td>-1.772723</td>\n",
       "      <td>5</td>\n",
       "      <td>two</td>\n",
       "      <td>3</td>\n",
       "    </tr>\n",
       "    <tr>\n",
       "      <th>2015-01-04</th>\n",
       "      <td>1.797927</td>\n",
       "      <td>0.600935</td>\n",
       "      <td>-0.183380</td>\n",
       "      <td>5</td>\n",
       "      <td>three</td>\n",
       "      <td>4</td>\n",
       "    </tr>\n",
       "    <tr>\n",
       "      <th>2015-01-05</th>\n",
       "      <td>-0.843192</td>\n",
       "      <td>0.744456</td>\n",
       "      <td>-1.847296</td>\n",
       "      <td>5</td>\n",
       "      <td>four</td>\n",
       "      <td>5</td>\n",
       "    </tr>\n",
       "    <tr>\n",
       "      <th>2015-01-06</th>\n",
       "      <td>-1.430559</td>\n",
       "      <td>-0.758815</td>\n",
       "      <td>0.354500</td>\n",
       "      <td>5</td>\n",
       "      <td>three</td>\n",
       "      <td>6</td>\n",
       "    </tr>\n",
       "  </tbody>\n",
       "</table>\n",
       "</div>"
      ],
      "text/plain": [
       "                   A          B         C  D      E  F\n",
       "2015-01-01 -0.852818  -1.648361  0.342131  5    one  0\n",
       "2015-01-02  0.725912 -10.000000  0.139006  5    one  2\n",
       "2015-01-03  1.572601   1.592835 -1.772723  5    two  3\n",
       "2015-01-04  1.797927   0.600935 -0.183380  5  three  4\n",
       "2015-01-05 -0.843192   0.744456 -1.847296  5   four  5\n",
       "2015-01-06 -1.430559  -0.758815  0.354500  5  three  6"
      ]
     },
     "execution_count": 48,
     "metadata": {},
     "output_type": "execute_result"
    }
   ],
   "source": [
    "# overwrite column D in our data frame\n",
    "df2.loc[:, 'D'] = np.array([5] * len(df2))\n",
    "df2"
   ]
  },
  {
   "cell_type": "code",
   "execution_count": 49,
   "metadata": {
    "collapsed": true
   },
   "outputs": [],
   "source": [
    "# create a new data frame from our existing one using .reindex\n",
    "df3 = df2.reindex(index=date_list[0:4], columns=list(df1.columns) + ['E'])"
   ]
  },
  {
   "cell_type": "code",
   "execution_count": 50,
   "metadata": {
    "collapsed": false
   },
   "outputs": [
    {
     "data": {
      "text/html": [
       "<div>\n",
       "<table border=\"1\" class=\"dataframe\">\n",
       "  <thead>\n",
       "    <tr style=\"text-align: right;\">\n",
       "      <th></th>\n",
       "      <th>A</th>\n",
       "      <th>B</th>\n",
       "      <th>C</th>\n",
       "      <th>D</th>\n",
       "      <th>E</th>\n",
       "    </tr>\n",
       "  </thead>\n",
       "  <tbody>\n",
       "    <tr>\n",
       "      <th>2015-01-01</th>\n",
       "      <td>-0.852818</td>\n",
       "      <td>-1.648361</td>\n",
       "      <td>0.342131</td>\n",
       "      <td>5</td>\n",
       "      <td>one</td>\n",
       "    </tr>\n",
       "    <tr>\n",
       "      <th>2015-01-02</th>\n",
       "      <td>0.725912</td>\n",
       "      <td>-10.000000</td>\n",
       "      <td>0.139006</td>\n",
       "      <td>5</td>\n",
       "      <td>one</td>\n",
       "    </tr>\n",
       "    <tr>\n",
       "      <th>2015-01-03</th>\n",
       "      <td>1.572601</td>\n",
       "      <td>1.592835</td>\n",
       "      <td>-1.772723</td>\n",
       "      <td>5</td>\n",
       "      <td>two</td>\n",
       "    </tr>\n",
       "    <tr>\n",
       "      <th>2015-01-04</th>\n",
       "      <td>1.797927</td>\n",
       "      <td>0.600935</td>\n",
       "      <td>-0.183380</td>\n",
       "      <td>5</td>\n",
       "      <td>three</td>\n",
       "    </tr>\n",
       "  </tbody>\n",
       "</table>\n",
       "</div>"
      ],
      "text/plain": [
       "                   A          B         C  D      E\n",
       "2015-01-01 -0.852818  -1.648361  0.342131  5    one\n",
       "2015-01-02  0.725912 -10.000000  0.139006  5    one\n",
       "2015-01-03  1.572601   1.592835 -1.772723  5    two\n",
       "2015-01-04  1.797927   0.600935 -0.183380  5  three"
      ]
     },
     "execution_count": 50,
     "metadata": {},
     "output_type": "execute_result"
    }
   ],
   "source": [
    "# show the new data frame\n",
    "df3"
   ]
  },
  {
   "cell_type": "code",
   "execution_count": 54,
   "metadata": {
    "collapsed": false
   },
   "outputs": [
    {
     "data": {
      "text/html": [
       "<div>\n",
       "<table border=\"1\" class=\"dataframe\">\n",
       "  <thead>\n",
       "    <tr style=\"text-align: right;\">\n",
       "      <th></th>\n",
       "      <th>A</th>\n",
       "      <th>B</th>\n",
       "      <th>C</th>\n",
       "      <th>D</th>\n",
       "    </tr>\n",
       "  </thead>\n",
       "  <tbody>\n",
       "    <tr>\n",
       "      <th>2015-01-01</th>\n",
       "      <td>NaN</td>\n",
       "      <td>NaN</td>\n",
       "      <td>0.342131</td>\n",
       "      <td>0.899479</td>\n",
       "    </tr>\n",
       "    <tr>\n",
       "      <th>2015-01-02</th>\n",
       "      <td>0.725912</td>\n",
       "      <td>0.087800</td>\n",
       "      <td>0.139006</td>\n",
       "      <td>NaN</td>\n",
       "    </tr>\n",
       "    <tr>\n",
       "      <th>2015-01-03</th>\n",
       "      <td>1.572601</td>\n",
       "      <td>1.592835</td>\n",
       "      <td>NaN</td>\n",
       "      <td>0.713786</td>\n",
       "    </tr>\n",
       "    <tr>\n",
       "      <th>2015-01-04</th>\n",
       "      <td>1.797927</td>\n",
       "      <td>0.600935</td>\n",
       "      <td>NaN</td>\n",
       "      <td>NaN</td>\n",
       "    </tr>\n",
       "    <tr>\n",
       "      <th>2015-01-05</th>\n",
       "      <td>NaN</td>\n",
       "      <td>0.744456</td>\n",
       "      <td>NaN</td>\n",
       "      <td>1.004035</td>\n",
       "    </tr>\n",
       "    <tr>\n",
       "      <th>2015-01-06</th>\n",
       "      <td>NaN</td>\n",
       "      <td>NaN</td>\n",
       "      <td>0.354500</td>\n",
       "      <td>0.038475</td>\n",
       "    </tr>\n",
       "  </tbody>\n",
       "</table>\n",
       "</div>"
      ],
      "text/plain": [
       "                   A         B         C         D\n",
       "2015-01-01       NaN       NaN  0.342131  0.899479\n",
       "2015-01-02  0.725912  0.087800  0.139006       NaN\n",
       "2015-01-03  1.572601  1.592835       NaN  0.713786\n",
       "2015-01-04  1.797927  0.600935       NaN       NaN\n",
       "2015-01-05       NaN  0.744456       NaN  1.004035\n",
       "2015-01-06       NaN       NaN  0.354500  0.038475"
      ]
     },
     "execution_count": 54,
     "metadata": {},
     "output_type": "execute_result"
    }
   ],
   "source": [
    "df4 = df1[df1 > 0]\n",
    "df4"
   ]
  },
  {
   "cell_type": "code",
   "execution_count": 57,
   "metadata": {
    "collapsed": false
   },
   "outputs": [
    {
     "data": {
      "text/html": [
       "<div>\n",
       "<table border=\"1\" class=\"dataframe\">\n",
       "  <thead>\n",
       "    <tr style=\"text-align: right;\">\n",
       "      <th></th>\n",
       "      <th>A</th>\n",
       "      <th>B</th>\n",
       "      <th>C</th>\n",
       "      <th>D</th>\n",
       "    </tr>\n",
       "  </thead>\n",
       "  <tbody>\n",
       "    <tr>\n",
       "      <th>2015-01-01</th>\n",
       "      <td>True</td>\n",
       "      <td>True</td>\n",
       "      <td>False</td>\n",
       "      <td>False</td>\n",
       "    </tr>\n",
       "    <tr>\n",
       "      <th>2015-01-02</th>\n",
       "      <td>False</td>\n",
       "      <td>False</td>\n",
       "      <td>False</td>\n",
       "      <td>True</td>\n",
       "    </tr>\n",
       "    <tr>\n",
       "      <th>2015-01-03</th>\n",
       "      <td>False</td>\n",
       "      <td>False</td>\n",
       "      <td>True</td>\n",
       "      <td>False</td>\n",
       "    </tr>\n",
       "    <tr>\n",
       "      <th>2015-01-04</th>\n",
       "      <td>False</td>\n",
       "      <td>False</td>\n",
       "      <td>True</td>\n",
       "      <td>True</td>\n",
       "    </tr>\n",
       "    <tr>\n",
       "      <th>2015-01-05</th>\n",
       "      <td>True</td>\n",
       "      <td>False</td>\n",
       "      <td>True</td>\n",
       "      <td>False</td>\n",
       "    </tr>\n",
       "    <tr>\n",
       "      <th>2015-01-06</th>\n",
       "      <td>True</td>\n",
       "      <td>True</td>\n",
       "      <td>False</td>\n",
       "      <td>False</td>\n",
       "    </tr>\n",
       "  </tbody>\n",
       "</table>\n",
       "</div>"
      ],
      "text/plain": [
       "                A      B      C      D\n",
       "2015-01-01   True   True  False  False\n",
       "2015-01-02  False  False  False   True\n",
       "2015-01-03  False  False   True  False\n",
       "2015-01-04  False  False   True   True\n",
       "2015-01-05   True  False   True  False\n",
       "2015-01-06   True   True  False  False"
      ]
     },
     "execution_count": 57,
     "metadata": {},
     "output_type": "execute_result"
    }
   ],
   "source": [
    "df4.isnull()"
   ]
  },
  {
   "cell_type": "code",
   "execution_count": 58,
   "metadata": {
    "collapsed": false
   },
   "outputs": [
    {
     "data": {
      "text/html": [
       "<div>\n",
       "<table border=\"1\" class=\"dataframe\">\n",
       "  <thead>\n",
       "    <tr style=\"text-align: right;\">\n",
       "      <th></th>\n",
       "      <th>A</th>\n",
       "      <th>B</th>\n",
       "      <th>C</th>\n",
       "      <th>D</th>\n",
       "    </tr>\n",
       "  </thead>\n",
       "  <tbody>\n",
       "    <tr>\n",
       "      <th>2015-01-01</th>\n",
       "      <td>False</td>\n",
       "      <td>False</td>\n",
       "      <td>True</td>\n",
       "      <td>True</td>\n",
       "    </tr>\n",
       "    <tr>\n",
       "      <th>2015-01-02</th>\n",
       "      <td>True</td>\n",
       "      <td>True</td>\n",
       "      <td>True</td>\n",
       "      <td>False</td>\n",
       "    </tr>\n",
       "    <tr>\n",
       "      <th>2015-01-03</th>\n",
       "      <td>True</td>\n",
       "      <td>True</td>\n",
       "      <td>False</td>\n",
       "      <td>True</td>\n",
       "    </tr>\n",
       "    <tr>\n",
       "      <th>2015-01-04</th>\n",
       "      <td>True</td>\n",
       "      <td>True</td>\n",
       "      <td>False</td>\n",
       "      <td>False</td>\n",
       "    </tr>\n",
       "    <tr>\n",
       "      <th>2015-01-05</th>\n",
       "      <td>False</td>\n",
       "      <td>True</td>\n",
       "      <td>False</td>\n",
       "      <td>True</td>\n",
       "    </tr>\n",
       "    <tr>\n",
       "      <th>2015-01-06</th>\n",
       "      <td>False</td>\n",
       "      <td>False</td>\n",
       "      <td>True</td>\n",
       "      <td>True</td>\n",
       "    </tr>\n",
       "  </tbody>\n",
       "</table>\n",
       "</div>"
      ],
      "text/plain": [
       "                A      B      C      D\n",
       "2015-01-01  False  False   True   True\n",
       "2015-01-02   True   True   True  False\n",
       "2015-01-03   True   True  False   True\n",
       "2015-01-04   True   True  False  False\n",
       "2015-01-05  False   True  False   True\n",
       "2015-01-06  False  False   True   True"
      ]
     },
     "execution_count": 58,
     "metadata": {},
     "output_type": "execute_result"
    }
   ],
   "source": [
    "df4.notnull()"
   ]
  },
  {
   "cell_type": "code",
   "execution_count": 59,
   "metadata": {
    "collapsed": false
   },
   "outputs": [
    {
     "data": {
      "text/html": [
       "<div>\n",
       "<table border=\"1\" class=\"dataframe\">\n",
       "  <thead>\n",
       "    <tr style=\"text-align: right;\">\n",
       "      <th></th>\n",
       "      <th>A</th>\n",
       "      <th>B</th>\n",
       "      <th>C</th>\n",
       "      <th>D</th>\n",
       "    </tr>\n",
       "  </thead>\n",
       "  <tbody>\n",
       "  </tbody>\n",
       "</table>\n",
       "</div>"
      ],
      "text/plain": [
       "Empty DataFrame\n",
       "Columns: [A, B, C, D]\n",
       "Index: []"
      ]
     },
     "execution_count": 59,
     "metadata": {},
     "output_type": "execute_result"
    }
   ],
   "source": [
    "df4.dropna()"
   ]
  },
  {
   "cell_type": "code",
   "execution_count": 61,
   "metadata": {
    "collapsed": false
   },
   "outputs": [
    {
     "data": {
      "text/html": [
       "<div>\n",
       "<table border=\"1\" class=\"dataframe\">\n",
       "  <thead>\n",
       "    <tr style=\"text-align: right;\">\n",
       "      <th></th>\n",
       "      <th>A</th>\n",
       "      <th>B</th>\n",
       "      <th>C</th>\n",
       "      <th>D</th>\n",
       "    </tr>\n",
       "  </thead>\n",
       "  <tbody>\n",
       "    <tr>\n",
       "      <th>2015-01-01</th>\n",
       "      <td>5.000000</td>\n",
       "      <td>5.000000</td>\n",
       "      <td>0.342131</td>\n",
       "      <td>0.899479</td>\n",
       "    </tr>\n",
       "    <tr>\n",
       "      <th>2015-01-02</th>\n",
       "      <td>0.725912</td>\n",
       "      <td>0.087800</td>\n",
       "      <td>0.139006</td>\n",
       "      <td>5.000000</td>\n",
       "    </tr>\n",
       "    <tr>\n",
       "      <th>2015-01-03</th>\n",
       "      <td>1.572601</td>\n",
       "      <td>1.592835</td>\n",
       "      <td>5.000000</td>\n",
       "      <td>0.713786</td>\n",
       "    </tr>\n",
       "    <tr>\n",
       "      <th>2015-01-04</th>\n",
       "      <td>1.797927</td>\n",
       "      <td>0.600935</td>\n",
       "      <td>5.000000</td>\n",
       "      <td>5.000000</td>\n",
       "    </tr>\n",
       "    <tr>\n",
       "      <th>2015-01-05</th>\n",
       "      <td>5.000000</td>\n",
       "      <td>0.744456</td>\n",
       "      <td>5.000000</td>\n",
       "      <td>1.004035</td>\n",
       "    </tr>\n",
       "    <tr>\n",
       "      <th>2015-01-06</th>\n",
       "      <td>5.000000</td>\n",
       "      <td>5.000000</td>\n",
       "      <td>0.354500</td>\n",
       "      <td>0.038475</td>\n",
       "    </tr>\n",
       "  </tbody>\n",
       "</table>\n",
       "</div>"
      ],
      "text/plain": [
       "                   A         B         C         D\n",
       "2015-01-01  5.000000  5.000000  0.342131  0.899479\n",
       "2015-01-02  0.725912  0.087800  0.139006  5.000000\n",
       "2015-01-03  1.572601  1.592835  5.000000  0.713786\n",
       "2015-01-04  1.797927  0.600935  5.000000  5.000000\n",
       "2015-01-05  5.000000  0.744456  5.000000  1.004035\n",
       "2015-01-06  5.000000  5.000000  0.354500  0.038475"
      ]
     },
     "execution_count": 61,
     "metadata": {},
     "output_type": "execute_result"
    }
   ],
   "source": [
    "df4.fillna(value=5)"
   ]
  },
  {
   "cell_type": "code",
   "execution_count": 63,
   "metadata": {
    "collapsed": false
   },
   "outputs": [
    {
     "data": {
      "text/plain": [
       "A    0.161645\n",
       "B    0.103142\n",
       "C   -0.494627\n",
       "D    0.198796\n",
       "dtype: float64"
      ]
     },
     "execution_count": 63,
     "metadata": {},
     "output_type": "execute_result"
    }
   ],
   "source": [
    "df1.apply(np.mean)"
   ]
  },
  {
   "cell_type": "code",
   "execution_count": 65,
   "metadata": {
    "collapsed": false
   },
   "outputs": [
    {
     "data": {
      "text/plain": [
       "2015-01-01   -0.314892\n",
       "2015-01-02    0.158452\n",
       "2015-01-03    0.526625\n",
       "2015-01-04    0.267848\n",
       "2015-01-05   -0.235499\n",
       "2015-01-06   -0.449100\n",
       "Freq: D, dtype: float64"
      ]
     },
     "execution_count": 65,
     "metadata": {},
     "output_type": "execute_result"
    }
   ],
   "source": [
    "df1.mean(axis=1)"
   ]
  },
  {
   "cell_type": "code",
   "execution_count": 68,
   "metadata": {
    "collapsed": false
   },
   "outputs": [
    {
     "data": {
      "text/plain": [
       "A    3.228486\n",
       "B    3.241196\n",
       "C    2.201795\n",
       "D    2.148123\n",
       "dtype: float64"
      ]
     },
     "execution_count": 68,
     "metadata": {},
     "output_type": "execute_result"
    }
   ],
   "source": [
    "df1.apply(lambda x: x.max() - x.min())"
   ]
  },
  {
   "cell_type": "code",
   "execution_count": 76,
   "metadata": {
    "collapsed": false
   },
   "outputs": [
    {
     "data": {
      "text/plain": [
       "A    1.382791\n",
       "B    1.156653\n",
       "C    1.037573\n",
       "D    0.836856\n",
       "dtype: float64"
      ]
     },
     "execution_count": 76,
     "metadata": {},
     "output_type": "execute_result"
    }
   ],
   "source": [
    "df1.std(ddof=1)"
   ]
  },
  {
   "cell_type": "code",
   "execution_count": 81,
   "metadata": {
    "collapsed": false
   },
   "outputs": [
    {
     "data": {
      "text/plain": [
       "A    6\n",
       "B    3\n",
       "C    2\n",
       "D    4\n",
       "E    2\n",
       "F    5\n",
       "G    0\n",
       "H    1\n",
       "I    4\n",
       "J    0\n",
       "dtype: int32"
      ]
     },
     "execution_count": 81,
     "metadata": {},
     "output_type": "execute_result"
    }
   ],
   "source": [
    "s = pd.Series(np.random.randint(0, 7, size=10), index=list('ABCDEFGHIJ'))\n",
    "s"
   ]
  },
  {
   "cell_type": "code",
   "execution_count": 82,
   "metadata": {
    "collapsed": false
   },
   "outputs": [
    {
     "data": {
      "text/plain": [
       "4    2\n",
       "2    2\n",
       "0    2\n",
       "6    1\n",
       "5    1\n",
       "3    1\n",
       "1    1\n",
       "dtype: int64"
      ]
     },
     "execution_count": 82,
     "metadata": {},
     "output_type": "execute_result"
    }
   ],
   "source": [
    "s.value_counts()"
   ]
  },
  {
   "cell_type": "code",
   "execution_count": 86,
   "metadata": {
    "collapsed": false
   },
   "outputs": [
    {
     "data": {
      "text/plain": [
       "0       A\n",
       "1       B\n",
       "2       C\n",
       "3    Aaba\n",
       "4    Baca\n",
       "5     NaN\n",
       "6    CABA\n",
       "7     dog\n",
       "8     cat\n",
       "dtype: object"
      ]
     },
     "execution_count": 86,
     "metadata": {},
     "output_type": "execute_result"
    }
   ],
   "source": [
    "s2 = pd.Series(['A', 'B', 'C', 'Aaba', 'Baca', np.nan, 'CABA', 'dog', 'cat'])\n",
    "s2"
   ]
  },
  {
   "cell_type": "code",
   "execution_count": 87,
   "metadata": {
    "collapsed": false
   },
   "outputs": [
    {
     "data": {
      "text/plain": [
       "0       a\n",
       "1       b\n",
       "2       c\n",
       "3    aaba\n",
       "4    baca\n",
       "5     NaN\n",
       "6    caba\n",
       "7     dog\n",
       "8     cat\n",
       "dtype: object"
      ]
     },
     "execution_count": 87,
     "metadata": {},
     "output_type": "execute_result"
    }
   ],
   "source": [
    "s2.str.lower()"
   ]
  },
  {
   "cell_type": "code",
   "execution_count": 88,
   "metadata": {
    "collapsed": false
   },
   "outputs": [
    {
     "data": {
      "text/html": [
       "<div>\n",
       "<table border=\"1\" class=\"dataframe\">\n",
       "  <thead>\n",
       "    <tr style=\"text-align: right;\">\n",
       "      <th></th>\n",
       "      <th>0</th>\n",
       "      <th>1</th>\n",
       "      <th>2</th>\n",
       "      <th>3</th>\n",
       "    </tr>\n",
       "  </thead>\n",
       "  <tbody>\n",
       "    <tr>\n",
       "      <th>0</th>\n",
       "      <td>1.442579</td>\n",
       "      <td>0.430383</td>\n",
       "      <td>0.327151</td>\n",
       "      <td>1.454519</td>\n",
       "    </tr>\n",
       "    <tr>\n",
       "      <th>1</th>\n",
       "      <td>1.935176</td>\n",
       "      <td>0.283320</td>\n",
       "      <td>-1.039744</td>\n",
       "      <td>-0.584535</td>\n",
       "    </tr>\n",
       "    <tr>\n",
       "      <th>2</th>\n",
       "      <td>-0.920897</td>\n",
       "      <td>-0.874215</td>\n",
       "      <td>0.927261</td>\n",
       "      <td>-0.128760</td>\n",
       "    </tr>\n",
       "    <tr>\n",
       "      <th>3</th>\n",
       "      <td>1.027315</td>\n",
       "      <td>0.655740</td>\n",
       "      <td>-0.937660</td>\n",
       "      <td>-1.437416</td>\n",
       "    </tr>\n",
       "    <tr>\n",
       "      <th>4</th>\n",
       "      <td>-1.109134</td>\n",
       "      <td>0.470868</td>\n",
       "      <td>-1.455269</td>\n",
       "      <td>0.361015</td>\n",
       "    </tr>\n",
       "    <tr>\n",
       "      <th>5</th>\n",
       "      <td>-0.262673</td>\n",
       "      <td>0.865941</td>\n",
       "      <td>-0.965899</td>\n",
       "      <td>-1.965701</td>\n",
       "    </tr>\n",
       "    <tr>\n",
       "      <th>6</th>\n",
       "      <td>-1.300713</td>\n",
       "      <td>-0.854294</td>\n",
       "      <td>2.644012</td>\n",
       "      <td>0.238711</td>\n",
       "    </tr>\n",
       "    <tr>\n",
       "      <th>7</th>\n",
       "      <td>0.364314</td>\n",
       "      <td>-0.194016</td>\n",
       "      <td>-0.448197</td>\n",
       "      <td>1.725454</td>\n",
       "    </tr>\n",
       "    <tr>\n",
       "      <th>8</th>\n",
       "      <td>-0.229565</td>\n",
       "      <td>0.549458</td>\n",
       "      <td>-2.287685</td>\n",
       "      <td>1.154289</td>\n",
       "    </tr>\n",
       "    <tr>\n",
       "      <th>9</th>\n",
       "      <td>-0.522452</td>\n",
       "      <td>1.420734</td>\n",
       "      <td>1.081838</td>\n",
       "      <td>0.557964</td>\n",
       "    </tr>\n",
       "  </tbody>\n",
       "</table>\n",
       "</div>"
      ],
      "text/plain": [
       "          0         1         2         3\n",
       "0  1.442579  0.430383  0.327151  1.454519\n",
       "1  1.935176  0.283320 -1.039744 -0.584535\n",
       "2 -0.920897 -0.874215  0.927261 -0.128760\n",
       "3  1.027315  0.655740 -0.937660 -1.437416\n",
       "4 -1.109134  0.470868 -1.455269  0.361015\n",
       "5 -0.262673  0.865941 -0.965899 -1.965701\n",
       "6 -1.300713 -0.854294  2.644012  0.238711\n",
       "7  0.364314 -0.194016 -0.448197  1.725454\n",
       "8 -0.229565  0.549458 -2.287685  1.154289\n",
       "9 -0.522452  1.420734  1.081838  0.557964"
      ]
     },
     "execution_count": 88,
     "metadata": {},
     "output_type": "execute_result"
    }
   ],
   "source": [
    "df5 = pd.DataFrame(np.random.randn(10, 4))\n",
    "df5"
   ]
  },
  {
   "cell_type": "code",
   "execution_count": 91,
   "metadata": {
    "collapsed": false
   },
   "outputs": [
    {
     "data": {
      "text/plain": [
       "[          0         1         2         3\n",
       " 0  1.442579  0.430383  0.327151  1.454519\n",
       " 1  1.935176  0.283320 -1.039744 -0.584535\n",
       " 2 -0.920897 -0.874215  0.927261 -0.128760,\n",
       "           0         1         2         3\n",
       " 3  1.027315  0.655740 -0.937660 -1.437416\n",
       " 4 -1.109134  0.470868 -1.455269  0.361015\n",
       " 5 -0.262673  0.865941 -0.965899 -1.965701\n",
       " 6 -1.300713 -0.854294  2.644012  0.238711,\n",
       "           0         1         2         3\n",
       " 7  0.364314 -0.194016 -0.448197  1.725454\n",
       " 8 -0.229565  0.549458 -2.287685  1.154289\n",
       " 9 -0.522452  1.420734  1.081838  0.557964]"
      ]
     },
     "execution_count": 91,
     "metadata": {},
     "output_type": "execute_result"
    }
   ],
   "source": [
    "pieces = [df5[:3], df5[3:7], df5[7:]]\n",
    "pieces"
   ]
  },
  {
   "cell_type": "code",
   "execution_count": 92,
   "metadata": {
    "collapsed": false
   },
   "outputs": [
    {
     "data": {
      "text/html": [
       "<div>\n",
       "<table border=\"1\" class=\"dataframe\">\n",
       "  <thead>\n",
       "    <tr style=\"text-align: right;\">\n",
       "      <th></th>\n",
       "      <th>0</th>\n",
       "      <th>1</th>\n",
       "      <th>2</th>\n",
       "      <th>3</th>\n",
       "    </tr>\n",
       "  </thead>\n",
       "  <tbody>\n",
       "    <tr>\n",
       "      <th>0</th>\n",
       "      <td>1.442579</td>\n",
       "      <td>0.430383</td>\n",
       "      <td>0.327151</td>\n",
       "      <td>1.454519</td>\n",
       "    </tr>\n",
       "    <tr>\n",
       "      <th>1</th>\n",
       "      <td>1.935176</td>\n",
       "      <td>0.283320</td>\n",
       "      <td>-1.039744</td>\n",
       "      <td>-0.584535</td>\n",
       "    </tr>\n",
       "    <tr>\n",
       "      <th>2</th>\n",
       "      <td>-0.920897</td>\n",
       "      <td>-0.874215</td>\n",
       "      <td>0.927261</td>\n",
       "      <td>-0.128760</td>\n",
       "    </tr>\n",
       "    <tr>\n",
       "      <th>3</th>\n",
       "      <td>1.027315</td>\n",
       "      <td>0.655740</td>\n",
       "      <td>-0.937660</td>\n",
       "      <td>-1.437416</td>\n",
       "    </tr>\n",
       "    <tr>\n",
       "      <th>4</th>\n",
       "      <td>-1.109134</td>\n",
       "      <td>0.470868</td>\n",
       "      <td>-1.455269</td>\n",
       "      <td>0.361015</td>\n",
       "    </tr>\n",
       "    <tr>\n",
       "      <th>5</th>\n",
       "      <td>-0.262673</td>\n",
       "      <td>0.865941</td>\n",
       "      <td>-0.965899</td>\n",
       "      <td>-1.965701</td>\n",
       "    </tr>\n",
       "    <tr>\n",
       "      <th>6</th>\n",
       "      <td>-1.300713</td>\n",
       "      <td>-0.854294</td>\n",
       "      <td>2.644012</td>\n",
       "      <td>0.238711</td>\n",
       "    </tr>\n",
       "    <tr>\n",
       "      <th>7</th>\n",
       "      <td>0.364314</td>\n",
       "      <td>-0.194016</td>\n",
       "      <td>-0.448197</td>\n",
       "      <td>1.725454</td>\n",
       "    </tr>\n",
       "    <tr>\n",
       "      <th>8</th>\n",
       "      <td>-0.229565</td>\n",
       "      <td>0.549458</td>\n",
       "      <td>-2.287685</td>\n",
       "      <td>1.154289</td>\n",
       "    </tr>\n",
       "    <tr>\n",
       "      <th>9</th>\n",
       "      <td>-0.522452</td>\n",
       "      <td>1.420734</td>\n",
       "      <td>1.081838</td>\n",
       "      <td>0.557964</td>\n",
       "    </tr>\n",
       "  </tbody>\n",
       "</table>\n",
       "</div>"
      ],
      "text/plain": [
       "          0         1         2         3\n",
       "0  1.442579  0.430383  0.327151  1.454519\n",
       "1  1.935176  0.283320 -1.039744 -0.584535\n",
       "2 -0.920897 -0.874215  0.927261 -0.128760\n",
       "3  1.027315  0.655740 -0.937660 -1.437416\n",
       "4 -1.109134  0.470868 -1.455269  0.361015\n",
       "5 -0.262673  0.865941 -0.965899 -1.965701\n",
       "6 -1.300713 -0.854294  2.644012  0.238711\n",
       "7  0.364314 -0.194016 -0.448197  1.725454\n",
       "8 -0.229565  0.549458 -2.287685  1.154289\n",
       "9 -0.522452  1.420734  1.081838  0.557964"
      ]
     },
     "execution_count": 92,
     "metadata": {},
     "output_type": "execute_result"
    }
   ],
   "source": [
    "pd.concat(pieces)"
   ]
  },
  {
   "cell_type": "code",
   "execution_count": 102,
   "metadata": {
    "collapsed": true
   },
   "outputs": [],
   "source": [
    "left_df = pd.DataFrame({'key1':['foo', 'bar', 'x'], \n",
    "                        'left_value':[1, 2, 3]})\n",
    "right_df = pd.DataFrame({'key1':['foo', 'bar'], \n",
    "                         'right_value':[4, 5]})"
   ]
  },
  {
   "cell_type": "code",
   "execution_count": 103,
   "metadata": {
    "collapsed": false
   },
   "outputs": [
    {
     "data": {
      "text/html": [
       "<div>\n",
       "<table border=\"1\" class=\"dataframe\">\n",
       "  <thead>\n",
       "    <tr style=\"text-align: right;\">\n",
       "      <th></th>\n",
       "      <th>key1</th>\n",
       "      <th>left_value</th>\n",
       "    </tr>\n",
       "  </thead>\n",
       "  <tbody>\n",
       "    <tr>\n",
       "      <th>0</th>\n",
       "      <td>foo</td>\n",
       "      <td>1</td>\n",
       "    </tr>\n",
       "    <tr>\n",
       "      <th>1</th>\n",
       "      <td>bar</td>\n",
       "      <td>2</td>\n",
       "    </tr>\n",
       "    <tr>\n",
       "      <th>2</th>\n",
       "      <td>x</td>\n",
       "      <td>3</td>\n",
       "    </tr>\n",
       "  </tbody>\n",
       "</table>\n",
       "</div>"
      ],
      "text/plain": [
       "  key1  left_value\n",
       "0  foo           1\n",
       "1  bar           2\n",
       "2    x           3"
      ]
     },
     "execution_count": 103,
     "metadata": {},
     "output_type": "execute_result"
    }
   ],
   "source": [
    "left_df"
   ]
  },
  {
   "cell_type": "code",
   "execution_count": 104,
   "metadata": {
    "collapsed": false
   },
   "outputs": [
    {
     "data": {
      "text/html": [
       "<div>\n",
       "<table border=\"1\" class=\"dataframe\">\n",
       "  <thead>\n",
       "    <tr style=\"text-align: right;\">\n",
       "      <th></th>\n",
       "      <th>key1</th>\n",
       "      <th>right_value</th>\n",
       "    </tr>\n",
       "  </thead>\n",
       "  <tbody>\n",
       "    <tr>\n",
       "      <th>0</th>\n",
       "      <td>foo</td>\n",
       "      <td>4</td>\n",
       "    </tr>\n",
       "    <tr>\n",
       "      <th>1</th>\n",
       "      <td>bar</td>\n",
       "      <td>5</td>\n",
       "    </tr>\n",
       "  </tbody>\n",
       "</table>\n",
       "</div>"
      ],
      "text/plain": [
       "  key1  right_value\n",
       "0  foo            4\n",
       "1  bar            5"
      ]
     },
     "execution_count": 104,
     "metadata": {},
     "output_type": "execute_result"
    }
   ],
   "source": [
    "right_df"
   ]
  },
  {
   "cell_type": "code",
   "execution_count": 107,
   "metadata": {
    "collapsed": false
   },
   "outputs": [
    {
     "data": {
      "text/html": [
       "<div>\n",
       "<table border=\"1\" class=\"dataframe\">\n",
       "  <thead>\n",
       "    <tr style=\"text-align: right;\">\n",
       "      <th></th>\n",
       "      <th>key1</th>\n",
       "      <th>left_value</th>\n",
       "      <th>right_value</th>\n",
       "    </tr>\n",
       "  </thead>\n",
       "  <tbody>\n",
       "    <tr>\n",
       "      <th>0</th>\n",
       "      <td>foo</td>\n",
       "      <td>1</td>\n",
       "      <td>4</td>\n",
       "    </tr>\n",
       "    <tr>\n",
       "      <th>1</th>\n",
       "      <td>bar</td>\n",
       "      <td>2</td>\n",
       "      <td>5</td>\n",
       "    </tr>\n",
       "  </tbody>\n",
       "</table>\n",
       "</div>"
      ],
      "text/plain": [
       "  key1  left_value  right_value\n",
       "0  foo           1            4\n",
       "1  bar           2            5"
      ]
     },
     "execution_count": 107,
     "metadata": {},
     "output_type": "execute_result"
    }
   ],
   "source": [
    "pd.merge(left_df, right_df, on='key1')"
   ]
  },
  {
   "cell_type": "code",
   "execution_count": 108,
   "metadata": {
    "collapsed": false
   },
   "outputs": [
    {
     "data": {
      "text/html": [
       "<div>\n",
       "<table border=\"1\" class=\"dataframe\">\n",
       "  <thead>\n",
       "    <tr style=\"text-align: right;\">\n",
       "      <th></th>\n",
       "      <th>key1</th>\n",
       "      <th>left_value</th>\n",
       "      <th>right_value</th>\n",
       "    </tr>\n",
       "  </thead>\n",
       "  <tbody>\n",
       "    <tr>\n",
       "      <th>0</th>\n",
       "      <td>foo</td>\n",
       "      <td>1</td>\n",
       "      <td>4</td>\n",
       "    </tr>\n",
       "    <tr>\n",
       "      <th>1</th>\n",
       "      <td>bar</td>\n",
       "      <td>2</td>\n",
       "      <td>5</td>\n",
       "    </tr>\n",
       "    <tr>\n",
       "      <th>2</th>\n",
       "      <td>x</td>\n",
       "      <td>3</td>\n",
       "      <td>NaN</td>\n",
       "    </tr>\n",
       "  </tbody>\n",
       "</table>\n",
       "</div>"
      ],
      "text/plain": [
       "  key1  left_value  right_value\n",
       "0  foo           1            4\n",
       "1  bar           2            5\n",
       "2    x           3          NaN"
      ]
     },
     "execution_count": 108,
     "metadata": {},
     "output_type": "execute_result"
    }
   ],
   "source": [
    "pd.merge(left_df, right_df, how='left', on='key1')"
   ]
  },
  {
   "cell_type": "code",
   "execution_count": 113,
   "metadata": {
    "collapsed": false
   },
   "outputs": [
    {
     "data": {
      "text/html": [
       "<div>\n",
       "<table border=\"1\" class=\"dataframe\">\n",
       "  <thead>\n",
       "    <tr style=\"text-align: right;\">\n",
       "      <th></th>\n",
       "      <th>A</th>\n",
       "      <th>B</th>\n",
       "      <th>C</th>\n",
       "      <th>D</th>\n",
       "    </tr>\n",
       "  </thead>\n",
       "  <tbody>\n",
       "    <tr>\n",
       "      <th>0</th>\n",
       "      <td>-0.685720</td>\n",
       "      <td>-0.089066</td>\n",
       "      <td>0.054327</td>\n",
       "      <td>-0.275270</td>\n",
       "    </tr>\n",
       "    <tr>\n",
       "      <th>1</th>\n",
       "      <td>0.311189</td>\n",
       "      <td>-0.381734</td>\n",
       "      <td>0.609451</td>\n",
       "      <td>1.009294</td>\n",
       "    </tr>\n",
       "    <tr>\n",
       "      <th>2</th>\n",
       "      <td>0.764242</td>\n",
       "      <td>0.952373</td>\n",
       "      <td>0.192865</td>\n",
       "      <td>-0.805310</td>\n",
       "    </tr>\n",
       "    <tr>\n",
       "      <th>3</th>\n",
       "      <td>-1.012907</td>\n",
       "      <td>0.812474</td>\n",
       "      <td>-0.797912</td>\n",
       "      <td>0.277512</td>\n",
       "    </tr>\n",
       "    <tr>\n",
       "      <th>4</th>\n",
       "      <td>-0.994547</td>\n",
       "      <td>0.100564</td>\n",
       "      <td>1.287342</td>\n",
       "      <td>-0.262688</td>\n",
       "    </tr>\n",
       "    <tr>\n",
       "      <th>5</th>\n",
       "      <td>1.582326</td>\n",
       "      <td>-0.272017</td>\n",
       "      <td>1.535785</td>\n",
       "      <td>0.604324</td>\n",
       "    </tr>\n",
       "    <tr>\n",
       "      <th>6</th>\n",
       "      <td>-0.852874</td>\n",
       "      <td>0.875267</td>\n",
       "      <td>-0.351018</td>\n",
       "      <td>0.485054</td>\n",
       "    </tr>\n",
       "    <tr>\n",
       "      <th>7</th>\n",
       "      <td>2.115547</td>\n",
       "      <td>-0.099241</td>\n",
       "      <td>0.660667</td>\n",
       "      <td>0.345415</td>\n",
       "    </tr>\n",
       "  </tbody>\n",
       "</table>\n",
       "</div>"
      ],
      "text/plain": [
       "          A         B         C         D\n",
       "0 -0.685720 -0.089066  0.054327 -0.275270\n",
       "1  0.311189 -0.381734  0.609451  1.009294\n",
       "2  0.764242  0.952373  0.192865 -0.805310\n",
       "3 -1.012907  0.812474 -0.797912  0.277512\n",
       "4 -0.994547  0.100564  1.287342 -0.262688\n",
       "5  1.582326 -0.272017  1.535785  0.604324\n",
       "6 -0.852874  0.875267 -0.351018  0.485054\n",
       "7  2.115547 -0.099241  0.660667  0.345415"
      ]
     },
     "execution_count": 113,
     "metadata": {},
     "output_type": "execute_result"
    }
   ],
   "source": [
    "df6 = pd.DataFrame(np.random.randn(8, 4), columns=['A', 'B', 'C', 'D'])\n",
    "df6"
   ]
  },
  {
   "cell_type": "code",
   "execution_count": 119,
   "metadata": {
    "collapsed": false
   },
   "outputs": [
    {
     "data": {
      "text/plain": [
       "A   -1.012907\n",
       "B    0.812474\n",
       "C   -0.797912\n",
       "D    0.277512\n",
       "Name: 3, dtype: float64"
      ]
     },
     "execution_count": 119,
     "metadata": {},
     "output_type": "execute_result"
    }
   ],
   "source": [
    "s = df6.iloc[3]\n",
    "s"
   ]
  },
  {
   "cell_type": "code",
   "execution_count": 120,
   "metadata": {
    "collapsed": false
   },
   "outputs": [
    {
     "data": {
      "text/html": [
       "<div>\n",
       "<table border=\"1\" class=\"dataframe\">\n",
       "  <thead>\n",
       "    <tr style=\"text-align: right;\">\n",
       "      <th></th>\n",
       "      <th>A</th>\n",
       "      <th>B</th>\n",
       "      <th>C</th>\n",
       "      <th>D</th>\n",
       "    </tr>\n",
       "  </thead>\n",
       "  <tbody>\n",
       "    <tr>\n",
       "      <th>0</th>\n",
       "      <td>-0.685720</td>\n",
       "      <td>-0.089066</td>\n",
       "      <td>0.054327</td>\n",
       "      <td>-0.275270</td>\n",
       "    </tr>\n",
       "    <tr>\n",
       "      <th>1</th>\n",
       "      <td>0.311189</td>\n",
       "      <td>-0.381734</td>\n",
       "      <td>0.609451</td>\n",
       "      <td>1.009294</td>\n",
       "    </tr>\n",
       "    <tr>\n",
       "      <th>2</th>\n",
       "      <td>0.764242</td>\n",
       "      <td>0.952373</td>\n",
       "      <td>0.192865</td>\n",
       "      <td>-0.805310</td>\n",
       "    </tr>\n",
       "    <tr>\n",
       "      <th>3</th>\n",
       "      <td>-1.012907</td>\n",
       "      <td>0.812474</td>\n",
       "      <td>-0.797912</td>\n",
       "      <td>0.277512</td>\n",
       "    </tr>\n",
       "    <tr>\n",
       "      <th>4</th>\n",
       "      <td>-0.994547</td>\n",
       "      <td>0.100564</td>\n",
       "      <td>1.287342</td>\n",
       "      <td>-0.262688</td>\n",
       "    </tr>\n",
       "    <tr>\n",
       "      <th>5</th>\n",
       "      <td>1.582326</td>\n",
       "      <td>-0.272017</td>\n",
       "      <td>1.535785</td>\n",
       "      <td>0.604324</td>\n",
       "    </tr>\n",
       "    <tr>\n",
       "      <th>6</th>\n",
       "      <td>-0.852874</td>\n",
       "      <td>0.875267</td>\n",
       "      <td>-0.351018</td>\n",
       "      <td>0.485054</td>\n",
       "    </tr>\n",
       "    <tr>\n",
       "      <th>7</th>\n",
       "      <td>2.115547</td>\n",
       "      <td>-0.099241</td>\n",
       "      <td>0.660667</td>\n",
       "      <td>0.345415</td>\n",
       "    </tr>\n",
       "    <tr>\n",
       "      <th>8</th>\n",
       "      <td>-1.012907</td>\n",
       "      <td>0.812474</td>\n",
       "      <td>-0.797912</td>\n",
       "      <td>0.277512</td>\n",
       "    </tr>\n",
       "  </tbody>\n",
       "</table>\n",
       "</div>"
      ],
      "text/plain": [
       "          A         B         C         D\n",
       "0 -0.685720 -0.089066  0.054327 -0.275270\n",
       "1  0.311189 -0.381734  0.609451  1.009294\n",
       "2  0.764242  0.952373  0.192865 -0.805310\n",
       "3 -1.012907  0.812474 -0.797912  0.277512\n",
       "4 -0.994547  0.100564  1.287342 -0.262688\n",
       "5  1.582326 -0.272017  1.535785  0.604324\n",
       "6 -0.852874  0.875267 -0.351018  0.485054\n",
       "7  2.115547 -0.099241  0.660667  0.345415\n",
       "8 -1.012907  0.812474 -0.797912  0.277512"
      ]
     },
     "execution_count": 120,
     "metadata": {},
     "output_type": "execute_result"
    }
   ],
   "source": [
    "df6.append(s, ignore_index=True)"
   ]
  },
  {
   "cell_type": "code",
   "execution_count": 122,
   "metadata": {
    "collapsed": false
   },
   "outputs": [
    {
     "data": {
      "text/html": [
       "<div>\n",
       "<table border=\"1\" class=\"dataframe\">\n",
       "  <thead>\n",
       "    <tr style=\"text-align: right;\">\n",
       "      <th></th>\n",
       "      <th>A</th>\n",
       "      <th>B</th>\n",
       "      <th>C</th>\n",
       "      <th>D</th>\n",
       "    </tr>\n",
       "  </thead>\n",
       "  <tbody>\n",
       "    <tr>\n",
       "      <th>0</th>\n",
       "      <td>foo</td>\n",
       "      <td>one</td>\n",
       "      <td>-0.094603</td>\n",
       "      <td>-0.437420</td>\n",
       "    </tr>\n",
       "    <tr>\n",
       "      <th>1</th>\n",
       "      <td>bar</td>\n",
       "      <td>one</td>\n",
       "      <td>-2.697415</td>\n",
       "      <td>-1.199993</td>\n",
       "    </tr>\n",
       "    <tr>\n",
       "      <th>2</th>\n",
       "      <td>foo</td>\n",
       "      <td>two</td>\n",
       "      <td>0.100904</td>\n",
       "      <td>-0.707075</td>\n",
       "    </tr>\n",
       "    <tr>\n",
       "      <th>3</th>\n",
       "      <td>bar</td>\n",
       "      <td>three</td>\n",
       "      <td>-0.366228</td>\n",
       "      <td>-1.447231</td>\n",
       "    </tr>\n",
       "    <tr>\n",
       "      <th>4</th>\n",
       "      <td>foo</td>\n",
       "      <td>two</td>\n",
       "      <td>-0.406455</td>\n",
       "      <td>-0.409070</td>\n",
       "    </tr>\n",
       "    <tr>\n",
       "      <th>5</th>\n",
       "      <td>bar</td>\n",
       "      <td>two</td>\n",
       "      <td>-1.048436</td>\n",
       "      <td>0.363856</td>\n",
       "    </tr>\n",
       "    <tr>\n",
       "      <th>6</th>\n",
       "      <td>foo</td>\n",
       "      <td>one</td>\n",
       "      <td>0.295565</td>\n",
       "      <td>-0.127371</td>\n",
       "    </tr>\n",
       "    <tr>\n",
       "      <th>7</th>\n",
       "      <td>bar</td>\n",
       "      <td>three</td>\n",
       "      <td>-2.004404</td>\n",
       "      <td>0.286100</td>\n",
       "    </tr>\n",
       "  </tbody>\n",
       "</table>\n",
       "</div>"
      ],
      "text/plain": [
       "     A      B         C         D\n",
       "0  foo    one -0.094603 -0.437420\n",
       "1  bar    one -2.697415 -1.199993\n",
       "2  foo    two  0.100904 -0.707075\n",
       "3  bar  three -0.366228 -1.447231\n",
       "4  foo    two -0.406455 -0.409070\n",
       "5  bar    two -1.048436  0.363856\n",
       "6  foo    one  0.295565 -0.127371\n",
       "7  bar  three -2.004404  0.286100"
      ]
     },
     "execution_count": 122,
     "metadata": {},
     "output_type": "execute_result"
    }
   ],
   "source": [
    "df7 = pd.DataFrame({'A':['foo', 'bar', 'foo', 'bar', 'foo', 'bar', 'foo', 'bar'],\n",
    "                    'B':['one', 'one', 'two', 'three', 'two', 'two', 'one', 'three'], \n",
    "                    'C':np.random.randn(8),\n",
    "                    'D':np.random.randn(8)})\n",
    "df7"
   ]
  },
  {
   "cell_type": "code",
   "execution_count": 124,
   "metadata": {
    "collapsed": false
   },
   "outputs": [
    {
     "data": {
      "text/html": [
       "<div>\n",
       "<table border=\"1\" class=\"dataframe\">\n",
       "  <thead>\n",
       "    <tr style=\"text-align: right;\">\n",
       "      <th></th>\n",
       "      <th>C</th>\n",
       "      <th>D</th>\n",
       "    </tr>\n",
       "    <tr>\n",
       "      <th>A</th>\n",
       "      <th></th>\n",
       "      <th></th>\n",
       "    </tr>\n",
       "  </thead>\n",
       "  <tbody>\n",
       "    <tr>\n",
       "      <th>bar</th>\n",
       "      <td>-6.116483</td>\n",
       "      <td>-1.997268</td>\n",
       "    </tr>\n",
       "    <tr>\n",
       "      <th>foo</th>\n",
       "      <td>-0.104589</td>\n",
       "      <td>-1.680937</td>\n",
       "    </tr>\n",
       "  </tbody>\n",
       "</table>\n",
       "</div>"
      ],
      "text/plain": [
       "            C         D\n",
       "A                      \n",
       "bar -6.116483 -1.997268\n",
       "foo -0.104589 -1.680937"
      ]
     },
     "execution_count": 124,
     "metadata": {},
     "output_type": "execute_result"
    }
   ],
   "source": [
    "df7.groupby('A').sum()"
   ]
  },
  {
   "cell_type": "code",
   "execution_count": 125,
   "metadata": {
    "collapsed": false
   },
   "outputs": [
    {
     "data": {
      "text/html": [
       "<div>\n",
       "<table border=\"1\" class=\"dataframe\">\n",
       "  <thead>\n",
       "    <tr style=\"text-align: right;\">\n",
       "      <th></th>\n",
       "      <th></th>\n",
       "      <th>C</th>\n",
       "      <th>D</th>\n",
       "    </tr>\n",
       "    <tr>\n",
       "      <th>A</th>\n",
       "      <th>B</th>\n",
       "      <th></th>\n",
       "      <th></th>\n",
       "    </tr>\n",
       "  </thead>\n",
       "  <tbody>\n",
       "    <tr>\n",
       "      <th rowspan=\"3\" valign=\"top\">bar</th>\n",
       "      <th>one</th>\n",
       "      <td>-2.697415</td>\n",
       "      <td>-1.199993</td>\n",
       "    </tr>\n",
       "    <tr>\n",
       "      <th>three</th>\n",
       "      <td>-2.370632</td>\n",
       "      <td>-1.161131</td>\n",
       "    </tr>\n",
       "    <tr>\n",
       "      <th>two</th>\n",
       "      <td>-1.048436</td>\n",
       "      <td>0.363856</td>\n",
       "    </tr>\n",
       "    <tr>\n",
       "      <th rowspan=\"2\" valign=\"top\">foo</th>\n",
       "      <th>one</th>\n",
       "      <td>0.200962</td>\n",
       "      <td>-0.564792</td>\n",
       "    </tr>\n",
       "    <tr>\n",
       "      <th>two</th>\n",
       "      <td>-0.305551</td>\n",
       "      <td>-1.116145</td>\n",
       "    </tr>\n",
       "  </tbody>\n",
       "</table>\n",
       "</div>"
      ],
      "text/plain": [
       "                  C         D\n",
       "A   B                        \n",
       "bar one   -2.697415 -1.199993\n",
       "    three -2.370632 -1.161131\n",
       "    two   -1.048436  0.363856\n",
       "foo one    0.200962 -0.564792\n",
       "    two   -0.305551 -1.116145"
      ]
     },
     "execution_count": 125,
     "metadata": {},
     "output_type": "execute_result"
    }
   ],
   "source": [
    "df7.groupby(['A', 'B']).sum()"
   ]
  },
  {
   "cell_type": "code",
   "execution_count": null,
   "metadata": {
    "collapsed": true
   },
   "outputs": [],
   "source": []
  }
 ],
 "metadata": {
  "kernelspec": {
   "display_name": "Python 3",
   "language": "python",
   "name": "python3"
  },
  "language_info": {
   "codemirror_mode": {
    "name": "ipython",
    "version": 3
   },
   "file_extension": ".py",
   "mimetype": "text/x-python",
   "name": "python",
   "nbconvert_exporter": "python",
   "pygments_lexer": "ipython3",
   "version": "3.5.1"
  }
 },
 "nbformat": 4,
 "nbformat_minor": 0
}
