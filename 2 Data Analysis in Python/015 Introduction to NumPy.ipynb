{
 "cells": [
  {
   "cell_type": "markdown",
   "metadata": {},
   "source": [
    "# Introduction to NumPy\n",
    "\n",
    "### Table of Contents\n",
    "1. [Array Creation](#Table-of-Contents)\n",
    "2. [Basic Operations](#Basic-Operations)\n",
    "3. [Built-in Functions](#Built-in-Functions)\n",
    "4. [Array Slicing](#Array-Slicing)\n",
    "5. [Saving and Loading Arrays](#Saving-and-Loading-Arrays)\n",
    "\n",
    "### Array Creation\n"
   ]
  },
  {
   "cell_type": "code",
   "execution_count": 1,
   "metadata": {
    "collapsed": false
   },
   "outputs": [
    {
     "name": "stdout",
     "output_type": "stream",
     "text": [
      "[0.0, 0.2, 0.4, 0.6, 0.8, 1.0, 1.2, 1.4, 1.6, 1.8, 2.0, 2.2, 2.4, 2.6, 2.8, 3.0, 3.2, 3.4, 3.6, 3.8, 4.0, 4.2, 4.4, 4.6, 4.8, 5.0]\n"
     ]
    }
   ],
   "source": [
    "upByPoint2 = []\n",
    "for i in range (26):\n",
    "    upByPoint2.append(i / 5)\n",
    "\n",
    "print(upByPoint2)"
   ]
  },
  {
   "cell_type": "code",
   "execution_count": 2,
   "metadata": {
    "collapsed": false
   },
   "outputs": [],
   "source": [
    "# beginning our standard imports\n",
    "import numpy as np\n",
    "import matplotlib as mpl\n",
    "import matplotlib.pyplot as plt\n",
    "%matplotlib inline"
   ]
  },
  {
   "cell_type": "code",
   "execution_count": 3,
   "metadata": {
    "collapsed": false
   },
   "outputs": [
    {
     "data": {
      "text/plain": [
       "array([1, 2, 3, 4])"
      ]
     },
     "execution_count": 3,
     "metadata": {},
     "output_type": "execute_result"
    }
   ],
   "source": [
    "# create a 1D array\n",
    "a1 = np.array([1, 2, 3, 4])\n",
    "a1"
   ]
  },
  {
   "cell_type": "code",
   "execution_count": 4,
   "metadata": {
    "collapsed": false
   },
   "outputs": [
    {
     "data": {
      "text/plain": [
       "array([[1, 2, 3, 4],\n",
       "       [5, 6, 7, 8]])"
      ]
     },
     "execution_count": 4,
     "metadata": {},
     "output_type": "execute_result"
    }
   ],
   "source": [
    "# create a 2D array\n",
    "a2 = np.array([[1, 2, 3, 4], [5, 6, 7, 8]])\n",
    "a2"
   ]
  },
  {
   "cell_type": "code",
   "execution_count": 5,
   "metadata": {
    "collapsed": false
   },
   "outputs": [
    {
     "data": {
      "text/plain": [
       "2"
      ]
     },
     "execution_count": 5,
     "metadata": {},
     "output_type": "execute_result"
    }
   ],
   "source": [
    "# array number of axes or dimensions\n",
    "a2.ndim"
   ]
  },
  {
   "cell_type": "code",
   "execution_count": 6,
   "metadata": {
    "collapsed": false
   },
   "outputs": [
    {
     "data": {
      "text/plain": [
       "(2, 4)"
      ]
     },
     "execution_count": 6,
     "metadata": {},
     "output_type": "execute_result"
    }
   ],
   "source": [
    "# array shape\n",
    "a2.shape"
   ]
  },
  {
   "cell_type": "code",
   "execution_count": 7,
   "metadata": {
    "collapsed": false
   },
   "outputs": [
    {
     "data": {
      "text/plain": [
       "8"
      ]
     },
     "execution_count": 7,
     "metadata": {},
     "output_type": "execute_result"
    }
   ],
   "source": [
    "# array size\n",
    "a2.size"
   ]
  },
  {
   "cell_type": "code",
   "execution_count": 8,
   "metadata": {
    "collapsed": false
   },
   "outputs": [
    {
     "data": {
      "text/plain": [
       "dtype('int32')"
      ]
     },
     "execution_count": 8,
     "metadata": {},
     "output_type": "execute_result"
    }
   ],
   "source": [
    "# array data type\n",
    "a2.dtype"
   ]
  },
  {
   "cell_type": "code",
   "execution_count": 9,
   "metadata": {
    "collapsed": false
   },
   "outputs": [
    {
     "data": {
      "text/plain": [
       "array([ 0. ,  0.2,  0.4,  0.6,  0.8,  1. ,  1.2,  1.4,  1.6,  1.8,  2. ,\n",
       "        2.2,  2.4,  2.6,  2.8,  3. ,  3.2,  3.4,  3.6,  3.8,  4. ,  4.2,\n",
       "        4.4,  4.6,  4.8,  5. ])"
      ]
     },
     "execution_count": 9,
     "metadata": {},
     "output_type": "execute_result"
    }
   ],
   "source": [
    "# create a sample array with a fractional step\n",
    "a3 = np.arange(0, 5.1, 0.2)\n",
    "a3"
   ]
  },
  {
   "cell_type": "code",
   "execution_count": 10,
   "metadata": {
    "collapsed": false
   },
   "outputs": [
    {
     "data": {
      "text/plain": [
       "array([ 5.+0.j,  6.+0.j,  7.+0.j,  8.+0.j,  9.+0.j])"
      ]
     },
     "execution_count": 10,
     "metadata": {},
     "output_type": "execute_result"
    }
   ],
   "source": [
    "# create an array and specify the data type\n",
    "a4 = np.arange(5, 10, dtype='complex')\n",
    "a4"
   ]
  },
  {
   "cell_type": "code",
   "execution_count": 11,
   "metadata": {
    "collapsed": false
   },
   "outputs": [
    {
     "name": "stdout",
     "output_type": "stream",
     "text": [
      "[ 5.+0.j  6.+0.j  7.+0.j  8.+0.j  9.+0.j]\n"
     ]
    },
    {
     "data": {
      "text/plain": [
       "array([ 5.+0.j,  6.+0.j,  7.+0.j,  8.+0.j,  9.+0.j])"
      ]
     },
     "execution_count": 11,
     "metadata": {},
     "output_type": "execute_result"
    }
   ],
   "source": [
    "# printing vs. calling an array directly\n",
    "print(a4)\n",
    "a4"
   ]
  },
  {
   "cell_type": "code",
   "execution_count": 12,
   "metadata": {
    "collapsed": false
   },
   "outputs": [
    {
     "data": {
      "text/plain": [
       "numpy.ndarray"
      ]
     },
     "execution_count": 12,
     "metadata": {},
     "output_type": "execute_result"
    }
   ],
   "source": [
    "type(a4)"
   ]
  },
  {
   "cell_type": "code",
   "execution_count": 13,
   "metadata": {
    "collapsed": false
   },
   "outputs": [
    {
     "data": {
      "text/plain": [
       "array([[[ 1,  2,  3],\n",
       "        [ 4,  5,  6],\n",
       "        [ 7,  8,  9]],\n",
       "\n",
       "       [[10, 11, 12],\n",
       "        [13, 14, 15],\n",
       "        [16, 17, 18]],\n",
       "\n",
       "       [[19, 20, 21],\n",
       "        [22, 23, 24],\n",
       "        [25, 26, 27]]])"
      ]
     },
     "execution_count": 13,
     "metadata": {},
     "output_type": "execute_result"
    }
   ],
   "source": [
    "# create a 3D array\n",
    "a5 = np.arange(1, 28).reshape(3, 3, 3)\n",
    "a5"
   ]
  },
  {
   "cell_type": "code",
   "execution_count": 14,
   "metadata": {
    "collapsed": false
   },
   "outputs": [
    {
     "data": {
      "text/plain": [
       "array([[ 1,  2,  3,  4],\n",
       "       [ 5,  6,  7,  8],\n",
       "       [ 9, 10, 11, 12]])"
      ]
     },
     "execution_count": 14,
     "metadata": {},
     "output_type": "execute_result"
    }
   ],
   "source": [
    "# create a 3x4 array\n",
    "a6 = np.arange(1, 13).reshape(3, 4)\n",
    "a6"
   ]
  },
  {
   "cell_type": "code",
   "execution_count": 15,
   "metadata": {
    "collapsed": false
   },
   "outputs": [
    {
     "data": {
      "text/plain": [
       "array([[ 1,  2,  3,  4],\n",
       "       [ 5,  6,  7,  8],\n",
       "       [ 9, 10, 11, 12]])"
      ]
     },
     "execution_count": 15,
     "metadata": {},
     "output_type": "execute_result"
    }
   ],
   "source": [
    "# use -1 to specify an unknown dimension\n",
    "a7 = np.arange(1, 13).reshape(3, -1)\n",
    "a7"
   ]
  },
  {
   "cell_type": "code",
   "execution_count": 16,
   "metadata": {
    "collapsed": false
   },
   "outputs": [
    {
     "data": {
      "text/plain": [
       "array([[ 0.,  0.,  0.,  0.,  0.],\n",
       "       [ 0.,  0.,  0.,  0.,  0.]])"
      ]
     },
     "execution_count": 16,
     "metadata": {},
     "output_type": "execute_result"
    }
   ],
   "source": [
    "# create array of zeros\n",
    "np.zeros( (2, 5) )"
   ]
  },
  {
   "cell_type": "code",
   "execution_count": 17,
   "metadata": {
    "collapsed": false
   },
   "outputs": [
    {
     "data": {
      "text/plain": [
       "array([[ 1.,  1.,  1.],\n",
       "       [ 1.,  1.,  1.],\n",
       "       [ 1.,  1.,  1.]])"
      ]
     },
     "execution_count": 17,
     "metadata": {},
     "output_type": "execute_result"
    }
   ],
   "source": [
    "# create array of ones\n",
    "np.ones( (3, 3) )"
   ]
  },
  {
   "cell_type": "code",
   "execution_count": 18,
   "metadata": {
    "collapsed": false
   },
   "outputs": [
    {
     "data": {
      "text/plain": [
       "array([[ 0.,  0.],\n",
       "       [ 0.,  0.]])"
      ]
     },
     "execution_count": 18,
     "metadata": {},
     "output_type": "execute_result"
    }
   ],
   "source": [
    "# create empty array\n",
    "np.empty( (2, 2) )"
   ]
  },
  {
   "cell_type": "code",
   "execution_count": 19,
   "metadata": {
    "collapsed": false
   },
   "outputs": [
    {
     "data": {
      "text/plain": [
       "array([[ 1.,  0.,  0.,  0.],\n",
       "       [ 0.,  1.,  0.,  0.],\n",
       "       [ 0.,  0.,  1.,  0.],\n",
       "       [ 0.,  0.,  0.,  1.]])"
      ]
     },
     "execution_count": 19,
     "metadata": {},
     "output_type": "execute_result"
    }
   ],
   "source": [
    "# create identity array\n",
    "np.eye(4)"
   ]
  },
  {
   "cell_type": "code",
   "execution_count": 20,
   "metadata": {
    "collapsed": false
   },
   "outputs": [
    {
     "name": "stdout",
     "output_type": "stream",
     "text": [
      "[[ 1  2  3  4]\n",
      " [ 5  6  7  8]\n",
      " [ 9 10 11 12]]\n",
      "\n",
      "[[ 1  5  9]\n",
      " [ 2  6 10]\n",
      " [ 3  7 11]\n",
      " [ 4  8 12]]\n",
      "\n",
      "[[ 1  5  9]\n",
      " [ 2  6 10]\n",
      " [ 3  7 11]\n",
      " [ 4  8 12]]\n"
     ]
    }
   ],
   "source": [
    "# transpose array\n",
    "print(a7)\n",
    "print()\n",
    "print(a7.T)\n",
    "print()\n",
    "print(a7.transpose())"
   ]
  },
  {
   "cell_type": "markdown",
   "metadata": {},
   "source": [
    "### Basic Operations\n",
    "[[back to top]](#Table-of-Contents)"
   ]
  },
  {
   "cell_type": "code",
   "execution_count": 21,
   "metadata": {
    "collapsed": false
   },
   "outputs": [
    {
     "name": "stdout",
     "output_type": "stream",
     "text": [
      "[5 6 7 8 9]\n",
      "[ 1.  1.  1.  1.  1.]\n"
     ]
    }
   ],
   "source": [
    "a8 = np.arange(5, 10)\n",
    "a9 = np.ones(5)\n",
    "\n",
    "print(a8)\n",
    "print(a9)"
   ]
  },
  {
   "cell_type": "code",
   "execution_count": 22,
   "metadata": {
    "collapsed": false
   },
   "outputs": [
    {
     "data": {
      "text/plain": [
       "array([  6.,   7.,   8.,   9.,  10.])"
      ]
     },
     "execution_count": 22,
     "metadata": {},
     "output_type": "execute_result"
    }
   ],
   "source": [
    "# add two arrays\n",
    "a8 + a9"
   ]
  },
  {
   "cell_type": "code",
   "execution_count": 23,
   "metadata": {
    "collapsed": false
   },
   "outputs": [
    {
     "data": {
      "text/plain": [
       "array([25, 36, 49, 64, 81])"
      ]
     },
     "execution_count": 23,
     "metadata": {},
     "output_type": "execute_result"
    }
   ],
   "source": [
    "a8 ** 2"
   ]
  },
  {
   "cell_type": "code",
   "execution_count": 24,
   "metadata": {
    "collapsed": false
   },
   "outputs": [
    {
     "data": {
      "text/plain": [
       "array([ True,  True,  True, False, False], dtype=bool)"
      ]
     },
     "execution_count": 24,
     "metadata": {},
     "output_type": "execute_result"
    }
   ],
   "source": [
    "a8 < 8"
   ]
  },
  {
   "cell_type": "code",
   "execution_count": 25,
   "metadata": {
    "collapsed": false
   },
   "outputs": [
    {
     "data": {
      "text/plain": [
       "array([     3125,     46656,    823543,  16777216, 387420489], dtype=int32)"
      ]
     },
     "execution_count": 25,
     "metadata": {},
     "output_type": "execute_result"
    }
   ],
   "source": [
    "a8 ** a8"
   ]
  },
  {
   "cell_type": "code",
   "execution_count": 26,
   "metadata": {
    "collapsed": false
   },
   "outputs": [
    {
     "name": "stdout",
     "output_type": "stream",
     "text": [
      "[[1 2 3]\n",
      " [4 5 6]\n",
      " [7 8 9]]\n",
      "[[3 4 5]\n",
      " [9 8 7]\n",
      " [5 2 3]]\n"
     ]
    }
   ],
   "source": [
    "a10 = np.arange(1, 10).reshape(3, 3)\n",
    "a11 = np.array([[3, 4, 5], [9, 8, 7], [5, 2, 3]])\n",
    "\n",
    "print(a10)\n",
    "print(a11)"
   ]
  },
  {
   "cell_type": "code",
   "execution_count": 27,
   "metadata": {
    "collapsed": false
   },
   "outputs": [
    {
     "data": {
      "text/plain": [
       "array([[ 3,  8, 15],\n",
       "       [36, 40, 42],\n",
       "       [35, 16, 27]])"
      ]
     },
     "execution_count": 27,
     "metadata": {},
     "output_type": "execute_result"
    }
   ],
   "source": [
    "a10 * a11"
   ]
  },
  {
   "cell_type": "markdown",
   "metadata": {},
   "source": [
    "### Built-in Functions\n",
    "[[back to top]](#Table-of-Contents)"
   ]
  },
  {
   "cell_type": "code",
   "execution_count": 28,
   "metadata": {
    "collapsed": false
   },
   "outputs": [
    {
     "data": {
      "text/plain": [
       "array([[ 36,  26,  28],\n",
       "       [ 87,  68,  73],\n",
       "       [138, 110, 118]])"
      ]
     },
     "execution_count": 28,
     "metadata": {},
     "output_type": "execute_result"
    }
   ],
   "source": [
    "# take the dot (scalar matrix) product\n",
    "np.dot(a10, a11)"
   ]
  },
  {
   "cell_type": "code",
   "execution_count": 29,
   "metadata": {
    "collapsed": false
   },
   "outputs": [
    {
     "data": {
      "text/plain": [
       "array([   0.,   10.,   20.,   30.,   40.,   50.,   60.,   70.,   80.,\n",
       "         90.,  100.,  110.,  120.,  130.,  140.,  150.,  160.,  170.,\n",
       "        180.,  190.,  200.,  210.,  220.,  230.,  240.,  250.,  260.,\n",
       "        270.,  280.,  290.,  300.,  310.,  320.,  330.,  340.,  350.,\n",
       "        360.,  370.,  380.,  390.,  400.,  410.,  420.,  430.,  440.,\n",
       "        450.,  460.,  470.,  480.,  490.,  500.,  510.,  520.,  530.,\n",
       "        540.,  550.,  560.,  570.,  580.,  590.,  600.,  610.,  620.,\n",
       "        630.,  640.,  650.,  660.,  670.,  680.,  690.,  700.,  710.,\n",
       "        720.,  730.,  740.,  750.,  760.,  770.,  780.,  790.,  800.,\n",
       "        810.,  820.,  830.,  840.,  850.,  860.,  870.,  880.,  890.,\n",
       "        900.,  910.,  920.,  930.,  940.,  950.,  960.,  970.,  980.,  990.])"
      ]
     },
     "execution_count": 29,
     "metadata": {},
     "output_type": "execute_result"
    }
   ],
   "source": [
    "# create an array with a specified number of points between two numbers\n",
    "x = np.linspace(0, 1000, 100, endpoint=False)\n",
    "x"
   ]
  },
  {
   "cell_type": "code",
   "execution_count": 30,
   "metadata": {
    "collapsed": false
   },
   "outputs": [],
   "source": [
    "# create an array of random normal values with a mean of 6 and standard deviation of 2\n",
    "\n",
    "mu = 6\n",
    "sigma = 2\n",
    "\n",
    "x = sigma * np.random.randn(100000) + mu"
   ]
  },
  {
   "cell_type": "code",
   "execution_count": 31,
   "metadata": {
    "collapsed": false
   },
   "outputs": [
    {
     "data": {
      "image/png": "[encoded data removed]",
      "text/plain": [
       "<matplotlib.figure.Figure at 0x80c91d0>"
      ]
     },
     "metadata": {},
     "output_type": "display_data"
    }
   ],
   "source": [
    "# plot the normal array we just created\n",
    "\n",
    "# If we call plt.hist() natively, it'll show us a bunch of array data too. n, bins, and patches are all data \n",
    "# that are returned with the plot. By setting those equal to variables, we don't see them, and we only see the\n",
    "# plot that we wanted. \n",
    "\n",
    "n, bins, patches = plt.hist(x, bins = 50)"
   ]
  },
  {
   "cell_type": "code",
   "execution_count": 32,
   "metadata": {
    "collapsed": false
   },
   "outputs": [],
   "source": [
    "# seed the random generator, making sure the same random number returns each time\n",
    "np.random.seed(5)"
   ]
  },
  {
   "cell_type": "code",
   "execution_count": 33,
   "metadata": {
    "collapsed": false
   },
   "outputs": [
    {
     "data": {
      "text/plain": [
       "array([ 0.44122749, -0.33087015,  2.43077119, -0.25209213,  0.10960984,\n",
       "        1.58248112, -0.9092324 , -0.59163666,  0.18760323, -0.32986996])"
      ]
     },
     "execution_count": 33,
     "metadata": {},
     "output_type": "execute_result"
    }
   ],
   "source": [
    "# call 10 random normally-distributed numbers\n",
    "np.random.randn(10)"
   ]
  },
  {
   "cell_type": "code",
   "execution_count": 34,
   "metadata": {
    "collapsed": true
   },
   "outputs": [],
   "source": [
    "# create an array from 1 to 10\n",
    "a = np.arange(1, 11)"
   ]
  },
  {
   "cell_type": "code",
   "execution_count": 35,
   "metadata": {
    "collapsed": false
   },
   "outputs": [
    {
     "data": {
      "text/plain": [
       "array([ 1.        ,  1.41421356,  1.73205081,  2.        ,  2.23606798,\n",
       "        2.44948974,  2.64575131,  2.82842712,  3.        ,  3.16227766])"
      ]
     },
     "execution_count": 35,
     "metadata": {},
     "output_type": "execute_result"
    }
   ],
   "source": [
    "# the the square root of each element\n",
    "np.sqrt(a)"
   ]
  },
  {
   "cell_type": "code",
   "execution_count": 36,
   "metadata": {
    "collapsed": false
   },
   "outputs": [
    {
     "data": {
      "text/plain": [
       "10.0"
      ]
     },
     "execution_count": 36,
     "metadata": {},
     "output_type": "execute_result"
    }
   ],
   "source": [
    "# take the square root of a number\n",
    "np.sqrt(100)"
   ]
  },
  {
   "cell_type": "code",
   "execution_count": 37,
   "metadata": {
    "collapsed": false
   },
   "outputs": [
    {
     "data": {
      "text/plain": [
       "22026.465794806718"
      ]
     },
     "execution_count": 37,
     "metadata": {},
     "output_type": "execute_result"
    }
   ],
   "source": [
    "# take the exponential of a number\n",
    "np.exp(10)"
   ]
  },
  {
   "cell_type": "code",
   "execution_count": 38,
   "metadata": {
    "collapsed": false
   },
   "outputs": [
    {
     "data": {
      "text/plain": [
       "5.5"
      ]
     },
     "execution_count": 38,
     "metadata": {},
     "output_type": "execute_result"
    }
   ],
   "source": [
    "# take the mean of an array\n",
    "np.mean(a)"
   ]
  },
  {
   "cell_type": "code",
   "execution_count": 39,
   "metadata": {
    "collapsed": false
   },
   "outputs": [
    {
     "data": {
      "text/plain": [
       "5.5"
      ]
     },
     "execution_count": 39,
     "metadata": {},
     "output_type": "execute_result"
    }
   ],
   "source": [
    "# take the median of an array\n",
    "np.median(a)"
   ]
  },
  {
   "cell_type": "code",
   "execution_count": 40,
   "metadata": {
    "collapsed": false
   },
   "outputs": [
    {
     "data": {
      "text/plain": [
       "2.8722813232690143"
      ]
     },
     "execution_count": 40,
     "metadata": {},
     "output_type": "execute_result"
    }
   ],
   "source": [
    "# take the standard deviation of an array\n",
    "np.std(a)"
   ]
  },
  {
   "cell_type": "code",
   "execution_count": 41,
   "metadata": {
    "collapsed": false
   },
   "outputs": [
    {
     "data": {
      "text/plain": [
       "array([[1, 2, 3],\n",
       "       [4, 5, 6],\n",
       "       [7, 8, 9]])"
      ]
     },
     "execution_count": 41,
     "metadata": {},
     "output_type": "execute_result"
    }
   ],
   "source": [
    "# create a 3x3 array\n",
    "b = np.arange(1, 10).reshape(3, 3)\n",
    "b"
   ]
  },
  {
   "cell_type": "code",
   "execution_count": 42,
   "metadata": {
    "collapsed": false
   },
   "outputs": [
    {
     "name": "stdout",
     "output_type": "stream",
     "text": [
      "[12 15 18]\n",
      "\n",
      "[ 6 15 24]\n"
     ]
    }
   ],
   "source": [
    "# sum down the columns\n",
    "print(b.sum(axis = 0), end='\\n\\n')\n",
    "\n",
    "# sum across a row\n",
    "print(b.sum(axis = 1))"
   ]
  },
  {
   "cell_type": "code",
   "execution_count": 43,
   "metadata": {
    "collapsed": false
   },
   "outputs": [
    {
     "data": {
      "text/plain": [
       "array([1, 4, 7])"
      ]
     },
     "execution_count": 43,
     "metadata": {},
     "output_type": "execute_result"
    }
   ],
   "source": [
    "# take the minimum value in each row\n",
    "b.min(axis = 1)"
   ]
  },
  {
   "cell_type": "code",
   "execution_count": 44,
   "metadata": {
    "collapsed": false
   },
   "outputs": [
    {
     "data": {
      "text/plain": [
       "9"
      ]
     },
     "execution_count": 44,
     "metadata": {},
     "output_type": "execute_result"
    }
   ],
   "source": [
    "# find the maximum value in the array\n",
    "b.max()"
   ]
  },
  {
   "cell_type": "code",
   "execution_count": 45,
   "metadata": {
    "collapsed": false
   },
   "outputs": [
    {
     "data": {
      "text/plain": [
       "array([[ 1,  3,  6],\n",
       "       [ 4,  9, 15],\n",
       "       [ 7, 15, 24]], dtype=int32)"
      ]
     },
     "execution_count": 45,
     "metadata": {},
     "output_type": "execute_result"
    }
   ],
   "source": [
    "# take the cumulative sum across a row\n",
    "b.cumsum(axis = 1)"
   ]
  },
  {
   "cell_type": "markdown",
   "metadata": {},
   "source": [
    "### Array Slicing\n",
    "[[back to top]](#Table-of-Contents)"
   ]
  },
  {
   "cell_type": "code",
   "execution_count": 46,
   "metadata": {
    "collapsed": false
   },
   "outputs": [
    {
     "data": {
      "text/plain": [
       "array([  0,   1,   8,  27,  64, 125, 216, 343, 512, 729], dtype=int32)"
      ]
     },
     "execution_count": 46,
     "metadata": {},
     "output_type": "execute_result"
    }
   ],
   "source": [
    "# create an array by cubing another array\n",
    "c = np.arange(10) ** 3\n",
    "c"
   ]
  },
  {
   "cell_type": "code",
   "execution_count": 47,
   "metadata": {
    "collapsed": false
   },
   "outputs": [
    {
     "data": {
      "text/plain": [
       "array([  0,   1,   8, 100,  64, 125, 216, 343, 512, 729], dtype=int32)"
      ]
     },
     "execution_count": 47,
     "metadata": {},
     "output_type": "execute_result"
    }
   ],
   "source": [
    "# call the element of the array at index 3\n",
    "c[3] = 100\n",
    "c"
   ]
  },
  {
   "cell_type": "code",
   "execution_count": 48,
   "metadata": {
    "collapsed": false
   },
   "outputs": [
    {
     "data": {
      "text/plain": [
       "array([  8, 100,  64], dtype=int32)"
      ]
     },
     "execution_count": 48,
     "metadata": {},
     "output_type": "execute_result"
    }
   ],
   "source": [
    "# return indexes 2 thru 5 (not inclusive)\n",
    "c[2:5]"
   ]
  },
  {
   "cell_type": "code",
   "execution_count": 49,
   "metadata": {
    "collapsed": false
   },
   "outputs": [
    {
     "data": {
      "text/plain": [
       "array([-10,   1, -10, 100, -10, 125, 216, 343, 512, 729], dtype=int32)"
      ]
     },
     "execution_count": 49,
     "metadata": {},
     "output_type": "execute_result"
    }
   ],
   "source": [
    "# set elements 0 (default start) thru 6 (not inclusive) equal to -10, stepping by twos\n",
    "c[:6:2] = -10\n",
    "c"
   ]
  },
  {
   "cell_type": "code",
   "execution_count": 50,
   "metadata": {
    "collapsed": false
   },
   "outputs": [
    {
     "data": {
      "text/plain": [
       "array([729, 512, 343, 216, 125, -10, 100, -10,   1, -10], dtype=int32)"
      ]
     },
     "execution_count": 50,
     "metadata": {},
     "output_type": "execute_result"
    }
   ],
   "source": [
    "# return the array backwards\n",
    "c[::-1]"
   ]
  },
  {
   "cell_type": "code",
   "execution_count": 51,
   "metadata": {
    "collapsed": false
   },
   "outputs": [
    {
     "data": {
      "text/plain": [
       "array([[-11.92764612,  -2.04876511,  -3.58828947,   6.03471603,\n",
       "        -16.64788529,  -7.00179038,  11.51391009,  18.57331007,\n",
       "        -15.11179558],\n",
       "       [  6.44847511,  -9.80607885,  -8.56853155,  -8.71879183,\n",
       "         -4.22507929,   9.96439827,   7.12421271,   0.59144243,\n",
       "         -3.63310878],\n",
       "       [  0.03288843,  -1.05930442,   7.93053319,  -6.3157163 ,\n",
       "         -0.06194908,  -1.01067612,  -0.52308151,   2.49217659,\n",
       "          1.97660091],\n",
       "       [ 13.34848574,  -0.86875606,  15.61532293,  -3.05853021,\n",
       "         -4.77731417,   1.00738189,   3.55438472,   2.69612406,\n",
       "         12.91963383],\n",
       "       [ 11.39342979,   4.94440398,  -3.36336259,  -1.00614346,\n",
       "         14.13398018,   2.21254123, -13.10773133,  -6.89565232,\n",
       "         -5.77513233],\n",
       "       [ 11.5220477 ,  -1.07163985,  22.60106774,   6.5661947 ,\n",
       "          1.24806825,  -4.35703919,   9.7217931 ,  -2.40711142,\n",
       "         -8.24123453],\n",
       "       [  5.68132718,   0.12758317,  11.89060726,  -0.73593319,\n",
       "        -28.59687967,   7.89366404, -18.77740884,  15.38756145,\n",
       "         18.21364739],\n",
       "       [ -4.27031386, -11.6470191 , -13.97074025,   8.72654621,\n",
       "         -2.02118178,  -5.98359933,  -2.43419701,  20.88514688,\n",
       "          3.46919327],\n",
       "       [  7.4572695 ,   7.76907591,  10.18421133,  10.61351439,\n",
       "         -7.10466447,  -2.15187802,  -7.60760309,  -7.11163228,\n",
       "         11.41507737]])"
      ]
     },
     "execution_count": 51,
     "metadata": {},
     "output_type": "execute_result"
    }
   ],
   "source": [
    "# create a 9x9 array of random normally-distributed numbers\n",
    "e = np.random.randn(81).reshape(9, 9) * 10\n",
    "e"
   ]
  },
  {
   "cell_type": "code",
   "execution_count": 52,
   "metadata": {
    "collapsed": false
   },
   "outputs": [
    {
     "data": {
      "text/plain": [
       "array([[-11.92764612,  -2.04876511,  -3.58828947,   6.03471603,\n",
       "        -16.64788529],\n",
       "       [  6.44847511,  -9.80607885,  -8.56853155,  -8.71879183,\n",
       "         -4.22507929],\n",
       "       [  0.03288843,  -1.05930442,   7.93053319,  -6.3157163 ,\n",
       "         -0.06194908]])"
      ]
     },
     "execution_count": 52,
     "metadata": {},
     "output_type": "execute_result"
    }
   ],
   "source": [
    "# show rows 0 thru 3, and columns 0 thru 5, both exclusive of the upper bound\n",
    "e[0:3, 0:5]"
   ]
  },
  {
   "cell_type": "code",
   "execution_count": 53,
   "metadata": {
    "collapsed": false
   },
   "outputs": [
    {
     "name": "stdout",
     "output_type": "stream",
     "text": [
      "1\n",
      "2\n",
      "3\n",
      "4\n",
      "5\n",
      "6\n",
      "7\n",
      "8\n",
      "9\n"
     ]
    }
   ],
   "source": [
    "# use the .flat property to return a iterable sequence of all the values in an array\n",
    "for item in b.flat:\n",
    "    print(item)"
   ]
  },
  {
   "cell_type": "code",
   "execution_count": 54,
   "metadata": {
    "collapsed": false
   },
   "outputs": [
    {
     "name": "stdout",
     "output_type": "stream",
     "text": [
      "nan\n",
      "1.0\n",
      "nan\n",
      "4.64158883361\n",
      "nan\n",
      "5.0\n",
      "6.0\n",
      "7.0\n",
      "8.0\n",
      "9.0\n"
     ]
    },
    {
     "name": "stderr",
     "output_type": "stream",
     "text": [
      "C:\\Users\\SZahn\\AppData\\Local\\Continuum\\Anaconda3\\lib\\site-packages\\ipykernel\\__main__.py:4: RuntimeWarning: invalid value encountered in power\n"
     ]
    }
   ],
   "source": [
    "# cube root each element of c\n",
    "# we get NaN values returned for the negative values in c\n",
    "for i in c:\n",
    "    print(i ** (1/3))"
   ]
  },
  {
   "cell_type": "code",
   "execution_count": 55,
   "metadata": {
    "collapsed": false
   },
   "outputs": [
    {
     "data": {
      "text/plain": [
       "array([[  1.,   2.,   3.],\n",
       "       [  4.,  nan,   6.],\n",
       "       [ nan,   8.,  nan]])"
      ]
     },
     "execution_count": 55,
     "metadata": {},
     "output_type": "execute_result"
    }
   ],
   "source": [
    "# create an array d with some missing values\n",
    "d = np.array([[1, 2, 3], [4, np.nan, 6], [np.nan, 8, np.nan]])\n",
    "d"
   ]
  },
  {
   "cell_type": "code",
   "execution_count": 56,
   "metadata": {
    "collapsed": true
   },
   "outputs": [],
   "source": [
    "# create an array of data points\n",
    "points = np.arange(-5, 5, 0.1)"
   ]
  },
  {
   "cell_type": "code",
   "execution_count": 57,
   "metadata": {
    "collapsed": false
   },
   "outputs": [],
   "source": [
    "# use the meshgrid function to take our array of points and create an x-y plane from -5 to 5\n",
    "dx, dy = np.meshgrid(points, points)"
   ]
  },
  {
   "cell_type": "code",
   "execution_count": 58,
   "metadata": {
    "collapsed": false
   },
   "outputs": [],
   "source": [
    "# create ann array by adding the sines of two separate arrays\n",
    "z = np.sin(dx) + np.sin(dy)"
   ]
  },
  {
   "cell_type": "code",
   "execution_count": 59,
   "metadata": {
    "collapsed": false
   },
   "outputs": [
    {
     "data": {
      "text/plain": [
       "<matplotlib.text.Text at 0x85a0b38>"
      ]
     },
     "execution_count": 59,
     "metadata": {},
     "output_type": "execute_result"
    },
    {
     "data": {
      "image/png": "[encoded data removed]",
      "text/plain": [
       "<matplotlib.figure.Figure at 0x82dea58>"
      ]
     },
     "metadata": {},
     "output_type": "display_data"
    }
   ],
   "source": [
    "# plot the results of the previous cell\n",
    "plt.imshow(z)\n",
    "plt.colorbar()\n",
    "plt.title('Plot of Sin(x) + Sin(y)')"
   ]
  },
  {
   "cell_type": "code",
   "execution_count": 60,
   "metadata": {
    "collapsed": false
   },
   "outputs": [
    {
     "data": {
      "text/plain": [
       "array([[-0.50175555, -0.07915136, -0.69282634, -0.59340277],\n",
       "       [ 0.78823794, -0.44542999, -0.48212019,  0.49355766],\n",
       "       [ 0.50048733,  0.79242262,  0.17076445, -1.75374086],\n",
       "       [ 0.63029648,  0.49832921,  1.01813761, -0.84646862]])"
      ]
     },
     "execution_count": 60,
     "metadata": {},
     "output_type": "execute_result"
    }
   ],
   "source": [
    "# create a normally-distributed random 4x4 array\n",
    "a12 = np.random.randn(16).reshape(4, 4)\n",
    "a12"
   ]
  },
  {
   "cell_type": "code",
   "execution_count": 61,
   "metadata": {
    "collapsed": false
   },
   "outputs": [
    {
     "data": {
      "text/plain": [
       "array([[ 0.        ,  0.        ,  0.        ,  0.        ],\n",
       "       [ 0.78823794,  0.        ,  0.        ,  0.49355766],\n",
       "       [ 0.50048733,  0.79242262,  0.17076445,  0.        ],\n",
       "       [ 0.63029648,  0.49832921,  1.01813761,  0.        ]])"
      ]
     },
     "execution_count": 61,
     "metadata": {},
     "output_type": "execute_result"
    }
   ],
   "source": [
    "# use NumPy's where function to only show array values 0 or above\n",
    "a13 = np.where(a12 < 0, 0, a12)\n",
    "a13"
   ]
  },
  {
   "cell_type": "code",
   "execution_count": 62,
   "metadata": {
    "collapsed": false
   },
   "outputs": [
    {
     "data": {
      "text/plain": [
       "array([ 0.        ,  0.17076445,  0.49355766,  0.49832921,  0.50048733,\n",
       "        0.63029648,  0.78823794,  0.79242262,  1.01813761])"
      ]
     },
     "execution_count": 62,
     "metadata": {},
     "output_type": "execute_result"
    }
   ],
   "source": [
    "# return an array of all the unique values in the original array\n",
    "np.unique(a13)"
   ]
  },
  {
   "cell_type": "code",
   "execution_count": 63,
   "metadata": {
    "collapsed": false
   },
   "outputs": [
    {
     "data": {
      "text/plain": [
       "array([[  6.52270786e-01,   2.41859054e-01,   3.11300634e-02,\n",
       "          5.44232353e-01,   3.64710179e-01,   8.92333275e-01,\n",
       "          4.59345595e-01,   4.18654100e-01,   6.32905541e-01,\n",
       "          5.27178833e-01],\n",
       "       [  9.61211140e-01,   7.89010115e-01,   4.96695509e-01,\n",
       "          2.11141001e-01,   6.03984141e-01,   7.48575811e-01,\n",
       "          7.55863831e-01,   9.93504008e-01,   2.18497781e-01,\n",
       "          4.25637334e-01],\n",
       "       [  4.23849603e-01,   3.18646438e-01,   3.65333019e-01,\n",
       "          4.77941310e-01,   5.42090409e-01,   2.65230247e-01,\n",
       "          1.34363728e-01,   3.01886098e-01,   1.36480094e-01,\n",
       "          3.17700203e-01],\n",
       "       [  6.79182681e-01,   6.01341156e-01,   9.97225467e-01,\n",
       "          5.60914590e-01,   5.48726197e-01,   6.42349540e-01,\n",
       "          7.26789371e-01,   6.15813540e-01,   5.88500065e-01,\n",
       "          6.05004313e-01],\n",
       "       [  3.54785461e-01,   7.77381995e-01,   6.04603314e-01,\n",
       "          3.09230771e-01,   2.45630999e-01,   7.12659841e-02,\n",
       "          3.47729168e-01,   1.28480740e-02,   1.65641827e-01,\n",
       "          6.03664324e-02],\n",
       "       [  2.78155934e-01,   3.48331994e-01,   5.91222311e-01,\n",
       "          7.75013130e-01,   6.24754467e-01,   1.59680933e-01,\n",
       "          8.93762653e-01,   7.30591266e-01,   4.97768019e-01,\n",
       "          6.43640219e-01],\n",
       "       [  5.09475094e-01,   1.68208158e-01,   6.41464773e-01,\n",
       "          9.88167763e-01,   7.70329363e-01,   1.81481209e-01,\n",
       "          1.19769021e-01,   9.30341843e-01,   9.10097433e-01,\n",
       "          7.49184660e-01],\n",
       "       [  7.60531540e-01,   1.42875798e-01,   8.11944192e-01,\n",
       "          1.92279296e-01,   1.54745110e-01,   4.07078957e-01,\n",
       "          3.82894367e-04,   8.45517816e-01,   1.61132453e-01,\n",
       "          7.39250735e-01],\n",
       "       [  5.82910816e-01,   7.70260003e-01,   5.99993167e-01,\n",
       "          9.61467486e-01,   3.79778389e-01,   4.97010350e-01,\n",
       "          3.38338649e-01,   7.42750742e-01,   3.00495870e-01,\n",
       "          7.98786275e-01],\n",
       "       [  8.59497793e-02,   2.35663638e-01,   4.38168893e-01,\n",
       "          1.26045853e-01,   2.03031981e-01,   8.41542742e-01,\n",
       "          3.72432455e-01,   2.18681729e-01,   8.46132822e-01,\n",
       "          5.75374665e-01]])"
      ]
     },
     "execution_count": 63,
     "metadata": {},
     "output_type": "execute_result"
    }
   ],
   "source": [
    "# create a 10x10 array of random numbers from [0, 1)\n",
    "a14 = np.random.random_sample(100).reshape(10, 10)\n",
    "a14"
   ]
  },
  {
   "cell_type": "markdown",
   "metadata": {},
   "source": [
    "### Saving and Loading Arrays\n",
    "[[back to top]](#Table-of-Contents)"
   ]
  },
  {
   "cell_type": "code",
   "execution_count": 64,
   "metadata": {
    "collapsed": true
   },
   "outputs": [],
   "source": [
    "# Save your array\n",
    "np.save('my_numpy_array', a14)"
   ]
  },
  {
   "cell_type": "code",
   "execution_count": 65,
   "metadata": {
    "collapsed": false
   },
   "outputs": [
    {
     "data": {
      "text/plain": [
       "array([[  6.52270786e-01,   2.41859054e-01,   3.11300634e-02,\n",
       "          5.44232353e-01,   3.64710179e-01,   8.92333275e-01,\n",
       "          4.59345595e-01,   4.18654100e-01,   6.32905541e-01,\n",
       "          5.27178833e-01],\n",
       "       [  9.61211140e-01,   7.89010115e-01,   4.96695509e-01,\n",
       "          2.11141001e-01,   6.03984141e-01,   7.48575811e-01,\n",
       "          7.55863831e-01,   9.93504008e-01,   2.18497781e-01,\n",
       "          4.25637334e-01],\n",
       "       [  4.23849603e-01,   3.18646438e-01,   3.65333019e-01,\n",
       "          4.77941310e-01,   5.42090409e-01,   2.65230247e-01,\n",
       "          1.34363728e-01,   3.01886098e-01,   1.36480094e-01,\n",
       "          3.17700203e-01],\n",
       "       [  6.79182681e-01,   6.01341156e-01,   9.97225467e-01,\n",
       "          5.60914590e-01,   5.48726197e-01,   6.42349540e-01,\n",
       "          7.26789371e-01,   6.15813540e-01,   5.88500065e-01,\n",
       "          6.05004313e-01],\n",
       "       [  3.54785461e-01,   7.77381995e-01,   6.04603314e-01,\n",
       "          3.09230771e-01,   2.45630999e-01,   7.12659841e-02,\n",
       "          3.47729168e-01,   1.28480740e-02,   1.65641827e-01,\n",
       "          6.03664324e-02],\n",
       "       [  2.78155934e-01,   3.48331994e-01,   5.91222311e-01,\n",
       "          7.75013130e-01,   6.24754467e-01,   1.59680933e-01,\n",
       "          8.93762653e-01,   7.30591266e-01,   4.97768019e-01,\n",
       "          6.43640219e-01],\n",
       "       [  5.09475094e-01,   1.68208158e-01,   6.41464773e-01,\n",
       "          9.88167763e-01,   7.70329363e-01,   1.81481209e-01,\n",
       "          1.19769021e-01,   9.30341843e-01,   9.10097433e-01,\n",
       "          7.49184660e-01],\n",
       "       [  7.60531540e-01,   1.42875798e-01,   8.11944192e-01,\n",
       "          1.92279296e-01,   1.54745110e-01,   4.07078957e-01,\n",
       "          3.82894367e-04,   8.45517816e-01,   1.61132453e-01,\n",
       "          7.39250735e-01],\n",
       "       [  5.82910816e-01,   7.70260003e-01,   5.99993167e-01,\n",
       "          9.61467486e-01,   3.79778389e-01,   4.97010350e-01,\n",
       "          3.38338649e-01,   7.42750742e-01,   3.00495870e-01,\n",
       "          7.98786275e-01],\n",
       "       [  8.59497793e-02,   2.35663638e-01,   4.38168893e-01,\n",
       "          1.26045853e-01,   2.03031981e-01,   8.41542742e-01,\n",
       "          3.72432455e-01,   2.18681729e-01,   8.46132822e-01,\n",
       "          5.75374665e-01]])"
      ]
     },
     "execution_count": 65,
     "metadata": {},
     "output_type": "execute_result"
    }
   ],
   "source": [
    "# Load the array you just saved\n",
    "a15 = np.load('my_numpy_array.npy')\n",
    "a15"
   ]
  },
  {
   "cell_type": "code",
   "execution_count": 66,
   "metadata": {
    "collapsed": false
   },
   "outputs": [
    {
     "data": {
      "text/plain": [
       "array([[  1,   2,   3,   4,   5,   6,   7,   8,   9,  10],\n",
       "       [ 11,  12,  13,  14,  15,  16,  17,  18,  19,  20],\n",
       "       [ 21,  22,  23,  24,  25,  26,  27,  28,  29,  30],\n",
       "       [ 31,  32,  33,  34,  35,  36,  37,  38,  39,  40],\n",
       "       [ 41,  42,  43,  44,  45,  46,  47,  48,  49,  50],\n",
       "       [ 51,  52,  53,  54,  55,  56,  57,  58,  59,  60],\n",
       "       [ 61,  62,  63,  64,  65,  66,  67,  68,  69,  70],\n",
       "       [ 71,  72,  73,  74,  75,  76,  77,  78,  79,  80],\n",
       "       [ 81,  82,  83,  84,  85,  86,  87,  88,  89,  90],\n",
       "       [ 91,  92,  93,  94,  95,  96,  97,  98,  99, 100]])"
      ]
     },
     "execution_count": 66,
     "metadata": {},
     "output_type": "execute_result"
    }
   ],
   "source": [
    "# create a 10x10 array\n",
    "a16 = np.arange(1, 101).reshape(10, 10)\n",
    "a16"
   ]
  },
  {
   "cell_type": "code",
   "execution_count": 67,
   "metadata": {
    "collapsed": false
   },
   "outputs": [
    {
     "data": {
      "text/plain": [
       "array([[53, 46, 48, 63, 52, 53, 55, 51, 51, 48],\n",
       "       [58, 55, 44, 49, 46, 47, 54, 54, 43, 45],\n",
       "       [47, 49, 47, 42, 59, 53, 43, 49, 48, 56],\n",
       "       [55, 51, 48, 49, 52, 39, 42, 54, 54, 50],\n",
       "       [50, 46, 57, 52, 44, 46, 50, 54, 48, 44],\n",
       "       [53, 51, 38, 55, 36, 53, 51, 48, 58, 48],\n",
       "       [46, 56, 53, 54, 45, 48, 49, 46, 54, 49],\n",
       "       [54, 51, 44, 52, 49, 49, 57, 59, 47, 42],\n",
       "       [53, 41, 45, 52, 44, 53, 47, 48, 44, 51],\n",
       "       [46, 51, 55, 48, 48, 51, 53, 48, 63, 49]])"
      ]
     },
     "execution_count": 67,
     "metadata": {},
     "output_type": "execute_result"
    }
   ],
   "source": [
    "# create a 10x10 array of random binomial values\n",
    "a17 = np.random.binomial(100, 0.5, size=100).reshape(10, 10)\n",
    "a17"
   ]
  },
  {
   "cell_type": "code",
   "execution_count": 68,
   "metadata": {
    "collapsed": true
   },
   "outputs": [],
   "source": [
    "# save the two previously created arrays in a NumPy zip file\n",
    "np.savez('my_saved_arrays_zip', saved_1 = a16, saved_2 = a17)"
   ]
  },
  {
   "cell_type": "code",
   "execution_count": 69,
   "metadata": {
    "collapsed": true
   },
   "outputs": [],
   "source": [
    "# create a data structure of the loaded arrays\n",
    "loaded_arrays = np.load('my_saved_arrays_zip.npz')"
   ]
  },
  {
   "cell_type": "code",
   "execution_count": 70,
   "metadata": {
    "collapsed": false
   },
   "outputs": [
    {
     "data": {
      "text/plain": [
       "array([[  1,   2,   3,   4,   5,   6,   7,   8,   9,  10],\n",
       "       [ 11,  12,  13,  14,  15,  16,  17,  18,  19,  20],\n",
       "       [ 21,  22,  23,  24,  25,  26,  27,  28,  29,  30],\n",
       "       [ 31,  32,  33,  34,  35,  36,  37,  38,  39,  40],\n",
       "       [ 41,  42,  43,  44,  45,  46,  47,  48,  49,  50],\n",
       "       [ 51,  52,  53,  54,  55,  56,  57,  58,  59,  60],\n",
       "       [ 61,  62,  63,  64,  65,  66,  67,  68,  69,  70],\n",
       "       [ 71,  72,  73,  74,  75,  76,  77,  78,  79,  80],\n",
       "       [ 81,  82,  83,  84,  85,  86,  87,  88,  89,  90],\n",
       "       [ 91,  92,  93,  94,  95,  96,  97,  98,  99, 100]])"
      ]
     },
     "execution_count": 70,
     "metadata": {},
     "output_type": "execute_result"
    }
   ],
   "source": [
    "# show the first loaded array\n",
    "loaded_arrays['saved_1']"
   ]
  },
  {
   "cell_type": "code",
   "execution_count": 71,
   "metadata": {
    "collapsed": false
   },
   "outputs": [
    {
     "data": {
      "text/plain": [
       "array([[53, 46, 48, 63, 52, 53, 55, 51, 51, 48],\n",
       "       [58, 55, 44, 49, 46, 47, 54, 54, 43, 45],\n",
       "       [47, 49, 47, 42, 59, 53, 43, 49, 48, 56],\n",
       "       [55, 51, 48, 49, 52, 39, 42, 54, 54, 50],\n",
       "       [50, 46, 57, 52, 44, 46, 50, 54, 48, 44],\n",
       "       [53, 51, 38, 55, 36, 53, 51, 48, 58, 48],\n",
       "       [46, 56, 53, 54, 45, 48, 49, 46, 54, 49],\n",
       "       [54, 51, 44, 52, 49, 49, 57, 59, 47, 42],\n",
       "       [53, 41, 45, 52, 44, 53, 47, 48, 44, 51],\n",
       "       [46, 51, 55, 48, 48, 51, 53, 48, 63, 49]])"
      ]
     },
     "execution_count": 71,
     "metadata": {},
     "output_type": "execute_result"
    }
   ],
   "source": [
    "# show the second loaded array\n",
    "loaded_arrays['saved_2']"
   ]
  },
  {
   "cell_type": "code",
   "execution_count": 72,
   "metadata": {
    "collapsed": false
   },
   "outputs": [
    {
     "data": {
      "text/plain": [
       "array([[0, 0, 0, 1, 1],\n",
       "       [0, 0, 0, 0, 2]])"
      ]
     },
     "execution_count": 72,
     "metadata": {},
     "output_type": "execute_result"
    }
   ],
   "source": [
    "# create a random Poisson distribution\n",
    "a18 = np.random.poisson(size = 10).reshape(2, 5)\n",
    "a18"
   ]
  },
  {
   "cell_type": "code",
   "execution_count": 73,
   "metadata": {
    "collapsed": true
   },
   "outputs": [],
   "source": [
    "# save it as a .txt file\n",
    "np.savetxt('my_saved_array.txt', a18)"
   ]
  },
  {
   "cell_type": "code",
   "execution_count": 74,
   "metadata": {
    "collapsed": true
   },
   "outputs": [],
   "source": [
    "# save it as a .txt file using a comma delimiter\n",
    "np.savetxt('my_saved_array.csv', a18, delimiter=',')"
   ]
  },
  {
   "cell_type": "code",
   "execution_count": 75,
   "metadata": {
    "collapsed": false
   },
   "outputs": [
    {
     "data": {
      "text/plain": [
       "array([[ 0.,  0.,  0.,  1.,  1.],\n",
       "       [ 0.,  0.,  0.,  0.,  2.]])"
      ]
     },
     "execution_count": 75,
     "metadata": {},
     "output_type": "execute_result"
    }
   ],
   "source": [
    "# load the saved text file\n",
    "np.loadtxt('my_saved_array.txt')"
   ]
  },
  {
   "cell_type": "code",
   "execution_count": 76,
   "metadata": {
    "collapsed": false
   },
   "outputs": [
    {
     "data": {
      "text/plain": [
       "array([[ 0.,  0.,  0.,  1.,  1.],\n",
       "       [ 0.,  0.,  0.,  0.,  2.]])"
      ]
     },
     "execution_count": 76,
     "metadata": {},
     "output_type": "execute_result"
    }
   ],
   "source": [
    "# load the saved .csv file (note that you have to specify the delimiter here)\n",
    "np.loadtxt('my_saved_array.csv', delimiter = ',')"
   ]
  }
 ],
 "metadata": {
  "kernelspec": {
   "display_name": "Python 3",
   "language": "python",
   "name": "python3"
  },
  "language_info": {
   "codemirror_mode": {
    "name": "ipython",
    "version": 3
   },
   "file_extension": ".py",
   "mimetype": "text/x-python",
   "name": "python",
   "nbconvert_exporter": "python",
   "pygments_lexer": "ipython3",
   "version": "3.5.1"
  }
 },
 "nbformat": 4,
 "nbformat_minor": 0
}
