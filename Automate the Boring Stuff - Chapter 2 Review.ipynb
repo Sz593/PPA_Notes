{
 "cells": [
  {
   "cell_type": "markdown",
   "metadata": {},
   "source": [
    "# Review of *Automate the Boring Stuff* Chapter 2: Flow Control"
   ]
  },
  {
   "cell_type": "markdown",
   "metadata": {},
   "source": [
    "### Boolean Values\n",
    "There are two Boolean values in python `True` and `False`.\n",
    "\n",
    "### Comparison  and Boolean Operators\n",
    "\n",
    "| Operator | Meaning |\n",
    "|:---:|----|\n",
    "| == | Equal to |\n",
    "| != | Not equal to |\n",
    "| < | Less than |\n",
    "| <= | Less than or equal to |\n",
    "| > | Greater than|\n",
    "| >= | Greater than or equal to |\n",
    "| `and` | Both must be true |\n",
    "| `or` | Either must be true |\n",
    "| `not` | Opposite Boolean value |\n",
    "\n",
    "Note that in python, the `=` operator is used for variable assignment, while the `==` operator is used to test equality. \n",
    "\n",
    "### if-elif-else Blocks\n",
    "`if` evaluates a condition to a Boolean (`True` or `False`). You can have one or multiple `elif` statements following an `if`, and the `else` block evaluates if none of the conditions are met. `if`-`elif`-`else` blocks evaluate from top down, so the first condition that evaluates to `True` will be the block that triggers. For example,"
   ]
  },
  {
   "cell_type": "code",
   "execution_count": 1,
   "metadata": {
    "collapsed": false
   },
   "outputs": [
    {
     "name": "stdout",
     "output_type": "stream",
     "text": [
      "Block three triggers\n"
     ]
    }
   ],
   "source": [
    "x = 10\n",
    "\n",
    "if x < 5:\n",
    "    print('First block triggers')\n",
    "elif x < 10:\n",
    "    print('Second block triggers')\n",
    "elif x < 20:\n",
    "    print('Block three triggers')\n",
    "elif x < 30:\n",
    "    print('Block four runs')\n",
    "else:\n",
    "    print('Else block runs')"
   ]
  },
  {
   "cell_type": "markdown",
   "metadata": {},
   "source": [
    "Notice how the `elif x < 20` block is the one that runs, even though the condition was met for both the `elif x < 20` and `elif < 30` blocks. \n",
    "\n",
    "### while Loops\n",
    "Executes code repetitively while a condition remains `True`. "
   ]
  },
  {
   "cell_type": "code",
   "execution_count": 2,
   "metadata": {
    "collapsed": false
   },
   "outputs": [
    {
     "name": "stdout",
     "output_type": "stream",
     "text": [
      "Number = 0, Number = 1, Number = 2, Number = 3, Number = 4, Number = 5, "
     ]
    }
   ],
   "source": [
    "counter = 0\n",
    "while counter <= 5:\n",
    "    print(\"Number = \" + str(counter), end=', ')\n",
    "    counter += 1    # This is equivalent to counter = counter + 1, this is called augmented assignment"
   ]
  },
  {
   "cell_type": "markdown",
   "metadata": {
    "collapsed": true
   },
   "source": [
    "Be careful, if I left out the `counter += 1` line at the bottom, this would be an *infinite loop*, which is a loop where the condition never becomes `False`. If you ever make an infinite loop by mistake (**never** make one on purpose!!!), you'll have to kill the kernal, or it will use up all of your computer's memory until it crashes. \n",
    "\n",
    "In Jupyter notebooks, you can kill the kernal by bring up the Jupyter notebook command prompt window, and typing `Ctrl + c`. \n",
    "\n",
    "In loops, there are two very useful statement: `break` automatically breaks out of the loop, and `continue` sends you back to the top where the condition is evaluated. "
   ]
  },
  {
   "cell_type": "code",
   "execution_count": 3,
   "metadata": {
    "collapsed": false
   },
   "outputs": [
    {
     "name": "stdout",
     "output_type": "stream",
     "text": [
      "What is your name: Simon\n",
      "What is your quest: A cheeseburger\n",
      "What is the air-speed velocity of an unladen swallow: 20 m/s\n",
      "What is your name: Joel\n",
      "What is your quest: Canadian domination of North America!\n",
      "What is the air-speed velocity of an unladen swallow: All the birds already flew south for the winter...\n",
      "What is your name: It is Arthur, King of the Britons\n",
      "What is your quest: To seek the Holy Grail\n",
      "What is the air-speed velocity of an unladen swallow: African or European?\n"
     ]
    }
   ],
   "source": [
    "# break statement\n",
    "while True:\n",
    "    name = input('What is your name: ')\n",
    "    quest = input('What is your quest: ')\n",
    "    secret_question = input('What is the air-speed velocity of an unladen swallow: ')\n",
    "    \n",
    "    if name == 'It is Arthur, King of the Britons' and quest == 'To seek the Holy Grail' and secret_question == 'African or European?':\n",
    "        break"
   ]
  },
  {
   "cell_type": "code",
   "execution_count": 4,
   "metadata": {
    "collapsed": false
   },
   "outputs": [
    {
     "name": "stdout",
     "output_type": "stream",
     "text": [
      "What is your name: Joe\n",
      "Nope! Try again...\n",
      "What is your name: Darth Vader\n",
      "Nope! Try again...\n",
      "What is your name: Simon\n",
      "Hello sir. You are a gentleman and a scholar.\n"
     ]
    }
   ],
   "source": [
    "# continue and break statements\n",
    "while True:\n",
    "    name = input('What is your name: ')\n",
    "    if name != 'Simon':\n",
    "        print('Nope! Try again...')\n",
    "        continue\n",
    "    print('Hello sir. You are a gentleman and a scholar.')\n",
    "    break"
   ]
  },
  {
   "cell_type": "markdown",
   "metadata": {},
   "source": [
    "### for loops\n",
    "A `while` loop continues to execute while a particular condition is `True`, but a `for` loop executes over an *iterable* (something with a countable number of elements... we'll see more about these later). An example of an iterable is generated by the `range()` function. "
   ]
  },
  {
   "cell_type": "code",
   "execution_count": 5,
   "metadata": {
    "collapsed": false
   },
   "outputs": [
    {
     "name": "stdout",
     "output_type": "stream",
     "text": [
      "0\n",
      "1\n",
      "2\n",
      "3\n",
      "4\n"
     ]
    }
   ],
   "source": [
    "for x in range(5):\n",
    "    print(x)"
   ]
  },
  {
   "cell_type": "code",
   "execution_count": 6,
   "metadata": {
    "collapsed": false
   },
   "outputs": [
    {
     "name": "stdout",
     "output_type": "stream",
     "text": [
      "5  10  15  20  25  30  35  40  45  50  "
     ]
    }
   ],
   "source": [
    "# add in start and step. The full syntax is range(start, stop, step).\n",
    "for x in range(5, 51, 5):\n",
    "    print(x, end='  ')"
   ]
  },
  {
   "cell_type": "code",
   "execution_count": 7,
   "metadata": {
    "collapsed": false
   },
   "outputs": [
    {
     "name": "stdout",
     "output_type": "stream",
     "text": [
      "0 1 2 3 4 5 6 7 8 9 10 11 12 13 14 15 16 17 18 19 20 21 22 23 24 25 26 27 28 29 30 31 32 33 34 35 36 37 38 39 40 41 42 43 44 45 46 47 48 49 50 \n",
      "Total = 1275\n"
     ]
    }
   ],
   "source": [
    "# add all numbers from 1 to 50\n",
    "total = 0\n",
    "for x in range(51):\n",
    "    total += x\n",
    "    print(x, end=' ')\n",
    "print()\n",
    "print('Total = ' + str(total))"
   ]
  },
  {
   "cell_type": "markdown",
   "metadata": {},
   "source": [
    "### Importing Modules\n",
    "All python programs can call a basic set of functions called built-in functions, including the `print()`, `input()`, and `len()` functions you’ve seen before. Python also comes with a set of modules called the *standard library*. Each module is a python program that contains a related group of functions that can be embedded in your programs. For example, the `math` module has mathematics-related functions, the `random` module has random number–related functions, and so on."
   ]
  },
  {
   "cell_type": "code",
   "execution_count": 8,
   "metadata": {
    "collapsed": false
   },
   "outputs": [
    {
     "data": {
      "text/plain": [
       "10.04987562112089"
      ]
     },
     "execution_count": 8,
     "metadata": {},
     "output_type": "execute_result"
    }
   ],
   "source": [
    "import math\n",
    "math.sqrt(101)"
   ]
  },
  {
   "cell_type": "code",
   "execution_count": 9,
   "metadata": {
    "collapsed": false
   },
   "outputs": [
    {
     "data": {
      "text/plain": [
       "-0.0031853017931379904"
      ]
     },
     "execution_count": 9,
     "metadata": {},
     "output_type": "execute_result"
    }
   ],
   "source": [
    "math.sin(2 * 3.14)"
   ]
  },
  {
   "cell_type": "code",
   "execution_count": 10,
   "metadata": {
    "collapsed": false
   },
   "outputs": [
    {
     "data": {
      "text/plain": [
       "7"
      ]
     },
     "execution_count": 10,
     "metadata": {},
     "output_type": "execute_result"
    }
   ],
   "source": [
    "# alias a module\n",
    "import random as rnd\n",
    "rnd.randint(1, 10)"
   ]
  },
  {
   "cell_type": "code",
   "execution_count": 11,
   "metadata": {
    "collapsed": true
   },
   "outputs": [],
   "source": [
    "# import directly so you don't have to type the module name first\n",
    "from math import factorial"
   ]
  },
  {
   "cell_type": "code",
   "execution_count": 12,
   "metadata": {
    "collapsed": false
   },
   "outputs": [
    {
     "data": {
      "text/plain": [
       "3628800"
      ]
     },
     "execution_count": 12,
     "metadata": {},
     "output_type": "execute_result"
    }
   ],
   "source": [
    "factorial(10)"
   ]
  },
  {
   "cell_type": "markdown",
   "metadata": {},
   "source": [
    "Typically, you want to use the full `import math` statement, since if you use `from math import *` you may overwrite some other functions in the python namespace. "
   ]
  }
 ],
 "metadata": {
  "kernelspec": {
   "display_name": "Python 3",
   "language": "python",
   "name": "python3"
  },
  "language_info": {
   "codemirror_mode": {
    "name": "ipython",
    "version": 3
   },
   "file_extension": ".py",
   "mimetype": "text/x-python",
   "name": "python",
   "nbconvert_exporter": "python",
   "pygments_lexer": "ipython3",
   "version": "3.4.3"
  }
 },
 "nbformat": 4,
 "nbformat_minor": 0
}
