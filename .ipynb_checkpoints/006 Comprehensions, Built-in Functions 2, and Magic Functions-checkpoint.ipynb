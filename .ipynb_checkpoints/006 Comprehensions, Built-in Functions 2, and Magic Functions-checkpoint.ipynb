{
 "cells": [
  {
   "cell_type": "markdown",
   "metadata": {},
   "source": [
    "# Comprehensions, Built-in Functions 2, and Magic Functions\n",
    "\n",
    "### Table of Contents\n",
    "1. [Comprehensions](#Comprehensions)\n",
    "2. [Built-in Functions 2](#Built-in-Functions-2)\n",
    "    1. [Map](#Map)\n",
    "    2. [Filter](#Filter)\n",
    "    3. [Zip](#Zip)\n",
    "3. [Magic Functions](#Magic-Functions)\n",
    "\n",
    "### Comprehensions\n",
    "[[back-to-top]](#Table-of-Contents)\n",
    "[[documentation]](https://docs.python.org/3/tutorial/datastructures.html#list-comprehensions)\n",
    "\n",
    "One theme we'll be returning to several times this class is building non-trivial lists. The example we'll be using most is a list of the squares of the numbers one to ten. As of now, if we had to make this list, I'd do it using a `for` loop, as follows."
   ]
  },
  {
   "cell_type": "code",
   "execution_count": 1,
   "metadata": {
    "collapsed": false
   },
   "outputs": [
    {
     "name": "stdout",
     "output_type": "stream",
     "text": [
      "[1, 4, 9, 16, 25, 36, 49, 64, 81, 100]\n"
     ]
    }
   ],
   "source": [
    "squaresList = []\n",
    "\n",
    "for i in range(1, 11):\n",
    "    squaresList.append(i**2)\n",
    "\n",
    "print(squaresList)"
   ]
  },
  {
   "cell_type": "markdown",
   "metadata": {},
   "source": [
    "That wasn't so bad, right? But that's a fairly simple list to make. Let's see if we can condense this a bit. We can start by using bad form and putting the `for` loop on a single line. "
   ]
  },
  {
   "cell_type": "code",
   "execution_count": 2,
   "metadata": {
    "collapsed": false
   },
   "outputs": [
    {
     "name": "stdout",
     "output_type": "stream",
     "text": [
      "[1, 4, 9, 16, 25, 36, 49, 64, 81, 100]\n"
     ]
    }
   ],
   "source": [
    "squaresList2 = []\n",
    "for i in range(1, 11): squaresList2.append(i**2)\n",
    "print(squaresList2)"
   ]
  },
  {
   "cell_type": "markdown",
   "metadata": {},
   "source": [
    "A comprehension in Python is a nice way to build one iterable from another. For example, we can build the list of squares from the `range()` function. We do this by *rearranging* the single line of the `for` loop above. "
   ]
  },
  {
   "cell_type": "code",
   "execution_count": 3,
   "metadata": {
    "collapsed": false
   },
   "outputs": [
    {
     "name": "stdout",
     "output_type": "stream",
     "text": [
      "[1, 4, 9, 16, 25, 36, 49, 64, 81, 100]\n"
     ]
    }
   ],
   "source": [
    "# list comprehension\n",
    "squaresList3 = [i**2 for i in range(1, 11)]\n",
    "print(squaresList3)"
   ]
  },
  {
   "cell_type": "markdown",
   "metadata": {},
   "source": [
    "Isn't that just easier to read? The nice thing about comprehensions is that they're very *pythonic*, i.e. they're easily decipherable code. We can do all kinds of things with list comprehensions!"
   ]
  },
  {
   "cell_type": "code",
   "execution_count": 4,
   "metadata": {
    "collapsed": false
   },
   "outputs": [
    {
     "name": "stdout",
     "output_type": "stream",
     "text": [
      "['  banana ', 'airplane  ', '  house ', '  Russia        ']\n"
     ]
    }
   ],
   "source": [
    "myWords = ['  banana ', 'airplane  ', '  house ', '  Russia        ']\n",
    "print(myWords)"
   ]
  },
  {
   "cell_type": "code",
   "execution_count": 5,
   "metadata": {
    "collapsed": false
   },
   "outputs": [
    {
     "name": "stdout",
     "output_type": "stream",
     "text": [
      "['banana', 'airplane', 'house', 'Russia']\n"
     ]
    }
   ],
   "source": [
    "# list comprehension to remove leading and trailing whitespace\n",
    "myWords2 = [word.strip() for word in myWords]\n",
    "print(myWords2)"
   ]
  },
  {
   "cell_type": "markdown",
   "metadata": {},
   "source": [
    "We can also use `if` statements in our comprehensions, to impose conditions on the list created. "
   ]
  },
  {
   "cell_type": "code",
   "execution_count": 6,
   "metadata": {
    "collapsed": false
   },
   "outputs": [
    {
     "name": "stdout",
     "output_type": "stream",
     "text": [
      "[1, 9, 25, 49, 81]\n"
     ]
    }
   ],
   "source": [
    "oddSquaresList = [x**2 for x in range (1, 10) if x % 2 == 1]\n",
    "print(oddSquaresList)"
   ]
  },
  {
   "cell_type": "markdown",
   "metadata": {},
   "source": [
    "We can even combine multiple `for` loops in a single comprehension. For example, let's make a list of tuples. We can do it as a function of either a single variable, or as a function of multiple variables. "
   ]
  },
  {
   "cell_type": "code",
   "execution_count": 7,
   "metadata": {
    "collapsed": false
   },
   "outputs": [
    {
     "name": "stdout",
     "output_type": "stream",
     "text": [
      "[(1, 1), (2, 8), (3, 27), (4, 64), (5, 125), (6, 216), (7, 343), (8, 512), (9, 729)]\n"
     ]
    }
   ],
   "source": [
    "# list comprehension to make a list of tuples using a single variable\n",
    "tupleList = [(x, x**3) for x in range(1, 10)]\n",
    "print(tupleList)"
   ]
  },
  {
   "cell_type": "code",
   "execution_count": 8,
   "metadata": {
    "collapsed": false
   },
   "outputs": [
    {
     "name": "stdout",
     "output_type": "stream",
     "text": [
      "[(1, 3), (1, 5), (1, 7), (2, 3), (2, 5), (2, 7), (3, 5), (3, 7)]\n"
     ]
    }
   ],
   "source": [
    "# list comprehension to make a list of tuples using two variables\n",
    "tupleList2 = [(x, y) for x in range(1, 4) for y in [3, 5, 7] if x != y]\n",
    "print(tupleList2)"
   ]
  },
  {
   "cell_type": "markdown",
   "metadata": {},
   "source": [
    "Now lists aren't the only thing we can build with comprehensions, we can also make set and dictionary comprehensions, although they are much less common. Set comprehensions work similarly to list comprehensions, just with curly brackets. Dictionary comprehensions build dictionaries but also use curly brackets, so let's take a look at how the syntax of these differentiates them. "
   ]
  },
  {
   "cell_type": "code",
   "execution_count": 9,
   "metadata": {
    "collapsed": false
   },
   "outputs": [
    {
     "name": "stdout",
     "output_type": "stream",
     "text": [
      "{256, 1, 2401, 4096, 6561, 16, 81, 625, 1296}\n"
     ]
    }
   ],
   "source": [
    "# set comprehension\n",
    "mySet = {i**4 for i in range(1, 10)}\n",
    "print(mySet)"
   ]
  },
  {
   "cell_type": "code",
   "execution_count": 10,
   "metadata": {
    "collapsed": false
   },
   "outputs": [
    {
     "name": "stdout",
     "output_type": "stream",
     "text": [
      "{1: 1, 2: 4, 3: 9, 4: 16, 5: 25, 6: 36, 7: 49, 8: 64, 9: 81}\n"
     ]
    }
   ],
   "source": [
    "# dictionary comprehension - dictionary of values to their square\n",
    "myDict = {i:i**2 for i in range(1, 10)}\n",
    "print(myDict)"
   ]
  },
  {
   "cell_type": "markdown",
   "metadata": {},
   "source": [
    "### Built-in Functions 2\n",
    "[[back to top]](#Table-of-Contents)\n",
    "\n",
    "#### Map\n",
    "[[documentation]](https://docs.python.org/3/library/functions.html#map)\n",
    "\n",
    "We're going to keep returning to our special list of squares. We've already seen two ways of making this special list: using a `for` loop, and using a list comprehension. Now we're going to do it again using the `map()` built-in function. The `map()` function takes two arguments: a function and a sequence iterable. The function is then applied to each element of the iterable, and it returns a new sequence with the elements changed by the function. \n",
    "\n",
    "To start, let's look at an example. Let's make a list of temperatures in degrees centigrade, and use a function to convert them to degrees Fahrenheit. "
   ]
  },
  {
   "cell_type": "code",
   "execution_count": 11,
   "metadata": {
    "collapsed": true
   },
   "outputs": [],
   "source": [
    "# create a function to convert centigrade to Fahrenheit\n",
    "def convertToFahrenheit(temp):\n",
    "    return ((9/5) * temp) + 32"
   ]
  },
  {
   "cell_type": "code",
   "execution_count": 12,
   "metadata": {
    "collapsed": true
   },
   "outputs": [],
   "source": [
    "# make a list of centrigrade temperatures\n",
    "tempsInC = [0, 10, 19, 20, 25, 28, 30, 35, 40, 75, 100]"
   ]
  },
  {
   "cell_type": "code",
   "execution_count": 13,
   "metadata": {
    "collapsed": true
   },
   "outputs": [],
   "source": [
    "# use map to apply the function to our list of centigrade temperatures\n",
    "tempsInF = map(convertToFahrenheit, tempsInC)"
   ]
  },
  {
   "cell_type": "markdown",
   "metadata": {},
   "source": [
    "Now, if we call the `map` object directly, we'll see it's actually of an object type `map`. To see what values this holds, we can use several functions, but here we'll just use the `list()` function. "
   ]
  },
  {
   "cell_type": "code",
   "execution_count": 14,
   "metadata": {
    "collapsed": false
   },
   "outputs": [
    {
     "data": {
      "text/plain": [
       "map"
      ]
     },
     "execution_count": 14,
     "metadata": {},
     "output_type": "execute_result"
    }
   ],
   "source": [
    "# check the type of the map object\n",
    "type(tempsInF)"
   ]
  },
  {
   "cell_type": "code",
   "execution_count": 15,
   "metadata": {
    "collapsed": false
   },
   "outputs": [
    {
     "data": {
      "text/plain": [
       "[32.0, 50.0, 66.2, 68.0, 77.0, 82.4, 86.0, 95.0, 104.0, 167.0, 212.0]"
      ]
     },
     "execution_count": 15,
     "metadata": {},
     "output_type": "execute_result"
    }
   ],
   "source": [
    "# list out the map values\n",
    "list(tempsInF)"
   ]
  },
  {
   "cell_type": "markdown",
   "metadata": {},
   "source": [
    "Built-in functions like `map()` are one of the main reasons to use `lambda` expressions. Since we often just need to call the function once to convert iterable values, we can just write an anonymous throw-away function. Let's do this using our standard list of squares example. "
   ]
  },
  {
   "cell_type": "code",
   "execution_count": 16,
   "metadata": {
    "collapsed": false
   },
   "outputs": [
    {
     "data": {
      "text/plain": [
       "[1, 4, 9, 16, 25, 36, 49, 64, 81, 100]"
      ]
     },
     "execution_count": 16,
     "metadata": {},
     "output_type": "execute_result"
    }
   ],
   "source": [
    "# create a list of squares\n",
    "list(map(lambda x:x**2, range(1, 11)))"
   ]
  },
  {
   "cell_type": "markdown",
   "metadata": {},
   "source": [
    "Let's use the map function to add two lists together, element-wise. "
   ]
  },
  {
   "cell_type": "code",
   "execution_count": 17,
   "metadata": {
    "collapsed": false
   },
   "outputs": [
    {
     "data": {
      "text/plain": [
       "[2, 12, 103, 1004]"
      ]
     },
     "execution_count": 17,
     "metadata": {},
     "output_type": "execute_result"
    }
   ],
   "source": [
    "# define our lists\n",
    "a = [1, 2, 3, 4]\n",
    "b = [1, 10, 100, 1000]\n",
    "\n",
    "# add our lists element-wise\n",
    "list(map(lambda x, y : x + y, a, b))"
   ]
  },
  {
   "cell_type": "markdown",
   "metadata": {},
   "source": [
    "So the `map()` function can be used to add iterables, as long as the iterables have the same length. \n",
    "\n",
    "#### Filter\n",
    "[[documentation]](https://docs.python.org/3/library/functions.html#filter)\n",
    "\n",
    "Next, let's talk about the `filter()` build-in function. The `filter()` function filters out elements from a sequence for which a function doesn't return a Boolean value of `True`. Let's break that down a little bit. First, we need a function (commonly a `lambda` expression), where the value returned is either `True` or `False`. Recall that statements using basic equivalence testing operators will return Boolean values. "
   ]
  },
  {
   "cell_type": "code",
   "execution_count": 18,
   "metadata": {
    "collapsed": false
   },
   "outputs": [
    {
     "data": {
      "text/plain": [
       "False"
      ]
     },
     "execution_count": 18,
     "metadata": {},
     "output_type": "execute_result"
    }
   ],
   "source": [
    "5 % 2 == 0"
   ]
  },
  {
   "cell_type": "code",
   "execution_count": 19,
   "metadata": {
    "collapsed": false
   },
   "outputs": [
    {
     "data": {
      "text/plain": [
       "True"
      ]
     },
     "execution_count": 19,
     "metadata": {},
     "output_type": "execute_result"
    }
   ],
   "source": [
    "2 + 3 == 5"
   ]
  },
  {
   "cell_type": "markdown",
   "metadata": {},
   "source": [
    "Let's apply this to a list of numbers. We'll filter out all the odd numbers from `range(20)`. "
   ]
  },
  {
   "cell_type": "code",
   "execution_count": 20,
   "metadata": {
    "collapsed": false
   },
   "outputs": [
    {
     "data": {
      "text/plain": [
       "[0, 2, 4, 6, 8, 10, 12, 14, 16, 18]"
      ]
     },
     "execution_count": 20,
     "metadata": {},
     "output_type": "execute_result"
    }
   ],
   "source": [
    "# filter out odd numbers\n",
    "list(filter(lambda x: x % 2 == 0, range(20)))"
   ]
  },
  {
   "cell_type": "markdown",
   "metadata": {},
   "source": [
    "#### Zip\n",
    "[[documentation]](https://docs.python.org/3/library/functions.html#zip)\n",
    "\n",
    "The `zip()` function makes an iterator that aggregates elements from each of the iterables. It returns an iterator of tuples, where the $i$-th tuple contains the $i$-th element from each of the argument sequences or iterables. The iterator stops when the shortest input iterable is exhausted. With a single iterable argument, it returns an iterator of 1-tuples. With no arguments, it returns an empty iterator. Basically, what this means is we can use `zip()` can be used to combine things into tuples. "
   ]
  },
  {
   "cell_type": "code",
   "execution_count": 21,
   "metadata": {
    "collapsed": false
   },
   "outputs": [
    {
     "name": "stdout",
     "output_type": "stream",
     "text": [
      "[(1, 'a'), (2, 'b'), (3, 'c'), (4, 'd'), (5, 'e'), (6, 'f'), (7, 'g'), (8, 'h'), (9, 'i'), (10, 'j')]\n"
     ]
    }
   ],
   "source": [
    "# combine two lists into tuples\n",
    "list1 = list(range(1, 11))\n",
    "list2 = list('abcdefghij')\n",
    "\n",
    "# zip the lists together\n",
    "print(list(zip(list1, list2)))"
   ]
  },
  {
   "cell_type": "markdown",
   "metadata": {},
   "source": [
    "The `zip()` function should only be used with unequal length inputs when you don’t care about trailing, unmatched values from the longer iterables. If those values are important, use `itertools.zip_longest()` instead.\n",
    "\n",
    "### Magic Functions\n",
    "[[back to top]](#Table-of-Contents)\n",
    "\n",
    "Magic functions are specific to IPython/Jupyter notebooks. They are denoted by and begin with a percent sign `%`. To learn more about magic functions, you can use the magic function `%magic`, or to see the magic functions available, you can use `%quickref`. Line magics take a single `%` and cell magics are prefixed with two `%%`.Today, we'll only really be looking at one magic function, the `%%timeit` function. This magic runs your code repeatedly, and returns the average time it takes the code to run. Let's use this to determine which of our methods for assembling a list of squares is the fastest. \n",
    "\n",
    "**Note:** Be careful not to include `print()` statements when using `%%timeit`. Since the code is being run potentially thousands of times, it will kill your screen real estate, and freeze up your computer for a while. "
   ]
  },
  {
   "cell_type": "code",
   "execution_count": 22,
   "metadata": {
    "collapsed": false
   },
   "outputs": [
    {
     "name": "stdout",
     "output_type": "stream",
     "text": [
      "100000 loops, best of 3: 5.6 µs per loop\n"
     ]
    }
   ],
   "source": [
    "%%timeit # time the for loop, list append method\n",
    "listOfSquares = []\n",
    "for i in range(1, 11):\n",
    "    listOfSquares.append(i**2)"
   ]
  },
  {
   "cell_type": "code",
   "execution_count": 23,
   "metadata": {
    "collapsed": false
   },
   "outputs": [
    {
     "name": "stdout",
     "output_type": "stream",
     "text": [
      "100000 loops, best of 3: 5.4 µs per loop\n"
     ]
    }
   ],
   "source": [
    "%%timeit # time the list comprehension method\n",
    "[i**2 for i in range(1, 11)]"
   ]
  },
  {
   "cell_type": "markdown",
   "metadata": {},
   "source": [
    "So we see that not only is a list comprehension easier to read and more concise, it's also faster! What about the `map()` function?"
   ]
  },
  {
   "cell_type": "code",
   "execution_count": 24,
   "metadata": {
    "collapsed": false
   },
   "outputs": [
    {
     "name": "stdout",
     "output_type": "stream",
     "text": [
      "1000000 loops, best of 3: 667 ns per loop\n"
     ]
    }
   ],
   "source": [
    "%%timeit # time the map functoin\n",
    "map(lambda x: x**2, range(1, 11))"
   ]
  },
  {
   "cell_type": "markdown",
   "metadata": {},
   "source": [
    "Wow! The `map()` function is significantly faster than either of the two previous methods. Normally, I'm a fan of list comprehensions for their readability, but when dealing with large sets of data, you can't ignore that speed increase. "
   ]
  }
 ],
 "metadata": {
  "kernelspec": {
   "display_name": "Python 3",
   "language": "python",
   "name": "python3"
  },
  "language_info": {
   "codemirror_mode": {
    "name": "ipython",
    "version": 3
   },
   "file_extension": ".py",
   "mimetype": "text/x-python",
   "name": "python",
   "nbconvert_exporter": "python",
   "pygments_lexer": "ipython3",
   "version": "3.4.3"
  }
 },
 "nbformat": 4,
 "nbformat_minor": 0
}
