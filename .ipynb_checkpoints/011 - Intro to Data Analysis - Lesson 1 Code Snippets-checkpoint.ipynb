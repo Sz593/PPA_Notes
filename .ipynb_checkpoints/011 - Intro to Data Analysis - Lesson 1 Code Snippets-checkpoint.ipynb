{
 "cells": [
  {
   "cell_type": "markdown",
   "metadata": {},
   "source": []
  },
  {
   "cell_type": "markdown",
   "metadata": {},
   "source": [
    "### 9 - Investigating the Data - Quiz\n",
    "\n",
    "```python\n",
    "\n",
    "import unicodecsv\n",
    "\n",
    "def read_csv(filename):\n",
    "    with open(filename, 'rb') as f:\n",
    "        reader = unicodecsv.DictReader(f)\n",
    "        return list(reader)\n",
    "\n",
    "enrollments = read_csv('/datasets/ud170/udacity-students/enrollments.csv')\n",
    "daily_engagement = read_csv('/datasets/ud170/udacity-students/daily_engagement.csv')\n",
    "project_submissions = read_csv('/datasets/ud170/udacity-students/project_submissions.csv')\n",
    "    \n",
    "### For each of these three tables, find the number of rows in the table and\n",
    "### the number of unique students in the table. To find the number of unique\n",
    "### students, you might want to create a set of the account keys in each table.\n",
    "\n",
    "enrollment_num_rows = len(enrollments)                  # Replace this with your code\n",
    "uenrl = {row['account_key'] for row in enrollments}\n",
    "enrollment_num_unique_students = len(uenrl)             # Replace this with your code\n",
    "\n",
    "engagement_num_rows = len(daily_engagement)             # Replace this with your code\n",
    "ueng = {row['acct'] for row in daily_engagement}\n",
    "engagement_num_unique_students = len(ueng)              # Replace this with your code\n",
    "\n",
    "submission_num_rows = len(project_submissions)          # Replace this with your code\n",
    "usub = {row['account_key'] for row in project_submissions}\n",
    "submission_num_unique_students = len(usub)              # Replace this with your code\n",
    "\n",
    "```"
   ]
  }
 ],
 "metadata": {
  "kernelspec": {
   "display_name": "Python 3",
   "language": "python",
   "name": "python3"
  },
  "language_info": {
   "codemirror_mode": {
    "name": "ipython",
    "version": 3
   },
   "file_extension": ".py",
   "mimetype": "text/x-python",
   "name": "python",
   "nbconvert_exporter": "python",
   "pygments_lexer": "ipython3",
   "version": "3.4.3"
  }
 },
 "nbformat": 4,
 "nbformat_minor": 0
}
