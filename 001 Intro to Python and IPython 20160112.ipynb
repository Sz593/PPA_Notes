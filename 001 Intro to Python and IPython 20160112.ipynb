{
 "cells": [
  {
   "cell_type": "markdown",
   "metadata": {
    "collapsed": true
   },
   "source": [
    "# Introduction to Python and IPython\n",
    "\n",
    "The version of python that we'll be using is called [Anaconda](https://www.continuum.io/why-anaconda). It's an open-enterprise python implementation designed for companies wanting to adopt an open data science analytics architecture. It comes with most of the packages that we want pre-installed, and it's own package manager called *conda*. \n",
    "\n",
    "### Basic Python\n",
    "Before we can get into analysis and machine learning in python, it's important that everyone has a solid foundation in the basics. To guide us through the python basics, we'll be using a book by Al Sweigart called [Automate the Boring Stuff with Python](https://automatetheboringstuff.com/). The first six chapters of this book cover introductory python topics, such as data structures and flow control. The later chapters will be used at times for reference and/or advanced topics. \n",
    "\n",
    "### Anaconda Command Prompt\n",
    "Python has a built-in package manager, *pip*, which we will need to use on occasion. However, we will primarily use the *conda* package manager. There are a few very useful commands for *conda* that I will list here for reference:\n",
    "\n",
    "Update *conda* package manager and anaconda python (in order):\n",
    "```\n",
    "conda update conda\n",
    "conda update anaconda\n",
    "```\n",
    "Find the version of an installed package, or determine if a package is installed:\n",
    "```\n",
    "conda list numpy\n",
    "```\n",
    "Locate a package in the *anaconda* repository:\n",
    "```\n",
    "conda search numpy\n",
    "```\n",
    "List all packages you have installed that are outdated:\n",
    "```\n",
    "conda search --outdated\n",
    "```\n",
    "Update all outdated packages (make sure *conda* and *anaconda* are updated first):\n",
    "```\n",
    "conda update --all\n",
    "```\n",
    "\n",
    "Using the *conda* repository to install packages is preferable, since *conda* will automatically resolve all dependencies. However, if you're having trouble installing a package via *conda*, try installing it via *pip*:\n",
    "```\n",
    "pip install seaborn\n",
    "```\n",
    "\n",
    "### IPython/Jupyter Notebooks\n",
    "Jupyter or IPython notebooks are going to be our preferred method of accessing python. They're fairly standard in the scientific and analytic python communities, and come with several additional features such as tab-completion, and *magic* functions. We'll talk more about these later. Notebooks are comprised of cells, each of which can have several formats. The two we'll care primarily about are markdown cells, and code cells. Markdown cells are how we enter formatted text, hyperlinks, images, etc. into the notebook. Under the *help* menu at the top of the notebook, you can click markdown and it'll take you to [this](https://help.github.com/articles/markdown-basics/) page, which has the markdown syntax (it's super basic). All of the above text is written in markdown. You can change the cell types in the drop-down menu above. \n",
    "\n",
    "Code cells have numbered input and output. We have an example of some code cells below."
   ]
  },
  {
   "cell_type": "code",
   "execution_count": 1,
   "metadata": {
    "collapsed": false
   },
   "outputs": [
    {
     "data": {
      "text/plain": [
       "4"
      ]
     },
     "execution_count": 1,
     "metadata": {},
     "output_type": "execute_result"
    }
   ],
   "source": [
    "2 + 2"
   ]
  },
  {
   "cell_type": "code",
   "execution_count": 2,
   "metadata": {
    "collapsed": false
   },
   "outputs": [
    {
     "name": "stdout",
     "output_type": "stream",
     "text": [
      "Hello world!\n"
     ]
    }
   ],
   "source": [
    "print('Hello world!')"
   ]
  },
  {
   "cell_type": "markdown",
   "metadata": {},
   "source": [
    "This is how we run code in IPython notebooks.\n",
    "\n",
    "**Keyboard Shortcuts.** Keyboard shortcuts are the easiest way to quickly code in IPython; however, before we can go over the shortcuts, we need some basics. There are two modes of working with cells: command mode and edit mode. Edit mode allows you to type code/text into a cell and is indicated by a green cell border. Command mode binds the keyboard to notebook level actions and is indicated by a grey cell border.\n",
    "\n",
    "If you're in command mode, press `Enter` to switch to edit mode, and you can press `Esc` to switch back to command mode. In edit mode, press `h` to pull up a list of keyboard shortcuts. \n",
    "\n",
    "### Git, GitHub, and Notebook Viewer\n",
    "When working with large code repositories, it is often useful to have some form of version control system, so you can revert to previous versions of code if needed. While there are many methods of version control, the two I'll point out are Subversion and Git. Subverstion is a centralized version control system, where there is one central repository and people can \"checkout\" code, and resubmit it with updates. IT uses subversion (specifically the [Tortise SVN](https://tortoisesvn.net/) client), so you can have it installed on your computer. Git is a decentralized version control system, where people can have their own separate versions of repositories, and those repositories can be merged together. \n",
    "\n",
    "There is one distinct advantage to Git. GitHub is a very popular hosting platform for Git repositories, and it integrates seamlessly with Git. While we **never** want to put any work-related data out on the internet, we can store some sample analysis (on public data), as well as notes on analysis techniques, on GitHub. These notes can then be accessed from any computer with internet access.\n",
    "\n",
    "If you're interested in learning more about version control, subversion, git, or GitHub, please come talk to me. We may end up using some (or all) of these later on.\n",
    "\n",
    "### Homework\n",
    "To start our python adventure, please go through the Introduction and Chapter 1 of *Automate the Boring Stuff* for Thursday morning. Complete all the Chapter 1 practice questions, except the extra credit. \n",
    "\n",
    "As a note, the author expects people to be following along in *IDLE*, which is an IDE (integrated development environment) that comes packaged with python, by default. *IDLE* is commonly thought to be outdated and lacking functionality, so we will be using the Jupyter notebooks instead. Ergo, don't worry too much about anything Al Sweigart says about *IDLE*."
   ]
  }
 ],
 "metadata": {
  "kernelspec": {
   "display_name": "Python 3",
   "language": "python",
   "name": "python3"
  },
  "language_info": {
   "codemirror_mode": {
    "name": "ipython",
    "version": 3
   },
   "file_extension": ".py",
   "mimetype": "text/x-python",
   "name": "python",
   "nbconvert_exporter": "python",
   "pygments_lexer": "ipython3",
   "version": "3.4.3"
  }
 },
 "nbformat": 4,
 "nbformat_minor": 0
}
