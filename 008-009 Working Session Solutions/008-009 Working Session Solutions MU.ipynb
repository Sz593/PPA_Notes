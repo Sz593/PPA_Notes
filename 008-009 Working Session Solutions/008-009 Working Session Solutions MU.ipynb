{
 "cells": [
  {
   "cell_type": "markdown",
   "metadata": {},
   "source": [
    "# Working Session - Problem Set\n",
    "\n",
    "**Question 1:** Reverse this string. "
   ]
  },
  {
   "cell_type": "code",
   "execution_count": 1,
   "metadata": {
    "collapsed": true
   },
   "outputs": [],
   "source": [
    "myString = \"I'm like hey, what's up? Hello.\""
   ]
  },
  {
   "cell_type": "code",
   "execution_count": 2,
   "metadata": {
    "collapsed": false
   },
   "outputs": [
    {
     "name": "stdout",
     "output_type": "stream",
     "text": [
      "['.', 'o', 'l', 'l', 'e', 'H', ' ', '?', 'p', 'u', ' ', 's', \"'\", 't', 'a', 'h', 'w', ' ', ',', 'y', 'e', 'h', ' ', 'e', 'k', 'i', 'l', ' ', 'm', \"'\", 'I']\n"
     ]
    },
    {
     "data": {
      "text/plain": [
       "\".olleH ?pu s'tahw ,yeh ekil m'I\""
      ]
     },
     "execution_count": 2,
     "metadata": {},
     "output_type": "execute_result"
    }
   ],
   "source": [
    "myList = list(myString)\n",
    "myList.reverse()\n",
    "print(myList)\n",
    "\n",
    "''.join(myList)"
   ]
  },
  {
   "cell_type": "markdown",
   "metadata": {},
   "source": [
    "**Question 2:** What are the unique values in this list below?"
   ]
  },
  {
   "cell_type": "code",
   "execution_count": null,
   "metadata": {
    "collapsed": false
   },
   "outputs": [],
   "source": [
    "myList = [1, 2, 3, 5, 2, 43, 7, 4, 7, 3, 6, 0, 9, 8, 12, 4, 2, 1]"
   ]
  },
  {
   "cell_type": "code",
   "execution_count": null,
   "metadata": {
    "collapsed": false
   },
   "outputs": [],
   "source": [
    "mySet = set(myList)\n",
    "print(mySet)"
   ]
  },
  {
   "cell_type": "markdown",
   "metadata": {},
   "source": [
    "**Question 3:** Print out the words that start with the letter \"s\". "
   ]
  },
  {
   "cell_type": "code",
   "execution_count": null,
   "metadata": {
    "collapsed": true
   },
   "outputs": [],
   "source": [
    "myString2 = 'Print only the words that start with s in this sentence'"
   ]
  },
  {
   "cell_type": "code",
   "execution_count": null,
   "metadata": {
    "collapsed": false
   },
   "outputs": [],
   "source": [
    "myList = myString2.split(' ')\n",
    "\n",
    "for i in myList: \n",
    "    if i.startswith('s'):\n",
    "        print(i)"
   ]
  },
  {
   "cell_type": "markdown",
   "metadata": {},
   "source": [
    "**Question 4:** Create a list of all the numbers from 1 to 50 (including both 1 and 50) that are divisible by 3. "
   ]
  },
  {
   "cell_type": "code",
   "execution_count": null,
   "metadata": {
    "collapsed": false
   },
   "outputs": [],
   "source": [
    "myList = []\n",
    "\n",
    "for i in range(1,51):\n",
    "    x = i % 3 \n",
    "    if x == 0:\n",
    "        myList.append(i)\n",
    "\n",
    "print(myList)\n",
    "    "
   ]
  },
  {
   "cell_type": "markdown",
   "metadata": {},
   "source": [
    "**Question 5:** Print out every word in the string below where the lenth of the word is an even number."
   ]
  },
  {
   "cell_type": "code",
   "execution_count": 3,
   "metadata": {
    "collapsed": true
   },
   "outputs": [],
   "source": [
    "myString3 = 'Print every word in this sentence that has an even number of letters'"
   ]
  },
  {
   "cell_type": "code",
   "execution_count": 5,
   "metadata": {
    "collapsed": false
   },
   "outputs": [
    {
     "name": "stdout",
     "output_type": "stream",
     "text": [
      "word\n",
      "in\n",
      "this\n",
      "sentence\n",
      "that\n",
      "an\n",
      "even\n",
      "number\n",
      "of\n"
     ]
    }
   ],
   "source": [
    "myList = myString3.split()\n",
    "\n",
    "for i in myList:\n",
    "    if len(i) % 2 == 0:\n",
    "        print(i)"
   ]
  },
  {
   "cell_type": "markdown",
   "metadata": {},
   "source": [
    "**Question 6:** Write a program that prints the integers from 1 to 100. But for multiples of three print \"Fizz\" instead of the number, and for the multiples of five print \"Buzz\". For numbers which are multiples of both three and five print \"FizzBuzz\"."
   ]
  },
  {
   "cell_type": "code",
   "execution_count": null,
   "metadata": {
    "collapsed": false
   },
   "outputs": [],
   "source": [
    "for i in range(1,101):\n",
    "    if i % 3 == 0 and i % 5 == 0:\n",
    "        print('FizzBuzz')\n",
    "    elif i % 3 == 0:\n",
    "        print('Fizz')\n",
    "    elif i % 5 == 0:\n",
    "        print('Buzz')\n",
    "    else:\n",
    "        print(i)\n"
   ]
  },
  {
   "cell_type": "markdown",
   "metadata": {},
   "source": [
    "**Question 7:** Using the string below, create a list of the first letter of each word in the string. "
   ]
  },
  {
   "cell_type": "code",
   "execution_count": null,
   "metadata": {
    "collapsed": true
   },
   "outputs": [],
   "source": [
    "myString4 = 'Create a list of the first letters of every word in this string'"
   ]
  },
  {
   "cell_type": "code",
   "execution_count": null,
   "metadata": {
    "collapsed": false
   },
   "outputs": [],
   "source": [
    "myList = myString4.split(' ')\n",
    "myList2 = []\n",
    "\n",
    "for i in myList: \n",
    "    myList2.append(i[0])\n",
    "\n",
    "myList2"
   ]
  },
  {
   "cell_type": "markdown",
   "metadata": {},
   "source": [
    "**Question 8:** Handle the exception thrown by the code below by using try and except blocks. After your code is done running, print \"Complete\" (it should print \"Complete\" regardless of whether an exception was thrown or not). "
   ]
  },
  {
   "cell_type": "code",
   "execution_count": 8,
   "metadata": {
    "collapsed": false
   },
   "outputs": [
    {
     "name": "stdout",
     "output_type": "stream",
     "text": [
      "Error\n",
      "Complete\n"
     ]
    }
   ],
   "source": [
    "x = 5\n",
    "y = 0\n",
    "\n",
    "# update the code below\n",
    "\n",
    "try: \n",
    "    z = x / y\n",
    "    print(z)\n",
    "except ZeroDivisionError:\n",
    "    print('Error')\n",
    "    \n",
    "print('Complete')"
   ]
  },
  {
   "cell_type": "markdown",
   "metadata": {},
   "source": [
    "**Question 9:** Write a program that asks for integer input. Use a while loop with a try/except block to account for incorrect inputs. "
   ]
  },
  {
   "cell_type": "code",
   "execution_count": 10,
   "metadata": {
    "collapsed": false
   },
   "outputs": [
    {
     "name": "stdout",
     "output_type": "stream",
     "text": [
      "Enter an integer:4.3\n",
      "Please enter an integer\n",
      "Enter an integer:1\n",
      "1\n",
      "Complete\n"
     ]
    }
   ],
   "source": [
    "while True: \n",
    "    try:\n",
    "        num = int(input('Enter an integer:'))\n",
    "        if type(num) is int:\n",
    "            print(num)\n",
    "            break\n",
    "    except ValueError:\n",
    "        print('Please enter an integer')\n",
    "        continue\n",
    "\n",
    "print('Complete')"
   ]
  },
  {
   "cell_type": "markdown",
   "metadata": {},
   "source": [
    "**Question 10:** Reverse the list below. "
   ]
  },
  {
   "cell_type": "code",
   "execution_count": 1,
   "metadata": {
    "collapsed": true
   },
   "outputs": [],
   "source": [
    "myList2 = list('abcdefghijklmnop')"
   ]
  },
  {
   "cell_type": "code",
   "execution_count": 4,
   "metadata": {
    "collapsed": false
   },
   "outputs": [
    {
     "name": "stdout",
     "output_type": "stream",
     "text": [
      "['p', 'o', 'n', 'm', 'l', 'k', 'j', 'i', 'h', 'g', 'f', 'e', 'd', 'c', 'b', 'a']\n"
     ]
    }
   ],
   "source": [
    "myList2.reverse()\n",
    "print(myList2)"
   ]
  },
  {
   "cell_type": "markdown",
   "metadata": {},
   "source": [
    "**Question 11:** Sort the list below."
   ]
  },
  {
   "cell_type": "code",
   "execution_count": 6,
   "metadata": {
    "collapsed": true
   },
   "outputs": [],
   "source": [
    "myList3 = [2, 5, 3, 7, 1, 4]"
   ]
  },
  {
   "cell_type": "code",
   "execution_count": 8,
   "metadata": {
    "collapsed": false
   },
   "outputs": [
    {
     "data": {
      "text/plain": [
       "[1, 2, 3, 4, 5, 7]"
      ]
     },
     "execution_count": 8,
     "metadata": {},
     "output_type": "execute_result"
    }
   ],
   "source": [
    "myList3.sort()\n",
    "myList3"
   ]
  },
  {
   "cell_type": "markdown",
   "metadata": {},
   "source": [
    "**Question 12:** Use `map()` to create a function which finds the length of each word in the phrase (broken by spaces) and return the values in a list. Remember, in ATBS Chapter 6 (strings) we have a string method for separating strings. "
   ]
  },
  {
   "cell_type": "code",
   "execution_count": 6,
   "metadata": {
    "collapsed": true
   },
   "outputs": [],
   "source": [
    "myString5 = \"How long are each of the words in this string\""
   ]
  },
  {
   "cell_type": "code",
   "execution_count": 38,
   "metadata": {
    "collapsed": false
   },
   "outputs": [
    {
     "name": "stdout",
     "output_type": "stream",
     "text": [
      "['How', 'long', 'are', 'each', 'of', 'the', 'words', 'in', 'this', 'string']\n",
      "3\n",
      "4\n",
      "3\n",
      "4\n",
      "2\n",
      "3\n",
      "5\n",
      "2\n",
      "4\n",
      "6\n"
     ]
    }
   ],
   "source": [
    "def string_length(string):\n",
    "    myList = string.split() \n",
    "    print(myList)\n",
    "    for i in myList:\n",
    "        print(len(i))\n",
    "\n",
    "string_length(myString5)"
   ]
  },
  {
   "cell_type": "code",
   "execution_count": 41,
   "metadata": {
    "collapsed": false
   },
   "outputs": [
    {
     "data": {
      "text/plain": [
       "[3, 4, 3, 4, 2, 3, 5, 2, 4, 6]"
      ]
     },
     "execution_count": 41,
     "metadata": {},
     "output_type": "execute_result"
    }
   ],
   "source": [
    "list(map(len, myString5.split()))"
   ]
  },
  {
   "cell_type": "markdown",
   "metadata": {},
   "source": [
    "**Question 13:** Write a function that takes in two inputs: a list of words and a letter. Your function should return a new list of all the words in the original list that start with the letter you specified. "
   ]
  },
  {
   "cell_type": "code",
   "execution_count": 75,
   "metadata": {
    "collapsed": false
   },
   "outputs": [],
   "source": [
    "def startsWithLetter(wordList, letter):\n",
    "    for i in wordList:\n",
    "        if i[0] == letter:\n",
    "            print(i) \n"
   ]
  },
  {
   "cell_type": "code",
   "execution_count": 76,
   "metadata": {
    "collapsed": false
   },
   "outputs": [
    {
     "name": "stdout",
     "output_type": "stream",
     "text": [
      "hello\n",
      "ham\n",
      "hi\n",
      "heart\n"
     ]
    }
   ],
   "source": [
    "# use this list\n",
    "l = ['hello','are','cat','dog','ham','hi','go','to','heart']\n",
    "\n",
    "# your solution should return the same results as this does\n",
    "startsWithLetter(l, 'h')"
   ]
  },
  {
   "cell_type": "markdown",
   "metadata": {},
   "source": [
    "**Question 14:** How many of the integers in the following list have values that equal their index?"
   ]
  },
  {
   "cell_type": "code",
   "execution_count": 92,
   "metadata": {
    "collapsed": true
   },
   "outputs": [],
   "source": [
    "myList4 = [0,2,2,1,5,5,6,10]"
   ]
  },
  {
   "cell_type": "code",
   "execution_count": 96,
   "metadata": {
    "collapsed": false
   },
   "outputs": [],
   "source": [
    "for i in myList4:\n",
    "    if i == myList4.index(i):\n",
    "        myList4.count(True)"
   ]
  },
  {
   "cell_type": "markdown",
   "metadata": {},
   "source": [
    "**Question 15:** Below are two lists of $x$ values and $y$ values. Combine these two lists in to a list of 2-tuples of the form $(x, y)$. For example, if I had `xList = [1, 2]` and `yList = [3, 4]`, your code should give `[(1, 3), (2, 4)]`. "
   ]
  },
  {
   "cell_type": "code",
   "execution_count": 2,
   "metadata": {
    "collapsed": false
   },
   "outputs": [],
   "source": [
    "xValues = [1, 2, 3, 4, 5]\n",
    "yValues = [2, 4, 6, 8, 10]"
   ]
  },
  {
   "cell_type": "code",
   "execution_count": 11,
   "metadata": {
    "collapsed": false
   },
   "outputs": [
    {
     "data": {
      "text/plain": [
       "[(1, 2), (2, 4), (3, 6), (4, 8), (5, 10)]"
      ]
     },
     "execution_count": 11,
     "metadata": {},
     "output_type": "execute_result"
    }
   ],
   "source": [
    "myTuple = zip(xValues, yValues)\n",
    "list(myTuple)"
   ]
  },
  {
   "cell_type": "markdown",
   "metadata": {},
   "source": [
    "**Question 16:** Write a function that returns the volume of a sphere, given it's radius as input. "
   ]
  },
  {
   "cell_type": "code",
   "execution_count": 17,
   "metadata": {
    "collapsed": false
   },
   "outputs": [
    {
     "data": {
      "text/plain": [
       "4188.790204786391"
      ]
     },
     "execution_count": 17,
     "metadata": {},
     "output_type": "execute_result"
    }
   ],
   "source": [
    "import math\n",
    "\n",
    "def sphereVolume(radius):\n",
    "    volume = (4/3)*math.pi*radius**3\n",
    "    return volume\n",
    "       \n",
    "sphereVolume(10)"
   ]
  },
  {
   "cell_type": "markdown",
   "metadata": {},
   "source": [
    "**Question 17:** Write a function that checks whether or not a number is included in a given range. Whether or not you're inclusive of the endpoints is up to you, but make sure you're aware of your choice of endpoint inclusion/exclusion. You function should only return a boolean value of `True` or `False`. "
   ]
  },
  {
   "cell_type": "code",
   "execution_count": 24,
   "metadata": {
    "collapsed": false
   },
   "outputs": [
    {
     "data": {
      "text/plain": [
       "True"
      ]
     },
     "execution_count": 24,
     "metadata": {},
     "output_type": "execute_result"
    }
   ],
   "source": [
    "def inRange(num, low, high):\n",
    "    return num in range(low, high)\n",
    "\n",
    "inRange(5, 1, 6)"
   ]
  },
  {
   "cell_type": "markdown",
   "metadata": {},
   "source": [
    "**Question 18:** Write a function that takes a list as input, and returns the unique elements of that list. Be careful! Don't make a function that only works for one datatype!"
   ]
  },
  {
   "cell_type": "code",
   "execution_count": 74,
   "metadata": {
    "collapsed": false
   },
   "outputs": [
    {
     "name": "stdout",
     "output_type": "stream",
     "text": [
      "1\n",
      "2\n",
      "3\n",
      "cat\n",
      "dog\n",
      "1\n",
      "2\n"
     ]
    }
   ],
   "source": [
    "def return_items(myList):\n",
    "    for i in myList: \n",
    "        print(i) \n",
    "\n",
    "myList = [1, 2, 3]\n",
    "return_items(myList)\n",
    "\n",
    "myList2 = ['cat', 'dog', 1, 2]\n",
    "return_items(myList2)"
   ]
  },
  {
   "cell_type": "markdown",
   "metadata": {},
   "source": [
    "**Question 19:** Write a python function to multiple all numbers in a list together. For example:\n",
    "\n",
    "```\n",
    "Sample List = [1, 2, 3, -4]\n",
    "Expected Output = -24\n",
    "```"
   ]
  },
  {
   "cell_type": "code",
   "execution_count": 40,
   "metadata": {
    "collapsed": false
   },
   "outputs": [
    {
     "data": {
      "text/plain": [
       "-24"
      ]
     },
     "execution_count": 40,
     "metadata": {},
     "output_type": "execute_result"
    }
   ],
   "source": [
    "myList = [1, 2, 3, -4]\n",
    "\n",
    "def mult_list(myList):\n",
    "    product = 1\n",
    "    for i in myList: \n",
    "        product = product * i\n",
    "    return product\n",
    "\n",
    "mult_list(myList)"
   ]
  },
  {
   "cell_type": "markdown",
   "metadata": {},
   "source": [
    "**Question 20:** Write a function that checks whether or not a string passed to the function is a palindrome or not. "
   ]
  },
  {
   "cell_type": "code",
   "execution_count": 67,
   "metadata": {
    "collapsed": false
   },
   "outputs": [
    {
     "data": {
      "text/plain": [
       "True"
      ]
     },
     "execution_count": 67,
     "metadata": {},
     "output_type": "execute_result"
    }
   ],
   "source": [
    "myString = 'hello'\n",
    "\n",
    "def pal_check(myString):\n",
    "    myList = list(myString)\n",
    "    myList.reverse()\n",
    "    return myList == list(myString)"
   ]
  }
 ],
 "metadata": {
  "kernelspec": {
   "display_name": "Python 3",
   "language": "python",
   "name": "python3"
  },
  "language_info": {
   "codemirror_mode": {
    "name": "ipython",
    "version": 3
   },
   "file_extension": ".py",
   "mimetype": "text/x-python",
   "name": "python",
   "nbconvert_exporter": "python",
   "pygments_lexer": "ipython3",
   "version": "3.4.3"
  }
 },
 "nbformat": 4,
 "nbformat_minor": 0
}
